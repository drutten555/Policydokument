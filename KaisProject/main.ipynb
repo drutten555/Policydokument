{
 "cells": [
  {
   "cell_type": "code",
   "execution_count": 69,
   "metadata": {},
   "outputs": [],
   "source": [
    "from dotenv import load_dotenv\n",
    "import os \n",
    "from langchain_openai.chat_models import ChatOpenAI\n",
    "from langchain.prompts import PromptTemplate\n",
    "from langchain_core.output_parsers import StrOutputParser\n",
    "from langchain_community.document_loaders import PyPDFLoader\n",
    "from langchain.text_splitter import RecursiveCharacterTextSplitter\n",
    "from langchain_openai.embeddings import OpenAIEmbeddings\n",
    "from langchain_community.vectorstores import FAISS,DocArrayInMemorySearch\n",
    "from langchain_core.runnables import RunnablePassthrough, RunnableParallel"
   ]
  },
  {
   "cell_type": "markdown",
   "metadata": {},
   "source": [
    "Code from: https://github.com/Tech-Watt/RAG-Application-Using-OpenAI-Model/blob/main/main.ipynb "
   ]
  },
  {
   "cell_type": "code",
   "execution_count": 70,
   "metadata": {},
   "outputs": [],
   "source": [
    "load_dotenv()\n",
    "API_KEY = os.getenv('OPENAI_API_KEY')\n",
    "# Model = 'gpt-3.5-turbo' # model lib: https://platform.openai.com/docs/models/gpt-4o\n",
    "Model = 'gpt-4o' "
   ]
  },
  {
   "cell_type": "code",
   "execution_count": 71,
   "metadata": {},
   "outputs": [
    {
     "data": {
      "text/plain": [
       "AIMessage(content='The meaning of life is a question that has intrigued humanity for centuries and has various interpretations depending on philosophical, religious, scientific, and personal perspectives. Here are a few approaches to understanding the meaning of life:\\n\\n1. **Philosophical Perspectives**: Philosophers like Socrates, Aristotle, and existentialists such as Jean-Paul Sartre and Albert Camus have different takes. For example, existentialists often argue that life has no inherent meaning, and it’s up to individuals to create their own purpose through their choices and actions.\\n\\n2. **Religious Perspectives**: Many religious traditions offer their own explanations. For example, in Christianity, the meaning of life is often associated with serving God and following the teachings of Jesus Christ. In Buddhism, it might involve seeking enlightenment and escaping the cycle of suffering and rebirth.\\n\\n3. **Scientific Perspectives**: From a scientific standpoint, meaning might be derived from understanding the natural world and our place within it. Evolutionary biology, for instance, might suggest that the purpose of life is to survive and reproduce.\\n\\n4. **Personal Perspectives**: On an individual level, people find meaning through personal experiences, relationships, goals, and passions. For some, it might be about love, family, personal growth, or contributing to society.\\n\\nUltimately, the meaning of life is a deeply personal and subjective question. It might be best understood as a combination of different factors, tailored to the beliefs and values of each individual.', response_metadata={'token_usage': {'completion_tokens': 293, 'prompt_tokens': 14, 'total_tokens': 307}, 'model_name': 'gpt-4o-2024-05-13', 'system_fingerprint': 'fp_d576307f90', 'finish_reason': 'stop', 'logprobs': None}, id='run-eac64637-5892-4b2e-87d5-17dacb68f9d0-0', usage_metadata={'input_tokens': 14, 'output_tokens': 293, 'total_tokens': 307})"
      ]
     },
     "execution_count": 71,
     "metadata": {},
     "output_type": "execute_result"
    }
   ],
   "source": [
    "model = ChatOpenAI(api_key=API_KEY,model=Model)\n",
    "model.invoke('what is the meaning of life?') #Where we pass the question"
   ]
  },
  {
   "cell_type": "code",
   "execution_count": 72,
   "metadata": {},
   "outputs": [
    {
     "data": {
      "text/plain": [
       "\"Chalmers University of Technology, commonly known simply as Chalmers, is a prestigious technical university located in Gothenburg, Sweden. It was founded in 1829 and is named after its benefactor, William Chalmers, a director of the Swedish East India Company who bequeathed part of his fortune to establish the school. \\n\\nChalmers is renowned for its research and education in technology, natural sciences, architecture, maritime management, and other engineering disciplines. The university emphasizes innovation, sustainability, and collaboration with industry. It offers a range of undergraduate, master's, and doctoral programs and is known for its strong international presence and partnerships.\\n\\nThe university is also involved in various cutting-edge research projects and has a number of specialized research centers and labs. It operates two campuses in Gothenburg: Johanneberg and Lindholmen.\""
      ]
     },
     "execution_count": 72,
     "metadata": {},
     "output_type": "execute_result"
    }
   ],
   "source": [
    "parser = StrOutputParser()\n",
    "chain = model|parser\n",
    "chain.invoke('what is Chalmers in Sweden?') #Less verbose"
   ]
  },
  {
   "cell_type": "code",
   "execution_count": 73,
   "metadata": {},
   "outputs": [
    {
     "data": {
      "text/plain": [
       "7"
      ]
     },
     "execution_count": 73,
     "metadata": {},
     "output_type": "execute_result"
    }
   ],
   "source": [
    "file_loader = PyPDFLoader('Riktlinje för inköp och upphandling vid Chalmers tekniska högskola 211008.pdf')\n",
    "page = file_loader.load_and_split()\n",
    "len(page) # number of pages read"
   ]
  },
  {
   "cell_type": "code",
   "execution_count": 74,
   "metadata": {},
   "outputs": [
    {
     "data": {
      "text/plain": [
       "Document(page_content='STYRDOKUMENT: Riktlinje för inköp och upphandling vid Chalmers tekniska högskola . Dnr C 20 2 1 -\\n1529 . Beslut av CPO Tommy Bothin , 20 2 1 - 10 - 08 .Dokumentets metadata:\\nBeslut av:', metadata={'source': 'Riktlinje för inköp och upphandling vid Chalmers tekniska högskola 211008.pdf', 'page': 0})"
      ]
     },
     "execution_count": 74,
     "metadata": {},
     "output_type": "execute_result"
    }
   ],
   "source": [
    "#The doc is still to large, chunk it\n",
    "spliter = RecursiveCharacterTextSplitter(chunk_size = 200,chunk_overlap = 50) #experiment here? eg. 10 -> destroys the understanding, 50+ works\n",
    "pages = spliter.split_documents(page)\n",
    "pages[0] #look at first"
   ]
  },
  {
   "cell_type": "code",
   "execution_count": 75,
   "metadata": {},
   "outputs": [],
   "source": [
    "# FAISS from facebook \n",
    "vector_storage = FAISS.from_documents(pages,OpenAIEmbeddings())\n",
    "retriever = vector_storage.as_retriever()"
   ]
  },
  {
   "cell_type": "code",
   "execution_count": 76,
   "metadata": {},
   "outputs": [],
   "source": [
    "question_template = \"\"\"\n",
    "your a smart bot that answers questions based on the context given to you only.\n",
    "You don't make things up.\n",
    "context:{context}\n",
    "question:{question}\n",
    "\n",
    "\"\"\""
   ]
  },
  {
   "cell_type": "code",
   "execution_count": 77,
   "metadata": {},
   "outputs": [
    {
     "name": "stdout",
     "output_type": "stream",
     "text": [
      "\n",
      "your a smart bot that answers questions based on the context given to you only.\n",
      "You don't make things up.\n",
      "context: Here is the context to use\n",
      "question: Answer this question based on the context\n",
      "\n",
      "\n"
     ]
    }
   ],
   "source": [
    "prompt = PromptTemplate.from_template(template=question_template)\n",
    "print(prompt.format(context = ' Here is the context to use',\n",
    "              question = ' Answer this question based on the context'\n",
    "              ))"
   ]
  },
  {
   "cell_type": "code",
   "execution_count": 78,
   "metadata": {},
   "outputs": [],
   "source": [
    "#Passing to vectorDB (fetch context) and to LLM in parallell (ask based on fetched context)\n",
    "result = RunnableParallel(context= retriever,question = RunnablePassthrough())"
   ]
  },
  {
   "cell_type": "code",
   "execution_count": 79,
   "metadata": {},
   "outputs": [],
   "source": [
    "chain = result |prompt | model | parser"
   ]
  },
  {
   "cell_type": "code",
   "execution_count": 80,
   "metadata": {},
   "outputs": [
    {
     "data": {
      "text/plain": [
       "'The provided context does not contain any information about what \"LLM\" or \"LLMs\" refers to. Therefore, based on the given context, I cannot provide an answer to your question.'"
      ]
     },
     "execution_count": 80,
     "metadata": {},
     "output_type": "execute_result"
    }
   ],
   "source": [
    "#question based on wrong context\n",
    "chain.invoke('What is a LLMs?')"
   ]
  },
  {
   "cell_type": "markdown",
   "metadata": {},
   "source": []
  },
  {
   "cell_type": "code",
   "execution_count": 81,
   "metadata": {},
   "outputs": [
    {
     "data": {
      "text/plain": [
       "'Enligt den givna kontexten får endast den som har delegation ingå avtal för Chalmers räkning.'"
      ]
     },
     "execution_count": 81,
     "metadata": {},
     "output_type": "execute_result"
    }
   ],
   "source": [
    "#question based on right context\n",
    "chain.invoke('Vem får ingå avtal för Chalmers räkning?')"
   ]
  },
  {
   "cell_type": "code",
   "execution_count": 83,
   "metadata": {},
   "outputs": [
    {
     "data": {
      "text/plain": [
       "[Document(page_content='Chalmers, 201 8 - 06 - 25 , C201 8 - 0 262 i dess senaste version) får företräda Chalmers. Endast den som\\nhar delegation kan ingå avtal för Chalmers räkning.', metadata={'source': 'Riktlinje för inköp och upphandling vid Chalmers tekniska högskola 211008.pdf', 'page': 1}),\n",
       " Document(page_content='3 Grundläggande förutsättningar\\nChalmers är en upphandlande enhet och omfattas av lagstiftningen avseende offentlig upphandling.\\nVid all upphandling ska särskilt följande principer beaktas:', metadata={'source': 'Riktlinje för inköp och upphandling vid Chalmers tekniska högskola 211008.pdf', 'page': 0}),\n",
       " Document(page_content='– Styrdokument vid Chalmers , den 31 oktober 201 6, C 2016 - 1759 .\\n2 Mål\\nMål et är att visa att Chalmers gör goda affärer .\\n3 Grundläggande förutsättningar', metadata={'source': 'Riktlinje för inköp och upphandling vid Chalmers tekniska högskola 211008.pdf', 'page': 0}),\n",
       " Document(page_content='Institutionerna ansvarar utifrån sina förutsättningar för sina delegationer. Köp ska begränsas till ett\\nfåtal personer per insti tution.\\nDärutöver gäller Chalmers godkännanderegler för investeringar.', metadata={'source': 'Riktlinje för inköp och upphandling vid Chalmers tekniska högskola 211008.pdf', 'page': 1})]"
      ]
     },
     "execution_count": 83,
     "metadata": {},
     "output_type": "execute_result"
    }
   ],
   "source": [
    "#to get the source page we use the retreiver\n",
    "retriever.invoke('Vem får ingå avtal för Chalmers räkning?')\n",
    "\n",
    "#First one correct: Document(page_content='Chalmers, 201 8 - 06 - 25 , C201 8 - 0 262 i dess senaste version) får företräda Chalmers. Endast den som\\nhar delegation kan ingå avtal för Chalmers räkning.', metadata={'source': 'Riktlinje för inköp och upphandling vid Chalmers tekniska högskola 211008.pdf', 'page': 1}),"
   ]
  }
 ],
 "metadata": {
  "kernelspec": {
   "display_name": "Python 3",
   "language": "python",
   "name": "python3"
  },
  "language_info": {
   "codemirror_mode": {
    "name": "ipython",
    "version": 3
   },
   "file_extension": ".py",
   "mimetype": "text/x-python",
   "name": "python",
   "nbconvert_exporter": "python",
   "pygments_lexer": "ipython3",
   "version": "3.12.0"
  }
 },
 "nbformat": 4,
 "nbformat_minor": 2
}
