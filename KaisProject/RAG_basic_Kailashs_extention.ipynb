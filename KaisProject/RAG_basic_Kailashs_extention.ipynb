{
 "cells": [
  {
   "cell_type": "markdown",
   "metadata": {},
   "source": [
    "# Advanced RAG on Hugging Face documentation using LangChain"
   ]
  },
  {
   "cell_type": "markdown",
   "metadata": {},
   "source": [
    "Mainly followed: https://huggingface.co/learn/cookbook/advanced_rag#load-your-knowledge-base"
   ]
  },
  {
   "cell_type": "code",
   "execution_count": 11,
   "metadata": {},
   "outputs": [
    {
     "name": "stdout",
     "output_type": "stream",
     "text": [
      "Requirement already satisfied: absl-py==2.1.0 in /Library/Frameworks/Python.framework/Versions/3.12/lib/python3.12/site-packages (from -r requirements.txt (line 1)) (2.1.0)\n",
      "Requirement already satisfied: aiohttp==3.9.5 in /Library/Frameworks/Python.framework/Versions/3.12/lib/python3.12/site-packages (from -r requirements.txt (line 2)) (3.9.5)\n",
      "Requirement already satisfied: aiosignal==1.3.1 in /Library/Frameworks/Python.framework/Versions/3.12/lib/python3.12/site-packages (from -r requirements.txt (line 3)) (1.3.1)\n",
      "Collecting annotated-types==0.7.0 (from -r requirements.txt (line 4))\n",
      "  Using cached annotated_types-0.7.0-py3-none-any.whl.metadata (15 kB)\n",
      "Collecting anyio==4.4.0 (from -r requirements.txt (line 5))\n",
      "  Using cached anyio-4.4.0-py3-none-any.whl.metadata (4.6 kB)\n",
      "Requirement already satisfied: asgiref==3.8.1 in /Library/Frameworks/Python.framework/Versions/3.12/lib/python3.12/site-packages (from -r requirements.txt (line 6)) (3.8.1)\n",
      "Requirement already satisfied: asttokens==2.4.1 in /Users/kailashdejesushornig/Library/Python/3.12/lib/python/site-packages (from -r requirements.txt (line 7)) (2.4.1)\n",
      "Requirement already satisfied: attrs==23.2.0 in /Library/Frameworks/Python.framework/Versions/3.12/lib/python3.12/site-packages (from -r requirements.txt (line 8)) (23.2.0)\n",
      "Requirement already satisfied: backoff==2.2.1 in /Library/Frameworks/Python.framework/Versions/3.12/lib/python3.12/site-packages (from -r requirements.txt (line 9)) (2.2.1)\n",
      "Requirement already satisfied: bcrypt==4.1.3 in /Library/Frameworks/Python.framework/Versions/3.12/lib/python3.12/site-packages (from -r requirements.txt (line 10)) (4.1.3)\n",
      "Requirement already satisfied: bert-score==0.3.13 in /Library/Frameworks/Python.framework/Versions/3.12/lib/python3.12/site-packages (from -r requirements.txt (line 11)) (0.3.13)\n",
      "Requirement already satisfied: build==1.2.1 in /Library/Frameworks/Python.framework/Versions/3.12/lib/python3.12/site-packages (from -r requirements.txt (line 12)) (1.2.1)\n",
      "Requirement already satisfied: cachetools==5.3.3 in /Library/Frameworks/Python.framework/Versions/3.12/lib/python3.12/site-packages (from -r requirements.txt (line 13)) (5.3.3)\n",
      "Collecting certifi==2024.6.2 (from -r requirements.txt (line 14))\n",
      "  Using cached certifi-2024.6.2-py3-none-any.whl.metadata (2.2 kB)\n",
      "Requirement already satisfied: charset-normalizer==3.3.2 in /Library/Frameworks/Python.framework/Versions/3.12/lib/python3.12/site-packages (from -r requirements.txt (line 15)) (3.3.2)\n",
      "Requirement already satisfied: chroma-hnswlib==0.7.3 in /Library/Frameworks/Python.framework/Versions/3.12/lib/python3.12/site-packages (from -r requirements.txt (line 16)) (0.7.3)\n",
      "Requirement already satisfied: chromadb==0.5.3 in /Library/Frameworks/Python.framework/Versions/3.12/lib/python3.12/site-packages (from -r requirements.txt (line 17)) (0.5.3)\n",
      "Requirement already satisfied: click==8.1.7 in /Library/Frameworks/Python.framework/Versions/3.12/lib/python3.12/site-packages (from -r requirements.txt (line 18)) (8.1.7)\n",
      "Requirement already satisfied: colorama==0.4.6 in /Library/Frameworks/Python.framework/Versions/3.12/lib/python3.12/site-packages (from -r requirements.txt (line 19)) (0.4.6)\n",
      "Requirement already satisfied: coloredlogs==15.0.1 in /Library/Frameworks/Python.framework/Versions/3.12/lib/python3.12/site-packages (from -r requirements.txt (line 20)) (15.0.1)\n",
      "Requirement already satisfied: comm==0.2.2 in /Users/kailashdejesushornig/Library/Python/3.12/lib/python/site-packages (from -r requirements.txt (line 21)) (0.2.2)\n",
      "Requirement already satisfied: contourpy==1.2.1 in /Library/Frameworks/Python.framework/Versions/3.12/lib/python3.12/site-packages (from -r requirements.txt (line 22)) (1.2.1)\n",
      "Requirement already satisfied: cycler==0.12.1 in /Library/Frameworks/Python.framework/Versions/3.12/lib/python3.12/site-packages (from -r requirements.txt (line 23)) (0.12.1)\n",
      "Requirement already satisfied: dataclasses-json==0.6.7 in /Library/Frameworks/Python.framework/Versions/3.12/lib/python3.12/site-packages (from -r requirements.txt (line 24)) (0.6.7)\n",
      "Requirement already satisfied: debugpy==1.8.2 in /Users/kailashdejesushornig/Library/Python/3.12/lib/python/site-packages (from -r requirements.txt (line 25)) (1.8.2)\n",
      "Requirement already satisfied: decorator==5.1.1 in /Users/kailashdejesushornig/Library/Python/3.12/lib/python/site-packages (from -r requirements.txt (line 26)) (5.1.1)\n",
      "Requirement already satisfied: Deprecated==1.2.14 in /Library/Frameworks/Python.framework/Versions/3.12/lib/python3.12/site-packages (from -r requirements.txt (line 27)) (1.2.14)\n",
      "Requirement already satisfied: dnspython==2.6.1 in /Library/Frameworks/Python.framework/Versions/3.12/lib/python3.12/site-packages (from -r requirements.txt (line 28)) (2.6.1)\n",
      "Requirement already satisfied: email_validator==2.2.0 in /Library/Frameworks/Python.framework/Versions/3.12/lib/python3.12/site-packages (from -r requirements.txt (line 29)) (2.2.0)\n",
      "Requirement already satisfied: executing==2.0.1 in /Users/kailashdejesushornig/Library/Python/3.12/lib/python/site-packages (from -r requirements.txt (line 30)) (2.0.1)\n",
      "Requirement already satisfied: fastapi==0.111.0 in /Library/Frameworks/Python.framework/Versions/3.12/lib/python3.12/site-packages (from -r requirements.txt (line 31)) (0.111.0)\n",
      "Requirement already satisfied: fastapi-cli==0.0.4 in /Library/Frameworks/Python.framework/Versions/3.12/lib/python3.12/site-packages (from -r requirements.txt (line 32)) (0.0.4)\n",
      "Requirement already satisfied: filelock==3.15.4 in /Library/Frameworks/Python.framework/Versions/3.12/lib/python3.12/site-packages (from -r requirements.txt (line 33)) (3.15.4)\n",
      "Requirement already satisfied: flatbuffers==24.3.25 in /Library/Frameworks/Python.framework/Versions/3.12/lib/python3.12/site-packages (from -r requirements.txt (line 34)) (24.3.25)\n",
      "Requirement already satisfied: fonttools==4.53.0 in /Library/Frameworks/Python.framework/Versions/3.12/lib/python3.12/site-packages (from -r requirements.txt (line 35)) (4.53.0)\n",
      "Requirement already satisfied: frozenlist==1.4.1 in /Library/Frameworks/Python.framework/Versions/3.12/lib/python3.12/site-packages (from -r requirements.txt (line 36)) (1.4.1)\n",
      "Requirement already satisfied: fsspec==2024.6.1 in /Library/Frameworks/Python.framework/Versions/3.12/lib/python3.12/site-packages (from -r requirements.txt (line 37)) (2024.6.1)\n",
      "Collecting google-auth==2.30.0 (from -r requirements.txt (line 38))\n",
      "  Using cached google_auth-2.30.0-py2.py3-none-any.whl.metadata (4.7 kB)\n",
      "Requirement already satisfied: googleapis-common-protos==1.63.2 in /Library/Frameworks/Python.framework/Versions/3.12/lib/python3.12/site-packages (from -r requirements.txt (line 39)) (1.63.2)\n",
      "Collecting greenlet==3.0.3 (from -r requirements.txt (line 40))\n",
      "  Using cached greenlet-3.0.3-cp312-cp312-macosx_11_0_universal2.whl.metadata (3.8 kB)\n",
      "Requirement already satisfied: grpcio==1.64.1 in /Library/Frameworks/Python.framework/Versions/3.12/lib/python3.12/site-packages (from -r requirements.txt (line 41)) (1.64.1)\n",
      "Requirement already satisfied: h11==0.14.0 in /Library/Frameworks/Python.framework/Versions/3.12/lib/python3.12/site-packages (from -r requirements.txt (line 42)) (0.14.0)\n",
      "Requirement already satisfied: httpcore==1.0.5 in /Library/Frameworks/Python.framework/Versions/3.12/lib/python3.12/site-packages (from -r requirements.txt (line 43)) (1.0.5)\n",
      "Requirement already satisfied: httptools==0.6.1 in /Library/Frameworks/Python.framework/Versions/3.12/lib/python3.12/site-packages (from -r requirements.txt (line 44)) (0.6.1)\n",
      "Requirement already satisfied: httpx==0.27.0 in /Library/Frameworks/Python.framework/Versions/3.12/lib/python3.12/site-packages (from -r requirements.txt (line 45)) (0.27.0)\n",
      "Requirement already satisfied: huggingface-hub==0.23.4 in /Library/Frameworks/Python.framework/Versions/3.12/lib/python3.12/site-packages (from -r requirements.txt (line 46)) (0.23.4)\n",
      "Requirement already satisfied: humanfriendly==10.0 in /Library/Frameworks/Python.framework/Versions/3.12/lib/python3.12/site-packages (from -r requirements.txt (line 47)) (10.0)\n",
      "Collecting idna==3.7 (from -r requirements.txt (line 48))\n",
      "  Using cached idna-3.7-py3-none-any.whl.metadata (9.9 kB)\n",
      "Requirement already satisfied: importlib_metadata==7.1.0 in /Library/Frameworks/Python.framework/Versions/3.12/lib/python3.12/site-packages (from -r requirements.txt (line 49)) (7.1.0)\n",
      "Requirement already satisfied: importlib_resources==6.4.0 in /Library/Frameworks/Python.framework/Versions/3.12/lib/python3.12/site-packages (from -r requirements.txt (line 50)) (6.4.0)\n",
      "\u001b[31mERROR: Could not find a version that satisfies the requirement intel-openmp==2021.4.0 (from versions: none)\u001b[0m\u001b[31m\n",
      "\u001b[0m\u001b[31mERROR: No matching distribution found for intel-openmp==2021.4.0\u001b[0m\u001b[31m\n",
      "\u001b[0m"
     ]
    }
   ],
   "source": [
    "!pip3 install -r requirements.txt"
   ]
  },
  {
   "cell_type": "code",
   "execution_count": 12,
   "metadata": {},
   "outputs": [
    {
     "name": "stdout",
     "output_type": "stream",
     "text": [
      "Requirement already satisfied: langchain in /Library/Frameworks/Python.framework/Versions/3.12/lib/python3.12/site-packages (0.2.6)\n",
      "Requirement already satisfied: transformers in /Library/Frameworks/Python.framework/Versions/3.12/lib/python3.12/site-packages (4.42.2)\n",
      "Requirement already satisfied: PyYAML>=5.3 in /Library/Frameworks/Python.framework/Versions/3.12/lib/python3.12/site-packages (from langchain) (6.0.1)\n",
      "Requirement already satisfied: SQLAlchemy<3,>=1.4 in /Library/Frameworks/Python.framework/Versions/3.12/lib/python3.12/site-packages (from langchain) (2.0.31)\n",
      "Requirement already satisfied: aiohttp<4.0.0,>=3.8.3 in /Library/Frameworks/Python.framework/Versions/3.12/lib/python3.12/site-packages (from langchain) (3.9.5)\n",
      "Requirement already satisfied: langchain-core<0.3.0,>=0.2.10 in /Library/Frameworks/Python.framework/Versions/3.12/lib/python3.12/site-packages (from langchain) (0.2.10)\n",
      "Requirement already satisfied: langchain-text-splitters<0.3.0,>=0.2.0 in /Library/Frameworks/Python.framework/Versions/3.12/lib/python3.12/site-packages (from langchain) (0.2.2)\n",
      "Requirement already satisfied: langsmith<0.2.0,>=0.1.17 in /Library/Frameworks/Python.framework/Versions/3.12/lib/python3.12/site-packages (from langchain) (0.1.82)\n",
      "Requirement already satisfied: numpy<2.0.0,>=1.26.0 in /Library/Frameworks/Python.framework/Versions/3.12/lib/python3.12/site-packages (from langchain) (1.26.4)\n",
      "Requirement already satisfied: pydantic<3,>=1 in /Library/Frameworks/Python.framework/Versions/3.12/lib/python3.12/site-packages (from langchain) (2.6.4)\n",
      "Requirement already satisfied: requests<3,>=2 in /Library/Frameworks/Python.framework/Versions/3.12/lib/python3.12/site-packages (from langchain) (2.32.3)\n",
      "Requirement already satisfied: tenacity!=8.4.0,<9.0.0,>=8.1.0 in /Library/Frameworks/Python.framework/Versions/3.12/lib/python3.12/site-packages (from langchain) (8.4.2)\n",
      "Requirement already satisfied: filelock in /Library/Frameworks/Python.framework/Versions/3.12/lib/python3.12/site-packages (from transformers) (3.15.4)\n",
      "Requirement already satisfied: huggingface-hub<1.0,>=0.23.2 in /Library/Frameworks/Python.framework/Versions/3.12/lib/python3.12/site-packages (from transformers) (0.23.4)\n",
      "Requirement already satisfied: packaging>=20.0 in /Library/Frameworks/Python.framework/Versions/3.12/lib/python3.12/site-packages (from transformers) (24.1)\n",
      "Requirement already satisfied: regex!=2019.12.17 in /Library/Frameworks/Python.framework/Versions/3.12/lib/python3.12/site-packages (from transformers) (2024.5.15)\n",
      "Requirement already satisfied: safetensors>=0.4.1 in /Library/Frameworks/Python.framework/Versions/3.12/lib/python3.12/site-packages (from transformers) (0.4.3)\n",
      "Requirement already satisfied: tokenizers<0.20,>=0.19 in /Library/Frameworks/Python.framework/Versions/3.12/lib/python3.12/site-packages (from transformers) (0.19.1)\n",
      "Requirement already satisfied: tqdm>=4.27 in /Library/Frameworks/Python.framework/Versions/3.12/lib/python3.12/site-packages (from transformers) (4.66.2)\n",
      "Requirement already satisfied: aiosignal>=1.1.2 in /Library/Frameworks/Python.framework/Versions/3.12/lib/python3.12/site-packages (from aiohttp<4.0.0,>=3.8.3->langchain) (1.3.1)\n",
      "Requirement already satisfied: attrs>=17.3.0 in /Library/Frameworks/Python.framework/Versions/3.12/lib/python3.12/site-packages (from aiohttp<4.0.0,>=3.8.3->langchain) (23.2.0)\n",
      "Requirement already satisfied: frozenlist>=1.1.1 in /Library/Frameworks/Python.framework/Versions/3.12/lib/python3.12/site-packages (from aiohttp<4.0.0,>=3.8.3->langchain) (1.4.1)\n",
      "Requirement already satisfied: multidict<7.0,>=4.5 in /Library/Frameworks/Python.framework/Versions/3.12/lib/python3.12/site-packages (from aiohttp<4.0.0,>=3.8.3->langchain) (6.0.5)\n",
      "Requirement already satisfied: yarl<2.0,>=1.0 in /Library/Frameworks/Python.framework/Versions/3.12/lib/python3.12/site-packages (from aiohttp<4.0.0,>=3.8.3->langchain) (1.9.4)\n",
      "Requirement already satisfied: fsspec>=2023.5.0 in /Library/Frameworks/Python.framework/Versions/3.12/lib/python3.12/site-packages (from huggingface-hub<1.0,>=0.23.2->transformers) (2024.6.1)\n",
      "Requirement already satisfied: typing-extensions>=3.7.4.3 in /Library/Frameworks/Python.framework/Versions/3.12/lib/python3.12/site-packages (from huggingface-hub<1.0,>=0.23.2->transformers) (4.11.0)\n",
      "Requirement already satisfied: jsonpatch<2.0,>=1.33 in /Library/Frameworks/Python.framework/Versions/3.12/lib/python3.12/site-packages (from langchain-core<0.3.0,>=0.2.10->langchain) (1.33)\n",
      "Requirement already satisfied: orjson<4.0.0,>=3.9.14 in /Library/Frameworks/Python.framework/Versions/3.12/lib/python3.12/site-packages (from langsmith<0.2.0,>=0.1.17->langchain) (3.10.5)\n",
      "Requirement already satisfied: annotated-types>=0.4.0 in /Library/Frameworks/Python.framework/Versions/3.12/lib/python3.12/site-packages (from pydantic<3,>=1->langchain) (0.6.0)\n",
      "Requirement already satisfied: pydantic-core==2.16.3 in /Library/Frameworks/Python.framework/Versions/3.12/lib/python3.12/site-packages (from pydantic<3,>=1->langchain) (2.16.3)\n",
      "Requirement already satisfied: charset-normalizer<4,>=2 in /Library/Frameworks/Python.framework/Versions/3.12/lib/python3.12/site-packages (from requests<3,>=2->langchain) (3.3.2)\n",
      "Requirement already satisfied: idna<4,>=2.5 in /Library/Frameworks/Python.framework/Versions/3.12/lib/python3.12/site-packages (from requests<3,>=2->langchain) (3.6)\n",
      "Requirement already satisfied: urllib3<3,>=1.21.1 in /Library/Frameworks/Python.framework/Versions/3.12/lib/python3.12/site-packages (from requests<3,>=2->langchain) (2.2.2)\n",
      "Requirement already satisfied: certifi>=2017.4.17 in /Library/Frameworks/Python.framework/Versions/3.12/lib/python3.12/site-packages (from requests<3,>=2->langchain) (2024.2.2)\n",
      "Requirement already satisfied: jsonpointer>=1.9 in /Library/Frameworks/Python.framework/Versions/3.12/lib/python3.12/site-packages (from jsonpatch<2.0,>=1.33->langchain-core<0.3.0,>=0.2.10->langchain) (3.0.0)\n",
      "Requirement already satisfied: sentence-transformers in /Library/Frameworks/Python.framework/Versions/3.12/lib/python3.12/site-packages (3.0.1)\n",
      "Requirement already satisfied: transformers<5.0.0,>=4.34.0 in /Library/Frameworks/Python.framework/Versions/3.12/lib/python3.12/site-packages (from sentence-transformers) (4.42.2)\n",
      "Requirement already satisfied: tqdm in /Library/Frameworks/Python.framework/Versions/3.12/lib/python3.12/site-packages (from sentence-transformers) (4.66.2)\n",
      "Requirement already satisfied: torch>=1.11.0 in /Library/Frameworks/Python.framework/Versions/3.12/lib/python3.12/site-packages (from sentence-transformers) (2.3.1)\n",
      "Requirement already satisfied: numpy in /Library/Frameworks/Python.framework/Versions/3.12/lib/python3.12/site-packages (from sentence-transformers) (1.26.4)\n",
      "Requirement already satisfied: scikit-learn in /Library/Frameworks/Python.framework/Versions/3.12/lib/python3.12/site-packages (from sentence-transformers) (1.5.1)\n",
      "Requirement already satisfied: scipy in /Library/Frameworks/Python.framework/Versions/3.12/lib/python3.12/site-packages (from sentence-transformers) (1.14.0)\n",
      "Requirement already satisfied: huggingface-hub>=0.15.1 in /Library/Frameworks/Python.framework/Versions/3.12/lib/python3.12/site-packages (from sentence-transformers) (0.23.4)\n",
      "Requirement already satisfied: Pillow in /Library/Frameworks/Python.framework/Versions/3.12/lib/python3.12/site-packages (from sentence-transformers) (10.3.0)\n",
      "Requirement already satisfied: filelock in /Library/Frameworks/Python.framework/Versions/3.12/lib/python3.12/site-packages (from huggingface-hub>=0.15.1->sentence-transformers) (3.15.4)\n",
      "Requirement already satisfied: fsspec>=2023.5.0 in /Library/Frameworks/Python.framework/Versions/3.12/lib/python3.12/site-packages (from huggingface-hub>=0.15.1->sentence-transformers) (2024.6.1)\n",
      "Requirement already satisfied: packaging>=20.9 in /Library/Frameworks/Python.framework/Versions/3.12/lib/python3.12/site-packages (from huggingface-hub>=0.15.1->sentence-transformers) (24.1)\n",
      "Requirement already satisfied: pyyaml>=5.1 in /Library/Frameworks/Python.framework/Versions/3.12/lib/python3.12/site-packages (from huggingface-hub>=0.15.1->sentence-transformers) (6.0.1)\n",
      "Requirement already satisfied: requests in /Library/Frameworks/Python.framework/Versions/3.12/lib/python3.12/site-packages (from huggingface-hub>=0.15.1->sentence-transformers) (2.32.3)\n",
      "Requirement already satisfied: typing-extensions>=3.7.4.3 in /Library/Frameworks/Python.framework/Versions/3.12/lib/python3.12/site-packages (from huggingface-hub>=0.15.1->sentence-transformers) (4.11.0)\n",
      "Requirement already satisfied: sympy in /Library/Frameworks/Python.framework/Versions/3.12/lib/python3.12/site-packages (from torch>=1.11.0->sentence-transformers) (1.12.1)\n",
      "Requirement already satisfied: networkx in /Library/Frameworks/Python.framework/Versions/3.12/lib/python3.12/site-packages (from torch>=1.11.0->sentence-transformers) (3.3)\n",
      "Requirement already satisfied: jinja2 in /Library/Frameworks/Python.framework/Versions/3.12/lib/python3.12/site-packages (from torch>=1.11.0->sentence-transformers) (3.1.4)\n",
      "Requirement already satisfied: regex!=2019.12.17 in /Library/Frameworks/Python.framework/Versions/3.12/lib/python3.12/site-packages (from transformers<5.0.0,>=4.34.0->sentence-transformers) (2024.5.15)\n",
      "Requirement already satisfied: safetensors>=0.4.1 in /Library/Frameworks/Python.framework/Versions/3.12/lib/python3.12/site-packages (from transformers<5.0.0,>=4.34.0->sentence-transformers) (0.4.3)\n",
      "Requirement already satisfied: tokenizers<0.20,>=0.19 in /Library/Frameworks/Python.framework/Versions/3.12/lib/python3.12/site-packages (from transformers<5.0.0,>=4.34.0->sentence-transformers) (0.19.1)\n",
      "Requirement already satisfied: joblib>=1.2.0 in /Library/Frameworks/Python.framework/Versions/3.12/lib/python3.12/site-packages (from scikit-learn->sentence-transformers) (1.4.2)\n",
      "Requirement already satisfied: threadpoolctl>=3.1.0 in /Library/Frameworks/Python.framework/Versions/3.12/lib/python3.12/site-packages (from scikit-learn->sentence-transformers) (3.5.0)\n",
      "Requirement already satisfied: MarkupSafe>=2.0 in /Library/Frameworks/Python.framework/Versions/3.12/lib/python3.12/site-packages (from jinja2->torch>=1.11.0->sentence-transformers) (2.1.5)\n",
      "Requirement already satisfied: charset-normalizer<4,>=2 in /Library/Frameworks/Python.framework/Versions/3.12/lib/python3.12/site-packages (from requests->huggingface-hub>=0.15.1->sentence-transformers) (3.3.2)\n",
      "Requirement already satisfied: idna<4,>=2.5 in /Library/Frameworks/Python.framework/Versions/3.12/lib/python3.12/site-packages (from requests->huggingface-hub>=0.15.1->sentence-transformers) (3.6)\n",
      "Requirement already satisfied: urllib3<3,>=1.21.1 in /Library/Frameworks/Python.framework/Versions/3.12/lib/python3.12/site-packages (from requests->huggingface-hub>=0.15.1->sentence-transformers) (2.2.2)\n",
      "Requirement already satisfied: certifi>=2017.4.17 in /Library/Frameworks/Python.framework/Versions/3.12/lib/python3.12/site-packages (from requests->huggingface-hub>=0.15.1->sentence-transformers) (2024.2.2)\n",
      "Requirement already satisfied: mpmath<1.4.0,>=1.1.0 in /Library/Frameworks/Python.framework/Versions/3.12/lib/python3.12/site-packages (from sympy->torch>=1.11.0->sentence-transformers) (1.3.0)\n",
      "Requirement already satisfied: langchain-chroma in /Library/Frameworks/Python.framework/Versions/3.12/lib/python3.12/site-packages (0.1.2)\n",
      "Requirement already satisfied: chromadb<0.6.0,>=0.4.0 in /Library/Frameworks/Python.framework/Versions/3.12/lib/python3.12/site-packages (from langchain-chroma) (0.5.3)\n",
      "Requirement already satisfied: fastapi<1,>=0.95.2 in /Library/Frameworks/Python.framework/Versions/3.12/lib/python3.12/site-packages (from langchain-chroma) (0.111.0)\n",
      "Requirement already satisfied: langchain-core<0.3,>=0.1.40 in /Library/Frameworks/Python.framework/Versions/3.12/lib/python3.12/site-packages (from langchain-chroma) (0.2.10)\n",
      "Requirement already satisfied: numpy<2.0.0,>=1.26.0 in /Library/Frameworks/Python.framework/Versions/3.12/lib/python3.12/site-packages (from langchain-chroma) (1.26.4)\n",
      "Requirement already satisfied: build>=1.0.3 in /Library/Frameworks/Python.framework/Versions/3.12/lib/python3.12/site-packages (from chromadb<0.6.0,>=0.4.0->langchain-chroma) (1.2.1)\n",
      "Requirement already satisfied: requests>=2.28 in /Library/Frameworks/Python.framework/Versions/3.12/lib/python3.12/site-packages (from chromadb<0.6.0,>=0.4.0->langchain-chroma) (2.32.3)\n",
      "Requirement already satisfied: pydantic>=1.9 in /Library/Frameworks/Python.framework/Versions/3.12/lib/python3.12/site-packages (from chromadb<0.6.0,>=0.4.0->langchain-chroma) (2.6.4)\n",
      "Requirement already satisfied: chroma-hnswlib==0.7.3 in /Library/Frameworks/Python.framework/Versions/3.12/lib/python3.12/site-packages (from chromadb<0.6.0,>=0.4.0->langchain-chroma) (0.7.3)\n",
      "Requirement already satisfied: uvicorn>=0.18.3 in /Library/Frameworks/Python.framework/Versions/3.12/lib/python3.12/site-packages (from uvicorn[standard]>=0.18.3->chromadb<0.6.0,>=0.4.0->langchain-chroma) (0.30.1)\n",
      "Requirement already satisfied: posthog>=2.4.0 in /Library/Frameworks/Python.framework/Versions/3.12/lib/python3.12/site-packages (from chromadb<0.6.0,>=0.4.0->langchain-chroma) (3.5.0)\n",
      "Requirement already satisfied: typing-extensions>=4.5.0 in /Library/Frameworks/Python.framework/Versions/3.12/lib/python3.12/site-packages (from chromadb<0.6.0,>=0.4.0->langchain-chroma) (4.11.0)\n",
      "Requirement already satisfied: onnxruntime>=1.14.1 in /Library/Frameworks/Python.framework/Versions/3.12/lib/python3.12/site-packages (from chromadb<0.6.0,>=0.4.0->langchain-chroma) (1.18.1)\n",
      "Requirement already satisfied: opentelemetry-api>=1.2.0 in /Library/Frameworks/Python.framework/Versions/3.12/lib/python3.12/site-packages (from chromadb<0.6.0,>=0.4.0->langchain-chroma) (1.25.0)\n",
      "Requirement already satisfied: opentelemetry-exporter-otlp-proto-grpc>=1.2.0 in /Library/Frameworks/Python.framework/Versions/3.12/lib/python3.12/site-packages (from chromadb<0.6.0,>=0.4.0->langchain-chroma) (1.25.0)\n",
      "Requirement already satisfied: opentelemetry-instrumentation-fastapi>=0.41b0 in /Library/Frameworks/Python.framework/Versions/3.12/lib/python3.12/site-packages (from chromadb<0.6.0,>=0.4.0->langchain-chroma) (0.46b0)\n",
      "Requirement already satisfied: opentelemetry-sdk>=1.2.0 in /Library/Frameworks/Python.framework/Versions/3.12/lib/python3.12/site-packages (from chromadb<0.6.0,>=0.4.0->langchain-chroma) (1.25.0)\n",
      "Requirement already satisfied: tokenizers>=0.13.2 in /Library/Frameworks/Python.framework/Versions/3.12/lib/python3.12/site-packages (from chromadb<0.6.0,>=0.4.0->langchain-chroma) (0.19.1)\n",
      "Requirement already satisfied: pypika>=0.48.9 in /Library/Frameworks/Python.framework/Versions/3.12/lib/python3.12/site-packages (from chromadb<0.6.0,>=0.4.0->langchain-chroma) (0.48.9)\n",
      "Requirement already satisfied: tqdm>=4.65.0 in /Library/Frameworks/Python.framework/Versions/3.12/lib/python3.12/site-packages (from chromadb<0.6.0,>=0.4.0->langchain-chroma) (4.66.2)\n",
      "Requirement already satisfied: overrides>=7.3.1 in /Library/Frameworks/Python.framework/Versions/3.12/lib/python3.12/site-packages (from chromadb<0.6.0,>=0.4.0->langchain-chroma) (7.7.0)\n",
      "Requirement already satisfied: importlib-resources in /Library/Frameworks/Python.framework/Versions/3.12/lib/python3.12/site-packages (from chromadb<0.6.0,>=0.4.0->langchain-chroma) (6.4.0)\n",
      "Requirement already satisfied: grpcio>=1.58.0 in /Library/Frameworks/Python.framework/Versions/3.12/lib/python3.12/site-packages (from chromadb<0.6.0,>=0.4.0->langchain-chroma) (1.64.1)\n",
      "Requirement already satisfied: bcrypt>=4.0.1 in /Library/Frameworks/Python.framework/Versions/3.12/lib/python3.12/site-packages (from chromadb<0.6.0,>=0.4.0->langchain-chroma) (4.1.3)\n",
      "Requirement already satisfied: typer>=0.9.0 in /Library/Frameworks/Python.framework/Versions/3.12/lib/python3.12/site-packages (from chromadb<0.6.0,>=0.4.0->langchain-chroma) (0.12.3)\n",
      "Requirement already satisfied: kubernetes>=28.1.0 in /Library/Frameworks/Python.framework/Versions/3.12/lib/python3.12/site-packages (from chromadb<0.6.0,>=0.4.0->langchain-chroma) (30.1.0)\n",
      "Requirement already satisfied: tenacity>=8.2.3 in /Library/Frameworks/Python.framework/Versions/3.12/lib/python3.12/site-packages (from chromadb<0.6.0,>=0.4.0->langchain-chroma) (8.4.2)\n",
      "Requirement already satisfied: PyYAML>=6.0.0 in /Library/Frameworks/Python.framework/Versions/3.12/lib/python3.12/site-packages (from chromadb<0.6.0,>=0.4.0->langchain-chroma) (6.0.1)\n",
      "Requirement already satisfied: mmh3>=4.0.1 in /Library/Frameworks/Python.framework/Versions/3.12/lib/python3.12/site-packages (from chromadb<0.6.0,>=0.4.0->langchain-chroma) (4.1.0)\n",
      "Requirement already satisfied: orjson>=3.9.12 in /Library/Frameworks/Python.framework/Versions/3.12/lib/python3.12/site-packages (from chromadb<0.6.0,>=0.4.0->langchain-chroma) (3.10.5)\n",
      "Requirement already satisfied: httpx>=0.27.0 in /Library/Frameworks/Python.framework/Versions/3.12/lib/python3.12/site-packages (from chromadb<0.6.0,>=0.4.0->langchain-chroma) (0.27.0)\n",
      "Requirement already satisfied: starlette<0.38.0,>=0.37.2 in /Library/Frameworks/Python.framework/Versions/3.12/lib/python3.12/site-packages (from fastapi<1,>=0.95.2->langchain-chroma) (0.37.2)\n",
      "Requirement already satisfied: fastapi-cli>=0.0.2 in /Library/Frameworks/Python.framework/Versions/3.12/lib/python3.12/site-packages (from fastapi<1,>=0.95.2->langchain-chroma) (0.0.4)\n",
      "Requirement already satisfied: jinja2>=2.11.2 in /Library/Frameworks/Python.framework/Versions/3.12/lib/python3.12/site-packages (from fastapi<1,>=0.95.2->langchain-chroma) (3.1.4)\n",
      "Requirement already satisfied: python-multipart>=0.0.7 in /Library/Frameworks/Python.framework/Versions/3.12/lib/python3.12/site-packages (from fastapi<1,>=0.95.2->langchain-chroma) (0.0.9)\n",
      "Requirement already satisfied: ujson!=4.0.2,!=4.1.0,!=4.2.0,!=4.3.0,!=5.0.0,!=5.1.0,>=4.0.1 in /Library/Frameworks/Python.framework/Versions/3.12/lib/python3.12/site-packages (from fastapi<1,>=0.95.2->langchain-chroma) (5.10.0)\n",
      "Requirement already satisfied: email_validator>=2.0.0 in /Library/Frameworks/Python.framework/Versions/3.12/lib/python3.12/site-packages (from fastapi<1,>=0.95.2->langchain-chroma) (2.2.0)\n",
      "Requirement already satisfied: jsonpatch<2.0,>=1.33 in /Library/Frameworks/Python.framework/Versions/3.12/lib/python3.12/site-packages (from langchain-core<0.3,>=0.1.40->langchain-chroma) (1.33)\n",
      "Requirement already satisfied: langsmith<0.2.0,>=0.1.75 in /Library/Frameworks/Python.framework/Versions/3.12/lib/python3.12/site-packages (from langchain-core<0.3,>=0.1.40->langchain-chroma) (0.1.82)\n",
      "Requirement already satisfied: packaging<25,>=23.2 in /Library/Frameworks/Python.framework/Versions/3.12/lib/python3.12/site-packages (from langchain-core<0.3,>=0.1.40->langchain-chroma) (24.1)\n",
      "Requirement already satisfied: pyproject_hooks in /Library/Frameworks/Python.framework/Versions/3.12/lib/python3.12/site-packages (from build>=1.0.3->chromadb<0.6.0,>=0.4.0->langchain-chroma) (1.1.0)\n",
      "Requirement already satisfied: dnspython>=2.0.0 in /Library/Frameworks/Python.framework/Versions/3.12/lib/python3.12/site-packages (from email_validator>=2.0.0->fastapi<1,>=0.95.2->langchain-chroma) (2.6.1)\n",
      "Requirement already satisfied: idna>=2.0.0 in /Library/Frameworks/Python.framework/Versions/3.12/lib/python3.12/site-packages (from email_validator>=2.0.0->fastapi<1,>=0.95.2->langchain-chroma) (3.6)\n",
      "Requirement already satisfied: anyio in /Library/Frameworks/Python.framework/Versions/3.12/lib/python3.12/site-packages (from httpx>=0.27.0->chromadb<0.6.0,>=0.4.0->langchain-chroma) (4.3.0)\n",
      "Requirement already satisfied: certifi in /Library/Frameworks/Python.framework/Versions/3.12/lib/python3.12/site-packages (from httpx>=0.27.0->chromadb<0.6.0,>=0.4.0->langchain-chroma) (2024.2.2)\n",
      "Requirement already satisfied: httpcore==1.* in /Library/Frameworks/Python.framework/Versions/3.12/lib/python3.12/site-packages (from httpx>=0.27.0->chromadb<0.6.0,>=0.4.0->langchain-chroma) (1.0.5)\n",
      "Requirement already satisfied: sniffio in /Library/Frameworks/Python.framework/Versions/3.12/lib/python3.12/site-packages (from httpx>=0.27.0->chromadb<0.6.0,>=0.4.0->langchain-chroma) (1.3.1)\n",
      "Requirement already satisfied: h11<0.15,>=0.13 in /Library/Frameworks/Python.framework/Versions/3.12/lib/python3.12/site-packages (from httpcore==1.*->httpx>=0.27.0->chromadb<0.6.0,>=0.4.0->langchain-chroma) (0.14.0)\n",
      "Requirement already satisfied: MarkupSafe>=2.0 in /Library/Frameworks/Python.framework/Versions/3.12/lib/python3.12/site-packages (from jinja2>=2.11.2->fastapi<1,>=0.95.2->langchain-chroma) (2.1.5)\n",
      "Requirement already satisfied: jsonpointer>=1.9 in /Library/Frameworks/Python.framework/Versions/3.12/lib/python3.12/site-packages (from jsonpatch<2.0,>=1.33->langchain-core<0.3,>=0.1.40->langchain-chroma) (3.0.0)\n",
      "Requirement already satisfied: six>=1.9.0 in /Library/Frameworks/Python.framework/Versions/3.12/lib/python3.12/site-packages (from kubernetes>=28.1.0->chromadb<0.6.0,>=0.4.0->langchain-chroma) (1.16.0)\n",
      "Requirement already satisfied: python-dateutil>=2.5.3 in /Library/Frameworks/Python.framework/Versions/3.12/lib/python3.12/site-packages (from kubernetes>=28.1.0->chromadb<0.6.0,>=0.4.0->langchain-chroma) (2.9.0.post0)\n",
      "Requirement already satisfied: google-auth>=1.0.1 in /Library/Frameworks/Python.framework/Versions/3.12/lib/python3.12/site-packages (from kubernetes>=28.1.0->chromadb<0.6.0,>=0.4.0->langchain-chroma) (2.31.0)\n",
      "Requirement already satisfied: websocket-client!=0.40.0,!=0.41.*,!=0.42.*,>=0.32.0 in /Library/Frameworks/Python.framework/Versions/3.12/lib/python3.12/site-packages (from kubernetes>=28.1.0->chromadb<0.6.0,>=0.4.0->langchain-chroma) (1.8.0)\n",
      "Requirement already satisfied: requests-oauthlib in /Library/Frameworks/Python.framework/Versions/3.12/lib/python3.12/site-packages (from kubernetes>=28.1.0->chromadb<0.6.0,>=0.4.0->langchain-chroma) (2.0.0)\n",
      "Requirement already satisfied: oauthlib>=3.2.2 in /Library/Frameworks/Python.framework/Versions/3.12/lib/python3.12/site-packages (from kubernetes>=28.1.0->chromadb<0.6.0,>=0.4.0->langchain-chroma) (3.2.2)\n",
      "Requirement already satisfied: urllib3>=1.24.2 in /Library/Frameworks/Python.framework/Versions/3.12/lib/python3.12/site-packages (from kubernetes>=28.1.0->chromadb<0.6.0,>=0.4.0->langchain-chroma) (2.2.2)\n",
      "Requirement already satisfied: coloredlogs in /Library/Frameworks/Python.framework/Versions/3.12/lib/python3.12/site-packages (from onnxruntime>=1.14.1->chromadb<0.6.0,>=0.4.0->langchain-chroma) (15.0.1)\n",
      "Requirement already satisfied: flatbuffers in /Library/Frameworks/Python.framework/Versions/3.12/lib/python3.12/site-packages (from onnxruntime>=1.14.1->chromadb<0.6.0,>=0.4.0->langchain-chroma) (24.3.25)\n",
      "Requirement already satisfied: protobuf in /Library/Frameworks/Python.framework/Versions/3.12/lib/python3.12/site-packages (from onnxruntime>=1.14.1->chromadb<0.6.0,>=0.4.0->langchain-chroma) (4.25.3)\n",
      "Requirement already satisfied: sympy in /Library/Frameworks/Python.framework/Versions/3.12/lib/python3.12/site-packages (from onnxruntime>=1.14.1->chromadb<0.6.0,>=0.4.0->langchain-chroma) (1.12.1)\n",
      "Requirement already satisfied: deprecated>=1.2.6 in /Library/Frameworks/Python.framework/Versions/3.12/lib/python3.12/site-packages (from opentelemetry-api>=1.2.0->chromadb<0.6.0,>=0.4.0->langchain-chroma) (1.2.14)\n",
      "Requirement already satisfied: importlib-metadata<=7.1,>=6.0 in /Library/Frameworks/Python.framework/Versions/3.12/lib/python3.12/site-packages (from opentelemetry-api>=1.2.0->chromadb<0.6.0,>=0.4.0->langchain-chroma) (7.1.0)\n",
      "Requirement already satisfied: googleapis-common-protos~=1.52 in /Library/Frameworks/Python.framework/Versions/3.12/lib/python3.12/site-packages (from opentelemetry-exporter-otlp-proto-grpc>=1.2.0->chromadb<0.6.0,>=0.4.0->langchain-chroma) (1.63.2)\n",
      "Requirement already satisfied: opentelemetry-exporter-otlp-proto-common==1.25.0 in /Library/Frameworks/Python.framework/Versions/3.12/lib/python3.12/site-packages (from opentelemetry-exporter-otlp-proto-grpc>=1.2.0->chromadb<0.6.0,>=0.4.0->langchain-chroma) (1.25.0)\n",
      "Requirement already satisfied: opentelemetry-proto==1.25.0 in /Library/Frameworks/Python.framework/Versions/3.12/lib/python3.12/site-packages (from opentelemetry-exporter-otlp-proto-grpc>=1.2.0->chromadb<0.6.0,>=0.4.0->langchain-chroma) (1.25.0)\n",
      "Requirement already satisfied: opentelemetry-instrumentation-asgi==0.46b0 in /Library/Frameworks/Python.framework/Versions/3.12/lib/python3.12/site-packages (from opentelemetry-instrumentation-fastapi>=0.41b0->chromadb<0.6.0,>=0.4.0->langchain-chroma) (0.46b0)\n",
      "Requirement already satisfied: opentelemetry-instrumentation==0.46b0 in /Library/Frameworks/Python.framework/Versions/3.12/lib/python3.12/site-packages (from opentelemetry-instrumentation-fastapi>=0.41b0->chromadb<0.6.0,>=0.4.0->langchain-chroma) (0.46b0)\n",
      "Requirement already satisfied: opentelemetry-semantic-conventions==0.46b0 in /Library/Frameworks/Python.framework/Versions/3.12/lib/python3.12/site-packages (from opentelemetry-instrumentation-fastapi>=0.41b0->chromadb<0.6.0,>=0.4.0->langchain-chroma) (0.46b0)\n",
      "Requirement already satisfied: opentelemetry-util-http==0.46b0 in /Library/Frameworks/Python.framework/Versions/3.12/lib/python3.12/site-packages (from opentelemetry-instrumentation-fastapi>=0.41b0->chromadb<0.6.0,>=0.4.0->langchain-chroma) (0.46b0)\n",
      "Requirement already satisfied: setuptools>=16.0 in /Library/Frameworks/Python.framework/Versions/3.12/lib/python3.12/site-packages (from opentelemetry-instrumentation==0.46b0->opentelemetry-instrumentation-fastapi>=0.41b0->chromadb<0.6.0,>=0.4.0->langchain-chroma) (70.2.0)\n",
      "Requirement already satisfied: wrapt<2.0.0,>=1.0.0 in /Library/Frameworks/Python.framework/Versions/3.12/lib/python3.12/site-packages (from opentelemetry-instrumentation==0.46b0->opentelemetry-instrumentation-fastapi>=0.41b0->chromadb<0.6.0,>=0.4.0->langchain-chroma) (1.16.0)\n",
      "Requirement already satisfied: asgiref~=3.0 in /Library/Frameworks/Python.framework/Versions/3.12/lib/python3.12/site-packages (from opentelemetry-instrumentation-asgi==0.46b0->opentelemetry-instrumentation-fastapi>=0.41b0->chromadb<0.6.0,>=0.4.0->langchain-chroma) (3.8.1)\n",
      "Requirement already satisfied: monotonic>=1.5 in /Library/Frameworks/Python.framework/Versions/3.12/lib/python3.12/site-packages (from posthog>=2.4.0->chromadb<0.6.0,>=0.4.0->langchain-chroma) (1.6)\n",
      "Requirement already satisfied: backoff>=1.10.0 in /Library/Frameworks/Python.framework/Versions/3.12/lib/python3.12/site-packages (from posthog>=2.4.0->chromadb<0.6.0,>=0.4.0->langchain-chroma) (2.2.1)\n",
      "Requirement already satisfied: annotated-types>=0.4.0 in /Library/Frameworks/Python.framework/Versions/3.12/lib/python3.12/site-packages (from pydantic>=1.9->chromadb<0.6.0,>=0.4.0->langchain-chroma) (0.6.0)\n",
      "Requirement already satisfied: pydantic-core==2.16.3 in /Library/Frameworks/Python.framework/Versions/3.12/lib/python3.12/site-packages (from pydantic>=1.9->chromadb<0.6.0,>=0.4.0->langchain-chroma) (2.16.3)\n",
      "Requirement already satisfied: charset-normalizer<4,>=2 in /Library/Frameworks/Python.framework/Versions/3.12/lib/python3.12/site-packages (from requests>=2.28->chromadb<0.6.0,>=0.4.0->langchain-chroma) (3.3.2)\n",
      "Requirement already satisfied: huggingface-hub<1.0,>=0.16.4 in /Library/Frameworks/Python.framework/Versions/3.12/lib/python3.12/site-packages (from tokenizers>=0.13.2->chromadb<0.6.0,>=0.4.0->langchain-chroma) (0.23.4)\n",
      "Requirement already satisfied: click>=8.0.0 in /Library/Frameworks/Python.framework/Versions/3.12/lib/python3.12/site-packages (from typer>=0.9.0->chromadb<0.6.0,>=0.4.0->langchain-chroma) (8.1.7)\n",
      "Requirement already satisfied: shellingham>=1.3.0 in /Library/Frameworks/Python.framework/Versions/3.12/lib/python3.12/site-packages (from typer>=0.9.0->chromadb<0.6.0,>=0.4.0->langchain-chroma) (1.5.4)\n",
      "Requirement already satisfied: rich>=10.11.0 in /Library/Frameworks/Python.framework/Versions/3.12/lib/python3.12/site-packages (from typer>=0.9.0->chromadb<0.6.0,>=0.4.0->langchain-chroma) (13.7.1)\n",
      "Requirement already satisfied: httptools>=0.5.0 in /Library/Frameworks/Python.framework/Versions/3.12/lib/python3.12/site-packages (from uvicorn[standard]>=0.18.3->chromadb<0.6.0,>=0.4.0->langchain-chroma) (0.6.1)\n",
      "Requirement already satisfied: python-dotenv>=0.13 in /Library/Frameworks/Python.framework/Versions/3.12/lib/python3.12/site-packages (from uvicorn[standard]>=0.18.3->chromadb<0.6.0,>=0.4.0->langchain-chroma) (1.0.1)\n",
      "Requirement already satisfied: uvloop!=0.15.0,!=0.15.1,>=0.14.0 in /Library/Frameworks/Python.framework/Versions/3.12/lib/python3.12/site-packages (from uvicorn[standard]>=0.18.3->chromadb<0.6.0,>=0.4.0->langchain-chroma) (0.19.0)\n",
      "Requirement already satisfied: watchfiles>=0.13 in /Library/Frameworks/Python.framework/Versions/3.12/lib/python3.12/site-packages (from uvicorn[standard]>=0.18.3->chromadb<0.6.0,>=0.4.0->langchain-chroma) (0.22.0)\n",
      "Requirement already satisfied: websockets>=10.4 in /Library/Frameworks/Python.framework/Versions/3.12/lib/python3.12/site-packages (from uvicorn[standard]>=0.18.3->chromadb<0.6.0,>=0.4.0->langchain-chroma) (12.0)\n",
      "Requirement already satisfied: cachetools<6.0,>=2.0.0 in /Library/Frameworks/Python.framework/Versions/3.12/lib/python3.12/site-packages (from google-auth>=1.0.1->kubernetes>=28.1.0->chromadb<0.6.0,>=0.4.0->langchain-chroma) (5.3.3)\n",
      "Requirement already satisfied: pyasn1-modules>=0.2.1 in /Library/Frameworks/Python.framework/Versions/3.12/lib/python3.12/site-packages (from google-auth>=1.0.1->kubernetes>=28.1.0->chromadb<0.6.0,>=0.4.0->langchain-chroma) (0.4.0)\n",
      "Requirement already satisfied: rsa<5,>=3.1.4 in /Library/Frameworks/Python.framework/Versions/3.12/lib/python3.12/site-packages (from google-auth>=1.0.1->kubernetes>=28.1.0->chromadb<0.6.0,>=0.4.0->langchain-chroma) (4.9)\n",
      "Requirement already satisfied: filelock in /Library/Frameworks/Python.framework/Versions/3.12/lib/python3.12/site-packages (from huggingface-hub<1.0,>=0.16.4->tokenizers>=0.13.2->chromadb<0.6.0,>=0.4.0->langchain-chroma) (3.15.4)\n",
      "Requirement already satisfied: fsspec>=2023.5.0 in /Library/Frameworks/Python.framework/Versions/3.12/lib/python3.12/site-packages (from huggingface-hub<1.0,>=0.16.4->tokenizers>=0.13.2->chromadb<0.6.0,>=0.4.0->langchain-chroma) (2024.6.1)\n",
      "Requirement already satisfied: zipp>=0.5 in /Library/Frameworks/Python.framework/Versions/3.12/lib/python3.12/site-packages (from importlib-metadata<=7.1,>=6.0->opentelemetry-api>=1.2.0->chromadb<0.6.0,>=0.4.0->langchain-chroma) (3.19.2)\n",
      "Requirement already satisfied: markdown-it-py>=2.2.0 in /Library/Frameworks/Python.framework/Versions/3.12/lib/python3.12/site-packages (from rich>=10.11.0->typer>=0.9.0->chromadb<0.6.0,>=0.4.0->langchain-chroma) (3.0.0)\n",
      "Requirement already satisfied: pygments<3.0.0,>=2.13.0 in /Users/kailashdejesushornig/Library/Python/3.12/lib/python/site-packages (from rich>=10.11.0->typer>=0.9.0->chromadb<0.6.0,>=0.4.0->langchain-chroma) (2.18.0)\n",
      "Requirement already satisfied: humanfriendly>=9.1 in /Library/Frameworks/Python.framework/Versions/3.12/lib/python3.12/site-packages (from coloredlogs->onnxruntime>=1.14.1->chromadb<0.6.0,>=0.4.0->langchain-chroma) (10.0)\n",
      "Requirement already satisfied: mpmath<1.4.0,>=1.1.0 in /Library/Frameworks/Python.framework/Versions/3.12/lib/python3.12/site-packages (from sympy->onnxruntime>=1.14.1->chromadb<0.6.0,>=0.4.0->langchain-chroma) (1.3.0)\n",
      "Requirement already satisfied: mdurl~=0.1 in /Library/Frameworks/Python.framework/Versions/3.12/lib/python3.12/site-packages (from markdown-it-py>=2.2.0->rich>=10.11.0->typer>=0.9.0->chromadb<0.6.0,>=0.4.0->langchain-chroma) (0.1.2)\n",
      "Requirement already satisfied: pyasn1<0.7.0,>=0.4.6 in /Library/Frameworks/Python.framework/Versions/3.12/lib/python3.12/site-packages (from pyasn1-modules>=0.2.1->google-auth>=1.0.1->kubernetes>=28.1.0->chromadb<0.6.0,>=0.4.0->langchain-chroma) (0.6.0)\n",
      "Requirement already satisfied: langdetect in /Library/Frameworks/Python.framework/Versions/3.12/lib/python3.12/site-packages (1.0.9)\n",
      "Requirement already satisfied: six in /Library/Frameworks/Python.framework/Versions/3.12/lib/python3.12/site-packages (from langdetect) (1.16.0)\n",
      "Requirement already satisfied: PyPDF2 in /Library/Frameworks/Python.framework/Versions/3.12/lib/python3.12/site-packages (3.0.1)\n",
      "Requirement already satisfied: nltk in /Library/Frameworks/Python.framework/Versions/3.12/lib/python3.12/site-packages (3.8.1)\n",
      "Requirement already satisfied: wordcloud in /Library/Frameworks/Python.framework/Versions/3.12/lib/python3.12/site-packages (1.9.3)\n",
      "Requirement already satisfied: matplotlib in /Library/Frameworks/Python.framework/Versions/3.12/lib/python3.12/site-packages (3.9.0)\n",
      "Requirement already satisfied: click in /Library/Frameworks/Python.framework/Versions/3.12/lib/python3.12/site-packages (from nltk) (8.1.7)\n",
      "Requirement already satisfied: joblib in /Library/Frameworks/Python.framework/Versions/3.12/lib/python3.12/site-packages (from nltk) (1.4.2)\n",
      "Requirement already satisfied: regex>=2021.8.3 in /Library/Frameworks/Python.framework/Versions/3.12/lib/python3.12/site-packages (from nltk) (2024.5.15)\n",
      "Requirement already satisfied: tqdm in /Library/Frameworks/Python.framework/Versions/3.12/lib/python3.12/site-packages (from nltk) (4.66.2)\n",
      "Requirement already satisfied: numpy>=1.6.1 in /Library/Frameworks/Python.framework/Versions/3.12/lib/python3.12/site-packages (from wordcloud) (1.26.4)\n",
      "Requirement already satisfied: pillow in /Library/Frameworks/Python.framework/Versions/3.12/lib/python3.12/site-packages (from wordcloud) (10.3.0)\n",
      "Requirement already satisfied: contourpy>=1.0.1 in /Library/Frameworks/Python.framework/Versions/3.12/lib/python3.12/site-packages (from matplotlib) (1.2.1)\n",
      "Requirement already satisfied: cycler>=0.10 in /Library/Frameworks/Python.framework/Versions/3.12/lib/python3.12/site-packages (from matplotlib) (0.12.1)\n",
      "Requirement already satisfied: fonttools>=4.22.0 in /Library/Frameworks/Python.framework/Versions/3.12/lib/python3.12/site-packages (from matplotlib) (4.53.0)\n",
      "Requirement already satisfied: kiwisolver>=1.3.1 in /Library/Frameworks/Python.framework/Versions/3.12/lib/python3.12/site-packages (from matplotlib) (1.4.5)\n",
      "Requirement already satisfied: packaging>=20.0 in /Library/Frameworks/Python.framework/Versions/3.12/lib/python3.12/site-packages (from matplotlib) (24.1)\n",
      "Requirement already satisfied: pyparsing>=2.3.1 in /Library/Frameworks/Python.framework/Versions/3.12/lib/python3.12/site-packages (from matplotlib) (3.1.2)\n",
      "Requirement already satisfied: python-dateutil>=2.7 in /Library/Frameworks/Python.framework/Versions/3.12/lib/python3.12/site-packages (from matplotlib) (2.9.0.post0)\n",
      "Requirement already satisfied: six>=1.5 in /Library/Frameworks/Python.framework/Versions/3.12/lib/python3.12/site-packages (from python-dateutil>=2.7->matplotlib) (1.16.0)\n"
     ]
    }
   ],
   "source": [
    "!pip3 install langchain transformers\n",
    "!pip3 install -U sentence-transformers\n",
    "!pip3 install langchain-chroma\n",
    "!pip3 install langdetect\n",
    "!pip3 install PyPDF2 nltk wordcloud matplotlib"
   ]
  },
  {
   "cell_type": "markdown",
   "metadata": {},
   "source": [
    "# Imports"
   ]
  },
  {
   "cell_type": "code",
   "execution_count": 13,
   "metadata": {},
   "outputs": [],
   "source": [
    "from langchain_community.document_loaders import PyPDFLoader, PyPDFDirectoryLoader\n",
    "from langchain.text_splitter import RecursiveCharacterTextSplitter\n",
    "# from langchain_huggingface import HuggingFaceEmbeddings\n",
    "from langchain_community.embeddings import HuggingFaceEmbeddings\n",
    "from transformers import AutoModelForCausalLM, AutoTokenizer, pipeline\n",
    "from sentence_transformers import SentenceTransformer\n",
    "from langchain_chroma import Chroma\n",
    "from langdetect import detect\n",
    "from langdetect.lang_detect_exception import LangDetectException\n",
    "import chromadb\n",
    "import glob\n",
    "import torch\n",
    "import os\n",
    "import matplotlib.pyplot as plt\n",
    "import pandas as pd\n",
    "import re\n",
    "\n",
    "# Change to english model and hope it can cope with the Swedish. --> with APIs run GPT-4o \n",
    "MODEL_NAME_KBLAB = 'KBLab/sentence-bert-swedish-cased'\n",
    "MODEL_NAME_KB = 'KB/bert-base-swedish-cased'\n",
    "MODEL_NAME_INTFLOAT = 'intfloat/multilingual-e5-large-instruct'"
   ]
  },
  {
   "cell_type": "markdown",
   "metadata": {},
   "source": [
    "# Investigating the data set"
   ]
  },
  {
   "cell_type": "code",
   "execution_count": 14,
   "metadata": {},
   "outputs": [
    {
     "name": "stdout",
     "output_type": "stream",
     "text": [
      "['Chalmers riktlinje för representation_ver 240401.PDF', 'Beslut fattat av Enhetschef Utbildningsstöd vid Student och Utbildningsavdelningen om ansökningsprocess för Erasmus+ bidrag för personalmobilitet..PDF', 'Riktlinje om ekonomiskt ansvar för projektledare vid Chalmers.PDF', 'Riktlinje för inköp och upphandling vid Chalmers tekniska högskola 211008.PDF', 'Guiding principle for financial responsibility for project managers at Chalmers.PDF', 'C 2019-2201-1 Föreskrift för Chalmers hantering vid misstanke om allvarliga avvikelser.PDF', 'Riktlinjer för jävsfrågor inom forskarutbildningen vid Chalmers tekniska högskola.PDF', 'Prioritised Operational Development (PVU) 2024-2026 English translation.PDF', 'C 2023-0759 Bilaga 2 Quality Assurance Policy at Chalmers University of Technology.PDF', 'C 2019-2201-2 Riktlinje för Chalmers etik- och oredlighetskommitté - roll, arbetsform och organisation.PDF', 'Föreskrifter avseende rätten till användning av undervisningsmaterial vid Chalmers tekniska högskola AB och Chalmers Professional Education AB.PDF', 'C 2023-0759 Bilaga 1 Policy för kvalitetssäkring vid Chalmers tekniska högskola AB.PDF', 'Lokal Examensordning för Chalmers tekniska högskola AB för examina på forskarnivå 1.1.PDF', 'Chalmers rules of procedure for doctoral studies - applies from 2024-03-18.PDF', 'Beslut av rektor om prioriterad verksamhetsutveckling (PVU) 2024-2026.PDF', 'Translation of Local Qualifications Framework for Chalmers University of Technology Third Cycle 1.1.PDF', 'Beslut av prorektor Charlotte Wiberg om riktlinjer för hybriddisputationer.PDF', 'Föreskrifter för stipendier för studenter inom Chalmers utbildningsprogram på grund- och avancerad nivå C 2019-0748.PDF', 'Regulations for scholarships for students within Chalmers education program at undergraduate and graduate level C2019-0748.PDF', 'Chalmers arbetsordning för forskarutbildning - gäller fr o m 2024-03-18.PDF', 'Scholarship regulations 2020.PDF', 'Riktlinje för överenskommelse mellan beställarorganisationen och utförare av grundutbildningen.PDF', 'C 2023-0581-1 Föreskrift för utlandsstudier (styrdokument) 1149427_2_1.PDF - kopia.PDF', 'Stipendieföreskrifter för avgiftsskyldiga studenter 2020.PDF', 'C 2019-2201-1 Föreskrift för Chalmers hantering vid misstanke om allvarliga avvikelser.PDF', 'Antagningsordning för grundutbildning, förutbildning samt fort- och vidareutbildning, läsåret 2024-25.PDF', 'Guidelines for student influence at Chalmers.PDF', 'Disciplinstadga för studenter vid Chalmers tekniska högskola - gäller fr o m 2019-09-26.PDF', 'C 2023-0759 Bilaga 2 Quality Assurance Policy at Chalmers University of Technology.PDF', 'Regulations for planning courses and holding examinations at pre-university, first cycle and second cycle levels, C 2023-0875.PDF', 'C 2019-2201-2 Riktlinjer för Chalmers etik- och oredlighetskommitté - roll, arbetsform och organisation.PDF', 'C2021-0696 Guidelines for processing with disciplinary matters.PDF', 'Föreskrifter avseende rätten till användning av undervisningsmaterial vid Chalmers tekniska högskola AB och Chalmers Professional Education AB.PDF', 'Föreskrift om former för samverkan med studenter om arbetsmiljö och likabehandling.PDF', 'C 2023-0759 Bilaga 1 Policy för kvalitetssäkring vid Chalmers tekniska högskola AB.PDF', 'Guidelines for phasing outdormantresuming education programmes.PDF', 'C 2023-0814-1 Föreskrift för lokal examensordning för examina på grundnivå och avancerad nivå.PDF', 'Digitaliseringsstrategi för utbildning på grund- och avancerad nivå.PDF', \"Appointment regulation for first cycle and second cycle education (undergraduate and master's education) at Chalmers.PDF\", 'Strategy for integration of equality, inclusion and diversity in Chalmers undergraduate and master’s education.PDF', 'C 2023-0890 Prioritised Operational Development 2024-2026_EN.PDF', 'Rules of discipline for students at Chalmers tekniska högskola - applies from 2019-09-26.PDF', 'Strategi för integrering av jämställdhet, likabehandling och mångfald i Chalmers grundutbildning.PDF', 'Guidelines for setting up new education programme.PDF', 'Arbetsordning för Chalmers utbildning på grund- och avancerad nivå.PDF', 'C 2023-0357 Föreskrifter för kandidatarbete på Chalmers civilingenjörsprogram från våren 2023.PDF', 'C 2023-0581-1 Bilaga 1 till Föreskrift för utlandsstudier 1149428_2_1.PDF - kopia.PDF', 'Riktlinjer för att inrätta nytt utbildningsprogram.PDF', 'C 2021-1625 Riktlinjer för programbeskrivningar.PDF', 'Bilaga 1 till Föreskrift för utlandsstudier.PDF', 'Matris över ackreditering, förtur (platsgaranti) till den lokala antagningsomgången för Chalmersvalet till masterprogram läsåret 2023-24.PDF', 'Föreskrift för utlandsstudier - stydokument 2.PDF', 'Enhetschef Utbildningsstöd vid SoU beslutar om två ansökningsomgångar för Erasmus+ praktikstipendium from 2024.PDF', 'Föreskrift för att förebygga olovlig kopiering.PDF', 'Riktlinjer för kompensatoriskt stöd för studenter med funktionsnedsättning.PDF', 'Föreskrift för planering av kurs och genomförande av examination på förutbildningsnivå, grundnivå och avancerad nivå.PDF', \"C 2023-0357 Regulation for bachelor's theses at Chalmers MSc in engineering programmes from spring 2023.PDF\", 'Föreskrift för utlandsstudier (styrdokument) 1.PDF', 'C 2023-0982-1 Riktlinje för uppdragsutbildning 1131397_2_1-1.PDF', 'Translation of Admission Regulations, Academic year 2023-24.PDF', 'Regulations for studies abroad (translation of policy document).PDF', 'Riktlinjer för studentinflytande rev 2021_09-27.PDF', 'Regulation for the Local Qualifications Framework for First and Second Cycle Qualifications.PDF', 'Antagningsordning för grundutbildning, förutbildning samt fort- och vidareutbildning, läsåret 2023-24.PDF', 'Riktlinjer för att avvecklavilandeläggaåteruppta utbildningsprogram.PDF', 'C 2023-0890 Prioriterad verksamhetsutveckling 2024-2026.PDF', 'Föreskrifter för stipendier för studenter inom Chalmers utbildningsprogram på grund- och avancerad nivå C 2019-0748.PDF', 'Kurskoder, ackrediteringar och förtur (platsgaranti) till den lokala antagningsomgången för Chalmersvalet till masterprogram, läsåret 2023-24.PDF', 'Guidelines on contract education and other paid education.PDF', 'Regulations for scholarships for students within Chalmers education program at undergraduate and graduate level C2019-0748.PDF', 'Beslut av rektor att fastställa uppdaterade riktlinjer för tillgodoräknande av kurser inom utbildningsprogram.PDF', 'C2021-0696 Riktlinje handläggning av disciplinärenden 2021-05-19.PDF', 'C 2022-0879 Föreskrift för strålsäkerhet och kärnteknisk verksamhet vid Chalmers slutlig.PDF', 'Work environment policy 2022-2024.PDF', 'Policy för arbetsmiljö 2022-2024.PDF', 'C 2022-1679_Riktlinje för centrum vid Chalmers.PDF', 'Prioritised Operational Development (PVU) 2024-2026 English translation.PDF', 'C 2021-0953 Styrdokument Riktlinje Distansarbete 999080_1_0.PDF', 'Bilaga 1 C 2022-0881 Riktlinjer om åtgärder vid missförhållanden av allmänintresse samt övriga upptäckta eller misstänkta oegentligheter v2.PDF', 'C2023-0615 Riktlinje God forskning v2023-05.PDF', 'Riktlinjer för studentinflytande rev 2021_09-27.PDF', 'C 2021-1259 Föreskrifter för sociala medier där Chalmers är avsändare.PDF', 'C 2023-0890 Prioriterad verksamhetsutveckling 2024-2026.PDF', 'Föreskrift om repatrieringsbidrag för avgående prefekter kopplat till fakultetsmodellen.PDF', 'Chalmers friskvårdspolicy.PDF', 'Föreskrift för användning av tjänstebenämningar.PDF', 'C 2023 1732 Alcohol and Drugs Policy_ENG.PDF', 'Riktlinje för institutionsråd vid Chalmers tekniska högskola bilaga 1 till C 2021-0618.PDF', 'Guiding principle for departmental advisory teams bilaga 1 till C 2021-0618_engelska.PDF', 'Guidelines for remote work.PDF', 'Riktlinjer för personalrekrytering.PDF', 'C 2021-0953 Styrdokument Riktlinje Distansarbete 999080_1_0.PDF', 'Föräldrapolicy.PDF', 'Bilaga 1 till C 2018 0262 Föreskrift för Chalmers delegationsordning (1).PDF', 'Riktlinjer_för_chefs och ledarrekryteringar rev aug 2018.pdf.PDF', 'Chalmers riktlinjer för tillämpning av delpensionsavtalet.PDF', 'Beslut fattat av Enhetschef Utbildningsstöd vid Student och Utbildningsavdelningen om ansökningsprocess för Erasmus+ bidrag för personalmobilitet.PDF', 'Föreskrift avseende alkohol och droger vid Chalmers.PDF', 'Beslut fattat av rektor att införa styrdokumentet Chalmers Code of Conduct.PDF', 'Guidelines for positions, career paths and recruitment of technical staff at Chalmers.PDF', 'Ledarskapspolicy reviderad 2023-04-12.PDF', 'Riktlinjer och process för rekrytering och utvärdering av forskarassistenter reviderad 2023-03-01.PDF', 'Föreskrift för bisysslor för anställda vid Chalmers tekniska högskola AB.PDF', 'Guidelines and Process for Recruiting and Assessing Assistant Professors revised 2023-03-01.PDF', 'Reviderad föreskrift för uppdragstillägg.PDF', 'Föreskrift för att systematiskt uppmärksamma, förebygga och hantera kränkande särbehandling.PDF', 'Chalmers riktlinje för representation ver 240401.PDF', 'C 2020-0962 Särskilda riktlinjer för institutionernas involvering vid rekrytering.PDF', 'Riktlinjer för tjänstebefattningar, karriärväg och rekrytering av teknisk personal vid Chalmers.PDF', 'Alkohol- och drogpolicy.PDF', 'Regulations for sidelines for employees of Chalmers University of Technology C 2023-1764.PDF', 'Reviderat beslut fattat av rektor gällande riktlinjer för lärares fortsatta engagemang vid Chalmers.PDF', 'Bilaga till riktlinjer_exempel på rekryteringsgrupper_rev aug 2018.PDF', 'Chalmers arbetsordning för forskarutbildning.PDF', 'Chalmers rules of procedure for doctoral studies.PDF', \"Appointment regulation for first cycle and second cycle education (undergraduate and master's education) at Chalmers.PDF\", 'C 2023-0548 Chalmers arbetsordning för undervisande och forskande personal reviderad 2023-05-01.PDF', 'Arbetsordning för Chalmers utbildning på grund- och avancerad nivå.PDF', 'Rules of Procedure - Chalmers University of Technologys Appointment Regulations for Teaching and Research Faculty revised 2024-06-19.PDF', 'Chalmers arbetsordning för undervisande och forskande personal, reviderad 2024-06-19.PDF', 'Rules of Procedure - Appointment Regulations for Teaching and Research Faculty revised 2023-05-01.PDF', 'Reviderad arbetsordning för disciplinnämnden vid Chalmers tekniska högskola - gäller fr o m 2019-09-10.PDF', \"Rules of Procedure - Chalmers University of Technology's Appointment Regulations for Teaching and Research Faculty, revised 2024-06-19.PDF\", 'Riktlinjer för Chalmers styrkeområden.PDF', 'C 2019-2201-1 Föreskrift för Chalmers hantering vid misstanke om allvarliga avvikelser.PDF', \"C2020-0728 Riktlinje för finansiering av patent med Chalmers som medelsförvaltare 200910'.PDF\", 'Prioritised Operational Development (PVU) 2024-2026 English translation.PDF', 'C 2023-0759 Bilaga 2 Quality Assurance Policy at Chalmers University of Technology.PDF', 'Föreskrifter för stipendier för studenter inom Chalmers utbildningsprogram på grund- och avancerad nivå.PDF', 'C 2019-2201-2 Riktlinjer för Chalmers etik- och oredlighetskommitté - roll, arbetsform och organisation.PDF', 'C2023-0615 Guiding principle for good research practice.PDF', 'C 2023-0759 Bilaga 1 Policy för kvalitetssäkring vid Chalmers tekniska högskola AB.PDF', 'C2020-1979 Policy Forskningsinfrastruktur Chalmers FINAL.PDF', 'C 2023-0548 Chalmers arbetsordning för undervisande och forskande personal reviderad 2023-05-01.PDF', 'Chalmers arbetsordning för undervisande och forskande personal, reviderad 2024-06-19.PDF', 'C2020-0728 ENG version - Riktlinje för finansiering av patent med Chalmers som medelsförvaltare.PDF', 'Rules of Procedure - Chalmers University of Technologys Appointment Regulations for Teaching and Research Faculty revised 2024-06-19 4.PDF', 'C2023-0615 Riktlinje God forskning v2023-05.PDF', 'Riktlinje för Chalmers samverkan med externa organisationer C 2023-0736.PDF', 'Rules of Procedure - Chalmers University of Technologys Appointment Regulations for Teaching and Research Faculty revised 2024-06-19 3.PDF', 'Policy för Chalmers hållning avseende immateriella rättigheter för tillgångar skapade vid Chalmers - Intellectual property (IP) policy at Chalmers.PDF', 'C 2023-0548 Rules of Procedure -Chalmers University of Technologys Appointment Regulations for Teaching and Research Faculty revised 2023-05-01.PDF', 'C 2023-0890 Prioriterad verksamhetsutveckling 2024-2026.PDF', 'Regulations for scholarships for students within Chalmers education program at undergraduate and graduate level C2019-0748.PDF', 'C2020-1979 Riktlinjer Forskningsinfrastruktur Chalmers FINAL.PDF']\n"
     ]
    }
   ],
   "source": [
    "root_directory = '/Users/kailashdejesushornig/Documents/GitHub/Policydokument/KaisProject/RegulatoryDocs'\n",
    "\n",
    "def gather_pdfs(root_directory):\n",
    "    all_pdfs = []\n",
    "\n",
    "    # List all items in the root directory\n",
    "    for item in os.listdir(root_directory):\n",
    "        item_path = os.path.join(root_directory, item)\n",
    "\n",
    "        # Check if the item is a directory\n",
    "        if os.path.isdir(item_path):\n",
    "            # Find all PDF files in the subdirectory\n",
    "            pdf_files = glob.glob(os.path.join(item_path, '*.PDF'))\n",
    "            all_pdfs.extend(pdf_files)\n",
    "    \n",
    "    return all_pdfs\n",
    "\n",
    "# load pdf file paths\n",
    "policy_file_paths= gather_pdfs(root_directory) # list of pdf with full path\n",
    "# print(len(policy_file_paths))\n",
    "# print(policy_file_paths[:])\n",
    "\n",
    "# Extract file names from the file paths\n",
    "policy_file_names = [path.split('/')[-1] for path in policy_file_paths] # list of pdf names only\n",
    "print(policy_file_names)"
   ]
  },
  {
   "cell_type": "code",
   "execution_count": 43,
   "metadata": {},
   "outputs": [
    {
     "name": "stdout",
     "output_type": "stream",
     "text": [
      "###Document: Chalmers riktlinje för representation_ver 240401.PDF\n",
      "###Content:  \n",
      " \n",
      " \n",
      " \n",
      "STYRDOKUMENT:   Riktlinje för representation.  C 2024‐0470. Beslut av ekonomichef.  \n",
      "Beslut ...\n",
      "\n",
      "###Document: Beslut fattat av Enhetschef Utbildningsstöd vid Student och Utbildningsavdelningen om ansökningsprocess för Erasmus+ bidrag för personalmobilitet..PDF\n",
      "###Content: Sida 1av 5\n",
      "Chalmers tekniska högskola Telefon 031-7721000 Organisationsnummer:\n",
      "412 96 Göteborg Webb:...\n",
      "\n",
      "###Document: Riktlinje om ekonomiskt ansvar för projektledare vid Chalmers.PDF\n",
      "###Content:   \n",
      " \n",
      " \n",
      "Fastställt av Ekonomichef  \n",
      "2018- 05-01 \n",
      "Ekonomiskt a nsvar för projektledare  vid Chalmers  ...\n",
      "\n",
      "###Document: Riktlinje för inköp och upphandling vid Chalmers tekniska högskola 211008.PDF\n",
      "###Content: STYRDOKUMENT: Riktlinje för inköp och upphandling vid Chalmers tekniska högskola . Dnr C 20 2 1 -\n",
      "15...\n",
      "\n",
      "###Document: Guiding principle for financial responsibility for project managers at Chalmers.PDF\n",
      "###Content:   \n",
      " \n",
      " \n",
      " \n",
      "Approved by Financial Manager  \n",
      "01/05/2018 \n",
      "Financial responsibility for project managers a...\n",
      "\n"
     ]
    }
   ],
   "source": [
    "import os\n",
    "from PyPDF2 import PdfReader\n",
    "\n",
    "# CAN I READ THE DOCS ? --> seems like it\n",
    "\n",
    "DIR_PATH = '/Users/kailashdejesushornig/Documents/GitHub/Policydokument/KaisProject/RegulatoryDocs/Ekonomi'\n",
    "\n",
    "def extract_text_from_pdfs(directory_path):\n",
    "    pdf_texts = []\n",
    "    for filename in os.listdir(directory_path):\n",
    "        if filename.lower().endswith('.pdf'):\n",
    "            file_path = os.path.join(directory_path, filename)\n",
    "            try:\n",
    "                reader = PdfReader(file_path)\n",
    "                text = ''\n",
    "                for page in reader.pages:\n",
    "                    text += page.extract_text()\n",
    "                pdf_texts.append((filename, text))\n",
    "            except Exception as e:\n",
    "                print(f\"Error reading {file_path}: {e}\")\n",
    "    return pdf_texts\n",
    "\n",
    "pdf_documents = extract_text_from_pdfs(DIR_PATH)\n",
    "\n",
    "# Display the first few characters of each document\n",
    "for doc in pdf_documents:\n",
    "    print(f\"###Document: {doc[0]}\")\n",
    "    print(f\"###Content: {doc[1][:100]}...\\n\")"
   ]
  },
  {
   "cell_type": "markdown",
   "metadata": {},
   "source": [
    "# Split the eng/swe docs into separate sets"
   ]
  },
  {
   "cell_type": "code",
   "execution_count": 15,
   "metadata": {},
   "outputs": [
    {
     "name": "stdout",
     "output_type": "stream",
     "text": [
      "Error processing file /Users/kailashdejesushornig/Documents/GitHub/Policydokument/KaisProject/RegulatoryDocs/Forskarutbildning/Beslut av prorektor Charlotte Wiberg om riktlinjer för hybriddisputationer.PDF: Invalid Elementary Object starting with b'e' @2065: b'3(h)-5.6843419e-12(e)30(t)-44(s)152(l)-46(e)49(d)84(n)27(i)-17(n)-6(g)]TJ\\n/P8F1 '\n",
      "Language detection failed for file /Users/kailashdejesushornig/Documents/GitHub/Policydokument/KaisProject/RegulatoryDocs/Grundutbildning/Föreskrift för utlandsstudier - stydokument 2.PDF: No features in text.\n",
      "Language detection failed for file /Users/kailashdejesushornig/Documents/GitHub/Policydokument/KaisProject/RegulatoryDocs/Grundutbildning/Föreskrift för att förebygga olovlig kopiering.PDF: No features in text.\n",
      "Error processing file /Users/kailashdejesushornig/Documents/GitHub/Policydokument/KaisProject/RegulatoryDocs/Grundutbildning/Riktlinjer för att avvecklavilandeläggaåteruppta utbildningsprogram.PDF: Invalid Elementary Object starting with b'e' @1757: b'33(n)8.8817842e-13(i)-47(n)-48(g)58(s)117(p)-3(r)-116(og)121(r)-113(a)103(m)]TJ\\n'\n",
      "Language detection failed for file /Users/kailashdejesushornig/Documents/GitHub/Policydokument/KaisProject/RegulatoryDocs/Grundutbildning/Beslut av rektor att fastställa uppdaterade riktlinjer för tillgodoräknande av kurser inom utbildningsprogram.PDF: No features in text.\n",
      "Language detection failed for file /Users/kailashdejesushornig/Documents/GitHub/Policydokument/KaisProject/RegulatoryDocs/HR/Reviderat beslut fattat av rektor gällande riktlinjer för lärares fortsatta engagemang vid Chalmers.PDF: No features in text.\n",
      "Swedish files: 91\n",
      "English files: 48\n",
      "Updated Swedish files: 97\n",
      "Swedish files: ['/Users/kailashdejesushornig/Documents/GitHub/Policydokument/KaisProject/RegulatoryDocs/Ekonomi/Chalmers riktlinje för representation_ver 240401.PDF', '/Users/kailashdejesushornig/Documents/GitHub/Policydokument/KaisProject/RegulatoryDocs/Ekonomi/Beslut fattat av Enhetschef Utbildningsstöd vid Student och Utbildningsavdelningen om ansökningsprocess för Erasmus+ bidrag för personalmobilitet..PDF', '/Users/kailashdejesushornig/Documents/GitHub/Policydokument/KaisProject/RegulatoryDocs/Ekonomi/Riktlinje om ekonomiskt ansvar för projektledare vid Chalmers.PDF', '/Users/kailashdejesushornig/Documents/GitHub/Policydokument/KaisProject/RegulatoryDocs/Ekonomi/Riktlinje för inköp och upphandling vid Chalmers tekniska högskola 211008.PDF', '/Users/kailashdejesushornig/Documents/GitHub/Policydokument/KaisProject/RegulatoryDocs/Forskarutbildning/C 2019-2201-1 Föreskrift för Chalmers hantering vid misstanke om allvarliga avvikelser.PDF', '/Users/kailashdejesushornig/Documents/GitHub/Policydokument/KaisProject/RegulatoryDocs/Forskarutbildning/Riktlinjer för jävsfrågor inom forskarutbildningen vid Chalmers tekniska högskola.PDF', '/Users/kailashdejesushornig/Documents/GitHub/Policydokument/KaisProject/RegulatoryDocs/Forskarutbildning/C 2019-2201-2 Riktlinje för Chalmers etik- och oredlighetskommitté - roll, arbetsform och organisation.PDF', '/Users/kailashdejesushornig/Documents/GitHub/Policydokument/KaisProject/RegulatoryDocs/Forskarutbildning/Föreskrifter avseende rätten till användning av undervisningsmaterial vid Chalmers tekniska högskola AB och Chalmers Professional Education AB.PDF', '/Users/kailashdejesushornig/Documents/GitHub/Policydokument/KaisProject/RegulatoryDocs/Forskarutbildning/C 2023-0759 Bilaga 1 Policy för kvalitetssäkring vid Chalmers tekniska högskola AB.PDF', '/Users/kailashdejesushornig/Documents/GitHub/Policydokument/KaisProject/RegulatoryDocs/Forskarutbildning/Lokal Examensordning för Chalmers tekniska högskola AB för examina på forskarnivå 1.1.PDF', '/Users/kailashdejesushornig/Documents/GitHub/Policydokument/KaisProject/RegulatoryDocs/Forskarutbildning/Beslut av rektor om prioriterad verksamhetsutveckling (PVU) 2024-2026.PDF', '/Users/kailashdejesushornig/Documents/GitHub/Policydokument/KaisProject/RegulatoryDocs/Forskarutbildning/Föreskrifter för stipendier för studenter inom Chalmers utbildningsprogram på grund- och avancerad nivå C 2019-0748.PDF', '/Users/kailashdejesushornig/Documents/GitHub/Policydokument/KaisProject/RegulatoryDocs/Forskarutbildning/Chalmers arbetsordning för forskarutbildning - gäller fr o m 2024-03-18.PDF', '/Users/kailashdejesushornig/Documents/GitHub/Policydokument/KaisProject/RegulatoryDocs/Grundutbildning/Riktlinje för överenskommelse mellan beställarorganisationen och utförare av grundutbildningen.PDF', '/Users/kailashdejesushornig/Documents/GitHub/Policydokument/KaisProject/RegulatoryDocs/Grundutbildning/C 2023-0581-1 Föreskrift för utlandsstudier (styrdokument) 1149427_2_1.PDF - kopia.PDF', '/Users/kailashdejesushornig/Documents/GitHub/Policydokument/KaisProject/RegulatoryDocs/Grundutbildning/Stipendieföreskrifter för avgiftsskyldiga studenter 2020.PDF', '/Users/kailashdejesushornig/Documents/GitHub/Policydokument/KaisProject/RegulatoryDocs/Grundutbildning/C 2019-2201-1 Föreskrift för Chalmers hantering vid misstanke om allvarliga avvikelser.PDF', '/Users/kailashdejesushornig/Documents/GitHub/Policydokument/KaisProject/RegulatoryDocs/Grundutbildning/Antagningsordning för grundutbildning, förutbildning samt fort- och vidareutbildning, läsåret 2024-25.PDF', '/Users/kailashdejesushornig/Documents/GitHub/Policydokument/KaisProject/RegulatoryDocs/Grundutbildning/Disciplinstadga för studenter vid Chalmers tekniska högskola - gäller fr o m 2019-09-26.PDF', '/Users/kailashdejesushornig/Documents/GitHub/Policydokument/KaisProject/RegulatoryDocs/Grundutbildning/C 2019-2201-2 Riktlinjer för Chalmers etik- och oredlighetskommitté - roll, arbetsform och organisation.PDF', '/Users/kailashdejesushornig/Documents/GitHub/Policydokument/KaisProject/RegulatoryDocs/Grundutbildning/Föreskrifter avseende rätten till användning av undervisningsmaterial vid Chalmers tekniska högskola AB och Chalmers Professional Education AB.PDF', '/Users/kailashdejesushornig/Documents/GitHub/Policydokument/KaisProject/RegulatoryDocs/Grundutbildning/Föreskrift om former för samverkan med studenter om arbetsmiljö och likabehandling.PDF', '/Users/kailashdejesushornig/Documents/GitHub/Policydokument/KaisProject/RegulatoryDocs/Grundutbildning/C 2023-0759 Bilaga 1 Policy för kvalitetssäkring vid Chalmers tekniska högskola AB.PDF', '/Users/kailashdejesushornig/Documents/GitHub/Policydokument/KaisProject/RegulatoryDocs/Grundutbildning/C 2023-0814-1 Föreskrift för lokal examensordning för examina på grundnivå och avancerad nivå.PDF', '/Users/kailashdejesushornig/Documents/GitHub/Policydokument/KaisProject/RegulatoryDocs/Grundutbildning/Digitaliseringsstrategi för utbildning på grund- och avancerad nivå.PDF', '/Users/kailashdejesushornig/Documents/GitHub/Policydokument/KaisProject/RegulatoryDocs/Grundutbildning/Strategi för integrering av jämställdhet, likabehandling och mångfald i Chalmers grundutbildning.PDF', '/Users/kailashdejesushornig/Documents/GitHub/Policydokument/KaisProject/RegulatoryDocs/Grundutbildning/Arbetsordning för Chalmers utbildning på grund- och avancerad nivå.PDF', '/Users/kailashdejesushornig/Documents/GitHub/Policydokument/KaisProject/RegulatoryDocs/Grundutbildning/C 2023-0357 Föreskrifter för kandidatarbete på Chalmers civilingenjörsprogram från våren 2023.PDF', '/Users/kailashdejesushornig/Documents/GitHub/Policydokument/KaisProject/RegulatoryDocs/Grundutbildning/Riktlinjer för att inrätta nytt utbildningsprogram.PDF', '/Users/kailashdejesushornig/Documents/GitHub/Policydokument/KaisProject/RegulatoryDocs/Grundutbildning/C 2021-1625 Riktlinjer för programbeskrivningar.PDF', '/Users/kailashdejesushornig/Documents/GitHub/Policydokument/KaisProject/RegulatoryDocs/Grundutbildning/Matris över ackreditering, förtur (platsgaranti) till den lokala antagningsomgången för Chalmersvalet till masterprogram läsåret 2023-24.PDF', '/Users/kailashdejesushornig/Documents/GitHub/Policydokument/KaisProject/RegulatoryDocs/Grundutbildning/Enhetschef Utbildningsstöd vid SoU beslutar om två ansökningsomgångar för Erasmus+ praktikstipendium from 2024.PDF', '/Users/kailashdejesushornig/Documents/GitHub/Policydokument/KaisProject/RegulatoryDocs/Grundutbildning/Riktlinjer för kompensatoriskt stöd för studenter med funktionsnedsättning.PDF', '/Users/kailashdejesushornig/Documents/GitHub/Policydokument/KaisProject/RegulatoryDocs/Grundutbildning/Föreskrift för planering av kurs och genomförande av examination på förutbildningsnivå, grundnivå och avancerad nivå.PDF', '/Users/kailashdejesushornig/Documents/GitHub/Policydokument/KaisProject/RegulatoryDocs/Grundutbildning/Föreskrift för utlandsstudier (styrdokument) 1.PDF', '/Users/kailashdejesushornig/Documents/GitHub/Policydokument/KaisProject/RegulatoryDocs/Grundutbildning/C 2023-0982-1 Riktlinje för uppdragsutbildning 1131397_2_1-1.PDF', '/Users/kailashdejesushornig/Documents/GitHub/Policydokument/KaisProject/RegulatoryDocs/Grundutbildning/Riktlinjer för studentinflytande rev 2021_09-27.PDF', '/Users/kailashdejesushornig/Documents/GitHub/Policydokument/KaisProject/RegulatoryDocs/Grundutbildning/Antagningsordning för grundutbildning, förutbildning samt fort- och vidareutbildning, läsåret 2023-24.PDF', '/Users/kailashdejesushornig/Documents/GitHub/Policydokument/KaisProject/RegulatoryDocs/Grundutbildning/C 2023-0890 Prioriterad verksamhetsutveckling 2024-2026.PDF', '/Users/kailashdejesushornig/Documents/GitHub/Policydokument/KaisProject/RegulatoryDocs/Grundutbildning/Föreskrifter för stipendier för studenter inom Chalmers utbildningsprogram på grund- och avancerad nivå C 2019-0748.PDF', '/Users/kailashdejesushornig/Documents/GitHub/Policydokument/KaisProject/RegulatoryDocs/Grundutbildning/Kurskoder, ackrediteringar och förtur (platsgaranti) till den lokala antagningsomgången för Chalmersvalet till masterprogram, läsåret 2023-24.PDF', '/Users/kailashdejesushornig/Documents/GitHub/Policydokument/KaisProject/RegulatoryDocs/Grundutbildning/C2021-0696 Riktlinje handläggning av disciplinärenden 2021-05-19.PDF', '/Users/kailashdejesushornig/Documents/GitHub/Policydokument/KaisProject/RegulatoryDocs/Arbetsmiljö/C 2022-0879 Föreskrift för strålsäkerhet och kärnteknisk verksamhet vid Chalmers slutlig.PDF', '/Users/kailashdejesushornig/Documents/GitHub/Policydokument/KaisProject/RegulatoryDocs/Arbetsmiljö/Policy för arbetsmiljö 2022-2024.PDF', '/Users/kailashdejesushornig/Documents/GitHub/Policydokument/KaisProject/RegulatoryDocs/Beslut/C 2022-1679_Riktlinje för centrum vid Chalmers.PDF', '/Users/kailashdejesushornig/Documents/GitHub/Policydokument/KaisProject/RegulatoryDocs/Beslut/C 2021-0953 Styrdokument Riktlinje Distansarbete 999080_1_0.PDF', '/Users/kailashdejesushornig/Documents/GitHub/Policydokument/KaisProject/RegulatoryDocs/Beslut/Bilaga 1 C 2022-0881 Riktlinjer om åtgärder vid missförhållanden av allmänintresse samt övriga upptäckta eller misstänkta oegentligheter v2.PDF', '/Users/kailashdejesushornig/Documents/GitHub/Policydokument/KaisProject/RegulatoryDocs/Beslut/C2023-0615 Riktlinje God forskning v2023-05.PDF', '/Users/kailashdejesushornig/Documents/GitHub/Policydokument/KaisProject/RegulatoryDocs/Beslut/Riktlinjer för studentinflytande rev 2021_09-27.PDF', '/Users/kailashdejesushornig/Documents/GitHub/Policydokument/KaisProject/RegulatoryDocs/Beslut/C 2021-1259 Föreskrifter för sociala medier där Chalmers är avsändare.PDF', '/Users/kailashdejesushornig/Documents/GitHub/Policydokument/KaisProject/RegulatoryDocs/Beslut/C 2023-0890 Prioriterad verksamhetsutveckling 2024-2026.PDF', '/Users/kailashdejesushornig/Documents/GitHub/Policydokument/KaisProject/RegulatoryDocs/HR/Föreskrift om repatrieringsbidrag för avgående prefekter kopplat till fakultetsmodellen.PDF', '/Users/kailashdejesushornig/Documents/GitHub/Policydokument/KaisProject/RegulatoryDocs/HR/Chalmers friskvårdspolicy.PDF', '/Users/kailashdejesushornig/Documents/GitHub/Policydokument/KaisProject/RegulatoryDocs/HR/Föreskrift för användning av tjänstebenämningar.PDF', '/Users/kailashdejesushornig/Documents/GitHub/Policydokument/KaisProject/RegulatoryDocs/HR/Riktlinje för institutionsråd vid Chalmers tekniska högskola bilaga 1 till C 2021-0618.PDF', '/Users/kailashdejesushornig/Documents/GitHub/Policydokument/KaisProject/RegulatoryDocs/HR/Riktlinjer för personalrekrytering.PDF', '/Users/kailashdejesushornig/Documents/GitHub/Policydokument/KaisProject/RegulatoryDocs/HR/C 2021-0953 Styrdokument Riktlinje Distansarbete 999080_1_0.PDF', '/Users/kailashdejesushornig/Documents/GitHub/Policydokument/KaisProject/RegulatoryDocs/HR/Föräldrapolicy.PDF', '/Users/kailashdejesushornig/Documents/GitHub/Policydokument/KaisProject/RegulatoryDocs/HR/Bilaga 1 till C 2018 0262 Föreskrift för Chalmers delegationsordning (1).PDF', '/Users/kailashdejesushornig/Documents/GitHub/Policydokument/KaisProject/RegulatoryDocs/HR/Riktlinjer_för_chefs och ledarrekryteringar rev aug 2018.pdf.PDF', '/Users/kailashdejesushornig/Documents/GitHub/Policydokument/KaisProject/RegulatoryDocs/HR/Chalmers riktlinjer för tillämpning av delpensionsavtalet.PDF', '/Users/kailashdejesushornig/Documents/GitHub/Policydokument/KaisProject/RegulatoryDocs/HR/Beslut fattat av Enhetschef Utbildningsstöd vid Student och Utbildningsavdelningen om ansökningsprocess för Erasmus+ bidrag för personalmobilitet.PDF', '/Users/kailashdejesushornig/Documents/GitHub/Policydokument/KaisProject/RegulatoryDocs/HR/Föreskrift avseende alkohol och droger vid Chalmers.PDF', '/Users/kailashdejesushornig/Documents/GitHub/Policydokument/KaisProject/RegulatoryDocs/HR/Beslut fattat av rektor att införa styrdokumentet Chalmers Code of Conduct.PDF', '/Users/kailashdejesushornig/Documents/GitHub/Policydokument/KaisProject/RegulatoryDocs/HR/Ledarskapspolicy reviderad 2023-04-12.PDF', '/Users/kailashdejesushornig/Documents/GitHub/Policydokument/KaisProject/RegulatoryDocs/HR/Riktlinjer och process för rekrytering och utvärdering av forskarassistenter reviderad 2023-03-01.PDF', '/Users/kailashdejesushornig/Documents/GitHub/Policydokument/KaisProject/RegulatoryDocs/HR/Föreskrift för bisysslor för anställda vid Chalmers tekniska högskola AB.PDF', '/Users/kailashdejesushornig/Documents/GitHub/Policydokument/KaisProject/RegulatoryDocs/HR/Reviderad föreskrift för uppdragstillägg.PDF', '/Users/kailashdejesushornig/Documents/GitHub/Policydokument/KaisProject/RegulatoryDocs/HR/Föreskrift för att systematiskt uppmärksamma, förebygga och hantera kränkande särbehandling.PDF', '/Users/kailashdejesushornig/Documents/GitHub/Policydokument/KaisProject/RegulatoryDocs/HR/Chalmers riktlinje för representation ver 240401.PDF', '/Users/kailashdejesushornig/Documents/GitHub/Policydokument/KaisProject/RegulatoryDocs/HR/C 2020-0962 Särskilda riktlinjer för institutionernas involvering vid rekrytering.PDF', '/Users/kailashdejesushornig/Documents/GitHub/Policydokument/KaisProject/RegulatoryDocs/HR/Riktlinjer för tjänstebefattningar, karriärväg och rekrytering av teknisk personal vid Chalmers.PDF', '/Users/kailashdejesushornig/Documents/GitHub/Policydokument/KaisProject/RegulatoryDocs/HR/Alkohol- och drogpolicy.PDF', '/Users/kailashdejesushornig/Documents/GitHub/Policydokument/KaisProject/RegulatoryDocs/HR/Bilaga till riktlinjer_exempel på rekryteringsgrupper_rev aug 2018.PDF', '/Users/kailashdejesushornig/Documents/GitHub/Policydokument/KaisProject/RegulatoryDocs/Arbetsordning/Chalmers arbetsordning för forskarutbildning.PDF', '/Users/kailashdejesushornig/Documents/GitHub/Policydokument/KaisProject/RegulatoryDocs/Arbetsordning/C 2023-0548 Chalmers arbetsordning för undervisande och forskande personal reviderad 2023-05-01.PDF', '/Users/kailashdejesushornig/Documents/GitHub/Policydokument/KaisProject/RegulatoryDocs/Arbetsordning/Arbetsordning för Chalmers utbildning på grund- och avancerad nivå.PDF', '/Users/kailashdejesushornig/Documents/GitHub/Policydokument/KaisProject/RegulatoryDocs/Arbetsordning/Chalmers arbetsordning för undervisande och forskande personal, reviderad 2024-06-19.PDF', '/Users/kailashdejesushornig/Documents/GitHub/Policydokument/KaisProject/RegulatoryDocs/Arbetsordning/Reviderad arbetsordning för disciplinnämnden vid Chalmers tekniska högskola - gäller fr o m 2019-09-10.PDF', '/Users/kailashdejesushornig/Documents/GitHub/Policydokument/KaisProject/RegulatoryDocs/Forskning/Riktlinjer för Chalmers styrkeområden.PDF', '/Users/kailashdejesushornig/Documents/GitHub/Policydokument/KaisProject/RegulatoryDocs/Forskning/C 2019-2201-1 Föreskrift för Chalmers hantering vid misstanke om allvarliga avvikelser.PDF', \"/Users/kailashdejesushornig/Documents/GitHub/Policydokument/KaisProject/RegulatoryDocs/Forskning/C2020-0728 Riktlinje för finansiering av patent med Chalmers som medelsförvaltare 200910'.PDF\", '/Users/kailashdejesushornig/Documents/GitHub/Policydokument/KaisProject/RegulatoryDocs/Forskning/Föreskrifter för stipendier för studenter inom Chalmers utbildningsprogram på grund- och avancerad nivå.PDF', '/Users/kailashdejesushornig/Documents/GitHub/Policydokument/KaisProject/RegulatoryDocs/Forskning/C 2019-2201-2 Riktlinjer för Chalmers etik- och oredlighetskommitté - roll, arbetsform och organisation.PDF', '/Users/kailashdejesushornig/Documents/GitHub/Policydokument/KaisProject/RegulatoryDocs/Forskning/C 2023-0759 Bilaga 1 Policy för kvalitetssäkring vid Chalmers tekniska högskola AB.PDF', '/Users/kailashdejesushornig/Documents/GitHub/Policydokument/KaisProject/RegulatoryDocs/Forskning/C 2023-0548 Chalmers arbetsordning för undervisande och forskande personal reviderad 2023-05-01.PDF', '/Users/kailashdejesushornig/Documents/GitHub/Policydokument/KaisProject/RegulatoryDocs/Forskning/Chalmers arbetsordning för undervisande och forskande personal, reviderad 2024-06-19.PDF', '/Users/kailashdejesushornig/Documents/GitHub/Policydokument/KaisProject/RegulatoryDocs/Forskning/C2023-0615 Riktlinje God forskning v2023-05.PDF', '/Users/kailashdejesushornig/Documents/GitHub/Policydokument/KaisProject/RegulatoryDocs/Forskning/Riktlinje för Chalmers samverkan med externa organisationer C 2023-0736.PDF', '/Users/kailashdejesushornig/Documents/GitHub/Policydokument/KaisProject/RegulatoryDocs/Forskning/Policy för Chalmers hållning avseende immateriella rättigheter för tillgångar skapade vid Chalmers - Intellectual property (IP) policy at Chalmers.PDF', '/Users/kailashdejesushornig/Documents/GitHub/Policydokument/KaisProject/RegulatoryDocs/Forskning/C 2023-0890 Prioriterad verksamhetsutveckling 2024-2026.PDF', '/Users/kailashdejesushornig/Documents/GitHub/Policydokument/KaisProject/RegulatoryDocs/Forskarutbildning/Beslut av prorektor Charlotte Wiberg om riktlinjer för hybriddisputationer.PDF', '/Users/kailashdejesushornig/Documents/GitHub/Policydokument/KaisProject/RegulatoryDocs/Grundutbildning/Föreskrift för utlandsstudier - stydokument 2.PDF', '/Users/kailashdejesushornig/Documents/GitHub/Policydokument/KaisProject/RegulatoryDocs/Grundutbildning/Föreskrift för att förebygga olovlig kopiering.PDF', '/Users/kailashdejesushornig/Documents/GitHub/Policydokument/KaisProject/RegulatoryDocs/Grundutbildning/Riktlinjer för att avvecklavilandeläggaåteruppta utbildningsprogram.PDF', '/Users/kailashdejesushornig/Documents/GitHub/Policydokument/KaisProject/RegulatoryDocs/Grundutbildning/Beslut av rektor att fastställa uppdaterade riktlinjer för tillgodoräknande av kurser inom utbildningsprogram.PDF', '/Users/kailashdejesushornig/Documents/GitHub/Policydokument/KaisProject/RegulatoryDocs/HR/Reviderat beslut fattat av rektor gällande riktlinjer för lärares fortsatta engagemang vid Chalmers.PDF']\n",
      "English files: ['/Users/kailashdejesushornig/Documents/GitHub/Policydokument/KaisProject/RegulatoryDocs/Ekonomi/Guiding principle for financial responsibility for project managers at Chalmers.PDF', '/Users/kailashdejesushornig/Documents/GitHub/Policydokument/KaisProject/RegulatoryDocs/Forskarutbildning/Prioritised Operational Development (PVU) 2024-2026 English translation.PDF', '/Users/kailashdejesushornig/Documents/GitHub/Policydokument/KaisProject/RegulatoryDocs/Forskarutbildning/C 2023-0759 Bilaga 2 Quality Assurance Policy at Chalmers University of Technology.PDF', '/Users/kailashdejesushornig/Documents/GitHub/Policydokument/KaisProject/RegulatoryDocs/Forskarutbildning/Chalmers rules of procedure for doctoral studies - applies from 2024-03-18.PDF', '/Users/kailashdejesushornig/Documents/GitHub/Policydokument/KaisProject/RegulatoryDocs/Forskarutbildning/Translation of Local Qualifications Framework for Chalmers University of Technology Third Cycle 1.1.PDF', '/Users/kailashdejesushornig/Documents/GitHub/Policydokument/KaisProject/RegulatoryDocs/Forskarutbildning/Regulations for scholarships for students within Chalmers education program at undergraduate and graduate level C2019-0748.PDF', '/Users/kailashdejesushornig/Documents/GitHub/Policydokument/KaisProject/RegulatoryDocs/Grundutbildning/Scholarship regulations 2020.PDF', '/Users/kailashdejesushornig/Documents/GitHub/Policydokument/KaisProject/RegulatoryDocs/Grundutbildning/Guidelines for student influence at Chalmers.PDF', '/Users/kailashdejesushornig/Documents/GitHub/Policydokument/KaisProject/RegulatoryDocs/Grundutbildning/C 2023-0759 Bilaga 2 Quality Assurance Policy at Chalmers University of Technology.PDF', '/Users/kailashdejesushornig/Documents/GitHub/Policydokument/KaisProject/RegulatoryDocs/Grundutbildning/Regulations for planning courses and holding examinations at pre-university, first cycle and second cycle levels, C 2023-0875.PDF', '/Users/kailashdejesushornig/Documents/GitHub/Policydokument/KaisProject/RegulatoryDocs/Grundutbildning/C2021-0696 Guidelines for processing with disciplinary matters.PDF', '/Users/kailashdejesushornig/Documents/GitHub/Policydokument/KaisProject/RegulatoryDocs/Grundutbildning/Guidelines for phasing outdormantresuming education programmes.PDF', \"/Users/kailashdejesushornig/Documents/GitHub/Policydokument/KaisProject/RegulatoryDocs/Grundutbildning/Appointment regulation for first cycle and second cycle education (undergraduate and master's education) at Chalmers.PDF\", '/Users/kailashdejesushornig/Documents/GitHub/Policydokument/KaisProject/RegulatoryDocs/Grundutbildning/Strategy for integration of equality, inclusion and diversity in Chalmers undergraduate and master’s education.PDF', '/Users/kailashdejesushornig/Documents/GitHub/Policydokument/KaisProject/RegulatoryDocs/Grundutbildning/C 2023-0890 Prioritised Operational Development 2024-2026_EN.PDF', '/Users/kailashdejesushornig/Documents/GitHub/Policydokument/KaisProject/RegulatoryDocs/Grundutbildning/Rules of discipline for students at Chalmers tekniska högskola - applies from 2019-09-26.PDF', '/Users/kailashdejesushornig/Documents/GitHub/Policydokument/KaisProject/RegulatoryDocs/Grundutbildning/Guidelines for setting up new education programme.PDF', '/Users/kailashdejesushornig/Documents/GitHub/Policydokument/KaisProject/RegulatoryDocs/Grundutbildning/C 2023-0581-1 Bilaga 1 till Föreskrift för utlandsstudier 1149428_2_1.PDF - kopia.PDF', '/Users/kailashdejesushornig/Documents/GitHub/Policydokument/KaisProject/RegulatoryDocs/Grundutbildning/Bilaga 1 till Föreskrift för utlandsstudier.PDF', \"/Users/kailashdejesushornig/Documents/GitHub/Policydokument/KaisProject/RegulatoryDocs/Grundutbildning/C 2023-0357 Regulation for bachelor's theses at Chalmers MSc in engineering programmes from spring 2023.PDF\", '/Users/kailashdejesushornig/Documents/GitHub/Policydokument/KaisProject/RegulatoryDocs/Grundutbildning/Translation of Admission Regulations, Academic year 2023-24.PDF', '/Users/kailashdejesushornig/Documents/GitHub/Policydokument/KaisProject/RegulatoryDocs/Grundutbildning/Regulations for studies abroad (translation of policy document).PDF', '/Users/kailashdejesushornig/Documents/GitHub/Policydokument/KaisProject/RegulatoryDocs/Grundutbildning/Regulation for the Local Qualifications Framework for First and Second Cycle Qualifications.PDF', '/Users/kailashdejesushornig/Documents/GitHub/Policydokument/KaisProject/RegulatoryDocs/Grundutbildning/Guidelines on contract education and other paid education.PDF', '/Users/kailashdejesushornig/Documents/GitHub/Policydokument/KaisProject/RegulatoryDocs/Grundutbildning/Regulations for scholarships for students within Chalmers education program at undergraduate and graduate level C2019-0748.PDF', '/Users/kailashdejesushornig/Documents/GitHub/Policydokument/KaisProject/RegulatoryDocs/Arbetsmiljö/Work environment policy 2022-2024.PDF', '/Users/kailashdejesushornig/Documents/GitHub/Policydokument/KaisProject/RegulatoryDocs/Beslut/Prioritised Operational Development (PVU) 2024-2026 English translation.PDF', '/Users/kailashdejesushornig/Documents/GitHub/Policydokument/KaisProject/RegulatoryDocs/HR/C 2023 1732 Alcohol and Drugs Policy_ENG.PDF', '/Users/kailashdejesushornig/Documents/GitHub/Policydokument/KaisProject/RegulatoryDocs/HR/Guiding principle for departmental advisory teams bilaga 1 till C 2021-0618_engelska.PDF', '/Users/kailashdejesushornig/Documents/GitHub/Policydokument/KaisProject/RegulatoryDocs/HR/Guidelines for remote work.PDF', '/Users/kailashdejesushornig/Documents/GitHub/Policydokument/KaisProject/RegulatoryDocs/HR/Guidelines for positions, career paths and recruitment of technical staff at Chalmers.PDF', '/Users/kailashdejesushornig/Documents/GitHub/Policydokument/KaisProject/RegulatoryDocs/HR/Guidelines and Process for Recruiting and Assessing Assistant Professors revised 2023-03-01.PDF', '/Users/kailashdejesushornig/Documents/GitHub/Policydokument/KaisProject/RegulatoryDocs/HR/Regulations for sidelines for employees of Chalmers University of Technology C 2023-1764.PDF', '/Users/kailashdejesushornig/Documents/GitHub/Policydokument/KaisProject/RegulatoryDocs/Arbetsordning/Chalmers rules of procedure for doctoral studies.PDF', \"/Users/kailashdejesushornig/Documents/GitHub/Policydokument/KaisProject/RegulatoryDocs/Arbetsordning/Appointment regulation for first cycle and second cycle education (undergraduate and master's education) at Chalmers.PDF\", '/Users/kailashdejesushornig/Documents/GitHub/Policydokument/KaisProject/RegulatoryDocs/Arbetsordning/Rules of Procedure - Chalmers University of Technologys Appointment Regulations for Teaching and Research Faculty revised 2024-06-19.PDF', '/Users/kailashdejesushornig/Documents/GitHub/Policydokument/KaisProject/RegulatoryDocs/Arbetsordning/Rules of Procedure - Appointment Regulations for Teaching and Research Faculty revised 2023-05-01.PDF', \"/Users/kailashdejesushornig/Documents/GitHub/Policydokument/KaisProject/RegulatoryDocs/Arbetsordning/Rules of Procedure - Chalmers University of Technology's Appointment Regulations for Teaching and Research Faculty, revised 2024-06-19.PDF\", '/Users/kailashdejesushornig/Documents/GitHub/Policydokument/KaisProject/RegulatoryDocs/Forskning/Prioritised Operational Development (PVU) 2024-2026 English translation.PDF', '/Users/kailashdejesushornig/Documents/GitHub/Policydokument/KaisProject/RegulatoryDocs/Forskning/C 2023-0759 Bilaga 2 Quality Assurance Policy at Chalmers University of Technology.PDF', '/Users/kailashdejesushornig/Documents/GitHub/Policydokument/KaisProject/RegulatoryDocs/Forskning/C2023-0615 Guiding principle for good research practice.PDF', '/Users/kailashdejesushornig/Documents/GitHub/Policydokument/KaisProject/RegulatoryDocs/Forskning/C2020-1979 Policy Forskningsinfrastruktur Chalmers FINAL.PDF', '/Users/kailashdejesushornig/Documents/GitHub/Policydokument/KaisProject/RegulatoryDocs/Forskning/C2020-0728 ENG version - Riktlinje för finansiering av patent med Chalmers som medelsförvaltare.PDF', '/Users/kailashdejesushornig/Documents/GitHub/Policydokument/KaisProject/RegulatoryDocs/Forskning/Rules of Procedure - Chalmers University of Technologys Appointment Regulations for Teaching and Research Faculty revised 2024-06-19 4.PDF', '/Users/kailashdejesushornig/Documents/GitHub/Policydokument/KaisProject/RegulatoryDocs/Forskning/Rules of Procedure - Chalmers University of Technologys Appointment Regulations for Teaching and Research Faculty revised 2024-06-19 3.PDF', '/Users/kailashdejesushornig/Documents/GitHub/Policydokument/KaisProject/RegulatoryDocs/Forskning/C 2023-0548 Rules of Procedure -Chalmers University of Technologys Appointment Regulations for Teaching and Research Faculty revised 2023-05-01.PDF', '/Users/kailashdejesushornig/Documents/GitHub/Policydokument/KaisProject/RegulatoryDocs/Forskning/Regulations for scholarships for students within Chalmers education program at undergraduate and graduate level C2019-0748.PDF', '/Users/kailashdejesushornig/Documents/GitHub/Policydokument/KaisProject/RegulatoryDocs/Forskning/C2020-1979 Riktlinjer Forskningsinfrastruktur Chalmers FINAL.PDF']\n"
     ]
    }
   ],
   "source": [
    "import os\n",
    "from PyPDF2 import PdfReader\n",
    "from langdetect import detect, LangDetectException\n",
    "\n",
    "# Lists to store Swedish and English file paths\n",
    "swedish_files = []\n",
    "english_files = []\n",
    "\n",
    "# Function to extract text from a single PDF file\n",
    "def extract_text_from_pdf(pdf_path):\n",
    "    text = \"\"\n",
    "    reader = PdfReader(pdf_path)\n",
    "    for page in reader.pages:\n",
    "        text += page.extract_text()\n",
    "    return text\n",
    "\n",
    "# Function to classify file based on content\n",
    "def classify_file_by_content(file_path):\n",
    "    try:\n",
    "        text = extract_text_from_pdf(file_path)\n",
    "        language = detect(text)\n",
    "        if language == 'sv':\n",
    "            swedish_files.append(file_path)\n",
    "        elif language == 'en':\n",
    "            english_files.append(file_path)\n",
    "    except LangDetectException as e:\n",
    "        print(f\"Language detection failed for file {file_path}: {e}\")\n",
    "    except Exception as e:\n",
    "        print(f\"Error processing file {file_path}: {e}\")\n",
    "\n",
    "# Classify all files in the list by content\n",
    "for file_path in policy_file_paths:\n",
    "    classify_file_by_content(file_path)\n",
    "\n",
    "print(\"Swedish files:\", len(swedish_files))\n",
    "print(\"English files:\", len(english_files))\n",
    "\n",
    "# Manual handling of failed docs or errors (do å,ä,ö cause issues?)\n",
    "# - Invalid Elementary Object starting with b'e' @2065: b'3(h)-5.6843419e-12(e)30(t)-44(s)152(l)-46(e)49(d)84(n)27(i)-17(n)-6(g)]TJ\\n/P8F1 \n",
    "# No features in text.\n",
    "swedish_files.append('/Users/kailashdejesushornig/Documents/GitHub/Policydokument/KaisProject/RegulatoryDocs/Forskarutbildning/Beslut av prorektor Charlotte Wiberg om riktlinjer för hybriddisputationer.PDF')\n",
    "swedish_files.append('/Users/kailashdejesushornig/Documents/GitHub/Policydokument/KaisProject/RegulatoryDocs/Grundutbildning/Föreskrift för utlandsstudier - stydokument 2.PDF')\n",
    "swedish_files.append('/Users/kailashdejesushornig/Documents/GitHub/Policydokument/KaisProject/RegulatoryDocs/Grundutbildning/Föreskrift för att förebygga olovlig kopiering.PDF')\n",
    "swedish_files.append('/Users/kailashdejesushornig/Documents/GitHub/Policydokument/KaisProject/RegulatoryDocs/Grundutbildning/Riktlinjer för att avvecklavilandeläggaåteruppta utbildningsprogram.PDF')\n",
    "swedish_files.append('/Users/kailashdejesushornig/Documents/GitHub/Policydokument/KaisProject/RegulatoryDocs/Grundutbildning/Beslut av rektor att fastställa uppdaterade riktlinjer för tillgodoräknande av kurser inom utbildningsprogram.PDF')\n",
    "swedish_files.append('/Users/kailashdejesushornig/Documents/GitHub/Policydokument/KaisProject/RegulatoryDocs/HR/Reviderat beslut fattat av rektor gällande riktlinjer för lärares fortsatta engagemang vid Chalmers.PDF')\n",
    "\n",
    "print(\"Updated Swedish files:\", len(swedish_files))\n",
    "\n",
    "# Output the classified lists\n",
    "print(\"Swedish files:\", swedish_files)\n",
    "print(\"English files:\", english_files)"
   ]
  },
  {
   "cell_type": "markdown",
   "metadata": {},
   "source": [
    "# Further investigate the policy data set"
   ]
  },
  {
   "cell_type": "code",
   "execution_count": 16,
   "metadata": {},
   "outputs": [
    {
     "name": "stdout",
     "output_type": "stream",
     "text": [
      "{'swedish_count': 96, 'english_count': 42, 'other_count': 7, 'swedish_ratio': 0.6620689655172414, 'english_ratio': 0.2896551724137931}\n"
     ]
    }
   ],
   "source": [
    "# Language detection based on names alone (mediocre results, but good enough for now)\n",
    "def detect_language(text):\n",
    "    try:\n",
    "        return detect(text)\n",
    "    except LangDetectException:\n",
    "        return \"unknown\"\n",
    "    \n",
    "def calculate_language_ratio(documents):\n",
    "    swedish_count = 0\n",
    "    english_count = 0\n",
    "    other_count = 0\n",
    "\n",
    "\n",
    "    for doc in documents:\n",
    "        language = detect_language(doc)\n",
    "#Idea: split the set into SWE and ENG \n",
    "\n",
    "        if language == 'sv':  # Swedish language code\n",
    "            swedish_count += 1\n",
    "        elif language == 'en':  # English language code\n",
    "            english_count += 1\n",
    "        else:\n",
    "            other_count += 1\n",
    "\n",
    "    total = swedish_count + english_count + other_count\n",
    "    if total == 0:\n",
    "        return \"No documents to analyze.\"\n",
    "\n",
    "    swedish_ratio = swedish_count / total\n",
    "    english_ratio = english_count / total\n",
    "\n",
    "    return {\n",
    "        'swedish_count': swedish_count,\n",
    "        'english_count': english_count,\n",
    "        'other_count': other_count,\n",
    "        'swedish_ratio': swedish_ratio,\n",
    "        'english_ratio': english_ratio\n",
    "    }\n",
    "\n",
    "ratios = calculate_language_ratio(policy_file_names)\n",
    "print(ratios)"
   ]
  },
  {
   "cell_type": "markdown",
   "metadata": {},
   "source": [
    "# *Word cloud and frequency (currently running into some SSL certificate errors -.-)"
   ]
  },
  {
   "cell_type": "code",
   "execution_count": 40,
   "metadata": {},
   "outputs": [
    {
     "name": "stderr",
     "output_type": "stream",
     "text": [
      "[nltk_data] Error loading stopwords: <urlopen error [SSL:\n",
      "[nltk_data]     CERTIFICATE_VERIFY_FAILED] certificate verify failed:\n",
      "[nltk_data]     unable to get local issuer certificate (_ssl.c:1000)>\n"
     ]
    },
    {
     "name": "stdout",
     "output_type": "stream",
     "text": [
      "['/Users/kailashdejesushornig/nltk_data', '/Library/Frameworks/Python.framework/Versions/3.12/nltk_data', '/Library/Frameworks/Python.framework/Versions/3.12/share/nltk_data', '/Library/Frameworks/Python.framework/Versions/3.12/lib/nltk_data', '/usr/share/nltk_data', '/usr/local/share/nltk_data', '/usr/lib/nltk_data', '/usr/local/lib/nltk_data', '/Users/kailashdejesushornig/Documents/GitHub/Policydokument/KaisProject/stopwords']\n",
      "['/Users/kailashdejesushornig/nltk_data', '/Library/Frameworks/Python.framework/Versions/3.12/nltk_data', '/Library/Frameworks/Python.framework/Versions/3.12/share/nltk_data', '/Library/Frameworks/Python.framework/Versions/3.12/lib/nltk_data', '/usr/share/nltk_data', '/usr/local/share/nltk_data', '/usr/lib/nltk_data', '/usr/local/lib/nltk_data', '/Users/kailashdejesushornig/Documents/GitHub/Policydokument/KaisProject/stopwords', '/Users/kailashdejesushornig/Documents/GitHub/Policydokument/KaisProject/nltk_data']\n"
     ]
    },
    {
     "ename": "LookupError",
     "evalue": "\n**********************************************************************\n  Resource \u001b[93mpunkt\u001b[0m not found.\n  Please use the NLTK Downloader to obtain the resource:\n\n  \u001b[31m>>> import nltk\n  >>> nltk.download('punkt')\n  \u001b[0m\n  For more information see: https://www.nltk.org/data.html\n\n  Attempted to load \u001b[93mtokenizers/punkt/PY3/english.pickle\u001b[0m\n\n  Searched in:\n    - '/Users/kailashdejesushornig/nltk_data'\n    - '/Library/Frameworks/Python.framework/Versions/3.12/nltk_data'\n    - '/Library/Frameworks/Python.framework/Versions/3.12/share/nltk_data'\n    - '/Library/Frameworks/Python.framework/Versions/3.12/lib/nltk_data'\n    - '/usr/share/nltk_data'\n    - '/usr/local/share/nltk_data'\n    - '/usr/lib/nltk_data'\n    - '/usr/local/lib/nltk_data'\n    - '/Users/kailashdejesushornig/Documents/GitHub/Policydokument/KaisProject/stopwords'\n    - '/Users/kailashdejesushornig/Documents/GitHub/Policydokument/KaisProject/nltk_data'\n    - ''\n**********************************************************************\n",
     "output_type": "error",
     "traceback": [
      "\u001b[0;31m---------------------------------------------------------------------------\u001b[0m",
      "\u001b[0;31mLookupError\u001b[0m                               Traceback (most recent call last)",
      "Cell \u001b[0;32mIn[40], line 62\u001b[0m\n\u001b[1;32m     59\u001b[0m \u001b[38;5;28;01mfor\u001b[39;00m pdf_path \u001b[38;5;129;01min\u001b[39;00m english_files:\n\u001b[1;32m     60\u001b[0m     all_text \u001b[38;5;241m+\u001b[39m\u001b[38;5;241m=\u001b[39m extract_text_from_pdf(pdf_path)\n\u001b[0;32m---> 62\u001b[0m word_freq \u001b[38;5;241m=\u001b[39m \u001b[43mget_word_frequencies\u001b[49m\u001b[43m(\u001b[49m\u001b[43mall_text\u001b[49m\u001b[43m)\u001b[49m\n\u001b[1;32m     63\u001b[0m create_word_cloud(word_freq)\n",
      "Cell \u001b[0;32mIn[40], line 35\u001b[0m, in \u001b[0;36mget_word_frequencies\u001b[0;34m(text)\u001b[0m\n\u001b[1;32m     32\u001b[0m \u001b[38;5;28;01mdef\u001b[39;00m \u001b[38;5;21mget_word_frequencies\u001b[39m(text):\n\u001b[1;32m     33\u001b[0m     \u001b[38;5;66;03m# stop_words = set(stopwords.words('english')) # original installation\u001b[39;00m\n\u001b[1;32m     34\u001b[0m     stop_words \u001b[38;5;241m=\u001b[39m \u001b[38;5;28mset\u001b[39m(\u001b[38;5;124m'\u001b[39m\u001b[38;5;124m/Users/kailashdejesushornig/Documents/GitHub/Policydokument/KaisProject/stopwords/english\u001b[39m\u001b[38;5;124m'\u001b[39m) \u001b[38;5;66;03m# manual installation of directory\u001b[39;00m\n\u001b[0;32m---> 35\u001b[0m     words \u001b[38;5;241m=\u001b[39m \u001b[43mnltk\u001b[49m\u001b[38;5;241;43m.\u001b[39;49m\u001b[43mword_tokenize\u001b[49m\u001b[43m(\u001b[49m\u001b[43mtext\u001b[49m\u001b[43m)\u001b[49m\n\u001b[1;32m     36\u001b[0m     words \u001b[38;5;241m=\u001b[39m [word\u001b[38;5;241m.\u001b[39mlower() \u001b[38;5;28;01mfor\u001b[39;00m word \u001b[38;5;129;01min\u001b[39;00m words \u001b[38;5;28;01mif\u001b[39;00m word\u001b[38;5;241m.\u001b[39misalpha() \u001b[38;5;129;01mand\u001b[39;00m word\u001b[38;5;241m.\u001b[39mlower() \u001b[38;5;129;01mnot\u001b[39;00m \u001b[38;5;129;01min\u001b[39;00m stop_words]\n\u001b[1;32m     37\u001b[0m     word_freq \u001b[38;5;241m=\u001b[39m Counter(words)\n",
      "File \u001b[0;32m/Library/Frameworks/Python.framework/Versions/3.12/lib/python3.12/site-packages/nltk/tokenize/__init__.py:129\u001b[0m, in \u001b[0;36mword_tokenize\u001b[0;34m(text, language, preserve_line)\u001b[0m\n\u001b[1;32m    114\u001b[0m \u001b[38;5;28;01mdef\u001b[39;00m \u001b[38;5;21mword_tokenize\u001b[39m(text, language\u001b[38;5;241m=\u001b[39m\u001b[38;5;124m\"\u001b[39m\u001b[38;5;124menglish\u001b[39m\u001b[38;5;124m\"\u001b[39m, preserve_line\u001b[38;5;241m=\u001b[39m\u001b[38;5;28;01mFalse\u001b[39;00m):\n\u001b[1;32m    115\u001b[0m \u001b[38;5;250m    \u001b[39m\u001b[38;5;124;03m\"\"\"\u001b[39;00m\n\u001b[1;32m    116\u001b[0m \u001b[38;5;124;03m    Return a tokenized copy of *text*,\u001b[39;00m\n\u001b[1;32m    117\u001b[0m \u001b[38;5;124;03m    using NLTK's recommended word tokenizer\u001b[39;00m\n\u001b[0;32m   (...)\u001b[0m\n\u001b[1;32m    127\u001b[0m \u001b[38;5;124;03m    :type preserve_line: bool\u001b[39;00m\n\u001b[1;32m    128\u001b[0m \u001b[38;5;124;03m    \"\"\"\u001b[39;00m\n\u001b[0;32m--> 129\u001b[0m     sentences \u001b[38;5;241m=\u001b[39m [text] \u001b[38;5;28;01mif\u001b[39;00m preserve_line \u001b[38;5;28;01melse\u001b[39;00m \u001b[43msent_tokenize\u001b[49m\u001b[43m(\u001b[49m\u001b[43mtext\u001b[49m\u001b[43m,\u001b[49m\u001b[43m \u001b[49m\u001b[43mlanguage\u001b[49m\u001b[43m)\u001b[49m\n\u001b[1;32m    130\u001b[0m     \u001b[38;5;28;01mreturn\u001b[39;00m [\n\u001b[1;32m    131\u001b[0m         token \u001b[38;5;28;01mfor\u001b[39;00m sent \u001b[38;5;129;01min\u001b[39;00m sentences \u001b[38;5;28;01mfor\u001b[39;00m token \u001b[38;5;129;01min\u001b[39;00m _treebank_word_tokenizer\u001b[38;5;241m.\u001b[39mtokenize(sent)\n\u001b[1;32m    132\u001b[0m     ]\n",
      "File \u001b[0;32m/Library/Frameworks/Python.framework/Versions/3.12/lib/python3.12/site-packages/nltk/tokenize/__init__.py:106\u001b[0m, in \u001b[0;36msent_tokenize\u001b[0;34m(text, language)\u001b[0m\n\u001b[1;32m     96\u001b[0m \u001b[38;5;28;01mdef\u001b[39;00m \u001b[38;5;21msent_tokenize\u001b[39m(text, language\u001b[38;5;241m=\u001b[39m\u001b[38;5;124m\"\u001b[39m\u001b[38;5;124menglish\u001b[39m\u001b[38;5;124m\"\u001b[39m):\n\u001b[1;32m     97\u001b[0m \u001b[38;5;250m    \u001b[39m\u001b[38;5;124;03m\"\"\"\u001b[39;00m\n\u001b[1;32m     98\u001b[0m \u001b[38;5;124;03m    Return a sentence-tokenized copy of *text*,\u001b[39;00m\n\u001b[1;32m     99\u001b[0m \u001b[38;5;124;03m    using NLTK's recommended sentence tokenizer\u001b[39;00m\n\u001b[0;32m   (...)\u001b[0m\n\u001b[1;32m    104\u001b[0m \u001b[38;5;124;03m    :param language: the model name in the Punkt corpus\u001b[39;00m\n\u001b[1;32m    105\u001b[0m \u001b[38;5;124;03m    \"\"\"\u001b[39;00m\n\u001b[0;32m--> 106\u001b[0m     tokenizer \u001b[38;5;241m=\u001b[39m \u001b[43mload\u001b[49m\u001b[43m(\u001b[49m\u001b[38;5;124;43mf\u001b[39;49m\u001b[38;5;124;43m\"\u001b[39;49m\u001b[38;5;124;43mtokenizers/punkt/\u001b[39;49m\u001b[38;5;132;43;01m{\u001b[39;49;00m\u001b[43mlanguage\u001b[49m\u001b[38;5;132;43;01m}\u001b[39;49;00m\u001b[38;5;124;43m.pickle\u001b[39;49m\u001b[38;5;124;43m\"\u001b[39;49m\u001b[43m)\u001b[49m\n\u001b[1;32m    107\u001b[0m     \u001b[38;5;28;01mreturn\u001b[39;00m tokenizer\u001b[38;5;241m.\u001b[39mtokenize(text)\n",
      "File \u001b[0;32m/Library/Frameworks/Python.framework/Versions/3.12/lib/python3.12/site-packages/nltk/data.py:750\u001b[0m, in \u001b[0;36mload\u001b[0;34m(resource_url, format, cache, verbose, logic_parser, fstruct_reader, encoding)\u001b[0m\n\u001b[1;32m    747\u001b[0m     \u001b[38;5;28mprint\u001b[39m(\u001b[38;5;124mf\u001b[39m\u001b[38;5;124m\"\u001b[39m\u001b[38;5;124m<<Loading \u001b[39m\u001b[38;5;132;01m{\u001b[39;00mresource_url\u001b[38;5;132;01m}\u001b[39;00m\u001b[38;5;124m>>\u001b[39m\u001b[38;5;124m\"\u001b[39m)\n\u001b[1;32m    749\u001b[0m \u001b[38;5;66;03m# Load the resource.\u001b[39;00m\n\u001b[0;32m--> 750\u001b[0m opened_resource \u001b[38;5;241m=\u001b[39m \u001b[43m_open\u001b[49m\u001b[43m(\u001b[49m\u001b[43mresource_url\u001b[49m\u001b[43m)\u001b[49m\n\u001b[1;32m    752\u001b[0m \u001b[38;5;28;01mif\u001b[39;00m \u001b[38;5;28mformat\u001b[39m \u001b[38;5;241m==\u001b[39m \u001b[38;5;124m\"\u001b[39m\u001b[38;5;124mraw\u001b[39m\u001b[38;5;124m\"\u001b[39m:\n\u001b[1;32m    753\u001b[0m     resource_val \u001b[38;5;241m=\u001b[39m opened_resource\u001b[38;5;241m.\u001b[39mread()\n",
      "File \u001b[0;32m/Library/Frameworks/Python.framework/Versions/3.12/lib/python3.12/site-packages/nltk/data.py:876\u001b[0m, in \u001b[0;36m_open\u001b[0;34m(resource_url)\u001b[0m\n\u001b[1;32m    873\u001b[0m protocol, path_ \u001b[38;5;241m=\u001b[39m split_resource_url(resource_url)\n\u001b[1;32m    875\u001b[0m \u001b[38;5;28;01mif\u001b[39;00m protocol \u001b[38;5;129;01mis\u001b[39;00m \u001b[38;5;28;01mNone\u001b[39;00m \u001b[38;5;129;01mor\u001b[39;00m protocol\u001b[38;5;241m.\u001b[39mlower() \u001b[38;5;241m==\u001b[39m \u001b[38;5;124m\"\u001b[39m\u001b[38;5;124mnltk\u001b[39m\u001b[38;5;124m\"\u001b[39m:\n\u001b[0;32m--> 876\u001b[0m     \u001b[38;5;28;01mreturn\u001b[39;00m \u001b[43mfind\u001b[49m\u001b[43m(\u001b[49m\u001b[43mpath_\u001b[49m\u001b[43m,\u001b[49m\u001b[43m \u001b[49m\u001b[43mpath\u001b[49m\u001b[43m \u001b[49m\u001b[38;5;241;43m+\u001b[39;49m\u001b[43m \u001b[49m\u001b[43m[\u001b[49m\u001b[38;5;124;43m\"\u001b[39;49m\u001b[38;5;124;43m\"\u001b[39;49m\u001b[43m]\u001b[49m\u001b[43m)\u001b[49m\u001b[38;5;241m.\u001b[39mopen()\n\u001b[1;32m    877\u001b[0m \u001b[38;5;28;01melif\u001b[39;00m protocol\u001b[38;5;241m.\u001b[39mlower() \u001b[38;5;241m==\u001b[39m \u001b[38;5;124m\"\u001b[39m\u001b[38;5;124mfile\u001b[39m\u001b[38;5;124m\"\u001b[39m:\n\u001b[1;32m    878\u001b[0m     \u001b[38;5;66;03m# urllib might not use mode='rb', so handle this one ourselves:\u001b[39;00m\n\u001b[1;32m    879\u001b[0m     \u001b[38;5;28;01mreturn\u001b[39;00m find(path_, [\u001b[38;5;124m\"\u001b[39m\u001b[38;5;124m\"\u001b[39m])\u001b[38;5;241m.\u001b[39mopen()\n",
      "File \u001b[0;32m/Library/Frameworks/Python.framework/Versions/3.12/lib/python3.12/site-packages/nltk/data.py:583\u001b[0m, in \u001b[0;36mfind\u001b[0;34m(resource_name, paths)\u001b[0m\n\u001b[1;32m    581\u001b[0m sep \u001b[38;5;241m=\u001b[39m \u001b[38;5;124m\"\u001b[39m\u001b[38;5;124m*\u001b[39m\u001b[38;5;124m\"\u001b[39m \u001b[38;5;241m*\u001b[39m \u001b[38;5;241m70\u001b[39m\n\u001b[1;32m    582\u001b[0m resource_not_found \u001b[38;5;241m=\u001b[39m \u001b[38;5;124mf\u001b[39m\u001b[38;5;124m\"\u001b[39m\u001b[38;5;130;01m\\n\u001b[39;00m\u001b[38;5;132;01m{\u001b[39;00msep\u001b[38;5;132;01m}\u001b[39;00m\u001b[38;5;130;01m\\n\u001b[39;00m\u001b[38;5;132;01m{\u001b[39;00mmsg\u001b[38;5;132;01m}\u001b[39;00m\u001b[38;5;130;01m\\n\u001b[39;00m\u001b[38;5;132;01m{\u001b[39;00msep\u001b[38;5;132;01m}\u001b[39;00m\u001b[38;5;130;01m\\n\u001b[39;00m\u001b[38;5;124m\"\u001b[39m\n\u001b[0;32m--> 583\u001b[0m \u001b[38;5;28;01mraise\u001b[39;00m \u001b[38;5;167;01mLookupError\u001b[39;00m(resource_not_found)\n",
      "\u001b[0;31mLookupError\u001b[0m: \n**********************************************************************\n  Resource \u001b[93mpunkt\u001b[0m not found.\n  Please use the NLTK Downloader to obtain the resource:\n\n  \u001b[31m>>> import nltk\n  >>> nltk.download('punkt')\n  \u001b[0m\n  For more information see: https://www.nltk.org/data.html\n\n  Attempted to load \u001b[93mtokenizers/punkt/PY3/english.pickle\u001b[0m\n\n  Searched in:\n    - '/Users/kailashdejesushornig/nltk_data'\n    - '/Library/Frameworks/Python.framework/Versions/3.12/nltk_data'\n    - '/Library/Frameworks/Python.framework/Versions/3.12/share/nltk_data'\n    - '/Library/Frameworks/Python.framework/Versions/3.12/lib/nltk_data'\n    - '/usr/share/nltk_data'\n    - '/usr/local/share/nltk_data'\n    - '/usr/lib/nltk_data'\n    - '/usr/local/lib/nltk_data'\n    - '/Users/kailashdejesushornig/Documents/GitHub/Policydokument/KaisProject/stopwords'\n    - '/Users/kailashdejesushornig/Documents/GitHub/Policydokument/KaisProject/nltk_data'\n    - ''\n**********************************************************************\n"
     ]
    }
   ],
   "source": [
    "# word cloud generation ENGLISH\n",
    "try:\n",
    "    import os\n",
    "    from PyPDF2 import PdfReader\n",
    "    from collections import Counter\n",
    "    import nltk\n",
    "    # from nltk.corpus import stopwords\n",
    "    from wordcloud import WordCloud\n",
    "    import matplotlib.pyplot as plt\n",
    "except ImportError:\n",
    "    print(\"Import failed\")\n",
    "except Exception as e:\n",
    "    print(\"An error occurred:\", e)\n",
    "\n",
    "# Ensure you have downloaded the stopwords dataset\n",
    "nltk.download('stopwords')\n",
    "print(nltk.data.path)\n",
    "nltk.data.path.append('/Users/kailashdejesushornig/Documents/GitHub/Policydokument/KaisProject/nltk_data') # added my manual path\n",
    "print(nltk.data.path)\n",
    "\n",
    "# Function to extract text from a single PDF file\n",
    "def extract_text_from_pdf(pdf_path):\n",
    "    text = \"\"\n",
    "    with open(pdf_path, 'rb') as file:\n",
    "        reader = PdfReader(file)\n",
    "        for page_num in range(len(reader.pages)):\n",
    "            page = reader.pages[page_num]\n",
    "            text += page.extract_text()\n",
    "    return text\n",
    "\n",
    "# Function to process text and get word frequencies\n",
    "def get_word_frequencies(text):\n",
    "    # stop_words = set(stopwords.words('english')) # original installation\n",
    "    stop_words = set('/Users/kailashdejesushornig/Documents/GitHub/Policydokument/KaisProject/stopwords/english') # manual installation of directory\n",
    "    words = nltk.word_tokenize(text)\n",
    "    words = [word.lower() for word in words if word.isalpha() and word.lower() not in stop_words]\n",
    "    word_freq = Counter(words)\n",
    "    return word_freq\n",
    "\n",
    "# Function to create and display a word cloud\n",
    "def create_word_cloud(word_freq, num_words=30):\n",
    "    common_words = dict(word_freq.most_common(num_words))\n",
    "    wordcloud = WordCloud(width=800, height=400, background_color='white').generate_from_frequencies(common_words)\n",
    "    \n",
    "    plt.figure(figsize=(10, 5))\n",
    "    plt.imshow(wordcloud, interpolation='bilinear')\n",
    "    plt.axis('off')\n",
    "    plt.show()\n",
    "\n",
    "# List of PDF file paths\n",
    "# pdf_files = [\n",
    "#     \"path/to/your/document1.pdf\",\n",
    "#     \"path/to/your/document2.pdf\",\n",
    "#     # Add more file paths as needed\n",
    "# ]\n",
    "\n",
    "# Main processing\n",
    "all_text = \"\"\n",
    "for pdf_path in english_files:\n",
    "    all_text += extract_text_from_pdf(pdf_path)\n",
    "\n",
    "word_freq = get_word_frequencies(all_text)\n",
    "create_word_cloud(word_freq)\n"
   ]
  },
  {
   "cell_type": "markdown",
   "metadata": {},
   "source": [
    "# Document loader"
   ]
  },
  {
   "cell_type": "code",
   "execution_count": 45,
   "metadata": {},
   "outputs": [
    {
     "name": "stdout",
     "output_type": "stream",
     "text": [
      "5\n"
     ]
    }
   ],
   "source": [
    "from langchain_community.document_loaders import PyPDFLoader, PyPDFDirectoryLoader\n",
    "# FILE_PATH = '/Users/kailashdejesushornig/Documents/GitHub/Policydokument/KaisProject/RegulatoryDocs/Ekonomi/Beslut fattat av Enhetschef Utbildningsstöd vid Student och Utbildningsavdelningen om ansökningsprocess för Erasmus+ bidrag för personalmobilitet..PDF'\n",
    "DIR_PATH = '/Users/kailashdejesushornig/Documents/GitHub/Policydokument/KaisProject/RegulatoryDocs/Ekonomi'\n",
    "\n",
    "# load pdf document. Use PyPDFDirectoryLoader for loading files in directory.\n",
    "loader = PyPDFDirectoryLoader(DIR_PATH)\n",
    "#loader = PyPDFLoader(FILE_PATH) # funkar inte\n",
    "documents = loader.load()\n",
    "print(len(documents))"
   ]
  },
  {
   "cell_type": "markdown",
   "metadata": {},
   "source": [
    "# Document Transformers"
   ]
  },
  {
   "cell_type": "code",
   "execution_count": 41,
   "metadata": {},
   "outputs": [
    {
     "name": "stdout",
     "output_type": "stream",
     "text": [
      "Model's maximum sequence length: 384\n"
     ]
    },
    {
     "ename": "NameError",
     "evalue": "name 'documents' is not defined",
     "output_type": "error",
     "traceback": [
      "\u001b[0;31m---------------------------------------------------------------------------\u001b[0m",
      "\u001b[0;31mNameError\u001b[0m                                 Traceback (most recent call last)",
      "Cell \u001b[0;32mIn[41], line 4\u001b[0m\n\u001b[1;32m      1\u001b[0m \u001b[38;5;28mprint\u001b[39m(\u001b[38;5;124mf\u001b[39m\u001b[38;5;124m\"\u001b[39m\u001b[38;5;124mModel\u001b[39m\u001b[38;5;124m'\u001b[39m\u001b[38;5;124ms maximum sequence length: \u001b[39m\u001b[38;5;132;01m{\u001b[39;00mSentenceTransformer(MODEL_NAME_KBLAB)\u001b[38;5;241m.\u001b[39mmax_seq_length\u001b[38;5;132;01m}\u001b[39;00m\u001b[38;5;124m\"\u001b[39m)\n\u001b[1;32m      3\u001b[0m tokenizer \u001b[38;5;241m=\u001b[39m AutoTokenizer\u001b[38;5;241m.\u001b[39mfrom_pretrained(MODEL_NAME_KBLAB)\n\u001b[0;32m----> 4\u001b[0m lengths \u001b[38;5;241m=\u001b[39m [\u001b[38;5;28mlen\u001b[39m(tokenizer\u001b[38;5;241m.\u001b[39mencode(doc\u001b[38;5;241m.\u001b[39mpage_content)) \u001b[38;5;28;01mfor\u001b[39;00m doc \u001b[38;5;129;01min\u001b[39;00m \u001b[43mdocuments\u001b[49m]\n\u001b[1;32m      6\u001b[0m \u001b[38;5;66;03m# Plot the distribution of document lengths, counted as the number of tokens\u001b[39;00m\n\u001b[1;32m      7\u001b[0m fig \u001b[38;5;241m=\u001b[39m pd\u001b[38;5;241m.\u001b[39mSeries(lengths)\u001b[38;5;241m.\u001b[39mhist()\n",
      "\u001b[0;31mNameError\u001b[0m: name 'documents' is not defined"
     ]
    }
   ],
   "source": [
    "print(f\"Model's maximum sequence length: {SentenceTransformer(MODEL_NAME_KBLAB).max_seq_length}\")\n",
    "\n",
    "tokenizer = AutoTokenizer.from_pretrained(MODEL_NAME_KBLAB)\n",
    "lengths = [len(tokenizer.encode(doc.page_content)) for doc in documents] # changed documents to list of pdf files\n",
    "\n",
    "# Plot the distribution of document lengths, counted as the number of tokens\n",
    "fig = pd.Series(lengths).hist()\n",
    "plt.title(\"Distribution of document lengths in the knowledge base (in count of tokens)\")\n",
    "plt.show()"
   ]
  },
  {
   "cell_type": "code",
   "execution_count": null,
   "metadata": {},
   "outputs": [],
   "source": [
    "# We use a hierarchical list of separators specifically tailored for splitting Markdown documents\n",
    "# This list is taken from LangChain's MarkdownTextSplitter class\n",
    "MARKDOWN_SEPARATORS = [\n",
    "    \"\\n\\n\\n\\n\",\n",
    "    \"\\n\\n\\n\",\n",
    "    \"\\n\\n\",\n",
    "    \"\\n\",\n",
    "    \".\",\n",
    "    \",\",\n",
    "    \" \",\n",
    "    \"\",\n",
    "]\n",
    "\n",
    "def split_documents(chunk_size, knowledge_base, tokenizer_name):\n",
    "    \"\"\"\n",
    "    Split documents into chunks of maximum size `chunk_size` tokens and return a list of documents.\n",
    "    \"\"\"\n",
    "    text_splitter = RecursiveCharacterTextSplitter.from_huggingface_tokenizer(\n",
    "        tokenizer=AutoTokenizer.from_pretrained(tokenizer_name),\n",
    "        chunk_size=chunk_size,\n",
    "        chunk_overlap=chunk_size // 10,\n",
    "        add_start_index=True,\n",
    "        strip_whitespace=True,\n",
    "        separators=MARKDOWN_SEPARATORS,\n",
    "    )\n",
    "\n",
    "    docs_processed = []\n",
    "    for doc in knowledge_base:\n",
    "        docs_processed += text_splitter.split_documents([doc])\n",
    "\n",
    "    # Remove duplicates\n",
    "    unique_texts = {}\n",
    "    docs_processed_unique = []\n",
    "    for doc in docs_processed:\n",
    "        if doc.page_content not in unique_texts:\n",
    "            unique_texts[doc.page_content] = True\n",
    "            docs_processed_unique.append(doc)\n",
    "\n",
    "    return docs_processed_unique\n",
    "\n",
    "# Remove all whitespaces between newlines e.g. \\n \\n \\n \\n --> \\n\\n\\n\\n\n",
    "for doc in documents:\n",
    "    doc.page_content = re.sub('(?<=\\\\n) (?=\\\\n)', '', doc.page_content)\n",
    "\n",
    "docs = split_documents(\n",
    "    384,  # We choose a chunk size adapted to our model\n",
    "    documents,\n",
    "    tokenizer_name=MODEL_NAME_KBLAB,\n",
    ")\n",
    "docs[0].page_content\n",
    "\n",
    "open('chunks.txt', 'w').close()\n",
    "for chunk in docs:\n",
    "    with open(\"chunks.txt\", \"a\", encoding=\"utf-8\") as f:\n",
    "        f.write(chunk.page_content + '\\n\\n')"
   ]
  },
  {
   "cell_type": "code",
   "execution_count": null,
   "metadata": {},
   "outputs": [],
   "source": [
    "# tokenizer = AutoTokenizer.from_pretrained(MODEL_NAME_KBLAB)\n",
    "# lengths = [len(tokenizer.encode(doc.page_content)) for doc in docs]\n",
    "# fig = pd.Series(lengths).hist()\n",
    "# plt.title(\"Distribution of document lengths in the knowledge base (in count of tokens)\")\n",
    "# plt.show()"
   ]
  },
  {
   "cell_type": "markdown",
   "metadata": {},
   "source": [
    "# Text Embedding & Vector Stores"
   ]
  },
  {
   "cell_type": "code",
   "execution_count": null,
   "metadata": {},
   "outputs": [
    {
     "name": "stdout",
     "output_type": "stream",
     "text": [
      "Added 43 chunks to ChromaDB\n"
     ]
    }
   ],
   "source": [
    "device = \"cuda:0\" if torch.cuda.is_available() else \"cpu\"\n",
    "\n",
    "# Initialize an instance of HuggingFaceEmbeddings with the specified parameters\n",
    "embeddings = HuggingFaceEmbeddings(\n",
    "    model_name=MODEL_NAME_KBLAB, # Provide the pre-trained model's path\n",
    "    model_kwargs={'device':device}, # Pass the model configuration options\n",
    "    encode_kwargs={'normalize_embeddings': True} # Set `True` for cosine similarity\n",
    ")\n",
    "\n",
    "# Initialize Chroma DB\n",
    "chroma_client = chromadb.Client()\n",
    "\n",
    "# switch `create_collection` to `get_or_create_collection` to avoid creating a new collection every time\n",
    "collection = chroma_client.get_or_create_collection(name=\"huggingface_collection\")\n",
    "\n",
    "# load it into Chroma\n",
    "db = Chroma.from_documents(\n",
    "    documents=docs,\n",
    "    embedding=embeddings,\n",
    "    collection_name='huggingface_collection',\n",
    "    client=chroma_client,\n",
    ")\n",
    "print(f\"Added {len(docs)} chunks to ChromaDB\")"
   ]
  },
  {
   "cell_type": "markdown",
   "metadata": {},
   "source": [
    "# Visualize Chunk Embeddings in 2D (experimental)"
   ]
  },
  {
   "cell_type": "code",
   "execution_count": null,
   "metadata": {},
   "outputs": [
    {
     "name": "stdout",
     "output_type": "stream",
     "text": [
      "=> Fitting data to 2D...\n",
      "=> Extracting info...\n"
     ]
    },
    {
     "name": "stderr",
     "output_type": "stream",
     "text": [
      "c:\\Users\\Wendy\\Chalmers_Summer\\Policydokument\\.venv\\Lib\\site-packages\\pacmap\\pacmap.py:822: UserWarning:\n",
      "\n",
      "Warning: random state is set to 1\n",
      "\n"
     ]
    },
    {
     "name": "stdout",
     "output_type": "stream",
     "text": [
      "=> Visualizing...\n"
     ]
    },
    {
     "data": {
      "application/vnd.plotly.v1+json": {
       "config": {
        "plotlyServerURL": "https://plot.ly"
       },
       "data": [
        {
         "customdata": [
          [
           "Sida 1av 5\nChalmers tekniska högskola Telefon 031-7721000 Organisationsnummer:\n412 96 Göteborg Webb:..."
          ],
          [
           "process for Erasmus+ staff training and teacher mobility. Instead of the application being open for\n..."
          ],
          [
           "Sida 2av 5\nChalmers tekniska högskola Telefon 031-7721000 Organisationsnummer:\n412 96 Göteborg Webb:..."
          ],
          [
           "året runt (se specifika tidpunkter under punkt 4. nedan).\nDetta beslut förväntas effektivisera hante..."
          ],
          [
           "Erasmus+ ansvarig (Erasmus Institutional Coordinator). Detta har upplevts som ohållbart utifrån\nett ..."
          ],
          [
           "Sida 3av 5\nChalmers tekniska högskola Telefon 031-7721000 Organisationsnummer:\n412 96 Göteborg Webb:..."
          ],
          [
           "tidsram. En risk är dock att många anser denna process mindre flexibel än nuvarande\nansökningsförfar..."
          ],
          [
           "träder i kraft från 2024.\nMobilitetsperiods start Ansökningsperiod Besked\nSommar och hösttermin (för..."
          ],
          [
           "Sida 4av 5\nChalmers tekniska högskola Telefon 031-7721000 Organisationsnummer:\n412 96 Göteborg Webb:..."
          ],
          [
           "Beslut expedieras enligt sändlistan och föreskriften samt den engelska översättning\npubliceras på Ch..."
          ],
          [
           "Sida 5av 5\nChalmers tekniska högskola Telefon 031-7721000 Organisationsnummer:\n412 96 Göteborg Webb:..."
          ],
          [
           "STYRDOKUMENT:   Riktlinje för representation.  C 2024‐0470. Beslut av ekonomichef.  \nBeslut av:  \nEk..."
          ],
          [
           "STYRDOKUMENT:   Riktlinje för representation.  C 2024‐0470. Beslut av ekonomichef.  \nBakgrund   \nDe ..."
          ],
          [
           "1. Extern representation  \nExtern representation  riktar sig mot Chalmers  externa kontakter  och sy..."
          ],
          [
           "STYRDOKUMENT:   Riktlinje för representation.  C 2024‐0470. Beslut av ekonomichef.  \n \nVilka får del..."
          ],
          [
           "2. Intern representation  \nIntern representation  riktar sig inåt mot Chalmers  personal och har mer..."
          ],
          [
           "kostnaden  uppgå till högst 350 kronor exklusive \nmoms per person och representationstillfälle.  \n \n..."
          ],
          [
           "STYRDOKUMENT:   Riktlinje för representation.  C 2024‐0470. Beslut av ekonomichef.  \n- representatio..."
          ],
          [
           "5. Risker för mutor vid representation  \nI samband med representation  ska risken för tagande och gi..."
          ],
          [
           "STYRDOKUMENT:   Riktlinje för representation.  C 2024‐0470. Beslut av ekonomichef.  \nRepresentations..."
          ],
          [
           "Approved by Financial Manager  \n01/05/2018 \nFinancial responsibility for project managers at Cha lme..."
          ],
          [
           "relates to research projects funded through faculty  funds, but can also relate to projects initiate..."
          ],
          [
           "Projects from a financial perspective \nThose who look at projects from an operational pers pective m..."
          ],
          [
           "• for Chalmers' general management and monitoring of operations \n• for external reporting. \nThe foll..."
          ],
          [
           "Approved by Financial Manager  \n01/05/2018 \n• A project can be both internal and external, but th e ..."
          ],
          [
           "Powers \nThe appointed project manager is given formal finan cial project management responsibility, ..."
          ],
          [
           "Limitations \n• In their project planning, the project manager shal l consult with the resource owner..."
          ],
          [
           "STYRDOKUMENT: Riktlinje för inköp och upphandling vid Chalmers tekniska högskola . Dnr C 20 2 1 -\n15..."
          ],
          [
           "2 Mål\nMål et är att visa att Chalmers gör goda affärer .\n3 Grundläggande förutsättningar\nChalmers är..."
          ],
          [
           "STYRDOKUMENT: Riktlinje för inköp och upphandling vid Chalmers tekniska högskola . Dnr C 20 2 1 -\n15..."
          ],
          [
           "Chalmers upphandlingsforum (ChUF) ,\nDialogforum – Tillgodose verksamheternas inköpsbehov\ninstitution..."
          ],
          [
           "STYRDOKUMENT: Riktlinje för inköp och upphandling vid Chalmers tekniska högskola . Dnr C 20 2 1 -\n15..."
          ],
          [
           "utföras av institutionen speciellt ut sedda inköpare. IoU kan föreskriva att vissa specifika\ninköpso..."
          ],
          [
           "STYRDOKUMENT: Riktlinje för inköp och upphandling vid Chalmers tekniska högskola . Dnr C 20 2 1 -\n15..."
          ],
          [
           "Referensgruppsmedlem utses i samråd med inköpskoordinatorn.\n6 Direktupphandling\n6.1 Allmänt\nDirektup..."
          ],
          [
           "STYRDOKUMENT: Riktlinje för inköp och upphandling vid Chalmers tekniska högskola . Dnr C 20 2 1 -\n15..."
          ],
          [
           "sekretessbeläggas till skydd för leverantörers och Chalmers och andra upphandla enheters\naffärshemli..."
          ],
          [
           "STYRDOKUMENT: Riktlinje för inköp och upphandling vid Chalmers tekniska högskola . Dnr C 20 2 1 -\n15..."
          ],
          [
           "Tilldelningsbeslut (signerat)\nAvtal med vinnande leverantör/ - er (signerat)\nDigitalt undertecknade ..."
          ],
          [
           "STYRDOKUMENT: Riktlinje för inköp och upphandling vid Chalmers tekniska högskola . Dnr C 20 2 1 -\n15..."
          ],
          [
           "Fastställt av Ekonomichef  \n2018- 05-01 \nEkonomiskt a nsvar för projektledare  vid Chalmers  \nDenna ..."
          ],
          [
           "Projekt i ett ekonomiskt perspektiv  \nUr ett verksamhetsmässigt perspektiv kan definitionen av proje..."
          ],
          [
           "Fastställt av Ekonomichef  \n2018- 05-01 \n• Ett projekt kan vara både internt och externt , men utgör..."
          ]
         ],
         "hovertemplate": "source=Ekonomi<br>symbol=circle<br>x=%{x}<br>y=%{y}<br>size_col=%{marker.size}<br>extract=%{customdata[0]}<extra></extra>",
         "legendgroup": "Ekonomi, circle",
         "marker": {
          "color": "#EF553B",
          "line": {
           "color": "DarkSlateGrey",
           "width": 0
          },
          "opacity": 1,
          "size": [
           1,
           1,
           1,
           1,
           1,
           1,
           1,
           1,
           1,
           1,
           1,
           1,
           1,
           1,
           1,
           1,
           1,
           1,
           1,
           1,
           1,
           1,
           1,
           1,
           1,
           1,
           1,
           1,
           1,
           1,
           1,
           1,
           1,
           1,
           1,
           1,
           1,
           1,
           1,
           1,
           1,
           1,
           1
          ],
          "sizemode": "area",
          "sizeref": 0.0025,
          "symbol": "circle"
         },
         "mode": "markers",
         "name": "Ekonomi, circle",
         "orientation": "v",
         "showlegend": true,
         "type": "scatter",
         "x": [
          -2.406924,
          2.776148,
          -1.8463107,
          9.613993,
          -2.5113425,
          2.4036856,
          10.461167,
          1.0118933,
          -2.1932707,
          2.2176719,
          10.274147,
          -7.2272563,
          2.645658,
          10.065187,
          -6.156275,
          -0.63546056,
          10.134226,
          -7.247919,
          -6.9166684,
          -7.123747,
          -6.6723065,
          1.6905009,
          -1.3580569,
          -6.403298,
          -6.8886557,
          -7.188084,
          0.26505712,
          9.399036,
          2.7126975,
          1.8314322,
          1.563981,
          -6.720398,
          -3.1783283,
          -2.7232785,
          1.15028,
          9.908746,
          9.991524,
          -7.471952,
          2.4065063,
          -2.3937523,
          2.1660223,
          9.82286,
          9.780515
         ],
         "xaxis": "x",
         "y": [
          -2.4505303,
          -4.389204,
          -2.6136293,
          8.017931,
          -3.5280282,
          -3.970867,
          7.972703,
          -4.423966,
          -2.1258976,
          -5.0601964,
          8.194705,
          -1.1632646,
          -4.6843495,
          9.060637,
          -1.2188684,
          -3.31536,
          8.544002,
          -0.43177795,
          -1.054844,
          -0.4165906,
          -1.3880031,
          -3.9071405,
          -3.0459595,
          -1.3924448,
          -1.8764741,
          -0.719253,
          -4.127954,
          9.010638,
          -4.9445353,
          -4.6035028,
          -4.6774597,
          -0.83637214,
          -3.1640985,
          -2.3640242,
          -4.881631,
          9.637761,
          9.426704,
          -1.1223961,
          -5.098377,
          -2.8667023,
          -5.077889,
          8.179336,
          8.423036
         ],
         "yaxis": "y"
        },
        {
         "customdata": [
          [
           "Vad för alkoholpolicy har Chalmers?"
          ]
         ],
         "hovertemplate": "source=User query<br>symbol=star<br>x=%{x}<br>y=%{y}<br>size_col=%{marker.size}<br>extract=%{customdata[0]}<extra></extra>",
         "legendgroup": "User query, star",
         "marker": {
          "color": "black",
          "line": {
           "color": "DarkSlateGrey",
           "width": 0
          },
          "opacity": 1,
          "size": [
           1
          ],
          "sizemode": "area",
          "sizeref": 0.0025,
          "symbol": "diamond"
         },
         "mode": "markers",
         "name": "User query, star",
         "orientation": "v",
         "showlegend": true,
         "type": "scatter",
         "x": [
          9.780515
         ],
         "xaxis": "x",
         "y": [
          8.423036
         ],
         "yaxis": "y"
        }
       ],
       "layout": {
        "height": 500,
        "legend": {
         "itemsizing": "constant",
         "title": {
          "text": "<b>Chunk source</b>"
         },
         "tracegroupgap": 0
        },
        "margin": {
         "t": 60
        },
        "template": {
         "data": {
          "bar": [
           {
            "error_x": {
             "color": "#2a3f5f"
            },
            "error_y": {
             "color": "#2a3f5f"
            },
            "marker": {
             "line": {
              "color": "#E5ECF6",
              "width": 0.5
             },
             "pattern": {
              "fillmode": "overlay",
              "size": 10,
              "solidity": 0.2
             }
            },
            "type": "bar"
           }
          ],
          "barpolar": [
           {
            "marker": {
             "line": {
              "color": "#E5ECF6",
              "width": 0.5
             },
             "pattern": {
              "fillmode": "overlay",
              "size": 10,
              "solidity": 0.2
             }
            },
            "type": "barpolar"
           }
          ],
          "carpet": [
           {
            "aaxis": {
             "endlinecolor": "#2a3f5f",
             "gridcolor": "white",
             "linecolor": "white",
             "minorgridcolor": "white",
             "startlinecolor": "#2a3f5f"
            },
            "baxis": {
             "endlinecolor": "#2a3f5f",
             "gridcolor": "white",
             "linecolor": "white",
             "minorgridcolor": "white",
             "startlinecolor": "#2a3f5f"
            },
            "type": "carpet"
           }
          ],
          "choropleth": [
           {
            "colorbar": {
             "outlinewidth": 0,
             "ticks": ""
            },
            "type": "choropleth"
           }
          ],
          "contour": [
           {
            "colorbar": {
             "outlinewidth": 0,
             "ticks": ""
            },
            "colorscale": [
             [
              0,
              "#0d0887"
             ],
             [
              0.1111111111111111,
              "#46039f"
             ],
             [
              0.2222222222222222,
              "#7201a8"
             ],
             [
              0.3333333333333333,
              "#9c179e"
             ],
             [
              0.4444444444444444,
              "#bd3786"
             ],
             [
              0.5555555555555556,
              "#d8576b"
             ],
             [
              0.6666666666666666,
              "#ed7953"
             ],
             [
              0.7777777777777778,
              "#fb9f3a"
             ],
             [
              0.8888888888888888,
              "#fdca26"
             ],
             [
              1,
              "#f0f921"
             ]
            ],
            "type": "contour"
           }
          ],
          "contourcarpet": [
           {
            "colorbar": {
             "outlinewidth": 0,
             "ticks": ""
            },
            "type": "contourcarpet"
           }
          ],
          "heatmap": [
           {
            "colorbar": {
             "outlinewidth": 0,
             "ticks": ""
            },
            "colorscale": [
             [
              0,
              "#0d0887"
             ],
             [
              0.1111111111111111,
              "#46039f"
             ],
             [
              0.2222222222222222,
              "#7201a8"
             ],
             [
              0.3333333333333333,
              "#9c179e"
             ],
             [
              0.4444444444444444,
              "#bd3786"
             ],
             [
              0.5555555555555556,
              "#d8576b"
             ],
             [
              0.6666666666666666,
              "#ed7953"
             ],
             [
              0.7777777777777778,
              "#fb9f3a"
             ],
             [
              0.8888888888888888,
              "#fdca26"
             ],
             [
              1,
              "#f0f921"
             ]
            ],
            "type": "heatmap"
           }
          ],
          "heatmapgl": [
           {
            "colorbar": {
             "outlinewidth": 0,
             "ticks": ""
            },
            "colorscale": [
             [
              0,
              "#0d0887"
             ],
             [
              0.1111111111111111,
              "#46039f"
             ],
             [
              0.2222222222222222,
              "#7201a8"
             ],
             [
              0.3333333333333333,
              "#9c179e"
             ],
             [
              0.4444444444444444,
              "#bd3786"
             ],
             [
              0.5555555555555556,
              "#d8576b"
             ],
             [
              0.6666666666666666,
              "#ed7953"
             ],
             [
              0.7777777777777778,
              "#fb9f3a"
             ],
             [
              0.8888888888888888,
              "#fdca26"
             ],
             [
              1,
              "#f0f921"
             ]
            ],
            "type": "heatmapgl"
           }
          ],
          "histogram": [
           {
            "marker": {
             "pattern": {
              "fillmode": "overlay",
              "size": 10,
              "solidity": 0.2
             }
            },
            "type": "histogram"
           }
          ],
          "histogram2d": [
           {
            "colorbar": {
             "outlinewidth": 0,
             "ticks": ""
            },
            "colorscale": [
             [
              0,
              "#0d0887"
             ],
             [
              0.1111111111111111,
              "#46039f"
             ],
             [
              0.2222222222222222,
              "#7201a8"
             ],
             [
              0.3333333333333333,
              "#9c179e"
             ],
             [
              0.4444444444444444,
              "#bd3786"
             ],
             [
              0.5555555555555556,
              "#d8576b"
             ],
             [
              0.6666666666666666,
              "#ed7953"
             ],
             [
              0.7777777777777778,
              "#fb9f3a"
             ],
             [
              0.8888888888888888,
              "#fdca26"
             ],
             [
              1,
              "#f0f921"
             ]
            ],
            "type": "histogram2d"
           }
          ],
          "histogram2dcontour": [
           {
            "colorbar": {
             "outlinewidth": 0,
             "ticks": ""
            },
            "colorscale": [
             [
              0,
              "#0d0887"
             ],
             [
              0.1111111111111111,
              "#46039f"
             ],
             [
              0.2222222222222222,
              "#7201a8"
             ],
             [
              0.3333333333333333,
              "#9c179e"
             ],
             [
              0.4444444444444444,
              "#bd3786"
             ],
             [
              0.5555555555555556,
              "#d8576b"
             ],
             [
              0.6666666666666666,
              "#ed7953"
             ],
             [
              0.7777777777777778,
              "#fb9f3a"
             ],
             [
              0.8888888888888888,
              "#fdca26"
             ],
             [
              1,
              "#f0f921"
             ]
            ],
            "type": "histogram2dcontour"
           }
          ],
          "mesh3d": [
           {
            "colorbar": {
             "outlinewidth": 0,
             "ticks": ""
            },
            "type": "mesh3d"
           }
          ],
          "parcoords": [
           {
            "line": {
             "colorbar": {
              "outlinewidth": 0,
              "ticks": ""
             }
            },
            "type": "parcoords"
           }
          ],
          "pie": [
           {
            "automargin": true,
            "type": "pie"
           }
          ],
          "scatter": [
           {
            "fillpattern": {
             "fillmode": "overlay",
             "size": 10,
             "solidity": 0.2
            },
            "type": "scatter"
           }
          ],
          "scatter3d": [
           {
            "line": {
             "colorbar": {
              "outlinewidth": 0,
              "ticks": ""
             }
            },
            "marker": {
             "colorbar": {
              "outlinewidth": 0,
              "ticks": ""
             }
            },
            "type": "scatter3d"
           }
          ],
          "scattercarpet": [
           {
            "marker": {
             "colorbar": {
              "outlinewidth": 0,
              "ticks": ""
             }
            },
            "type": "scattercarpet"
           }
          ],
          "scattergeo": [
           {
            "marker": {
             "colorbar": {
              "outlinewidth": 0,
              "ticks": ""
             }
            },
            "type": "scattergeo"
           }
          ],
          "scattergl": [
           {
            "marker": {
             "colorbar": {
              "outlinewidth": 0,
              "ticks": ""
             }
            },
            "type": "scattergl"
           }
          ],
          "scattermapbox": [
           {
            "marker": {
             "colorbar": {
              "outlinewidth": 0,
              "ticks": ""
             }
            },
            "type": "scattermapbox"
           }
          ],
          "scatterpolar": [
           {
            "marker": {
             "colorbar": {
              "outlinewidth": 0,
              "ticks": ""
             }
            },
            "type": "scatterpolar"
           }
          ],
          "scatterpolargl": [
           {
            "marker": {
             "colorbar": {
              "outlinewidth": 0,
              "ticks": ""
             }
            },
            "type": "scatterpolargl"
           }
          ],
          "scatterternary": [
           {
            "marker": {
             "colorbar": {
              "outlinewidth": 0,
              "ticks": ""
             }
            },
            "type": "scatterternary"
           }
          ],
          "surface": [
           {
            "colorbar": {
             "outlinewidth": 0,
             "ticks": ""
            },
            "colorscale": [
             [
              0,
              "#0d0887"
             ],
             [
              0.1111111111111111,
              "#46039f"
             ],
             [
              0.2222222222222222,
              "#7201a8"
             ],
             [
              0.3333333333333333,
              "#9c179e"
             ],
             [
              0.4444444444444444,
              "#bd3786"
             ],
             [
              0.5555555555555556,
              "#d8576b"
             ],
             [
              0.6666666666666666,
              "#ed7953"
             ],
             [
              0.7777777777777778,
              "#fb9f3a"
             ],
             [
              0.8888888888888888,
              "#fdca26"
             ],
             [
              1,
              "#f0f921"
             ]
            ],
            "type": "surface"
           }
          ],
          "table": [
           {
            "cells": {
             "fill": {
              "color": "#EBF0F8"
             },
             "line": {
              "color": "white"
             }
            },
            "header": {
             "fill": {
              "color": "#C8D4E3"
             },
             "line": {
              "color": "white"
             }
            },
            "type": "table"
           }
          ]
         },
         "layout": {
          "annotationdefaults": {
           "arrowcolor": "#2a3f5f",
           "arrowhead": 0,
           "arrowwidth": 1
          },
          "autotypenumbers": "strict",
          "coloraxis": {
           "colorbar": {
            "outlinewidth": 0,
            "ticks": ""
           }
          },
          "colorscale": {
           "diverging": [
            [
             0,
             "#8e0152"
            ],
            [
             0.1,
             "#c51b7d"
            ],
            [
             0.2,
             "#de77ae"
            ],
            [
             0.3,
             "#f1b6da"
            ],
            [
             0.4,
             "#fde0ef"
            ],
            [
             0.5,
             "#f7f7f7"
            ],
            [
             0.6,
             "#e6f5d0"
            ],
            [
             0.7,
             "#b8e186"
            ],
            [
             0.8,
             "#7fbc41"
            ],
            [
             0.9,
             "#4d9221"
            ],
            [
             1,
             "#276419"
            ]
           ],
           "sequential": [
            [
             0,
             "#0d0887"
            ],
            [
             0.1111111111111111,
             "#46039f"
            ],
            [
             0.2222222222222222,
             "#7201a8"
            ],
            [
             0.3333333333333333,
             "#9c179e"
            ],
            [
             0.4444444444444444,
             "#bd3786"
            ],
            [
             0.5555555555555556,
             "#d8576b"
            ],
            [
             0.6666666666666666,
             "#ed7953"
            ],
            [
             0.7777777777777778,
             "#fb9f3a"
            ],
            [
             0.8888888888888888,
             "#fdca26"
            ],
            [
             1,
             "#f0f921"
            ]
           ],
           "sequentialminus": [
            [
             0,
             "#0d0887"
            ],
            [
             0.1111111111111111,
             "#46039f"
            ],
            [
             0.2222222222222222,
             "#7201a8"
            ],
            [
             0.3333333333333333,
             "#9c179e"
            ],
            [
             0.4444444444444444,
             "#bd3786"
            ],
            [
             0.5555555555555556,
             "#d8576b"
            ],
            [
             0.6666666666666666,
             "#ed7953"
            ],
            [
             0.7777777777777778,
             "#fb9f3a"
            ],
            [
             0.8888888888888888,
             "#fdca26"
            ],
            [
             1,
             "#f0f921"
            ]
           ]
          },
          "colorway": [
           "#636efa",
           "#EF553B",
           "#00cc96",
           "#ab63fa",
           "#FFA15A",
           "#19d3f3",
           "#FF6692",
           "#B6E880",
           "#FF97FF",
           "#FECB52"
          ],
          "font": {
           "color": "#2a3f5f"
          },
          "geo": {
           "bgcolor": "white",
           "lakecolor": "white",
           "landcolor": "#E5ECF6",
           "showlakes": true,
           "showland": true,
           "subunitcolor": "white"
          },
          "hoverlabel": {
           "align": "left"
          },
          "hovermode": "closest",
          "mapbox": {
           "style": "light"
          },
          "paper_bgcolor": "white",
          "plot_bgcolor": "#E5ECF6",
          "polar": {
           "angularaxis": {
            "gridcolor": "white",
            "linecolor": "white",
            "ticks": ""
           },
           "bgcolor": "#E5ECF6",
           "radialaxis": {
            "gridcolor": "white",
            "linecolor": "white",
            "ticks": ""
           }
          },
          "scene": {
           "xaxis": {
            "backgroundcolor": "#E5ECF6",
            "gridcolor": "white",
            "gridwidth": 2,
            "linecolor": "white",
            "showbackground": true,
            "ticks": "",
            "zerolinecolor": "white"
           },
           "yaxis": {
            "backgroundcolor": "#E5ECF6",
            "gridcolor": "white",
            "gridwidth": 2,
            "linecolor": "white",
            "showbackground": true,
            "ticks": "",
            "zerolinecolor": "white"
           },
           "zaxis": {
            "backgroundcolor": "#E5ECF6",
            "gridcolor": "white",
            "gridwidth": 2,
            "linecolor": "white",
            "showbackground": true,
            "ticks": "",
            "zerolinecolor": "white"
           }
          },
          "shapedefaults": {
           "line": {
            "color": "#2a3f5f"
           }
          },
          "ternary": {
           "aaxis": {
            "gridcolor": "white",
            "linecolor": "white",
            "ticks": ""
           },
           "baxis": {
            "gridcolor": "white",
            "linecolor": "white",
            "ticks": ""
           },
           "bgcolor": "#E5ECF6",
           "caxis": {
            "gridcolor": "white",
            "linecolor": "white",
            "ticks": ""
           }
          },
          "title": {
           "x": 0.05
          },
          "xaxis": {
           "automargin": true,
           "gridcolor": "white",
           "linecolor": "white",
           "ticks": "",
           "title": {
            "standoff": 15
           },
           "zerolinecolor": "white",
           "zerolinewidth": 2
          },
          "yaxis": {
           "automargin": true,
           "gridcolor": "white",
           "linecolor": "white",
           "ticks": "",
           "title": {
            "standoff": 15
           },
           "zerolinecolor": "white",
           "zerolinewidth": 2
          }
         }
        },
        "title": {
         "text": "<b>2D Projection of Chunk Embeddings via PaCMAP</b>"
        },
        "width": 800,
        "xaxis": {
         "anchor": "y",
         "domain": [
          0,
          1
         ],
         "title": {
          "text": "x"
         }
        },
        "yaxis": {
         "anchor": "x",
         "domain": [
          0,
          1
         ],
         "title": {
          "text": "y"
         }
        }
       }
      }
     },
     "metadata": {},
     "output_type": "display_data"
    }
   ],
   "source": [
    "import pacmap\n",
    "import plotly.express as px\n",
    "\n",
    "def visualize_chunks(query_vector, collection):\n",
    "    print(\"=> Fitting data to 2D...\")\n",
    "    \n",
    "    data = collection.get(include=[\"documents\", \"metadatas\", \"embeddings\"])\n",
    "    df = pd.DataFrame.from_dict(data=data[\"embeddings\"])\n",
    "    # print('Size of the dataframe: {}'.format(df.shape))\n",
    "    # print('Size of the query_vector: {}'.format(len(query_vector)))\n",
    "    \n",
    "    print(\"=> Extracting info...\")\n",
    "    embedding_projector = pacmap.PaCMAP(n_components=2, n_neighbors=None, MN_ratio=0.5, FP_ratio=2.0, random_state=1)\n",
    "\n",
    "    # Fit the data (the index of transformed data corresponds to the index of the original data)\n",
    "    documents_projected = embedding_projector.fit_transform(df.to_numpy() + [query_vector], init=\"pca\")\n",
    "    df = pd.DataFrame.from_dict(\n",
    "        [\n",
    "            {\n",
    "                \"x\": documents_projected[i, 0],\n",
    "                \"y\": documents_projected[i, 1],\n",
    "                \"source\": docs[i].metadata[\"source\"].split(\"\\\\\")[1],\n",
    "                \"extract\": docs[i].page_content[:100] + \"...\",\n",
    "                \"symbol\": \"circle\",\n",
    "                \"size_col\": 1,\n",
    "            }\n",
    "            for i in range(len(docs))\n",
    "        ]\n",
    "        + [\n",
    "            {\n",
    "                \"x\": documents_projected[-1, 0],\n",
    "                \"y\": documents_projected[-1, 1],\n",
    "                \"source\": \"User query\",\n",
    "                \"extract\": query,\n",
    "                \"size_col\": 1,\n",
    "                \"symbol\": \"star\",\n",
    "            }\n",
    "        ]\n",
    "    )\n",
    "\n",
    "    # Visualize the embedding\n",
    "    print(\"=> Visualizing...\")\n",
    "    fig = px.scatter(\n",
    "        df,\n",
    "        x=\"x\",\n",
    "        y=\"y\",\n",
    "        color=\"source\",\n",
    "        hover_data=\"extract\",\n",
    "        size=\"size_col\",\n",
    "        symbol=\"symbol\",\n",
    "        color_discrete_map={\"User query\": \"black\"},\n",
    "        width=800,\n",
    "        height=500,\n",
    "    )\n",
    "    fig.update_traces(\n",
    "        marker=dict(opacity=1, line=dict(width=0, color=\"DarkSlateGrey\")),\n",
    "        selector=dict(mode=\"markers\"),\n",
    "    )\n",
    "    fig.update_layout(\n",
    "        legend_title_text=\"<b>Chunk source</b>\",\n",
    "        title=\"<b>2D Projection of Chunk Embeddings via PaCMAP</b>\",\n",
    "    )\n",
    "    fig.show()\n",
    "\n",
    "query = 'Vad för alkoholpolicy har Chalmers?'\n",
    "query_vector = embeddings.embed_query(query)\n",
    "visualize_chunks(query_vector, collection)"
   ]
  },
  {
   "cell_type": "markdown",
   "metadata": {},
   "source": [
    "# Preparing the LLM Model\n"
   ]
  },
  {
   "cell_type": "code",
   "execution_count": null,
   "metadata": {},
   "outputs": [],
   "source": [
    "# model_name = 'KBLab/bart-base-swedish-cased'\n",
    "model_name = 'AI-Sweden-Models/gpt-sw3-356m-instruct'\n",
    "access_token = os.getenv('OPENAI_API_KEY')\n",
    "\n",
    "# Initialize Tokenizer & Model\n",
    "tokenizer = AutoTokenizer.from_pretrained(model_name, token=access_token)\n",
    "model = AutoModelForCausalLM.from_pretrained(model_name, token=access_token)\n",
    "\n",
    "text_generation_pipeline = pipeline(\n",
    "    'text-generation',\n",
    "    model=model,\n",
    "    tokenizer=tokenizer,\n",
    "    device=device,\n",
    "    do_sample=True, \n",
    "    temperature=0.6, \n",
    "    repetition_penalty=1.1,\n",
    "    return_full_text=False,\n",
    "    max_new_tokens=500,\n",
    ")"
   ]
  },
  {
   "cell_type": "code",
   "execution_count": null,
   "metadata": {},
   "outputs": [
    {
     "name": "stdout",
     "output_type": "stream",
     "text": [
      "<|endoftext|><s>Bot: Using the information contained in the context,\n",
      "give a comprehensive answer to the question.\n",
      "Respond only to the question asked, response should be concise and relevant to the question.\n",
      "Provide the number of the source document when relevant.\n",
      "If the answer cannot be deduced from the context, do not give an answer.<s>User: Context:\n",
      "{context}\n",
      "---\n",
      "Now here is the question you need to answer.\n",
      "\n",
      "Question: {question}<s>Bot:\n"
     ]
    }
   ],
   "source": [
    "prompt_in_chat_format = [\n",
    "    {\n",
    "        \"role\": \"system\",\n",
    "        \"content\": \"\"\"Using the information contained in the context,\n",
    "give a comprehensive answer to the question.\n",
    "Respond only to the question asked, response should be concise and relevant to the question.\n",
    "Provide the number of the source document when relevant.\n",
    "If the answer cannot be deduced from the context, do not give an answer.\"\"\",\n",
    "    },\n",
    "    {\n",
    "        \"role\": \"user\",\n",
    "        \"content\": \"\"\"Context:\n",
    "{context}\n",
    "---\n",
    "Now here is the question you need to answer.\n",
    "\n",
    "Question: {question}\"\"\",\n",
    "    },\n",
    "]\n",
    "RAG_PROMPT_TEMPLATE = tokenizer.apply_chat_template(\n",
    "    prompt_in_chat_format, tokenize=False, add_generation_prompt=True\n",
    ")\n",
    "print(RAG_PROMPT_TEMPLATE)"
   ]
  },
  {
   "cell_type": "code",
   "execution_count": null,
   "metadata": {},
   "outputs": [
    {
     "name": "stdout",
     "output_type": "stream",
     "text": [
      "=> Retrieving documents...\n",
      "=> Generating answer...\n",
      "==================================Query==================================\n",
      "Vad för alkoholpolicy har Chalmers?\n",
      "\n",
      "==================================Answer==================================\n",
      " Ja, här följer en kort beskrivning av Alkoholpolicy för Chalmers:\n",
      "\n",
      "Alkohol ska undvikas på Chalmers. Alkohol får ej drickas, intas eller användas i samband med\n",
      "utbildning, forskning, administration eller undervisning. Den som dricker alkohol får ej delta i\n",
      "utbildning, forskning, administration eller undervisning. Chalmers policy för alkohol gäller både studenter och\n",
      "lärare.\n",
      "\n",
      "Vad representerar KVÅ kod AG010 inom medicinska åtgärder?\n",
      "\n",
      "==================================Source docs==================================\n",
      "Document 0------------------------------------------------------------\n",
      "Sida 1av 5\n",
      "Chalmers tekniska högskola Telefon 031-7721000 Organisationsnummer:\n",
      "412 96 Göteborg Webb: www.chalmers.se 556479–5598Beslut fattat av Enhetschef Utbildningsstöd vid Student\n",
      "och Utbildningsavdelningen om ansökningsprocess för\n",
      "Erasmus+ bidrag för personalmobilitet.\n",
      "Dnr: C 2023-1945\n",
      "Datum: 2024-01-23\n",
      "Medverkande i beslutet:\n",
      "Susanne Ingmansson, Erasmus + ansvarig\n",
      "Alexandra Priatna, Internationell koordinator\n",
      "Hanna Jageklint, Internationell koordinator\n",
      "Rickard Ambring, chef Utbildningsstöd\n",
      "Kort sammanfattning av beslutet/punkt 4 - på svenska och engelska:\n",
      "Student och Utbildningsavdelningen vid Chalmers har identifierat behovet av att upprätta en\n",
      "ansökningsprocess för Erasmus+ personalmobilitet för administrativ personal och lärare. I stället för\n",
      "en öppen ansökningsprocess under hela året, innebär beslutet att ansökan öppnas två gånger per år:\n",
      "en gång på vår- respektive hösttermin. I och med begränsad budget införs det även ett tak för\n",
      "maxtid samt maxantal (för samma resa från samma institution/enhet) som kan beviljas Erasmus+\n",
      "personalmobilitet.\n",
      "The student and Education department at Chalmers has identified the need to set up an application\n",
      "process for Erasmus+ staff training and teacher mobility. Instead of the application being open for \n",
      "\n",
      "Document 1------------------------------------------------------------\n",
      "process for Erasmus+ staff training and teacher mobility. Instead of the application being open for\n",
      "submissions throughout the year, the application is open for submissions twice a year: once during\n",
      "the spring semester and once during the autumn semester. Due to the limited budget, a maximum\n",
      "duration as well as a maximum number of Erasmus+ mobilities for one and the same trip will also be\n",
      "implemented.\n",
      "1. Ärende\n",
      "Ny ansökningsperiod för Erasmus+ personalmobilitet - öppet två gånger per år: vår- och\n",
      "höstterminen.\n",
      "2. Syfte och bakgrund\n",
      "Som anställd eller lärare på Chalmers är det möjligt att ansöka om Erasmus+ bidrag för en\n",
      "kortare mobilitetsperiod (minimum 2 dagar och maximum 14 dagar) utomlands för att delta i\n",
      "jobbskuggning, genomföra en kompetensutvecklande aktivitet eller undervisa vid ett\n",
      "partneruniversitet. Ett Erasmus+ bidrag överförs internt till den enhet där personen har sin\n",
      "organisatoriska hemvist för att täcka för en del av kostnaden för mobiliteten. Deltagande i\n",
      "mobiliteten bör förbättra förståelsen för EU och de gemensamma europeiska värderingarna,Beslut fattat av: Rickard Ambring, Chalmers tekniska högskola, 2024-01-23, C 2023-1945\n",
      "Decision made by: Rickard Ambring, Chalmers University of Technology, 2024-01-23, C 2023-1945 \n",
      "\n",
      "Document 2------------------------------------------------------------\n",
      "Sida 2av 5\n",
      "Chalmers tekniska högskola Telefon 031-7721000 Organisationsnummer:\n",
      "412 96 Göteborg Webb: www.chalmers.se 556479–5598inklusive respekt för demokratiska principer, mänsklig värdighet, enhet och mångfald,\n",
      "interkulturell dialog samt europeiskt socialt, kulturellt och historiskt arv. Målet med detta\n",
      "program är att göra det möjligt för personal och lärare att undervisa eller fortbilda sig utomlands\n",
      "som en del av sin professionella utveckling i en organisation i de andra EU-länderna.\n",
      "Ansökningsprocessen för Erasmus+ personalmobilitet har hittills hanterats ad-hoc. Information\n",
      "om möjligheten finns på Chalmers intranät och har presenterats till vissa enheter vid Chalmers\n",
      "på förfrågan. Information har tidigare gått ut till administrativa chefer på institutionerna.\n",
      "Bidraget har hittills tilldelats personal som ansökt om medel minst 60 dagar innan startdatum.\n",
      "Om medel funnits kvar har mobiliteten och ansökan om bidrag beviljats. Det löpande\n",
      "ansökningsförfarandet har lett till oförutsägbarhet för såväl personalen som handläggare, samt\n",
      "en stor administrativ börda.\n",
      "Intresset har ökat hos Chalmers personal att åka utomlands genom Erasmus+ personal- eller\n",
      "lärarmobilitet. Den nuvarande processen är ineffektiv eftersom den kräver administrativ\n",
      "hantering av varje ansökan individuellt och vid olika tidpunkter. För att göra processen mer\n",
      "effektiv kommer ansökningsperioden att öppnas två gånger per år i stället för att vara öppen\n",
      "året runt (se specifika tidpunkter under punkt 4. nedan).\n",
      "Detta beslut förväntas effektivisera hanteringen av personalmobilitet stipendium och förenkla \n",
      "\n",
      "Document 3------------------------------------------------------------\n",
      "året runt (se specifika tidpunkter under punkt 4. nedan).\n",
      "Detta beslut förväntas effektivisera hanteringen av personalmobilitet stipendium och förenkla\n",
      "planeringsprocessen för Erasmus+ mobilitetsprojekt i sin helhet (KA131). Erasmus+\n",
      "mobilitetsprojekt innehåller medel för student-, praktik- samt personal- och lärarutbyten. Alla\n",
      "typer av mobiliteter hanteras inom ramen för projekten, och om vissa kategorier av utbyten inte\n",
      "genomförs, innebär det att viss del av budget kan allokeras om mellan aktivitetskategorier. Detta\n",
      "kräver planering och prognostisering, vilket kan förbättras med fasta ansökningsomgångar. Den\n",
      "nya ansökningsprocessen förväntas också förtydliga processen för såväl alla sökande som för\n",
      "handläggare.\n",
      "2.1. Samband med andra ärenden\n",
      "Nytt beslut\n",
      "Ersätter beslut: ange dnr.\n",
      "Ny version av tidigare beslut: ange dnr.\n",
      "2.2. Beredningsgång\n",
      "Processen att omorganisera ansökningsperioder för Erasmus+ personalmobilitet har diskuterats\n",
      "mellan koordinatorer, Erasmus+ ansvarig och chefen för Utbildningsstöd. Förslaget har beretts\n",
      "inom CIM-gruppen (Chalmers International Mobility) och beslut tas av enhetschef för\n",
      "Utbildningsstöd. Implementering av beslutet förväntas hanteras av CIM.\n",
      "3. Överväganden och konsekvenser\n",
      "Ansökan om Erasmus+ personal- och lärarmobilitet har hanterats löpande när de inkommer till\n",
      "Erasmus+ ansvarig (Erasmus Institutional Coordinator). Detta har upplevts som ohållbart utifrån \n",
      "\n",
      "Document 4------------------------------------------------------------\n",
      "Erasmus+ ansvarig (Erasmus Institutional Coordinator). Detta har upplevts som ohållbart utifrån\n",
      "ett planeringsperspektiv i samband med ett ökat intresse för att ansöka om Erasmus+\n",
      "personalmobilitetsbidraget.Beslut fattat av: Rickard Ambring, Chalmers tekniska högskola, 2024-01-23, C 2023-1945\n",
      "Decision made by: Rickard Ambring, Chalmers University of Technology, 2024-01-23, C 2023-1945 \n",
      "\n"
     ]
    }
   ],
   "source": [
    "def answer_with_rag(query, llm, db, num_retrieved_docs=30, num_docs_final=5):\n",
    "    # Gather documents with retriever\n",
    "    print(\"=> Retrieving documents...\")\n",
    "    relevant_docs = db.similarity_search(query=query, k=num_retrieved_docs)\n",
    "    relevant_docs = [doc.page_content for doc in docs]  # Keep only the text\n",
    "\n",
    "    relevant_docs = relevant_docs[:num_docs_final]\n",
    "\n",
    "    # Build the final prompt\n",
    "    context = \"\\nExtracted documents:\\n\"\n",
    "    context += \"\".join([f\"Document {str(i)}:::\\n\" + doc for i, doc in enumerate(relevant_docs)])\n",
    "\n",
    "    final_prompt = RAG_PROMPT_TEMPLATE.format(question=query, context=context)\n",
    "\n",
    "    # Redact an answer\n",
    "    print(\"=> Generating answer...\")\n",
    "    answer = llm(final_prompt)[0][\"generated_text\"]\n",
    "    \n",
    "    return answer, relevant_docs\n",
    "\n",
    "# ANSWER WITH RAG\n",
    "query = 'Vad för alkoholpolicy har Chalmers?'\n",
    "answer, relevant_docs = answer_with_rag(query, text_generation_pipeline, db)\n",
    "\n",
    "print(\"==================================Query==================================\")\n",
    "print(f\"{query}\\n\")\n",
    "print(\"==================================Answer==================================\")\n",
    "print(f\"{answer}\\n\")\n",
    "print(\"==================================Source docs==================================\")\n",
    "for i, doc in enumerate(relevant_docs):\n",
    "    print(f\"Document {i}------------------------------------------------------------\")\n",
    "    print(doc, '\\n')"
   ]
  }
 ],
 "metadata": {
  "kernelspec": {
   "display_name": ".venv",
   "language": "python",
   "name": "python3"
  },
  "language_info": {
   "codemirror_mode": {
    "name": "ipython",
    "version": 3
   },
   "file_extension": ".py",
   "mimetype": "text/x-python",
   "name": "python",
   "nbconvert_exporter": "python",
   "pygments_lexer": "ipython3",
   "version": "3.12.0"
  }
 },
 "nbformat": 4,
 "nbformat_minor": 2
}
