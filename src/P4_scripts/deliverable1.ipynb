{
 "cells": [
  {
   "cell_type": "markdown",
   "metadata": {},
   "source": [
    "#### **1. Load packages and env and set up client and set paths etc**"
   ]
  },
  {
   "cell_type": "code",
   "execution_count": 1,
   "metadata": {},
   "outputs": [],
   "source": [
    "from langchain_community.document_loaders import PyPDFLoader, PyPDFDirectoryLoader\n",
    "from dotenv import load_dotenv\n",
    "from openai import OpenAI\n",
    "import os \n",
    "import fitz  # PyMuPDF\n",
    "from langchain.schema import Document\n",
    "import json\n",
    "import pandas as pd\n",
    "\n",
    "## Load environment variables from the .env file\n",
    "load_dotenv()\n",
    "\n",
    "## Set up client\n",
    "client = OpenAI() # defaults to getting the key using os.environ.get(\"OPENAI_API_KEY\")\n",
    "MODEL = \"gpt-4o-mini\"\n",
    "\n",
    "## Folder paths set here\n",
    "pdfAvslagFolder = os.getenv('PDF_AVSLAG_PATH')\n",
    "txtAvslagFolder = os.getenv('TXT_AVSLAG_PATH')\n",
    "pdfBeviljadeFolder = os.getenv('PDF_BEV_PATH')\n",
    "txtBeviljadeFolder = os.getenv('TXT_BEV_PATH')"
   ]
  },
  {
   "cell_type": "markdown",
   "metadata": {},
   "source": [
    "#### **2. Helper Functions**"
   ]
  },
  {
   "cell_type": "code",
   "execution_count": 2,
   "metadata": {},
   "outputs": [],
   "source": [
    "def writeText(filePath, content):\n",
    "    ## FUNCTION: Creates and writes to new .txt-file at filePath \n",
    "    ## INPUT: Path to write to, and which content to write to\n",
    "    ## OUTPUT: none\n",
    "    with open(filePath, 'w') as file:\n",
    "        file.write(content)\n",
    "\n",
    "def readText(filePath):\n",
    "    ## FUNCTION: Returns content from a .txt file at filePath\n",
    "    ## INPUT: Filepath\n",
    "    ## OUTPUT : Content of the .txt-file\n",
    "\n",
    "    with open(filePath, 'r') as file:\n",
    "        content = file.read()\n",
    "    return content\n",
    "\n",
    "# function to load all pdfs in a folder\n",
    "def loadPDFs(folderPath):\n",
    "    docs = []\n",
    "    for filename in os.listdir(folderPath):\n",
    "        if filename.endswith(\".pdf\"):\n",
    "            filePath = os.path.join(folderPath, filename)\n",
    "            docs.append(loadOnePDF(filePath))\n",
    "    return docs\n",
    "\n",
    "def PDFtoTXT(pdfFolder, txtFolder, verbose = False):\n",
    "    ## FUNCTION: Take folder of pdf's, fill an empty folder with .txt's - one for each pdf with it's content.\n",
    "    ## INPUT: the path to a folder of pdfs\n",
    "    ## OUTPUT: For each PDF in the input folder, returns a .txt with the content of the pdf\n",
    "\n",
    "    # Ensure the text folder exists\n",
    "    os.makedirs(txtFolder, exist_ok=True)\n",
    "    \n",
    "    documents = loadPDFs(pdfFolder)\n",
    "\n",
    "    for document in documents:\n",
    "        # Extract the filename without extension and append .txt\n",
    "        pdfFilename = os.path.basename(document.metadata['source'])\n",
    "        txtFilename = os.path.splitext(pdfFilename)[0] + '.txt'\n",
    "        txtPath = os.path.join(txtFolder, txtFilename)\n",
    "\n",
    "        # Write document content to a text file\n",
    "        writeText(txtPath, document.page_content)\n",
    "        if verbose:\n",
    "            print(f\"Converted {pdfFilename} to {txtFilename}\")\n",
    "\n",
    "def extractGrades(fileContent):\n",
    "    ## FUNCTION: Essentially asks openai API to extract the categories and grades from a document.\n",
    "    ## INPUT: The content of a .txt file (a string, that is)\n",
    "    ## OUTPUT: The content part of a response from openai API client\n",
    "\n",
    "    ## Construct messages\n",
    "    messages = [\n",
    "        {\"role\": \"system\", \"content\": \"You are a helpful assistant that extracts categories and grades from text.\"},\n",
    "        {\"role\": \"user\", \"content\": f\"\"\"\n",
    "        Extract categories and grades from the following text and provide them in JSON format where categories are keys and grades are values. Each grade is an integer between 1 and 7:\n",
    "        {fileContent}\n",
    "        \"\"\"}\n",
    "    ]\n",
    "\n",
    "    ## Generate response\n",
    "    response = client.chat.completions.create(\n",
    "        model=MODEL,\n",
    "        messages=messages,\n",
    "        temperature=0.7\n",
    "    )\n",
    "    return response.choices[0].message.content\n",
    "\n",
    "def cleanJSONresponse(jsonResponse):\n",
    "    ## FUNCTION: Turns an openai API-response to a usable json\n",
    "    ## INPUT: content part of Response from openAI API client\n",
    "    ## OUTPUT: content included between '{' and '}'\n",
    "    try:\n",
    "        # Attempt to find the first and last curly brace to extract valid JSON\n",
    "        start = jsonResponse.index('{')\n",
    "        end = jsonResponse.rindex('}') + 1\n",
    "        json_str = jsonResponse[start:end]\n",
    "        return json.loads(json_str)\n",
    "    except (ValueError, json.JSONDecodeError) as e:\n",
    "        print(f\"Failed to clean and parse JSON: {e}\")\n",
    "        return None\n",
    " \n",
    "def txtFolder2json(txtFolder):\n",
    "    ## FUNCTION: Creates .json-file called the same as txtFolder but without the last three letters (assumed that txtFolder is called '******txt')\n",
    "    ## INPUT: Filepath to folder with .txt files\n",
    "    ## OUTPUT: none\n",
    " \n",
    "    folderName = os.path.basename(os.path.normpath(txtFolder))\n",
    "    besked = folderName[:-3] ## big assumption made here. That is that the file is called '****txt' Cleanup is neccessary.\n",
    "\n",
    "    # initialize a dictionary to store the extracted data from each file\n",
    "    extractedData = {}\n",
    "\n",
    "    # read content from each .txt file and extract categories and grades\n",
    "    for filename in os.listdir(txtFolder):\n",
    "        if filename.endswith('.txt'):\n",
    "            filePath = os.path.join(txtFolder, filename)\n",
    "            fileContent = readText(filePath)\n",
    "            jsonSummary = extractGrades(fileContent)\n",
    "        \n",
    "            jsonCleaned = cleanJSONresponse(jsonSummary)\n",
    "            if jsonCleaned is not None:\n",
    "                extractedData[filename] = jsonCleaned\n",
    "            else:\n",
    "                print(f\"Failed to parse JSON for file {filename}\")\n",
    "                print(\"GPT Response:\", jsonSummary)\n",
    " \n",
    "    jsonName = besked +'.json'\n",
    "    with open(jsonName, \"w\", encoding=\"utf-8\") as json_file:\n",
    "        json.dump(extractedData, json_file, indent=4, ensure_ascii=False)"
   ]
  },
  {
   "cell_type": "markdown",
   "metadata": {},
   "source": [
    "#### **3. Generate .txt from PDF folders**"
   ]
  },
  {
   "cell_type": "code",
   "execution_count": 3,
   "metadata": {},
   "outputs": [],
   "source": [
    "## Process the pdfs to txt. Set \"verbose = True\" to print name of each document processed. \n",
    "PDFtoTXT(pdfAvslagFolder, txtAvslagFolder, verbose = False) ## Avslag\n",
    "PDFtoTXT(pdfBeviljadeFolder, txtBeviljadeFolder, verbose = False) ## Beviljade"
   ]
  },
  {
   "cell_type": "markdown",
   "metadata": {},
   "source": [
    "#### **4. Generate and save.json from txtFolder**\n",
    "This cell might take a minute or three to run depending on how many documents are in the folders. "
   ]
  },
  {
   "cell_type": "code",
   "execution_count": 4,
   "metadata": {},
   "outputs": [
    {
     "name": "stdout",
     "output_type": "stream",
     "text": [
      "beviljade\n",
      "avslag\n"
     ]
    }
   ],
   "source": [
    "txtFolder2json(txtBeviljadeFolder)\n",
    "txtFolder2json(txtAvslagFolder)"
   ]
  },
  {
   "cell_type": "markdown",
   "metadata": {},
   "source": [
    "### I HAVE NOT CLEANED BELOW THIS CELL //FILIP 24/7-15:00"
   ]
  },
  {
   "cell_type": "markdown",
   "metadata": {},
   "source": [
    "Trying to make a data frame using the JSON and see what happens."
   ]
  },
  {
   "cell_type": "code",
   "execution_count": null,
   "metadata": {},
   "outputs": [],
   "source": [
    "# load JSON file\n",
    "\n",
    "with open(\"beviljade.json\", \"r\", encoding=\"utf-8\") as json_file:\n",
    "    beviljade = json.load(json_file)"
   ]
  },
  {
   "cell_type": "code",
   "execution_count": null,
   "metadata": {},
   "outputs": [],
   "source": [
    "# convert to dataframe\n",
    "\n",
    "# Convert the dictionary to a pandas DataFrame\n",
    "dfbev = pd.DataFrame.from_dict(beviljade, orient='index')\n",
    "\n",
    "# Reset the index to move the filenames from the index to a column\n",
    "dfbev.reset_index(inplace=True)\n",
    "dfbev.rename(columns={'index': 'Filename'}, inplace=True)\n",
    "\n",
    "# Display the DataFrame\n",
    "print(dfbev)"
   ]
  },
  {
   "cell_type": "code",
   "execution_count": null,
   "metadata": {},
   "outputs": [],
   "source": [
    "#dfbev.info()\n",
    "#dfbev.describe() # summary statistics per column\n",
    "#dfbev.loc[0] # first row"
   ]
  },
  {
   "cell_type": "code",
   "execution_count": null,
   "metadata": {},
   "outputs": [],
   "source": [
    "dfbev.to_excel('output.xlsx', index=False)"
   ]
  },
  {
   "cell_type": "markdown",
   "metadata": {},
   "source": [
    "Some plotting below."
   ]
  },
  {
   "cell_type": "code",
   "execution_count": null,
   "metadata": {},
   "outputs": [],
   "source": [
    "## V1: Grouped Bar Plot\n",
    " \n",
    "import json\n",
    "import pandas as pd\n",
    "import matplotlib.pyplot as plt\n",
    " \n",
    "# Load the data\n",
    "with open('avslag.json', 'r') as file:\n",
    "    data = json.load(file)\n",
    " \n",
    "# Convert the data to a DataFrame\n",
    "df = pd.DataFrame(data).T\n",
    " \n",
    "# Create a grouped bar plot\n",
    "df.plot(kind='bar', figsize=(12, 8))\n",
    "plt.title('Scores for Each Category by Document')\n",
    "plt.xlabel('Documents')\n",
    "plt.ylabel('Scores')\n",
    "plt.legend(title='Categories', bbox_to_anchor=(1.05, 1), loc='upper left')\n",
    "plt.tight_layout()\n",
    "plt.show()\n",
    " "
   ]
  }
 ],
 "metadata": {
  "kernelspec": {
   "display_name": ".venv",
   "language": "python",
   "name": "python3"
  },
  "language_info": {
   "codemirror_mode": {
    "name": "ipython",
    "version": 3
   },
   "file_extension": ".py",
   "mimetype": "text/x-python",
   "name": "python",
   "nbconvert_exporter": "python",
   "pygments_lexer": "ipython3",
   "version": "3.12.4"
  }
 },
 "nbformat": 4,
 "nbformat_minor": 2
}
