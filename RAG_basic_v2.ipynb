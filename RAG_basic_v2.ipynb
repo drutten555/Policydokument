{
 "cells": [
  {
   "cell_type": "markdown",
   "metadata": {},
   "source": [
    "# Imports"
   ]
  },
  {
   "cell_type": "code",
   "execution_count": 56,
   "metadata": {},
   "outputs": [],
   "source": [
    "from langchain.vectorstores import Chroma\n",
    "from langchain.text_splitter import RecursiveCharacterTextSplitter\n",
    "from langchain_huggingface import HuggingFaceEmbeddings\n",
    "from langchain_openai import ChatOpenAI\n",
    "from langchain_community.document_loaders.pdf import PyPDFLoader, PyPDFDirectoryLoader\n",
    "from langchain_community.callbacks import get_openai_callback\n",
    "from langchain_core.runnables import RunnablePassthrough\n",
    "from langchain_core.output_parsers import StrOutputParser\n",
    "from langchain_core.prompts import PromptTemplate\n",
    "\n",
    "from transformers import AutoTokenizer\n",
    "\n",
    "import openai\n",
    "import os\n",
    "import chromadb\n",
    "import torch\n",
    "import re\n",
    "\n",
    "MODEL_NAME_KBLAB = 'KBLab/sentence-bert-swedish-cased'\n",
    "MODEL_NAME_KB = 'KB/bert-base-swedish-cased'\n",
    "MODEL_NAME_INTFLOAT = 'intfloat/multilingual-e5-large-instruct'\n",
    "\n",
    "PATH_DB = './db'\n",
    "COLLECTION_NAME = 'policy_collection'\n",
    "\n",
    "FILE_PATH = './src/documents/Alkohol- och drogpolicy.pdf'\n",
    "DIR_PATH = './src/documents'"
   ]
  },
  {
   "cell_type": "markdown",
   "metadata": {},
   "source": [
    "# Helper functions"
   ]
  },
  {
   "cell_type": "code",
   "execution_count": 37,
   "metadata": {},
   "outputs": [],
   "source": [
    "from typing import List\n",
    "\n",
    "def save_to_dir(texts: List[str], file_name: str, dir_path: str ='outputs'):\n",
    "    \"\"\"\n",
    "    Save text output to a .txt file in an `outputs` directory. \n",
    "    \"\"\"\n",
    "    \n",
    "    # Create an output directory if it doesn't exist.\n",
    "    if not os.path.exists(dir_path):\n",
    "        os.mkdir(dir_path)\n",
    "        print(\"Folder %s created!\" % dir_path)\n",
    "\n",
    "    # Run this to write the answer to a txt file in the output folder\n",
    "    file_path = dir_path + '/' +  file_name + '.txt'\n",
    "    open(file_path, 'w').close()\n",
    "    for text in texts:\n",
    "        with open(file_path, 'a', encoding='utf-8') as f:\n",
    "            f.write(text + \"\\n\\n\")\n",
    "\n",
    "def split_documents(chunk_size, documents, tokenizer_name):\n",
    "    \"\"\"\n",
    "    Split documents into chunks of maximum size `chunk_size` tokens and return a list of documents.\n",
    "    \"\"\"\n",
    "\n",
    "    # We use a hierarchical list of separators specifically tailored for splitting Markdown documents\n",
    "    # This list is taken from LangChain's MarkdownTextSplitter class\n",
    "    MARKDOWN_SEPARATORS = [\n",
    "        \"\\n\\n\\n\\n\",\n",
    "        \"\\n\\n\\n\",\n",
    "        \"\\n\\n\",\n",
    "        \"\\n\",\n",
    "        \".\",\n",
    "        \",\",\n",
    "        \" \",\n",
    "        \"\",\n",
    "    ]\n",
    "    # Remove all whitespaces between newlines e.g. \\n \\n \\n \\n --> \\n\\n\\n\\n\n",
    "    for doc in documents:\n",
    "        doc.page_content = re.sub('(?<=\\\\n) (?=\\\\n)', '', doc.page_content)\n",
    "\n",
    "    text_splitter = RecursiveCharacterTextSplitter.from_huggingface_tokenizer(\n",
    "        tokenizer=AutoTokenizer.from_pretrained(tokenizer_name),\n",
    "        chunk_size=chunk_size,\n",
    "        chunk_overlap=chunk_size // 10,\n",
    "        add_start_index=True,\n",
    "        strip_whitespace=True,\n",
    "        separators=MARKDOWN_SEPARATORS,\n",
    "    )\n",
    "\n",
    "    docs_processed = []\n",
    "    for doc in documents:\n",
    "        docs_processed += text_splitter.split_documents([doc])\n",
    "\n",
    "    # Remove duplicates\n",
    "    unique_texts = {}\n",
    "    docs_processed_unique = []\n",
    "    for doc in docs_processed:\n",
    "        if doc.page_content not in unique_texts:\n",
    "            unique_texts[doc.page_content] = True\n",
    "            docs_processed_unique.append(doc)\n",
    "\n",
    "    return docs_processed_unique\n",
    "\n",
    "def upload_data(docs, embedding_model, chunk_size, collection_name, persist_dir):\n",
    "    \"\"\"\n",
    "    Create a Chroma vectorstore from a list of documents.\n",
    "    \"\"\"\n",
    "    \n",
    "    # Split the documents to chunks\n",
    "    docs = split_documents(\n",
    "        chunk_size,  # Choose a chunk size adapted to our model\n",
    "        documents,\n",
    "        tokenizer_name=MODEL_NAME_KBLAB,\n",
    "    )\n",
    "\n",
    "    # Write chunk texts to txt file\n",
    "    chunks = [chunk.page_content for chunk in docs]\n",
    "    save_to_dir(chunks, 'chunks')\n",
    "    \n",
    "    # Create Chroma DB with document chunks\n",
    "    print(f\"Added {len(docs)} chunks to ChromaDB\")\n",
    "    return Chroma.from_documents(\n",
    "        documents=docs,\n",
    "        embedding=embedding_model,\n",
    "        collection_name=collection_name,\n",
    "        persist_directory=persist_dir\n",
    "    )"
   ]
  },
  {
   "cell_type": "markdown",
   "metadata": {},
   "source": [
    "# Chroma vectorstore and Embedding model"
   ]
  },
  {
   "cell_type": "markdown",
   "metadata": {},
   "source": [
    "### Initialize embedding model"
   ]
  },
  {
   "cell_type": "code",
   "execution_count": 31,
   "metadata": {},
   "outputs": [],
   "source": [
    "device = 'cuda:0' if torch.cuda.is_available() else 'cpu'   # Check for CUDA enabled GPU\n",
    "embedding_model = HuggingFaceEmbeddings(\n",
    "    model_name=MODEL_NAME_KBLAB, # Provide the pre-trained model's path\n",
    "    model_kwargs={'device':device}, # Pass the model configuration options\n",
    "    encode_kwargs={'normalize_embeddings': True} # Set `True` for cosine similarity\n",
    ")"
   ]
  },
  {
   "cell_type": "markdown",
   "metadata": {},
   "source": [
    "### Load and upload documents to ChromaDB and create a vectorstore"
   ]
  },
  {
   "cell_type": "markdown",
   "metadata": {},
   "source": [
    "Run this code if database is empty. Comment to not run again."
   ]
  },
  {
   "cell_type": "code",
   "execution_count": 57,
   "metadata": {},
   "outputs": [
    {
     "name": "stdout",
     "output_type": "stream",
     "text": [
      "Nr. of documents: 1\n",
      "A Document object: [Document(metadata={'source': 'src\\\\documents\\\\Alkohol- och drogpolicy.pdf', 'page': 0}, page_content='STYRDOKUMENT: Chalmers Alkohol-och drogpolicy C-2023-1732. Beslut av rektor 2024-03-18.Beslut av:\\nRektorTyp av styrdokument:\\nPolicyDiarienummer:\\nC 2023-1732\\nDatum för beslut :\\nSe e-signeringHandläggare :\\nKatrin Axelsson\\nDokumentet gäller från\\noch med\\n2024-03-18Avdelning/motsvarande som ansvarar för att dokumentet skapas och/eller\\nrevideras:\\nHR-avdelningen\\nDokumentet gäller till\\noch med:\\nTills vidareDokumentet ersätter tidigare beslut:\\nC 2008/538 - Policy och föreskrift avseende alkohol och droger vid Chalmers.\\nFöreliggande policy ersätter policy-delen i tidigare beslut. Föreskrift gäller fram tills\\nny version av föreskrift beslutas.\\nPolicy avseende alkohol-och droger\\nStyrdokument vid Chalmers tekniska högskola AB\\nEn alkohol- och drogfri högskola är en förutsättning för en god arbets- och studiemiljö. Alkohol och\\ndroger hör inte ihop med arbete och studier. På Chalmers är konsumtion av alkohol eller\\ndrogmissbruk under arbets- eller studietid inte tillåten och eventuellt bruk på fritiden får inte påverka\\nsäkerhet, arbetsförmåga eller trivsel på arbetsplatsen.\\nAlla som arbetar eller studerar vid Chalmers har ett ansvar att följa vår alkohol- och drogpolicy. Alla\\nmedarbetare är representanter för Chalmers och ska agera föredömligt även vid tjänsteresor och\\nexterna möten. Chef eller ledare med arbetsmiljöansvar har en skyldighet att säkerställa att policyn är\\nkänd och följs inom Chalmers.\\nVid arrangemang anordnade eller sponsrade av Chalmers utanför arbetstid kan alkohol serveras. Där\\nalkohol serveras ska även alkoholfria drycker erbjudas på ett likvärdigt sätt. Alkohol ska serveras med\\nåterhållsamhet.\\nI denna policy definieras droger som narkotikaklassade medel, som ej är medicinskt förskrivet. Därtill\\nräknas även hälsofarliga varor med beroendeframkallande egenskaper eller berusande effekt som\\nkan inverka negativt på arbetsförmågan.\\nVi agerar vid misstanke om påverkan av alkohol och droger.Beslut fattat av: Martin Nilsson Jacobi, Chalmers tekniska högskola, 2024-04-03, C 2023-1732\\nDecision made by: Martin Nilsson Jacobi, Chalmers University of Technology, 2024-04-03, C 2023-1732')]\n"
     ]
    }
   ],
   "source": [
    "# Load pdf document. Use PyPDFDirectoryLoader for loading files in directory.\n",
    "# loader = PyPDFLoader(FILE_PATH)\n",
    "# loader = PyPDFDirectoryLoader(DIR_PATH)\n",
    "# documents = loader.load()\n",
    "# print('Nr. of documents:', len(documents))\n",
    "# print('A Document object:', documents[:1])\n",
    "\n",
    "# Create vectorstore with the documents\n",
    "# vectorstore = upload_data(documents, embedding_model, 768, COLLECTION_NAME, PATH_DB)"
   ]
  },
  {
   "cell_type": "markdown",
   "metadata": {},
   "source": [
    "### Initialize existing persisting storage"
   ]
  },
  {
   "cell_type": "markdown",
   "metadata": {},
   "source": [
    "Now we can load the persisted database from disk, and use it as normal."
   ]
  },
  {
   "cell_type": "code",
   "execution_count": 12,
   "metadata": {},
   "outputs": [
    {
     "data": {
      "text/plain": [
       "{'ids': ['01218326-d821-4268-b1a0-3fc9936a4ba3',\n",
       "  '02163c15-1049-42cc-bc79-6092ac5753ce',\n",
       "  '04a913da-00af-4b00-82c7-f416e770ca77',\n",
       "  '04dce218-91fe-4a99-b5e8-906bf8baa084',\n",
       "  '05465d72-e89f-4de8-96e9-5189a7a698ff',\n",
       "  '05ca52b5-5410-46fc-a29b-b0cf9ae89d41',\n",
       "  '07573b57-e8d0-498e-8a3e-f93630adcd33',\n",
       "  '09d3bade-92e6-4a6c-9752-277110a3e69c',\n",
       "  '0b30c765-56fd-47d7-b3ad-962291c49359',\n",
       "  '0c3cda6e-d9e0-456d-81b5-21b957ff5918',\n",
       "  '0e73f62f-8803-4a9a-b72f-252b1542b0b7',\n",
       "  '0f3efe66-447a-482f-9d02-5dd1722bb581',\n",
       "  '0f43855f-75a3-4a70-b8ce-d8cae7faea46',\n",
       "  '13adfb6f-5549-4c0c-9366-4135f28e484a',\n",
       "  '1406999f-edc0-4b38-b3d7-3239a0937ee3',\n",
       "  '14223456-ecd0-42e4-9906-8fc540101961',\n",
       "  '1434e7c9-0447-4c87-b6ef-f2330abb6699',\n",
       "  '19636569-3931-4308-8e77-a1a995fbd3bc',\n",
       "  '1cb5d1aa-e06d-414b-a7de-b12b842b5925',\n",
       "  '1f6253f8-54cf-4574-8ebc-0a3af840c1a6',\n",
       "  '1fc9e59e-55eb-4c20-aca4-3b64abbdd1bc',\n",
       "  '20649988-aa5b-4974-8b9b-ec985ca834f2',\n",
       "  '23111814-24c1-4677-9312-c4e4ea2f290e',\n",
       "  '25c39892-6ff9-4adb-bb30-447050e7e941',\n",
       "  '276aef69-040b-473d-81ab-b175824c50ff',\n",
       "  '27b5dd47-8e54-477d-af4f-c4f04d5c2436',\n",
       "  '28ce3288-ddb4-4518-b77e-e83a548a5d0b',\n",
       "  '29d82a13-429a-48e4-9709-f07e918d2649',\n",
       "  '2dc93fbb-335e-45e4-9fed-21f57bec3dc5',\n",
       "  '2f6f79a5-0677-4225-9515-ad5a96910dc4',\n",
       "  '2f80c59d-9310-47b2-9279-e5a0a5720bb7',\n",
       "  '30a4116e-3efe-491b-9e4d-14a081f1a31f',\n",
       "  '31cd695a-e35a-4a89-9111-2de7139c04f8',\n",
       "  '32dfd112-ea53-4f1a-975e-34f961929b17',\n",
       "  '33c0418f-0074-4d6b-a172-b93f4b1e2b5a',\n",
       "  '347d033c-a5a2-447d-9917-eecd14a7ad13',\n",
       "  '35067ff7-5d98-487a-bf0f-ebc5793dad0b',\n",
       "  '3876406d-7771-4e3b-a95f-4133566ca789',\n",
       "  '3a5dd263-f9e6-492a-9166-6d9d4e657f17',\n",
       "  '3ae54737-d378-4e7c-9397-e8e2d921ef0f',\n",
       "  '3d257e4a-06c1-4838-9aec-273dfffbb719',\n",
       "  '3d78ff11-3931-4355-9158-725cffe4aa89',\n",
       "  '3dcfe3f6-1beb-4236-acb2-d2c4516fe6b7',\n",
       "  '3dfde3cf-408a-4936-aa6b-d8f093f107af',\n",
       "  '3e73db84-1953-431a-a147-d205fc0ba984',\n",
       "  '3f0d7802-ea31-4111-a773-52a003531614',\n",
       "  '3fdccc8b-36d1-4ec4-9dbc-20ca0acace91',\n",
       "  '4067bfae-39b1-44b5-bf28-65eab64ac085',\n",
       "  '411db2f0-7c98-4e89-89e4-bad554814002',\n",
       "  '41a2648d-e6e1-48a4-b9b3-492ffbbcb587',\n",
       "  '41aac8cf-1910-46a8-8086-2c96edcc499c',\n",
       "  '41e063a8-7d7a-40b7-afd8-3377796cf4e6',\n",
       "  '424750c6-73ac-4086-a6ea-3712d872b5c1',\n",
       "  '48c543c9-47f1-431c-858f-8526831e149e',\n",
       "  '4a125190-1164-4998-b622-8a0140680d2c',\n",
       "  '4b718fc4-3321-4dba-9415-4e4c17ba5150',\n",
       "  '4c924c5c-0269-4a4e-87a7-151769a19401',\n",
       "  '4f41fd8a-ca07-4de6-a784-65a35570e4d2',\n",
       "  '515b2e4c-ab0f-4462-b26d-a416fe4b4409',\n",
       "  '528c6763-73ee-4334-9615-83230cdd1747',\n",
       "  '53d3ff8d-b60c-479c-82f2-7c312174ceb6',\n",
       "  '5589ac2d-b14f-414c-b10f-4db71aa97354',\n",
       "  '56c0b01c-bfde-438e-a1e6-c8cc98854380',\n",
       "  '57ca87af-d1b7-42a9-a76b-c5e0d785dba7',\n",
       "  '590c0138-e1a6-4f73-bf1f-81a1d194f7d2',\n",
       "  '5a11e45f-abd1-435c-9743-3e023f0d684f',\n",
       "  '5ad8be49-abed-4422-9f38-d67eeae405c5',\n",
       "  '5ba4c0c4-807a-45ae-b5f3-96c0c39d3d47',\n",
       "  '5baabacf-d566-4fc0-995a-f817c06284d6',\n",
       "  '60ec7e6c-8ee8-4384-810b-a5e8f735c648',\n",
       "  '60fdae7e-5fb4-4050-9a65-87dfc49f909f',\n",
       "  '626c4143-4d9d-40a7-b142-872627379329',\n",
       "  '668501fc-3b50-4581-a88b-c152af6b4eab',\n",
       "  '66b13784-2b87-40cb-8392-90cbf72d8f72',\n",
       "  '672bf545-07a8-4f22-9982-32bd03e451cd',\n",
       "  '682afe82-25ba-4001-8d55-53f2ccf19829',\n",
       "  '691a86d6-d419-4645-981c-3f2a249e765c',\n",
       "  '6b45c08f-5341-4ce4-bd47-3d9419196e55',\n",
       "  '6c4e5ba4-e3c4-446c-b1b7-c06d060f6506',\n",
       "  '6c834850-608c-4fc9-b649-63570e29f072',\n",
       "  '6ef93179-4a96-45fa-9d73-05fad2810058',\n",
       "  '6f4f1a32-0cea-4ee1-8064-a8cd15725244',\n",
       "  '70210112-15c5-4904-a14b-3022beeccb11',\n",
       "  '714479b3-1d9e-4801-905a-2ef0c90141f3',\n",
       "  '71a60331-843f-4430-908d-905d1e797bd2',\n",
       "  '74202780-508c-4c31-8d5a-9c73a74e2eec',\n",
       "  '74785c6c-826e-4673-9d82-165899c4078f',\n",
       "  '75118ede-e77f-44a7-b9b1-bbc52c9bfd7a',\n",
       "  '757d0002-33e5-499e-82ed-6ab3cdafee83',\n",
       "  '7712b2da-018a-400d-ac3f-33c465b62948',\n",
       "  '78ca6b59-f66c-4eea-8729-8ef5de99541b',\n",
       "  '78d02b09-3cf9-4c0d-ae26-1bd10eeb3b40',\n",
       "  '791b17a3-958a-4a23-9630-899a25879f5c',\n",
       "  '7b9020b3-99f1-4f2a-b483-7a6013a55d97',\n",
       "  '7c59eaef-d79b-4f67-8b4e-02f3322f67ad',\n",
       "  '7e6bd670-9814-402f-be79-3d9e19eb405a',\n",
       "  '825bd361-6815-47ac-a1a4-c3e95252091a',\n",
       "  '82671eac-a019-46da-8e5f-622a0ed43570',\n",
       "  '82b6a228-a6b3-4bf3-9c41-c6c1fb0fcedd',\n",
       "  '85b45b9b-a436-4945-942f-7ef0ed9d4b4a',\n",
       "  '88cb307f-2c89-421f-951b-231799972ed7',\n",
       "  '8d541f74-6c1d-48a5-bcdc-0f144b33f07a',\n",
       "  '8dcbe888-18a5-44e9-99e9-399ae70275c5',\n",
       "  '8f2c5d0f-469d-4115-b70d-57f217e89fcb',\n",
       "  '9278b28b-1e6d-4f0f-8212-76f301f06a9d',\n",
       "  '92bb952a-034a-4df5-ac21-cf1068ae5d83',\n",
       "  '932f5c1e-770e-4489-a704-30e05d7e2bc6',\n",
       "  '940a5e85-7913-4539-a9ff-1cc73209a5e8',\n",
       "  '9448b4cf-96c6-4320-af06-76a6025af842',\n",
       "  '967d3c6b-851e-4ab9-8ceb-0ac30749c6f9',\n",
       "  '99c76d6e-7040-42b3-afc0-57da06d7a28f',\n",
       "  '9b147e88-0c49-4389-b7f7-24bf9aa442e2',\n",
       "  '9b8b3dd1-c230-4f41-926d-042923c852d4',\n",
       "  '9bb9dcb4-2a38-4118-ae4f-94778fcbde6b',\n",
       "  '9c2deb23-1025-4450-82ec-1639887272e1',\n",
       "  '9d56726d-80c2-4182-910e-df0a9f89a980',\n",
       "  '9f225451-73bc-4082-9086-f6bd4d43db0a',\n",
       "  'a1438833-d703-41ba-9655-e0fff439ca7a',\n",
       "  'a8e6b8ff-89c1-493b-a692-44c81a1dfb7c',\n",
       "  'a9c1095e-5e74-4169-8526-d041faed9cb9',\n",
       "  'aab72dd7-17fb-43da-83ed-7aeb8a03a408',\n",
       "  'b23b1619-123f-402a-92fe-a2757f242752',\n",
       "  'b545d09a-dd43-4d89-9eb5-4c40ae15fec1',\n",
       "  'b589b419-d370-4ef9-9e8a-94e2dcefbeba',\n",
       "  'b6b40e3c-4623-4ea7-905b-11e4b69d24ee',\n",
       "  'bc18a436-9eae-4890-aaae-9ad79eebac67',\n",
       "  'bed52351-2c0d-491e-8533-42906379ddd5',\n",
       "  'bf0990ea-5a68-49eb-bafb-5c2cba796dd9',\n",
       "  'bfd96ff0-40ae-4522-a693-172e4436d05c',\n",
       "  'c6f5b6a6-c19f-45fb-8484-b8ac981e899a',\n",
       "  'c83d0030-83c0-4ff7-95b4-572835007ba5',\n",
       "  'c83e1c8c-4471-46d6-996f-f7fe140e1502',\n",
       "  'c8d7f446-38b7-4968-8790-54d640c00bb8',\n",
       "  'c9113d6e-061c-456e-81fb-1174152d89b2',\n",
       "  'c996300e-ddde-4ec0-980f-45cc50f1e6b0',\n",
       "  'c9c1ca1a-41f6-4149-8d95-3723347e50b3',\n",
       "  'ca696313-a78c-4b5d-a088-d61fe8624eb7',\n",
       "  'ccd78b7f-5e9b-4ece-83fd-76621f9df5d7',\n",
       "  'ccfdc5f3-e6d8-4f29-bebf-fcd6b47ef9e8',\n",
       "  'cd7aef96-4205-48fd-9b62-2acb253fdd79',\n",
       "  'd108cbfe-526d-484d-85cd-4cc91d507892',\n",
       "  'd28c3fd6-9821-4be7-9bce-e08209f06af3',\n",
       "  'd41a79b4-06d6-466a-a3f6-64940cce7ee3',\n",
       "  'd6d2a146-7e91-4d90-9d31-9a67b4973c76',\n",
       "  'd72ba3d4-1df9-43ca-a0dd-a186f3386952',\n",
       "  'd8d7fa58-b06f-46b6-9e05-a48efcd25bf3',\n",
       "  'd913c252-aeb8-4e97-a7a3-a9835600ef80',\n",
       "  'd992e15e-f71d-4553-825b-ccba84673a2c',\n",
       "  'de802c6a-cda2-4dbb-8192-88ca8c7ada93',\n",
       "  'de99aec2-490b-4e0c-99d5-44443503c93a',\n",
       "  'df4cf61a-8b3b-43e7-975e-895df36889c1',\n",
       "  'e0c260cb-35e8-4d66-ac3c-08e99d399655',\n",
       "  'e1b60817-c5fa-4743-8b55-df072b08f069',\n",
       "  'e1d33791-37b9-482c-aa4c-5c96f341adbb',\n",
       "  'e2c6931f-7d0c-4e5e-acfd-8c381e8cfdc7',\n",
       "  'e312604a-495d-46a1-bcfc-0216bd146ebf',\n",
       "  'e45efa5e-afa9-4a0d-8391-b8af290e77b2',\n",
       "  'e589ed42-28c1-45db-a9ac-cfda5f8348df',\n",
       "  'e6379aa8-c0d0-4951-b2ab-225acfc187d7',\n",
       "  'e693d566-6923-4785-81f7-305bab6346a7',\n",
       "  'e75f7d69-4821-4d10-8495-280ba2869fd4',\n",
       "  'e93e23f2-e086-433c-9c8a-b86787cc6cb2',\n",
       "  'ebb9928a-8fac-45f2-b4c6-b646350603d1',\n",
       "  'eeadc63e-ea1e-4060-8965-8b3783f6bbd6',\n",
       "  'f07f3d8b-5a5c-4f9f-b2a8-7652fd8fb649',\n",
       "  'f1a0efb9-688f-4243-bdfc-8e4437afd6c5',\n",
       "  'f1ad5f14-a0b2-41fe-834b-0892b0ebb299',\n",
       "  'f1ef900a-5257-4055-ac75-4dc0f1e2c739',\n",
       "  'f2af8128-5587-475e-992e-f703614ae429',\n",
       "  'f440029c-1360-4136-833c-94be637fcf1e',\n",
       "  'f4457ca5-9a5a-421f-b144-49801532ac0d',\n",
       "  'f9ea04df-a081-4cc3-ae25-b03f7bdf6a26',\n",
       "  'fa20b5b3-6757-42b6-8800-03a689eea361',\n",
       "  'fa652a6d-8711-4667-a7e8-fc2faede929f',\n",
       "  'fa9de61a-af19-407c-b6c4-6c9f2169bcc9',\n",
       "  'fbaf6acd-79bb-4111-ad9f-479ab884aab3',\n",
       "  'fbe0a73f-b10d-4b8d-a4ef-44b3010e3a6d',\n",
       "  'ff213bc4-b815-479f-9ead-6e86b3d65785',\n",
       "  'ff372d93-300b-427f-9c67-1ce662952870'],\n",
       " 'embeddings': None,\n",
       " 'metadatas': [{'page': 4,\n",
       "   'source': 'data/P2-subset/Arbetsmiljö/C 2022-0879 Föreskrift för strålsäkerhet och kärnteknisk verksamhet vid Chalmers slutlig.PDF',\n",
       "   'start_index': 0},\n",
       "  {'page': 2,\n",
       "   'source': 'data/P2-subset/Arbetsmiljö/C 2022-0879 Föreskrift för strålsäkerhet och kärnteknisk verksamhet vid Chalmers slutlig.PDF',\n",
       "   'start_index': 0},\n",
       "  {'page': 2,\n",
       "   'source': 'data/P2-subset/Arbetsmiljö/C 2022-0879 Föreskrift för strålsäkerhet och kärnteknisk verksamhet vid Chalmers slutlig.PDF',\n",
       "   'start_index': 2739},\n",
       "  {'page': 8,\n",
       "   'source': 'data/P2-subset/Arbetsmiljö/C 2022-0879 Föreskrift för strålsäkerhet och kärnteknisk verksamhet vid Chalmers slutlig.PDF',\n",
       "   'start_index': 0},\n",
       "  {'page': 4,\n",
       "   'source': 'data/P2-subset/Arbetsmiljö/C 2022-0879 Föreskrift för strålsäkerhet och kärnteknisk verksamhet vid Chalmers slutlig.PDF',\n",
       "   'start_index': 2945},\n",
       "  {'page': 6,\n",
       "   'source': 'data/P2-subset/Arbetsmiljö/C 2022-0879 Föreskrift för strålsäkerhet och kärnteknisk verksamhet vid Chalmers slutlig.PDF',\n",
       "   'start_index': -1},\n",
       "  {'page': 8,\n",
       "   'source': 'data/P2-subset/Arbetsmiljö/C 2022-0879 Föreskrift för strålsäkerhet och kärnteknisk verksamhet vid Chalmers slutlig.PDF',\n",
       "   'start_index': 0},\n",
       "  {'page': 3,\n",
       "   'source': 'data/P2-subset/Arbetsmiljö/C 2022-0879 Föreskrift för strålsäkerhet och kärnteknisk verksamhet vid Chalmers slutlig.PDF',\n",
       "   'start_index': -1},\n",
       "  {'page': 2,\n",
       "   'source': 'data/P2-subset/Arbetsmiljö/C 2022-0879 Föreskrift för strålsäkerhet och kärnteknisk verksamhet vid Chalmers slutlig.PDF',\n",
       "   'start_index': -1},\n",
       "  {'page': 2,\n",
       "   'source': 'data/P2-subset/Arbetsmiljö/C 2022-0879 Föreskrift för strålsäkerhet och kärnteknisk verksamhet vid Chalmers slutlig.PDF',\n",
       "   'start_index': -1},\n",
       "  {'page': 1,\n",
       "   'source': 'data/P2-subset/Arbetsmiljö/C 2022-0879 Föreskrift för strålsäkerhet och kärnteknisk verksamhet vid Chalmers slutlig.PDF',\n",
       "   'start_index': 2826},\n",
       "  {'page': 7,\n",
       "   'source': 'data/P2-subset/Arbetsmiljö/C 2022-0879 Föreskrift för strålsäkerhet och kärnteknisk verksamhet vid Chalmers slutlig.PDF',\n",
       "   'start_index': 0},\n",
       "  {'page': 8,\n",
       "   'source': 'data/P2-subset/Arbetsmiljö/C 2022-0879 Föreskrift för strålsäkerhet och kärnteknisk verksamhet vid Chalmers slutlig.PDF',\n",
       "   'start_index': -1},\n",
       "  {'page': 8,\n",
       "   'source': 'data/P2-subset/Arbetsmiljö/C 2022-0879 Föreskrift för strålsäkerhet och kärnteknisk verksamhet vid Chalmers slutlig.PDF',\n",
       "   'start_index': 0},\n",
       "  {'page': 4,\n",
       "   'source': 'data/P2-subset/Arbetsmiljö/C 2022-0879 Föreskrift för strålsäkerhet och kärnteknisk verksamhet vid Chalmers slutlig.PDF',\n",
       "   'start_index': -1},\n",
       "  {'page': 5,\n",
       "   'source': 'data/P2-subset/Arbetsmiljö/C 2022-0879 Föreskrift för strålsäkerhet och kärnteknisk verksamhet vid Chalmers slutlig.PDF',\n",
       "   'start_index': 0},\n",
       "  {'page': 3,\n",
       "   'source': 'data/P2-subset/Arbetsmiljö/C 2022-0879 Föreskrift för strålsäkerhet och kärnteknisk verksamhet vid Chalmers slutlig.PDF',\n",
       "   'start_index': -1},\n",
       "  {'page': 3,\n",
       "   'source': 'data/P2-subset/Arbetsmiljö/C 2022-0879 Föreskrift för strålsäkerhet och kärnteknisk verksamhet vid Chalmers slutlig.PDF',\n",
       "   'start_index': -1},\n",
       "  {'page': 2,\n",
       "   'source': 'data/P2-subset/Arbetsmiljö/C 2022-0879 Föreskrift för strålsäkerhet och kärnteknisk verksamhet vid Chalmers slutlig.PDF',\n",
       "   'start_index': 0},\n",
       "  {'page': 0,\n",
       "   'source': 'data/P2-subset/Forskarutbildning/Föreskrifter för stipendier för studenter inom Chalmers utbildningsprogram på grund- och avancerad nivå C 2019-0748.PDF',\n",
       "   'start_index': 8},\n",
       "  {'page': 2,\n",
       "   'source': 'data/P2-subset/Arbetsmiljö/C 2022-0879 Föreskrift för strålsäkerhet och kärnteknisk verksamhet vid Chalmers slutlig.PDF',\n",
       "   'start_index': 0},\n",
       "  {'page': 1,\n",
       "   'source': 'data/P2-subset/Arbetsmiljö/C 2022-0879 Föreskrift för strålsäkerhet och kärnteknisk verksamhet vid Chalmers slutlig.PDF',\n",
       "   'start_index': 0},\n",
       "  {'page': 5,\n",
       "   'source': 'data/P2-subset/Arbetsmiljö/C 2022-0879 Föreskrift för strålsäkerhet och kärnteknisk verksamhet vid Chalmers slutlig.PDF',\n",
       "   'start_index': 0},\n",
       "  {'page': 2,\n",
       "   'source': 'data/P2-subset/Arbetsmiljö/C 2022-0879 Föreskrift för strålsäkerhet och kärnteknisk verksamhet vid Chalmers slutlig.PDF',\n",
       "   'start_index': 0},\n",
       "  {'page': 8,\n",
       "   'source': 'data/P2-subset/Arbetsmiljö/C 2022-0879 Föreskrift för strålsäkerhet och kärnteknisk verksamhet vid Chalmers slutlig.PDF',\n",
       "   'start_index': 0},\n",
       "  {'page': 5,\n",
       "   'source': 'data/P2-subset/Arbetsmiljö/C 2022-0879 Föreskrift för strålsäkerhet och kärnteknisk verksamhet vid Chalmers slutlig.PDF',\n",
       "   'start_index': 0},\n",
       "  {'page': 7,\n",
       "   'source': 'data/P2-subset/Arbetsmiljö/C 2022-0879 Föreskrift för strålsäkerhet och kärnteknisk verksamhet vid Chalmers slutlig.PDF',\n",
       "   'start_index': -1},\n",
       "  {'page': 6,\n",
       "   'source': 'data/P2-subset/Arbetsmiljö/C 2022-0879 Föreskrift för strålsäkerhet och kärnteknisk verksamhet vid Chalmers slutlig.PDF',\n",
       "   'start_index': 0},\n",
       "  {'page': 1,\n",
       "   'source': 'data/P2-subset/Arbetsmiljö/C 2022-0879 Föreskrift för strålsäkerhet och kärnteknisk verksamhet vid Chalmers slutlig.PDF',\n",
       "   'start_index': 0},\n",
       "  {'page': 2,\n",
       "   'source': 'data/P2-subset/Arbetsmiljö/C 2022-0879 Föreskrift för strålsäkerhet och kärnteknisk verksamhet vid Chalmers slutlig.PDF',\n",
       "   'start_index': 0},\n",
       "  {'page': 6,\n",
       "   'source': 'data/P2-subset/Arbetsmiljö/C 2022-0879 Föreskrift för strålsäkerhet och kärnteknisk verksamhet vid Chalmers slutlig.PDF',\n",
       "   'start_index': -1},\n",
       "  {'page': 1,\n",
       "   'source': 'data/P2-subset/Arbetsmiljö/C 2022-0879 Föreskrift för strålsäkerhet och kärnteknisk verksamhet vid Chalmers slutlig.PDF',\n",
       "   'start_index': 2826},\n",
       "  {'page': 6,\n",
       "   'source': 'data/P2-subset/Arbetsmiljö/C 2022-0879 Föreskrift för strålsäkerhet och kärnteknisk verksamhet vid Chalmers slutlig.PDF',\n",
       "   'start_index': -1},\n",
       "  {'page': 5,\n",
       "   'source': 'data/P2-subset/Arbetsmiljö/C 2022-0879 Föreskrift för strålsäkerhet och kärnteknisk verksamhet vid Chalmers slutlig.PDF',\n",
       "   'start_index': -1},\n",
       "  {'page': 2,\n",
       "   'source': 'data/P2-subset/Arbetsmiljö/C 2022-0879 Föreskrift för strålsäkerhet och kärnteknisk verksamhet vid Chalmers slutlig.PDF',\n",
       "   'start_index': 0},\n",
       "  {'page': 1,\n",
       "   'source': 'data/P2-subset/Arbetsmiljö/C 2022-0879 Föreskrift för strålsäkerhet och kärnteknisk verksamhet vid Chalmers slutlig.PDF',\n",
       "   'start_index': 0},\n",
       "  {'page': 1,\n",
       "   'source': 'data/P2-subset/Arbetsmiljö/C 2022-0879 Föreskrift för strålsäkerhet och kärnteknisk verksamhet vid Chalmers slutlig.PDF',\n",
       "   'start_index': 0},\n",
       "  {'page': 0,\n",
       "   'source': 'data/P2-subset/Arbetsmiljö/C 2022-0879 Föreskrift för strålsäkerhet och kärnteknisk verksamhet vid Chalmers slutlig.PDF',\n",
       "   'start_index': -1},\n",
       "  {'page': 7,\n",
       "   'source': 'data/P2-subset/Arbetsmiljö/C 2022-0879 Föreskrift för strålsäkerhet och kärnteknisk verksamhet vid Chalmers slutlig.PDF',\n",
       "   'start_index': -1},\n",
       "  {'page': 8,\n",
       "   'source': 'data/P2-subset/Arbetsmiljö/C 2022-0879 Föreskrift för strålsäkerhet och kärnteknisk verksamhet vid Chalmers slutlig.PDF',\n",
       "   'start_index': -1},\n",
       "  {'page': 4,\n",
       "   'source': 'data/P2-subset/Arbetsmiljö/C 2022-0879 Föreskrift för strålsäkerhet och kärnteknisk verksamhet vid Chalmers slutlig.PDF',\n",
       "   'start_index': -1},\n",
       "  {'page': 1,\n",
       "   'source': 'data/P2-subset/Arbetsmiljö/C 2022-0879 Föreskrift för strålsäkerhet och kärnteknisk verksamhet vid Chalmers slutlig.PDF',\n",
       "   'start_index': -1},\n",
       "  {'page': 6,\n",
       "   'source': 'data/P2-subset/Arbetsmiljö/C 2022-0879 Föreskrift för strålsäkerhet och kärnteknisk verksamhet vid Chalmers slutlig.PDF',\n",
       "   'start_index': 0},\n",
       "  {'page': 8,\n",
       "   'source': 'data/P2-subset/Arbetsmiljö/C 2022-0879 Föreskrift för strålsäkerhet och kärnteknisk verksamhet vid Chalmers slutlig.PDF',\n",
       "   'start_index': -1},\n",
       "  {'page': 1,\n",
       "   'source': 'data/P2-subset/Arbetsmiljö/C 2022-0879 Föreskrift för strålsäkerhet och kärnteknisk verksamhet vid Chalmers slutlig.PDF',\n",
       "   'start_index': -1},\n",
       "  {'page': 0,\n",
       "   'source': 'data/P2-subset/Arbetsmiljö/C 2022-0879 Föreskrift för strålsäkerhet och kärnteknisk verksamhet vid Chalmers slutlig.PDF',\n",
       "   'start_index': 0},\n",
       "  {'page': 3,\n",
       "   'source': 'data/P2-subset/Arbetsmiljö/C 2022-0879 Föreskrift för strålsäkerhet och kärnteknisk verksamhet vid Chalmers slutlig.PDF',\n",
       "   'start_index': 0},\n",
       "  {'page': 5,\n",
       "   'source': 'data/P2-subset/Forskarutbildning/Föreskrifter för stipendier för studenter inom Chalmers utbildningsprogram på grund- och avancerad nivå C 2019-0748.PDF',\n",
       "   'start_index': 8},\n",
       "  {'page': 4,\n",
       "   'source': 'data/P2-subset/Arbetsmiljö/C 2022-0879 Föreskrift för strålsäkerhet och kärnteknisk verksamhet vid Chalmers slutlig.PDF',\n",
       "   'start_index': 0},\n",
       "  {'page': 4,\n",
       "   'source': 'data/P2-subset/Arbetsmiljö/C 2022-0879 Föreskrift för strålsäkerhet och kärnteknisk verksamhet vid Chalmers slutlig.PDF',\n",
       "   'start_index': 0},\n",
       "  {'page': 0,\n",
       "   'source': 'data/P2-subset/Arbetsmiljö/C 2022-0879 Föreskrift för strålsäkerhet och kärnteknisk verksamhet vid Chalmers slutlig.PDF',\n",
       "   'start_index': 0},\n",
       "  {'page': 0,\n",
       "   'source': 'data/P2-subset/Arbetsmiljö/C 2022-0879 Föreskrift för strålsäkerhet och kärnteknisk verksamhet vid Chalmers slutlig.PDF',\n",
       "   'start_index': 0},\n",
       "  {'page': 0,\n",
       "   'source': 'data/P2-subset/Arbetsmiljö/C 2022-0879 Föreskrift för strålsäkerhet och kärnteknisk verksamhet vid Chalmers slutlig.PDF',\n",
       "   'start_index': -1},\n",
       "  {'page': 5,\n",
       "   'source': 'data/P2-subset/Arbetsmiljö/C 2022-0879 Föreskrift för strålsäkerhet och kärnteknisk verksamhet vid Chalmers slutlig.PDF',\n",
       "   'start_index': -1},\n",
       "  {'page': 1,\n",
       "   'source': 'data/P2-subset/Arbetsmiljö/C 2022-0879 Föreskrift för strålsäkerhet och kärnteknisk verksamhet vid Chalmers slutlig.PDF',\n",
       "   'start_index': 2826},\n",
       "  {'page': 0,\n",
       "   'source': 'data/P2-subset/Arbetsmiljö/C 2022-0879 Föreskrift för strålsäkerhet och kärnteknisk verksamhet vid Chalmers slutlig.PDF',\n",
       "   'start_index': 0},\n",
       "  {'page': 4,\n",
       "   'source': 'data/P2-subset/Arbetsmiljö/C 2022-0879 Föreskrift för strålsäkerhet och kärnteknisk verksamhet vid Chalmers slutlig.PDF',\n",
       "   'start_index': 2945},\n",
       "  {'page': 0,\n",
       "   'source': 'data/P2-subset/Arbetsmiljö/C 2022-0879 Föreskrift för strålsäkerhet och kärnteknisk verksamhet vid Chalmers slutlig.PDF',\n",
       "   'start_index': -1},\n",
       "  {'page': 4,\n",
       "   'source': 'data/P2-subset/Arbetsmiljö/C 2022-0879 Föreskrift för strålsäkerhet och kärnteknisk verksamhet vid Chalmers slutlig.PDF',\n",
       "   'start_index': 2945},\n",
       "  {'page': 4,\n",
       "   'source': 'data/P2-subset/Arbetsmiljö/C 2022-0879 Föreskrift för strålsäkerhet och kärnteknisk verksamhet vid Chalmers slutlig.PDF',\n",
       "   'start_index': 2945},\n",
       "  {'page': 2,\n",
       "   'source': 'data/P2-subset/Arbetsmiljö/C 2022-0879 Föreskrift för strålsäkerhet och kärnteknisk verksamhet vid Chalmers slutlig.PDF',\n",
       "   'start_index': -1},\n",
       "  {'page': 4,\n",
       "   'source': 'data/P2-subset/Arbetsmiljö/C 2022-0879 Föreskrift för strålsäkerhet och kärnteknisk verksamhet vid Chalmers slutlig.PDF',\n",
       "   'start_index': -1},\n",
       "  {'page': 3,\n",
       "   'source': 'data/P2-subset/Arbetsmiljö/C 2022-0879 Föreskrift för strålsäkerhet och kärnteknisk verksamhet vid Chalmers slutlig.PDF',\n",
       "   'start_index': 0},\n",
       "  {'page': 2,\n",
       "   'source': 'data/P2-subset/Arbetsmiljö/C 2022-0879 Föreskrift för strålsäkerhet och kärnteknisk verksamhet vid Chalmers slutlig.PDF',\n",
       "   'start_index': -1},\n",
       "  {'page': 6,\n",
       "   'source': 'data/P2-subset/Arbetsmiljö/C 2022-0879 Föreskrift för strålsäkerhet och kärnteknisk verksamhet vid Chalmers slutlig.PDF',\n",
       "   'start_index': -1},\n",
       "  {'page': 5,\n",
       "   'source': 'data/P2-subset/Arbetsmiljö/C 2022-0879 Föreskrift för strålsäkerhet och kärnteknisk verksamhet vid Chalmers slutlig.PDF',\n",
       "   'start_index': -1},\n",
       "  {'page': 1,\n",
       "   'source': 'data/P2-subset/Arbetsmiljö/C 2022-0879 Föreskrift för strålsäkerhet och kärnteknisk verksamhet vid Chalmers slutlig.PDF',\n",
       "   'start_index': 0},\n",
       "  {'page': 6,\n",
       "   'source': 'data/P2-subset/Arbetsmiljö/C 2022-0879 Föreskrift för strålsäkerhet och kärnteknisk verksamhet vid Chalmers slutlig.PDF',\n",
       "   'start_index': 0},\n",
       "  {'page': 6,\n",
       "   'source': 'data/P2-subset/Arbetsmiljö/C 2022-0879 Föreskrift för strålsäkerhet och kärnteknisk verksamhet vid Chalmers slutlig.PDF',\n",
       "   'start_index': -1},\n",
       "  {'page': 6,\n",
       "   'source': 'data/P2-subset/Arbetsmiljö/C 2022-0879 Föreskrift för strålsäkerhet och kärnteknisk verksamhet vid Chalmers slutlig.PDF',\n",
       "   'start_index': 0},\n",
       "  {'page': 5,\n",
       "   'source': 'data/P2-subset/Arbetsmiljö/C 2022-0879 Föreskrift för strålsäkerhet och kärnteknisk verksamhet vid Chalmers slutlig.PDF',\n",
       "   'start_index': 0},\n",
       "  {'page': 8,\n",
       "   'source': 'data/P2-subset/Arbetsmiljö/C 2022-0879 Föreskrift för strålsäkerhet och kärnteknisk verksamhet vid Chalmers slutlig.PDF',\n",
       "   'start_index': 0},\n",
       "  {'page': 2,\n",
       "   'source': 'data/P2-subset/Arbetsmiljö/C 2022-0879 Föreskrift för strålsäkerhet och kärnteknisk verksamhet vid Chalmers slutlig.PDF',\n",
       "   'start_index': 2739},\n",
       "  {'page': 4,\n",
       "   'source': 'data/P2-subset/Arbetsmiljö/C 2022-0879 Föreskrift för strålsäkerhet och kärnteknisk verksamhet vid Chalmers slutlig.PDF',\n",
       "   'start_index': -1},\n",
       "  {'page': 7,\n",
       "   'source': 'data/P2-subset/Arbetsmiljö/C 2022-0879 Föreskrift för strålsäkerhet och kärnteknisk verksamhet vid Chalmers slutlig.PDF',\n",
       "   'start_index': 0},\n",
       "  {'page': 5,\n",
       "   'source': 'data/P2-subset/Arbetsmiljö/C 2022-0879 Föreskrift för strålsäkerhet och kärnteknisk verksamhet vid Chalmers slutlig.PDF',\n",
       "   'start_index': -1},\n",
       "  {'page': 3,\n",
       "   'source': 'data/P2-subset/Arbetsmiljö/C 2022-0879 Föreskrift för strålsäkerhet och kärnteknisk verksamhet vid Chalmers slutlig.PDF',\n",
       "   'start_index': 0},\n",
       "  {'page': 7,\n",
       "   'source': 'data/P2-subset/Forskarutbildning/Föreskrifter för stipendier för studenter inom Chalmers utbildningsprogram på grund- och avancerad nivå C 2019-0748.PDF',\n",
       "   'start_index': 8},\n",
       "  {'page': 3,\n",
       "   'source': 'data/P2-subset/Arbetsmiljö/C 2022-0879 Föreskrift för strålsäkerhet och kärnteknisk verksamhet vid Chalmers slutlig.PDF',\n",
       "   'start_index': -1},\n",
       "  {'page': 6,\n",
       "   'source': 'data/P2-subset/Arbetsmiljö/C 2022-0879 Föreskrift för strålsäkerhet och kärnteknisk verksamhet vid Chalmers slutlig.PDF',\n",
       "   'start_index': -1},\n",
       "  {'page': 0,\n",
       "   'source': 'data/P2-subset/Arbetsmiljö/C 2022-0879 Föreskrift för strålsäkerhet och kärnteknisk verksamhet vid Chalmers slutlig.PDF',\n",
       "   'start_index': 0},\n",
       "  {'page': 0,\n",
       "   'source': 'data/P2-subset/Arbetsmiljö/C 2022-0879 Föreskrift för strålsäkerhet och kärnteknisk verksamhet vid Chalmers slutlig.PDF',\n",
       "   'start_index': 0},\n",
       "  {'page': 7,\n",
       "   'source': 'data/P2-subset/Arbetsmiljö/C 2022-0879 Föreskrift för strålsäkerhet och kärnteknisk verksamhet vid Chalmers slutlig.PDF',\n",
       "   'start_index': -1},\n",
       "  {'page': 7,\n",
       "   'source': 'data/P2-subset/Arbetsmiljö/C 2022-0879 Föreskrift för strålsäkerhet och kärnteknisk verksamhet vid Chalmers slutlig.PDF',\n",
       "   'start_index': -1},\n",
       "  {'page': 0,\n",
       "   'source': 'data/P2-subset/Arbetsmiljö/C 2022-0879 Föreskrift för strålsäkerhet och kärnteknisk verksamhet vid Chalmers slutlig.PDF',\n",
       "   'start_index': 0},\n",
       "  {'page': 1,\n",
       "   'source': 'data/P2-subset/Arbetsmiljö/C 2022-0879 Föreskrift för strålsäkerhet och kärnteknisk verksamhet vid Chalmers slutlig.PDF',\n",
       "   'start_index': -1},\n",
       "  {'page': 1,\n",
       "   'source': 'data/P2-subset/Forskarutbildning/Föreskrifter för stipendier för studenter inom Chalmers utbildningsprogram på grund- och avancerad nivå C 2019-0748.PDF',\n",
       "   'start_index': 8},\n",
       "  {'page': 8,\n",
       "   'source': 'data/P2-subset/Arbetsmiljö/C 2022-0879 Föreskrift för strålsäkerhet och kärnteknisk verksamhet vid Chalmers slutlig.PDF',\n",
       "   'start_index': -1},\n",
       "  {'page': 3,\n",
       "   'source': 'data/P2-subset/Arbetsmiljö/C 2022-0879 Föreskrift för strålsäkerhet och kärnteknisk verksamhet vid Chalmers slutlig.PDF',\n",
       "   'start_index': 0},\n",
       "  {'page': 7,\n",
       "   'source': 'data/P2-subset/Arbetsmiljö/C 2022-0879 Föreskrift för strålsäkerhet och kärnteknisk verksamhet vid Chalmers slutlig.PDF',\n",
       "   'start_index': 0},\n",
       "  {'page': 8,\n",
       "   'source': 'data/P2-subset/Arbetsmiljö/C 2022-0879 Föreskrift för strålsäkerhet och kärnteknisk verksamhet vid Chalmers slutlig.PDF',\n",
       "   'start_index': 0},\n",
       "  {'page': 0,\n",
       "   'source': 'data/P2-subset/Arbetsmiljö/C 2022-0879 Föreskrift för strålsäkerhet och kärnteknisk verksamhet vid Chalmers slutlig.PDF',\n",
       "   'start_index': -1},\n",
       "  {'page': 2,\n",
       "   'source': 'data/P2-subset/Forskarutbildning/Föreskrifter för stipendier för studenter inom Chalmers utbildningsprogram på grund- och avancerad nivå C 2019-0748.PDF',\n",
       "   'start_index': 8},\n",
       "  {'page': 1,\n",
       "   'source': 'data/P2-subset/Arbetsmiljö/C 2022-0879 Föreskrift för strålsäkerhet och kärnteknisk verksamhet vid Chalmers slutlig.PDF',\n",
       "   'start_index': 2826},\n",
       "  {'page': 6,\n",
       "   'source': 'data/P2-subset/Arbetsmiljö/C 2022-0879 Föreskrift för strålsäkerhet och kärnteknisk verksamhet vid Chalmers slutlig.PDF',\n",
       "   'start_index': 0},\n",
       "  {'page': 8,\n",
       "   'source': 'data/P2-subset/Arbetsmiljö/C 2022-0879 Föreskrift för strålsäkerhet och kärnteknisk verksamhet vid Chalmers slutlig.PDF',\n",
       "   'start_index': -1},\n",
       "  {'page': 7,\n",
       "   'source': 'data/P2-subset/Arbetsmiljö/C 2022-0879 Föreskrift för strålsäkerhet och kärnteknisk verksamhet vid Chalmers slutlig.PDF',\n",
       "   'start_index': 0},\n",
       "  {'page': 7,\n",
       "   'source': 'data/P2-subset/Arbetsmiljö/C 2022-0879 Föreskrift för strålsäkerhet och kärnteknisk verksamhet vid Chalmers slutlig.PDF',\n",
       "   'start_index': -1},\n",
       "  {'page': 2,\n",
       "   'source': 'data/P2-subset/Arbetsmiljö/C 2022-0879 Föreskrift för strålsäkerhet och kärnteknisk verksamhet vid Chalmers slutlig.PDF',\n",
       "   'start_index': -1},\n",
       "  {'page': 0,\n",
       "   'source': 'data/P2-subset/Arbetsmiljö/C 2022-0879 Föreskrift för strålsäkerhet och kärnteknisk verksamhet vid Chalmers slutlig.PDF',\n",
       "   'start_index': -1},\n",
       "  {'page': 4,\n",
       "   'source': 'data/P2-subset/Arbetsmiljö/C 2022-0879 Föreskrift för strålsäkerhet och kärnteknisk verksamhet vid Chalmers slutlig.PDF',\n",
       "   'start_index': 2945},\n",
       "  {'page': 7,\n",
       "   'source': 'data/P2-subset/Arbetsmiljö/C 2022-0879 Föreskrift för strålsäkerhet och kärnteknisk verksamhet vid Chalmers slutlig.PDF',\n",
       "   'start_index': 0},\n",
       "  {'page': 1,\n",
       "   'source': 'data/P2-subset/Arbetsmiljö/C 2022-0879 Föreskrift för strålsäkerhet och kärnteknisk verksamhet vid Chalmers slutlig.PDF',\n",
       "   'start_index': 2826},\n",
       "  {'page': 1,\n",
       "   'source': 'data/P2-subset/Arbetsmiljö/C 2022-0879 Föreskrift för strålsäkerhet och kärnteknisk verksamhet vid Chalmers slutlig.PDF',\n",
       "   'start_index': -1},\n",
       "  {'page': 5,\n",
       "   'source': 'data/P2-subset/Arbetsmiljö/C 2022-0879 Föreskrift för strålsäkerhet och kärnteknisk verksamhet vid Chalmers slutlig.PDF',\n",
       "   'start_index': 0},\n",
       "  {'page': 0,\n",
       "   'source': 'data/P2-subset/Arbetsmiljö/C 2022-0879 Föreskrift för strålsäkerhet och kärnteknisk verksamhet vid Chalmers slutlig.PDF',\n",
       "   'start_index': 0},\n",
       "  {'page': 1,\n",
       "   'source': 'data/P2-subset/Arbetsmiljö/C 2022-0879 Föreskrift för strålsäkerhet och kärnteknisk verksamhet vid Chalmers slutlig.PDF',\n",
       "   'start_index': 0},\n",
       "  {'page': 1,\n",
       "   'source': 'data/P2-subset/Arbetsmiljö/C 2022-0879 Föreskrift för strålsäkerhet och kärnteknisk verksamhet vid Chalmers slutlig.PDF',\n",
       "   'start_index': -1},\n",
       "  {'page': 7,\n",
       "   'source': 'data/P2-subset/Arbetsmiljö/C 2022-0879 Föreskrift för strålsäkerhet och kärnteknisk verksamhet vid Chalmers slutlig.PDF',\n",
       "   'start_index': 0},\n",
       "  {'page': 3,\n",
       "   'source': 'data/P2-subset/Arbetsmiljö/C 2022-0879 Föreskrift för strålsäkerhet och kärnteknisk verksamhet vid Chalmers slutlig.PDF',\n",
       "   'start_index': 0},\n",
       "  {'page': 4,\n",
       "   'source': 'data/P2-subset/Arbetsmiljö/C 2022-0879 Föreskrift för strålsäkerhet och kärnteknisk verksamhet vid Chalmers slutlig.PDF',\n",
       "   'start_index': 2945},\n",
       "  {'page': 4,\n",
       "   'source': 'data/P2-subset/Arbetsmiljö/C 2022-0879 Föreskrift för strålsäkerhet och kärnteknisk verksamhet vid Chalmers slutlig.PDF',\n",
       "   'start_index': -1},\n",
       "  {'page': 4,\n",
       "   'source': 'data/P2-subset/Arbetsmiljö/C 2022-0879 Föreskrift för strålsäkerhet och kärnteknisk verksamhet vid Chalmers slutlig.PDF',\n",
       "   'start_index': 0},\n",
       "  {'page': 4,\n",
       "   'source': 'data/P2-subset/Arbetsmiljö/C 2022-0879 Föreskrift för strålsäkerhet och kärnteknisk verksamhet vid Chalmers slutlig.PDF',\n",
       "   'start_index': -1},\n",
       "  {'page': 8,\n",
       "   'source': 'data/P2-subset/Arbetsmiljö/C 2022-0879 Föreskrift för strålsäkerhet och kärnteknisk verksamhet vid Chalmers slutlig.PDF',\n",
       "   'start_index': 0},\n",
       "  {'page': 3,\n",
       "   'source': 'data/P2-subset/Arbetsmiljö/C 2022-0879 Föreskrift för strålsäkerhet och kärnteknisk verksamhet vid Chalmers slutlig.PDF',\n",
       "   'start_index': -1},\n",
       "  {'page': 5,\n",
       "   'source': 'data/P2-subset/Arbetsmiljö/C 2022-0879 Föreskrift för strålsäkerhet och kärnteknisk verksamhet vid Chalmers slutlig.PDF',\n",
       "   'start_index': -1},\n",
       "  {'page': 7,\n",
       "   'source': 'data/P2-subset/Arbetsmiljö/C 2022-0879 Föreskrift för strålsäkerhet och kärnteknisk verksamhet vid Chalmers slutlig.PDF',\n",
       "   'start_index': 0},\n",
       "  {'page': 3,\n",
       "   'source': 'data/P2-subset/Arbetsmiljö/C 2022-0879 Föreskrift för strålsäkerhet och kärnteknisk verksamhet vid Chalmers slutlig.PDF',\n",
       "   'start_index': -1},\n",
       "  {'page': 3,\n",
       "   'source': 'data/P2-subset/Arbetsmiljö/C 2022-0879 Föreskrift för strålsäkerhet och kärnteknisk verksamhet vid Chalmers slutlig.PDF',\n",
       "   'start_index': 0},\n",
       "  {'page': 2,\n",
       "   'source': 'data/P2-subset/Arbetsmiljö/C 2022-0879 Föreskrift för strålsäkerhet och kärnteknisk verksamhet vid Chalmers slutlig.PDF',\n",
       "   'start_index': 0},\n",
       "  {'page': 7,\n",
       "   'source': 'data/P2-subset/Arbetsmiljö/C 2022-0879 Föreskrift för strålsäkerhet och kärnteknisk verksamhet vid Chalmers slutlig.PDF',\n",
       "   'start_index': 0},\n",
       "  {'page': 0,\n",
       "   'source': 'data/P2-subset/Arbetsmiljö/C 2022-0879 Föreskrift för strålsäkerhet och kärnteknisk verksamhet vid Chalmers slutlig.PDF',\n",
       "   'start_index': -1},\n",
       "  {'page': 8,\n",
       "   'source': 'data/P2-subset/Arbetsmiljö/C 2022-0879 Föreskrift för strålsäkerhet och kärnteknisk verksamhet vid Chalmers slutlig.PDF',\n",
       "   'start_index': -1},\n",
       "  {'page': 3,\n",
       "   'source': 'data/P2-subset/Arbetsmiljö/C 2022-0879 Föreskrift för strålsäkerhet och kärnteknisk verksamhet vid Chalmers slutlig.PDF',\n",
       "   'start_index': 0},\n",
       "  {'page': 6,\n",
       "   'source': 'data/P2-subset/Arbetsmiljö/C 2022-0879 Föreskrift för strålsäkerhet och kärnteknisk verksamhet vid Chalmers slutlig.PDF',\n",
       "   'start_index': 0},\n",
       "  {'page': 1,\n",
       "   'source': 'data/P2-subset/Arbetsmiljö/C 2022-0879 Föreskrift för strålsäkerhet och kärnteknisk verksamhet vid Chalmers slutlig.PDF',\n",
       "   'start_index': -1},\n",
       "  {'page': 7,\n",
       "   'source': 'data/P2-subset/Arbetsmiljö/C 2022-0879 Föreskrift för strålsäkerhet och kärnteknisk verksamhet vid Chalmers slutlig.PDF',\n",
       "   'start_index': -1},\n",
       "  {'page': 7,\n",
       "   'source': 'data/P2-subset/Arbetsmiljö/C 2022-0879 Föreskrift för strålsäkerhet och kärnteknisk verksamhet vid Chalmers slutlig.PDF',\n",
       "   'start_index': -1},\n",
       "  {'page': 4,\n",
       "   'source': 'data/P2-subset/Arbetsmiljö/C 2022-0879 Föreskrift för strålsäkerhet och kärnteknisk verksamhet vid Chalmers slutlig.PDF',\n",
       "   'start_index': -1},\n",
       "  {'page': 6,\n",
       "   'source': 'data/P2-subset/Forskarutbildning/Föreskrifter för stipendier för studenter inom Chalmers utbildningsprogram på grund- och avancerad nivå C 2019-0748.PDF',\n",
       "   'start_index': 8},\n",
       "  {'page': 1,\n",
       "   'source': 'data/P2-subset/Arbetsmiljö/C 2022-0879 Föreskrift för strålsäkerhet och kärnteknisk verksamhet vid Chalmers slutlig.PDF',\n",
       "   'start_index': 2826},\n",
       "  {'page': 5,\n",
       "   'source': 'data/P2-subset/Arbetsmiljö/C 2022-0879 Föreskrift för strålsäkerhet och kärnteknisk verksamhet vid Chalmers slutlig.PDF',\n",
       "   'start_index': -1},\n",
       "  {'page': 2,\n",
       "   'source': 'data/P2-subset/Arbetsmiljö/C 2022-0879 Föreskrift för strålsäkerhet och kärnteknisk verksamhet vid Chalmers slutlig.PDF',\n",
       "   'start_index': 2739},\n",
       "  {'page': 5,\n",
       "   'source': 'data/P2-subset/Arbetsmiljö/C 2022-0879 Föreskrift för strålsäkerhet och kärnteknisk verksamhet vid Chalmers slutlig.PDF',\n",
       "   'start_index': 0},\n",
       "  {'page': 2,\n",
       "   'source': 'data/P2-subset/Arbetsmiljö/C 2022-0879 Föreskrift för strålsäkerhet och kärnteknisk verksamhet vid Chalmers slutlig.PDF',\n",
       "   'start_index': -1},\n",
       "  {'page': 0,\n",
       "   'source': 'data/P2-subset/Arbetsmiljö/C 2022-0879 Föreskrift för strålsäkerhet och kärnteknisk verksamhet vid Chalmers slutlig.PDF',\n",
       "   'start_index': 0},\n",
       "  {'page': 5,\n",
       "   'source': 'data/P2-subset/Arbetsmiljö/C 2022-0879 Föreskrift för strålsäkerhet och kärnteknisk verksamhet vid Chalmers slutlig.PDF',\n",
       "   'start_index': 0},\n",
       "  {'page': 6,\n",
       "   'source': 'data/P2-subset/Arbetsmiljö/C 2022-0879 Föreskrift för strålsäkerhet och kärnteknisk verksamhet vid Chalmers slutlig.PDF',\n",
       "   'start_index': -1},\n",
       "  {'page': 2,\n",
       "   'source': 'data/P2-subset/Arbetsmiljö/C 2022-0879 Föreskrift för strålsäkerhet och kärnteknisk verksamhet vid Chalmers slutlig.PDF',\n",
       "   'start_index': -1},\n",
       "  {'page': 4,\n",
       "   'source': 'data/P2-subset/Arbetsmiljö/C 2022-0879 Föreskrift för strålsäkerhet och kärnteknisk verksamhet vid Chalmers slutlig.PDF',\n",
       "   'start_index': 2945},\n",
       "  {'page': 2,\n",
       "   'source': 'data/P2-subset/Arbetsmiljö/C 2022-0879 Föreskrift för strålsäkerhet och kärnteknisk verksamhet vid Chalmers slutlig.PDF',\n",
       "   'start_index': 2739},\n",
       "  {'page': 3,\n",
       "   'source': 'data/P2-subset/Arbetsmiljö/C 2022-0879 Föreskrift för strålsäkerhet och kärnteknisk verksamhet vid Chalmers slutlig.PDF',\n",
       "   'start_index': -1},\n",
       "  {'page': 4,\n",
       "   'source': 'data/P2-subset/Arbetsmiljö/C 2022-0879 Föreskrift för strålsäkerhet och kärnteknisk verksamhet vid Chalmers slutlig.PDF',\n",
       "   'start_index': 0},\n",
       "  {'page': 1,\n",
       "   'source': 'data/P2-subset/Arbetsmiljö/C 2022-0879 Föreskrift för strålsäkerhet och kärnteknisk verksamhet vid Chalmers slutlig.PDF',\n",
       "   'start_index': -1},\n",
       "  {'page': 1,\n",
       "   'source': 'data/P2-subset/Arbetsmiljö/C 2022-0879 Föreskrift för strålsäkerhet och kärnteknisk verksamhet vid Chalmers slutlig.PDF',\n",
       "   'start_index': -1},\n",
       "  {'page': 5,\n",
       "   'source': 'data/P2-subset/Arbetsmiljö/C 2022-0879 Föreskrift för strålsäkerhet och kärnteknisk verksamhet vid Chalmers slutlig.PDF',\n",
       "   'start_index': -1},\n",
       "  {'page': 6,\n",
       "   'source': 'data/P2-subset/Arbetsmiljö/C 2022-0879 Föreskrift för strålsäkerhet och kärnteknisk verksamhet vid Chalmers slutlig.PDF',\n",
       "   'start_index': 0},\n",
       "  {'page': 8,\n",
       "   'source': 'data/P2-subset/Arbetsmiljö/C 2022-0879 Föreskrift för strålsäkerhet och kärnteknisk verksamhet vid Chalmers slutlig.PDF',\n",
       "   'start_index': -1},\n",
       "  {'page': 6,\n",
       "   'source': 'data/P2-subset/Arbetsmiljö/C 2022-0879 Föreskrift för strålsäkerhet och kärnteknisk verksamhet vid Chalmers slutlig.PDF',\n",
       "   'start_index': 0},\n",
       "  {'page': 4,\n",
       "   'source': 'data/P2-subset/Arbetsmiljö/C 2022-0879 Föreskrift för strålsäkerhet och kärnteknisk verksamhet vid Chalmers slutlig.PDF',\n",
       "   'start_index': -1},\n",
       "  {'page': 4,\n",
       "   'source': 'data/P2-subset/Forskarutbildning/Föreskrifter för stipendier för studenter inom Chalmers utbildningsprogram på grund- och avancerad nivå C 2019-0748.PDF',\n",
       "   'start_index': 8},\n",
       "  {'page': 4,\n",
       "   'source': 'data/P2-subset/Arbetsmiljö/C 2022-0879 Föreskrift för strålsäkerhet och kärnteknisk verksamhet vid Chalmers slutlig.PDF',\n",
       "   'start_index': 0},\n",
       "  {'page': 5,\n",
       "   'source': 'data/P2-subset/Arbetsmiljö/C 2022-0879 Föreskrift för strålsäkerhet och kärnteknisk verksamhet vid Chalmers slutlig.PDF',\n",
       "   'start_index': 0},\n",
       "  {'page': 1,\n",
       "   'source': 'data/P2-subset/Arbetsmiljö/C 2022-0879 Föreskrift för strålsäkerhet och kärnteknisk verksamhet vid Chalmers slutlig.PDF',\n",
       "   'start_index': 0},\n",
       "  {'page': 1,\n",
       "   'source': 'data/P2-subset/Arbetsmiljö/C 2022-0879 Föreskrift för strålsäkerhet och kärnteknisk verksamhet vid Chalmers slutlig.PDF',\n",
       "   'start_index': -1},\n",
       "  {'page': 3,\n",
       "   'source': 'data/P2-subset/Arbetsmiljö/C 2022-0879 Föreskrift för strålsäkerhet och kärnteknisk verksamhet vid Chalmers slutlig.PDF',\n",
       "   'start_index': 0},\n",
       "  {'page': 2,\n",
       "   'source': 'data/P2-subset/Arbetsmiljö/C 2022-0879 Föreskrift för strålsäkerhet och kärnteknisk verksamhet vid Chalmers slutlig.PDF',\n",
       "   'start_index': 0},\n",
       "  {'page': 8,\n",
       "   'source': 'data/P2-subset/Arbetsmiljö/C 2022-0879 Föreskrift för strålsäkerhet och kärnteknisk verksamhet vid Chalmers slutlig.PDF',\n",
       "   'start_index': 0},\n",
       "  {'page': 3,\n",
       "   'source': 'data/P2-subset/Arbetsmiljö/C 2022-0879 Föreskrift för strålsäkerhet och kärnteknisk verksamhet vid Chalmers slutlig.PDF',\n",
       "   'start_index': 0},\n",
       "  {'page': 2,\n",
       "   'source': 'data/P2-subset/Arbetsmiljö/C 2022-0879 Föreskrift för strålsäkerhet och kärnteknisk verksamhet vid Chalmers slutlig.PDF',\n",
       "   'start_index': -1},\n",
       "  {'page': 0,\n",
       "   'source': 'data/P2-subset/Arbetsmiljö/C 2022-0879 Föreskrift för strålsäkerhet och kärnteknisk verksamhet vid Chalmers slutlig.PDF',\n",
       "   'start_index': -1},\n",
       "  {'page': 2,\n",
       "   'source': 'data/P2-subset/Arbetsmiljö/C 2022-0879 Föreskrift för strålsäkerhet och kärnteknisk verksamhet vid Chalmers slutlig.PDF',\n",
       "   'start_index': -1},\n",
       "  {'page': 3,\n",
       "   'source': 'data/P2-subset/Forskarutbildning/Föreskrifter för stipendier för studenter inom Chalmers utbildningsprogram på grund- och avancerad nivå C 2019-0748.PDF',\n",
       "   'start_index': 8},\n",
       "  {'page': 4,\n",
       "   'source': 'data/P2-subset/Arbetsmiljö/C 2022-0879 Föreskrift för strålsäkerhet och kärnteknisk verksamhet vid Chalmers slutlig.PDF',\n",
       "   'start_index': 0},\n",
       "  {'page': 1,\n",
       "   'source': 'data/P2-subset/Arbetsmiljö/C 2022-0879 Föreskrift för strålsäkerhet och kärnteknisk verksamhet vid Chalmers slutlig.PDF',\n",
       "   'start_index': 2826},\n",
       "  {'page': 4,\n",
       "   'source': 'data/P2-subset/Arbetsmiljö/C 2022-0879 Föreskrift för strålsäkerhet och kärnteknisk verksamhet vid Chalmers slutlig.PDF',\n",
       "   'start_index': -1},\n",
       "  {'page': 6,\n",
       "   'source': 'data/P2-subset/Arbetsmiljö/C 2022-0879 Föreskrift för strålsäkerhet och kärnteknisk verksamhet vid Chalmers slutlig.PDF',\n",
       "   'start_index': 0},\n",
       "  {'page': 5,\n",
       "   'source': 'data/P2-subset/Arbetsmiljö/C 2022-0879 Föreskrift för strålsäkerhet och kärnteknisk verksamhet vid Chalmers slutlig.PDF',\n",
       "   'start_index': 0},\n",
       "  {'page': 1,\n",
       "   'source': 'data/P2-subset/Arbetsmiljö/C 2022-0879 Föreskrift för strålsäkerhet och kärnteknisk verksamhet vid Chalmers slutlig.PDF',\n",
       "   'start_index': 0},\n",
       "  {'page': 4,\n",
       "   'source': 'data/P2-subset/Arbetsmiljö/C 2022-0879 Föreskrift för strålsäkerhet och kärnteknisk verksamhet vid Chalmers slutlig.PDF',\n",
       "   'start_index': 0},\n",
       "  {'page': 8,\n",
       "   'source': 'data/P2-subset/Arbetsmiljö/C 2022-0879 Föreskrift för strålsäkerhet och kärnteknisk verksamhet vid Chalmers slutlig.PDF',\n",
       "   'start_index': 0},\n",
       "  {'page': 4,\n",
       "   'source': 'data/P2-subset/Arbetsmiljö/C 2022-0879 Föreskrift för strålsäkerhet och kärnteknisk verksamhet vid Chalmers slutlig.PDF',\n",
       "   'start_index': 0},\n",
       "  {'page': 7,\n",
       "   'source': 'data/P2-subset/Arbetsmiljö/C 2022-0879 Föreskrift för strålsäkerhet och kärnteknisk verksamhet vid Chalmers slutlig.PDF',\n",
       "   'start_index': 0},\n",
       "  {'page': 2,\n",
       "   'source': 'data/P2-subset/Arbetsmiljö/C 2022-0879 Föreskrift för strålsäkerhet och kärnteknisk verksamhet vid Chalmers slutlig.PDF',\n",
       "   'start_index': 2739},\n",
       "  {'page': 2,\n",
       "   'source': 'data/P2-subset/Arbetsmiljö/C 2022-0879 Föreskrift för strålsäkerhet och kärnteknisk verksamhet vid Chalmers slutlig.PDF',\n",
       "   'start_index': 0},\n",
       "  {'page': 1,\n",
       "   'source': 'data/P2-subset/Arbetsmiljö/C 2022-0879 Föreskrift för strålsäkerhet och kärnteknisk verksamhet vid Chalmers slutlig.PDF',\n",
       "   'start_index': 0},\n",
       "  {'page': 2,\n",
       "   'source': 'data/P2-subset/Arbetsmiljö/C 2022-0879 Föreskrift för strålsäkerhet och kärnteknisk verksamhet vid Chalmers slutlig.PDF',\n",
       "   'start_index': 2739},\n",
       "  {'page': 2,\n",
       "   'source': 'data/P2-subset/Arbetsmiljö/C 2022-0879 Föreskrift för strålsäkerhet och kärnteknisk verksamhet vid Chalmers slutlig.PDF',\n",
       "   'start_index': 2739}],\n",
       " 'documents': ['STYRDOKUMENT: Föreskrift för strålsäkerhet och kärnteknisk verksamhet vid Chalmers tekniska\\nhögskola AB. Dnr C 2022-0879Strålskyddskoordinator\\nRektor delegerar till strålskyddskoordinatorn att inom strålskyddsexpertfunktionen driva och\\nkoordinera Chalmers arbete med strålskydd så att verksamheten i alla delar bedrivs i enlighet med\\nstrålskyddslagen. Strålskyddskoordinatorn är Chalmers resursperson och kontaktperson mellan olika\\ndelar av Chalmers. Strålskyddskoordinatorn är även kontaktperson till Strålsäkerhetsmyndigheten\\noch andra myndigheter och ansvarar för att rapportering sker enligt aktuella krav. Ansvarsområden\\noch uppgifter för strålskyddskoordinator beskrivs i bilaga 1. Beslut om återkallelse av delegation ska\\nprotokollföras och diarieföras på Chalmers centralt.\\nStrålskyddsexpert\\nInom strålskyddsexpertfunktionen finns 2-4 kompetensmässigt och arbetsmässigt överlappande\\nstrålskyddsexperter. Kompetenskravet för funktionen är i enlighet med Strålsäkerhetsmyndighetens\\nkrav (3 kap. 12 § SSMFS 2008:1). Dessa personer besitter följaktligen en mycket god teknisk kunskap\\ninom strålsäkerhetsområdet. Strålsäkerhetsmyndigheten ska godkänna de strålskyddsexperter som\\ningår i strålskyddsexpertfunktionen och rektor ansvarar för ansökan om detta. Strålskyddsexperterna\\nkan inte vidaredelegera. Ansvarsområden och uppgifter för strålskyddsexpert beskrivs i bilaga 1.\\nLokal strålskyddsexpert\\nInom vissa specifika verksamheter kan det finnas lokala strålskyddsexperter. Dessa överser det\\narbete med joniserande strålning som sker inom sina ansvarsområden så att detta genomförs på ett',\n",
       "  'STYRDOKUMENT: Föreskrift för strålsäkerhet och kärnteknisk verksamhet vid Chalmers tekniska\\nhögskola AB. Dnr C 2022-0879och industriell materialåtervinning vid Institutionen för Kemi och kemiteknik. Det finns därför en\\nlokal utvidgning av ledningssystemet för att styra och vägleda just den kärntekniska verksamheten\\nvid enheten, vilket görs i dokumentet ” Principer för ledningssystem för kärnteknisk verksamhet för\\nstrålskydd vid Kärnkemi och industriell materialåtervinning vid institutionen för Kemi och kemiteknik\\n(D nr: K2021-0200) ”\\nPlanering och uppföljning\\nInom strålsäkerhetsledningsarbetet ska risker som rör Chalmers strålskydd kontinuerligt utvärderas.\\nEn riskanalys ska genomföras årligen av strålskyddsexpertfunktionen baserat på de interna\\nstrålsäkerhetsronderna, och efterlevnad av befintliga lagar och krav. Tillkommer nya bindande krav\\nunder året ska riskanalysen uppdateras. Resultatet från riskanalysen ska ligga till grund för\\nprioritering av förbättringsarbetet och bedömning av eventuellt förändrat resursbehov.\\nLedningssystemets resultat ska integreras i Chalmers riskhanteringsarbete (C 2015-0368, rev 2021, se\\näven https://intranet.chalmers.se/arbeta-pa-chalmers/sakerhet-brandskydd/nar-nagot-allvarligt-\\nhander/riskhantering/) och återkopplas till Chalmers ledning. Uppföljning av lokalt\\nstrålsäkerhetsarbete ska göras genom intern strålsäkerhetsrond och intern revision av\\nledningssystemet utgör underlag för analyser av risker i strålsäkerheten. Krav för det systematiska',\n",
       "  'aktuell lagstiftning och är styrande samt tydliggör förutsättningarna för laboratoriesäkerhetsarbetet.\\nRutinerna är en del av miljöledningssystemet och det systematiska arbetsmiljöarbetet. Rektor är\\nytterst ansvarig för miljö-, arbetsmiljö- och säkerhetsarbetet, inkluderat strålsäkerhet. För den\\nkärntekniska verksamheten har rektor/VD det yttersta ansvaret. Rektor delegerar ansvar för\\nstrålsäkerhetsarbetet till strålskyddskoordinatorn. Strålskyddskoordinatorn har därmed en\\noberoende roll i fråga om strategiska beslut eller andra frågeställningar med betydelse för\\nsäkerheten eller det fysiska skyddet. Strålskyddskoordinatorn har ansvar att skriva delegationer för\\nstrålskyddsexperter och lokala strålskyddsexperter.Beslut fattat av: Stefan Bengtsson, Chalmers tekniska högskola, 2022-10-11, C 2022-0879\\nDecision made by: Stefan Bengtsson, Chalmers University of Technology, 2022-10-11, C 2022-0879',\n",
       "  'Bilaga 1\\nDnr. C 2022-0879 - Bilaga 1. Ansvarsfördelning Chalmers strålskyddsorganisationUpprätta och fortlöpande uppdatera skriftliga instruktioner för arbetet med joniserande\\nstrålning enligt SSMFS 2018:1 som är gemensam för Chalmers\\nSe till att kärnämnen hanteras på ett sätt som uppfyller kraven på fysiskt skydd\\nInformera strålskyddskoordinator, prefekt och ansvarig chef vid akuta ärende gällande\\nstrålskyddsfrågor. Samverka med strålskyddskoordinator för att informera berörd\\nverksamhet i strålskyddsfrågor.\\nTillse att strålskyddskoordinator och lokala strålskyddsexperter löpande får uppdaterad\\ninformation inom strålsäkerhetsfrågor\\nAktivt verka för att händelser eller iakttagelser av betydelse från strålskyddssynpunkt\\nanalyseras och dokumenteras\\nAktivt verka för att relevant lagstiftning följs och att krav på rapportering efterlevs\\nAnsvara att nödvändig och adekvat information finns tillgänglig för att upprätta och hålla\\ntillstånd uppdaterade i samverkan med strålskyddskoordinator\\nBevaka att individ- och kollektivstråldoser följs upp i samverkan med strålskyddskoordinator\\nAktivt verka för bokföring och erforderlig rapportering av kärnämne till Euratom, IAEA och\\nSSM i samverkan med strålskyddskoordinator\\nVara Chalmers sakkunnig i anläggningens strålskydd\\nStötta och instruera lokala strålskyddsexperter vid behov\\nLokal strålskyddsexpert vid Chalmers ska:\\nAktivt verka för att arbetet vid anläggningen bedrivs på ett från strålskyddssynpunkt lämpligt\\nsätt, så att goda strålskyddsförhållanden råder\\nHa rätten att stoppa arbete med joniserande strålning där det inte råder goda\\nstrålskyddsförhållanden\\nSe till att kärnämnen hanteras på ett sätt som uppfyller kraven på fysiskt skydd\\nInformera strålskyddsexpertfunktionen, prefekt och ansvarig chef vid akuta ärende gällande\\nstrålskyddsfrågor.\\nInformera löpande strålskyddsexpertfunktionen i övriga ärenden gällande strålskyddsfrågor.\\nRapportera händelser eller iakttagelser av betydelse från strålskyddssynpunkt till\\nstrålskyddsexpertfunktionen\\nBevaka kompetens- och resursfrågor för anläggningens strålskydd (bistår prefekt och\\navdelningschef vid respektive institution med att ta fram utbildningsplaner för olika\\npersonalkategorier enligt SSMFS 2018:1)\\nBevaka tillsammans med strålskyddsexpert och aktivt verka för att relevant lagstiftning följs\\noch att krav på rapportering efterlevs\\nUtfärda lokala medgivanden för institutionerna gällande verksamhet med joniserande\\nstrålning inom ramen för Chalmers samlingstillstånd\\nKontrollera regelbundet varje strålkälla inom sin institution enligt SSMFS 2018:1\\nUpprätta lokala strålskyddsinstruktioner för att förhindra att personer utsätts för\\noacceptabel eller onödig joniserande strålningBeslut fattat av: Stefan Bengtsson, Chalmers tekniska högskola, 2022-10-11, C 2022-0879\\nDecision made by: Stefan Bengtsson, Chalmers University of Technology, 2022-10-11, C 2022-0879',\n",
       "  '(https://intranet.chalmers.se/om-chalmers/planera-leda-utveckla-\\nverksamheten/verksamhetsstyrning/beskrivning-av-styrdokument/) reglerar framtagande ochBeslut fattat av: Stefan Bengtsson, Chalmers tekniska högskola, 2022-10-11, C 2022-0879\\nDecision made by: Stefan Bengtsson, Chalmers University of Technology, 2022-10-11, C 2022-0879',\n",
       "  'Ansvara för att det rapporteras förändringar i registret över innehav av strålkällor före\\nutgången av mars månad varje år till Strålsäkerhetsmyndigheten. Utöver detta ska övriga\\nförändringar, exempelvis nya inköp, av rapporteringspliktiga strålkällor rapporteras inom en\\nvecka till Strålsäkerhetsmyndigheten\\nBevaka att lokala strålskyddsinstruktioner upprättas för att förhindra att personer utsätts för\\noacceptabel eller onödig joniserande strålning\\nBevaka att händelser eller iakttagelser av betydelse från strålskyddssynpunkt analyseras och\\ndokumenteras\\nAnsvara för att oplanerade händelser av betydelse från strålskyddssynpunkt rapporteras till\\nStrålsäkerhetsmyndigheten snarast, i enlighet med SSMFS 2008:1 bilaga 4\\nAnsvara för bokföring och erforderlig rapportering av kärnämne till Euratom, IAEA och SSM i\\nsamverkan med strålskyddsexpert\\nBevaka att givna krav på rapportering efterlevs\\nKoordinera interna och externa revisioner\\nVara kontaktperson vid kontakt med berörda myndigheter\\nIngå i nätverket för strålsäkerhetsfrågor vid Chalmers\\nUppdatera och proaktivt komplettera informationen om Chalmers strålsäkerhetsarbete på\\nChalmers intranät\\nTillse att strålskyddsexperter får uppdaterad och adekvat utbildning för sina uppdrag\\nHandlägga all dokumentation rörande Chalmers strålskyddsarbete i 360Beslut fattat av: Stefan Bengtsson, Chalmers tekniska högskola, 2022-10-11, C 2022-0879\\nDecision made by: Stefan Bengtsson, Chalmers University of Technology, 2022-10-11, C 2022-0879',\n",
       "  'Bilaga 1\\nDnr. C 2022-0879 - Bilaga 1. Ansvarsfördelning Chalmers strålskyddsorganisationUpprätta och fortlöpande uppdatera skriftliga instruktioner för arbetet med joniserande\\nstrålning enligt SSMFS 2018:1 som är gemensam för Chalmers\\nSe till att kärnämnen hanteras på ett sätt som uppfyller kraven på fysiskt skydd\\nInformera strålskyddskoordinator, prefekt och ansvarig chef vid akuta ärende gällande\\nstrålskyddsfrågor. Samverka med strålskyddskoordinator för att informera berörd\\nverksamhet i strålskyddsfrågor.\\nTillse att strålskyddskoordinator och lokala strålskyddsexperter löpande får uppdaterad\\ninformation inom strålsäkerhetsfrågor\\nAktivt verka för att händelser eller iakttagelser av betydelse från strålskyddssynpunkt\\nanalyseras och dokumenteras\\nAktivt verka för att relevant lagstiftning följs och att krav på rapportering efterlevs\\nAnsvara att nödvändig och adekvat information finns tillgänglig för att upprätta och hålla\\ntillstånd uppdaterade i samverkan med strålskyddskoordinator\\nBevaka att individ- och kollektivstråldoser följs upp i samverkan med strålskyddskoordinator\\nAktivt verka för bokföring och erforderlig rapportering av kärnämne till Euratom, IAEA och\\nSSM i samverkan med strålskyddskoordinator\\nVara Chalmers sakkunnig i anläggningens strålskydd\\nStötta och instruera lokala strålskyddsexperter vid behov\\nLokal strålskyddsexpert vid Chalmers ska:\\nAktivt verka för att arbetet vid anläggningen bedrivs på ett från strålskyddssynpunkt lämpligt\\nsätt, så att goda strålskyddsförhållanden råder',\n",
       "  'verksamheten som hjälp och rådgivning i strålskyddsarbetet. Funktionen ska ha tillförsäkrats, av den\\nytterst ansvariga (rektor), en oberoende ställning i relation till linjen inom strålskyddsfrågor, i\\nförhållande till mål med verksamheten eller därmed jämförliga affärsmässiga hänsyn.\\nStrålskyddsexpertfunktionen består i huvudsak av en strålskyddskoordinator och 2-4\\nstrålskyddsexperter. Vidare kan övrig nödvändig kompetens såsom juridik eller fysiskt skydd kallas in\\nvid behov.Beslut fattat av: Stefan Bengtsson, Chalmers tekniska högskola, 2022-10-11, C 2022-0879\\nDecision made by: Stefan Bengtsson, Chalmers University of Technology, 2022-10-11, C 2022-0879',\n",
       "  'strålsäkerhetsarbete ska göras genom intern strålsäkerhetsrond och intern revision av\\nledningssystemet utgör underlag för analyser av risker i strålsäkerheten. Krav för det systematiska\\nstrålskyddsarbetet är i grunden samma som gäller för det systematiska miljöarbetet men med tillägg\\nsom beskrivs i denna föreskrift (se Chalmers styrdokument, https://intranet.chalmers.se/om-\\nchalmers/planera-leda-utveckla-verksamheten/verksamhetsstyrning/lista-over-styrdokument/)\\nDe institutioner som har verksamhet med joniserande strålning ska årligen upprätta lokala\\nhandlingsplaner specifikt för strålsäkerhetsfrågor inom ramen för sitt systematiska miljö- och\\narbetsmiljöarbete (https://intranet.chalmers.se/arbeta-pa-chalmers/arbetsmiljo-\\nmiljo/arbetsmiljo/systematiskt-arbetsmiljoarbete/). Handlingsplanerna fastställs av prefekt och\\nstyrande för framtagande av åtgärdsplaner är Chalmers styrdokument för det systematiska miljö-,\\narbetsmiljö-, och säkerhetsarbetet.\\nAnsvar och ledning\\nRektor ansvarar för att strålsäkerhetsfrågorna utgör del av det strategiska arbetet och integreras i\\nrelevanta verksamhetsprocesser. Prefekter ansvarar för att säkerställa att medarbetare som arbetar\\nmed joniserande strålning har tillräcklig kompetens.\\nChalmers rutiner för miljö- och arbetsmiljöarbete inom verkstads- eller laborativ verksamhet\\ndefinierar ramar för verksamhetens systematiska arbetsmiljö- och miljöarbete. Rutinerna bygger på\\naktuell lagstiftning och är styrande samt tydliggör förutsättningarna för laboratoriesäkerhetsarbetet.\\nRutinerna är en del av miljöledningssystemet och det systematiska arbetsmiljöarbetet. Rektor är',\n",
       "  'strålsäkerhetsarbete ska göras genom intern strålsäkerhetsrond och intern revision av\\nledningssystemet utgör underlag för analyser av risker i strålsäkerheten. Krav för det systematiska\\nstrålskyddsarbetet är i grunden samma som gäller för det systematiska miljöarbetet men med tillägg\\nsom beskrivs i denna föreskrift (se Chalmers styrdokument, https://intranet.chalmers.se/om-\\nchalmers/planera-leda-utveckla-verksamheten/verksamhetsstyrning/lista-over-styrdokument/)\\nDe institutioner som har verksamhet med joniserande strålning ska årligen upprätta lokala\\nhandlingsplaner specifikt för strålsäkerhetsfrågor inom ramen för sitt systematiska miljö- och\\narbetsmiljöarbete (https://intranet.chalmers.se/arbeta-pa-chalmers/arbetsmiljo-\\nmiljo/arbetsmiljo/systematiskt-arbetsmiljoarbete/). Handlingsplanerna fastställs av prefekt och\\nstyrande för framtagande av åtgärdsplaner är Chalmers styrdokument för det systematiska miljö-,\\narbetsmiljö-, och säkerhetsarbetet.\\nAnsvar och ledning\\nRektor ansvarar för att strålsäkerhetsfrågorna utgör del av det strategiska arbetet och integreras i\\nrelevanta verksamhetsprocesser. Prefekter ansvarar för att säkerställa att medarbetare som arbetar\\nmed joniserande strålning har tillräcklig kompetens.\\nChalmers rutiner för miljö- och arbetsmiljöarbete inom verkstads- eller laborativ verksamhet\\ndefinierar ramar för verksamhetens systematiska arbetsmiljö- och miljöarbete. Rutinerna bygger på\\naktuell lagstiftning och är styrande samt tydliggör förutsättningarna för laboratoriesäkerhetsarbetet.\\nRutinerna är en del av miljöledningssystemet och det systematiska arbetsmiljöarbetet. Rektor är',\n",
       "  'stödverksamheter. Intressenter inom verksamheten är prefekter/motsvarande och medarbetare som\\narbetar med joniserande strålning samt i viss utsträckning även studenter. Även externa intressenter,\\nsåsom gästforskare, berörs. Andra intressenter som kan påverkas indirekt av att lärosätet har\\nverksamhet med joniserande strålning är till exempel fastighetsägare och leverantörer av produkter\\noch tjänster såsom drifttekniker och lokalvårdare.\\nVerksamhet med joniserande strålning förekommer utspritt i organisationen medan den\\nkärntekniska verksamheten är begränsad till avdelningen Energi och material, enheten för KärnkemiBeslut fattat av: Stefan Bengtsson, Chalmers tekniska högskola, 2022-10-11, C 2022-0879\\nDecision made by: Stefan Bengtsson, Chalmers University of Technology, 2022-10-11, C 2022-0879',\n",
       "  'Bilaga 1\\nDnr. C 2022-0879 - Bilaga 1. Ansvarsfördelning Chalmers strålskyddsorganisationStrålskyddskoordinatorn har befogenhet att\\nStoppa arbete med joniserande strålning på Chalmers tekniska högskola där det inte råder\\ngoda strålskyddsförhållanden.\\nSkriva delegationer för strålskyddsexperter och lokala strålskyddsexperter efter beslut av\\nbehörig chef\\nSammankalla strålskyddsexperter för möten\\nPrefekt/avdelningschef där verksamhet med joniserande strålning bedrivs ska:\\nSvara för att allt arbete med strålning sker i enlighet med gällande lagar och förordningar\\nsamt lokala riktlinjer och föreskrifter\\nFöreslå lokal strålskyddsexpert inom den egna verksamheten i samråd med\\nstrålskyddsexpertfunktionen för delegation från strålskyddskoordinator\\nInformera strålskyddskoordinator, strålskyddsexpert och lokal strålskyddsexpert,\\ninstitutionens/avdelningens arbetsmiljöombud och arbetsmiljöingenjör om uppkomna eller\\nplanerade förändringar beträffande utrustning, lokaler och arbetsförhållanden som rör\\nverksamheten med strålning\\nGe strålskyddskoordinator de upplysningar och handlingar som behövs för tillsyn samt ge\\ntillträde till anläggning och arbetsplats där strålningsverksamhet bedrivs\\nKontrollera och ekonomiskt svara för att den personal som deltar i verksamheten har\\nerforderlig kompetens såväl teoretiskt såsom praktiskt, och är informerad om de risker som\\nkan vara förknippade med verksamheten. Den verksamhet som omfattas av SSMFS 2018:1\\nska ha dokumenterade utbildningsplaner för olika personalkategorier. Dessa\\nutbildningsplaner ska tas fram i samråd med strålskyddskoordinator/lokal strålskyddsexpert.',\n",
       "  'Aktivt verka för att arbetet vid anläggningen bedrivs på ett från strålskyddssynpunkt lämpligt\\nsätt, så att goda strålskyddsförhållanden råder\\nHa rätten att stoppa arbete med joniserande strålning där det inte råder goda\\nstrålskyddsförhållanden\\nSe till att kärnämnen hanteras på ett sätt som uppfyller kraven på fysiskt skydd\\nInformera strålskyddsexpertfunktionen, prefekt och ansvarig chef vid akuta ärende gällande\\nstrålskyddsfrågor.\\nInformera löpande strålskyddsexpertfunktionen i övriga ärenden gällande strålskyddsfrågor.\\nRapportera händelser eller iakttagelser av betydelse från strålskyddssynpunkt till\\nstrålskyddsexpertfunktionen\\nBevaka kompetens- och resursfrågor för anläggningens strålskydd (bistår prefekt och\\navdelningschef vid respektive institution med att ta fram utbildningsplaner för olika\\npersonalkategorier enligt SSMFS 2018:1)\\nBevaka tillsammans med strålskyddsexpert och aktivt verka för att relevant lagstiftning följs\\noch att krav på rapportering efterlevs\\nUtfärda lokala medgivanden för institutionerna gällande verksamhet med joniserande\\nstrålning inom ramen för Chalmers samlingstillstånd\\nKontrollera regelbundet varje strålkälla inom sin institution enligt SSMFS 2018:1\\nUpprätta lokala strålskyddsinstruktioner för att förhindra att personer utsätts för\\noacceptabel eller onödig joniserande strålningBeslut fattat av: Stefan Bengtsson, Chalmers tekniska högskola, 2022-10-11, C 2022-0879\\nDecision made by: Stefan Bengtsson, Chalmers University of Technology, 2022-10-11, C 2022-0879',\n",
       "  'Bilaga 1\\nDnr. C 2022-0879 - Bilaga 1. Ansvarsfördelning Chalmers strålskyddsorganisationUpprätta och fortlöpande uppdatera skriftliga instruktioner för arbetet med joniserande\\nstrålning enligt SSMFS 2018:1 som är gemensam för Chalmers\\nSe till att kärnämnen hanteras på ett sätt som uppfyller kraven på fysiskt skydd\\nInformera strålskyddskoordinator, prefekt och ansvarig chef vid akuta ärende gällande\\nstrålskyddsfrågor. Samverka med strålskyddskoordinator för att informera berörd\\nverksamhet i strålskyddsfrågor.\\nTillse att strålskyddskoordinator och lokala strålskyddsexperter löpande får uppdaterad\\ninformation inom strålsäkerhetsfrågor\\nAktivt verka för att händelser eller iakttagelser av betydelse från strålskyddssynpunkt\\nanalyseras och dokumenteras\\nAktivt verka för att relevant lagstiftning följs och att krav på rapportering efterlevs\\nAnsvara att nödvändig och adekvat information finns tillgänglig för att upprätta och hålla\\ntillstånd uppdaterade i samverkan med strålskyddskoordinator\\nBevaka att individ- och kollektivstråldoser följs upp i samverkan med strålskyddskoordinator\\nAktivt verka för bokföring och erforderlig rapportering av kärnämne till Euratom, IAEA och\\nSSM i samverkan med strålskyddskoordinator\\nVara Chalmers sakkunnig i anläggningens strålskydd\\nStötta och instruera lokala strålskyddsexperter vid behov\\nLokal strålskyddsexpert vid Chalmers ska:\\nAktivt verka för att arbetet vid anläggningen bedrivs på ett från strålskyddssynpunkt lämpligt\\nsätt, så att goda strålskyddsförhållanden råder',\n",
       "  'arbete med joniserande strålning som sker inom sina ansvarsområden så att detta genomförs på ett\\nstrålsäkert sätt i linje med de övergripande målen för strålsäkerhet. Deras arbete och observationer\\nmeddelas strålskyddsexpertfunktionen fortlöpande. De ser även till att eventuellt avfall samlas upp\\noch överlämnas till enheten för Kärnkemi och industriell materialåtervinning. Ansvarsområden och\\nuppgifter för lokal strålskyddsexpert beskrivs i bilaga 1.\\nBeredskap och agerande vid nödlägen\\nChalmers har riktlinjer för beredskap och krisledning (C 2017-0931) med tillhörande checklistor på\\ncentral nivå samt krav på att varje institution ska utarbeta en beredskapsplan på lokal nivå för\\nagerande vid nödlägen, såsom exempelvis brand, stöld av strålkällor eller utsläpp av radioaktiva\\nämnen, utifrån institutionens specifika förutsättningar. Därtill finns riktlinjer där det beskrivs vilka\\nfunktioner, rutiner och planer varje institution ska ha för att uppfylla kraven i det systematiska miljö-\\noch brandskyddsarbetet.\\nEfterlevnad av bindande krav\\nEfterlevnad av bindande krav på miljöområdet sker på central nivå såväl som lokal nivå, och är en del\\nav den interna miljörevisionen. Bindande krav inom strålskydd på lokal nivå sammanställs genom\\nstrålskyddsexpertfunktionen. Lagefterlevnadskontroll genomförs regelbundet av\\nstrålskyddsexpertfunktionen.\\nStyrdokument och uppföljning,\\nChalmers beskrivning av hantering och upprättande av styrdokument\\n(https://intranet.chalmers.se/om-chalmers/planera-leda-utveckla-',\n",
       "  'STYRDOKUMENT: Föreskrift för strålsäkerhet och kärnteknisk verksamhet vid Chalmers tekniska\\nhögskola AB. Dnr C 2022-0879beslutande av styr- och stöddokument även för det systematiska strålsäkerhetsarbetet. Chalmers\\nsamtliga styrdokument finns tillgängliga på intranätet. Berörda funktioner ansvarar att ta fram,\\nrevidera och diarieföra styrdokument.\\nStrålskyddsexpertfunktionen stödjer institutionernas strålsäkerhetsarbete genom att årligen\\ngenomföra intern strålsäkerhetsrond där arbete med strålkällor sker samt följer upp aktiviteterna i\\nde lokala handlingsplanerna för strålsäkerhet. Resultaten från uppföljningen används för att\\nutvärdera ledningssystemets verkan. Strålskyddsexpertfunktionen följer regelbundet upp och\\ndokumenterar avvikelser från både årlig intern strålsäkerhetsrond och den interna revisionen av\\nledningssystemet (ej utförd av strålskyddsexpertfunktionen) samt resultat av uppsatta mål, åtgärder\\noch förbättringsarbete.\\nFör inrapportering av avvikelser i hantering av strålkällor används ett ärendehanteringssystem, se\\ninformation på strålskyddets sida på intranätet (https://intranet.chalmers.se/arbeta-pa-\\nchalmers/arbetsmiljo-miljo/labb-och-verkstadssakerhet/stralskydd/), där medarbetare rapporterar\\navvikelser och institutionen ansvarar för hantering och eventuella åtgärder i ärendet.\\nStrålskyddsexpertfunktionen bevakar avvikelser och följer upp att ärendena hanteras korrekt samt\\nrapporterar eventuella betydande avvikelser till Strålsäkerhetsmyndigheten.\\nDen interna revisionen av ledningssystemet för strålsäkerhet är en del i det systematiska\\nstrålsäkerhetsarbetet och säkerställer att Chalmers hantering av strålkällor sker enligt bindande krav\\nsamt att eventuellt behov av förbättringsarbete synliggörs. Intern revision genomförs vart tredje år\\noch resultaten presenteras för ledningen i samband med den årliga genomgången av det\\nsystematiska strålsäkerhetsarbetet.Beslut fattat av: Stefan Bengtsson, Chalmers tekniska högskola, 2022-10-11, C 2022-0879\\nDecision made by: Stefan Bengtsson, Chalmers University of Technology, 2022-10-11, C 2022-0879',\n",
       "  'verksamheten som hjälp och rådgivning i strålskyddsarbetet. Funktionen ska ha tillförsäkrats, av den\\nytterst ansvariga (rektor), en oberoende ställning i relation till linjen inom strålskyddsfrågor, i\\nförhållande till mål med verksamheten eller därmed jämförliga affärsmässiga hänsyn.\\nStrålskyddsexpertfunktionen består i huvudsak av en strålskyddskoordinator och 2-4\\nstrålskyddsexperter. Vidare kan övrig nödvändig kompetens såsom juridik eller fysiskt skydd kallas in\\nvid behov.Beslut fattat av: Stefan Bengtsson, Chalmers tekniska högskola, 2022-10-11, C 2022-0879\\nDecision made by: Stefan Bengtsson, Chalmers University of Technology, 2022-10-11, C 2022-0879',\n",
       "  'verksamheten som hjälp och rådgivning i strålskyddsarbetet. Funktionen ska ha tillförsäkrats, av den\\nytterst ansvariga (rektor), en oberoende ställning i relation till linjen inom strålskyddsfrågor, i\\nförhållande till mål med verksamheten eller därmed jämförliga affärsmässiga hänsyn.\\nStrålskyddsexpertfunktionen består i huvudsak av en strålskyddskoordinator och 2-4\\nstrålskyddsexperter. Vidare kan övrig nödvändig kompetens såsom juridik eller fysiskt skydd kallas in\\nvid behov.Beslut fattat av: Stefan Bengtsson, Chalmers tekniska högskola, 2022-10-11, C 2022-0879\\nDecision made by: Stefan Bengtsson, Chalmers University of Technology, 2022-10-11, C 2022-0879',\n",
       "  'STYRDOKUMENT: Föreskrift för strålsäkerhet och kärnteknisk verksamhet vid Chalmers tekniska\\nhögskola AB. Dnr C 2022-0879och industriell materialåtervinning vid Institutionen för Kemi och kemiteknik. Det finns därför en\\nlokal utvidgning av ledningssystemet för att styra och vägleda just den kärntekniska verksamheten\\nvid enheten, vilket görs i dokumentet ” Principer för ledningssystem för kärnteknisk verksamhet för\\nstrålskydd vid Kärnkemi och industriell materialåtervinning vid institutionen för Kemi och kemiteknik\\n(D nr: K2021-0200) ”\\nPlanering och uppföljning\\nInom strålsäkerhetsledningsarbetet ska risker som rör Chalmers strålskydd kontinuerligt utvärderas.\\nEn riskanalys ska genomföras årligen av strålskyddsexpertfunktionen baserat på de interna\\nstrålsäkerhetsronderna, och efterlevnad av befintliga lagar och krav. Tillkommer nya bindande krav\\nunder året ska riskanalysen uppdateras. Resultatet från riskanalysen ska ligga till grund för\\nprioritering av förbättringsarbetet och bedömning av eventuellt förändrat resursbehov.\\nLedningssystemets resultat ska integreras i Chalmers riskhanteringsarbete (C 2015-0368, rev 2021, se\\näven https://intranet.chalmers.se/arbeta-pa-chalmers/sakerhet-brandskydd/nar-nagot-allvarligt-\\nhander/riskhantering/) och återkopplas till Chalmers ledning. Uppföljning av lokalt\\nstrålsäkerhetsarbete ska göras genom intern strålsäkerhetsrond och intern revision av\\nledningssystemet utgör underlag för analyser av risker i strålsäkerheten. Krav för det systematiska',\n",
       "  'Föreskrift för stipendier för studenter inom Chalmers utbildningsprogram på grund - och avancerad \\nnivå  C 2019 -0748  \\n\\n\\nBeslut av:  \\nVicerektor för \\nutbildning och \\nlivslångt lärande  Typ av styrdokument:  \\nFöreskrift  Diarienummer:  \\nC 2019- 0748  \\nDatum för beslut : \\n2019-06-17 Handläggare:  \\nCalle Ekdahl o ch Gloria Realpe  Dokumentstruktur : \\nD1.3 Verksamhetsledning  \\nDokumentet gäller \\nfrån och med:  \\n2019 -06-17 Avdelning/motsvarande som ansvarar för \\natt dokumentet skapas och/eller \\nrevideras:  \\nEnheten för antagning och examen  Dokumentet \\nreviderat, datum:  \\n- Versionsnummer : \\n2.0 \\nDokumentet gäller \\ntill och med:  \\ntillsvidare  Dokumentet ersätter tidigare del av \\nbeslut , dvs enbart bilagan som kallas :  \\nDet ersätter vicerektors  beslut  \\nC 2015 –1838 från 2015 -12-14 Dokumentet genomgånget utan \\nändring, datum:  \\n- \\n\\n\\n\\nFöreskrift  för stipendier  för studenter  inom  \\nChalmers utbildnings program  på grund - och avancerad nivå  \\nStyrdokument  vid Chalmers',\n",
       "  'STYRDOKUMENT: Föreskrift för strålsäkerhet och kärnteknisk verksamhet vid Chalmers tekniska\\nhögskola AB. Dnr C 2022-0879och industriell materialåtervinning vid Institutionen för Kemi och kemiteknik. Det finns därför en\\nlokal utvidgning av ledningssystemet för att styra och vägleda just den kärntekniska verksamheten\\nvid enheten, vilket görs i dokumentet ” Principer för ledningssystem för kärnteknisk verksamhet för\\nstrålskydd vid Kärnkemi och industriell materialåtervinning vid institutionen för Kemi och kemiteknik\\n(D nr: K2021-0200) ”\\nPlanering och uppföljning\\nInom strålsäkerhetsledningsarbetet ska risker som rör Chalmers strålskydd kontinuerligt utvärderas.\\nEn riskanalys ska genomföras årligen av strålskyddsexpertfunktionen baserat på de interna\\nstrålsäkerhetsronderna, och efterlevnad av befintliga lagar och krav. Tillkommer nya bindande krav\\nunder året ska riskanalysen uppdateras. Resultatet från riskanalysen ska ligga till grund för\\nprioritering av förbättringsarbetet och bedömning av eventuellt förändrat resursbehov.\\nLedningssystemets resultat ska integreras i Chalmers riskhanteringsarbete (C 2015-0368, rev 2021, se\\näven https://intranet.chalmers.se/arbeta-pa-chalmers/sakerhet-brandskydd/nar-nagot-allvarligt-\\nhander/riskhantering/) och återkopplas till Chalmers ledning. Uppföljning av lokalt\\nstrålsäkerhetsarbete ska göras genom intern strålsäkerhetsrond och intern revision av\\nledningssystemet utgör underlag för analyser av risker i strålsäkerheten. Krav för det systematiska',\n",
       "  'STYRDOKUMENT: Föreskrift för strålsäkerhet och kärnteknisk verksamhet vid Chalmers tekniska\\nhögskola AB. Dnr C 2022-0879Strålsäkerhetsmyndighetens föreskrifter om grundläggande bestämmelser för\\ntillståndspliktig verksamhet med joniserande strålning (SSMFS 2018:1) och underliggande\\nföreskrifter till denna\\nStrålsäkerhetsmyndighetens föreskrifter och allmänna råd om säkerhet i kärntekniska\\nanläggningar (SSMFS 2008:1) och underliggande föreskrifter till denna\\nBeslut om villkor för omhändertagande av kärntekniskt avfall (SSM2022-840, Chalmers Dnr C\\n2022-0489). Chalmersspecifikt beslut motsvarande SSMFS 2021:7.\\nOrganisationens förutsättningar\\nChalmers verksamheter är lokaliserade till campus, Johanneberg och Lindholmen, samt Onsala\\nRymdobservatorium. Chalmers deltar i många utbildnings- och forskningssamarbeten lokalt,\\nnationellt och internationellt.\\nChalmers tekniska högskola AB är en stiftelsehögskola med Stiftelsen Chalmers tekniska högskola\\nsom ägare. Chalmers som lärosäte är en enskild utbildningsanordnare, och lyder under Lag om\\ntillstånd att utfärda vissa examina (1993:792). Som aktiebolag lyder Chalmers under Aktiebolagslagen\\n(2005:551). Verksamheten regleras i ett långsiktigt avtal med svenska staten som kompletteras med\\nårliga avtal. Den reglering som gäller vid statliga lärosäten genom högskolelagen och\\nhögskoleförordningen motsvaras av specifika arbetsordningar, vilka beslutas av rektor, tillika\\nverkställande direktör för Chalmers tekniska högskola AB. Chalmers har också krav på sig att ha\\nkvalitetssäkrande system för granskning av utbildningar och forskning och står under tillsyn av\\nUniversitetskanslersämbetet.\\nChalmers verksamhetsstyrning och ledningssystem utgår från Chalmers vision och mål, och har som\\ndel ett flertal mål- och styrdokument (https://intranet.chalmers.se/om-chalmers/planera-leda-\\nutveckla-verksamheten/verksamhetsstyrning/lista-over-styrdokument/). Institutionernas\\nverksamheter följs upp genom verksamhetsdialoger, vilket skapar en helhet som engagerar till ansvar\\noch handling mot målen. Genom integrering av ledningssystemet för strålsäkerhet och kärnteknisk\\nverksamhet i lärosätets övergripande styrning och ledning, säkerställs att strålsäkerhetsfrågorna\\ninkluderas i strategiarbetet och verksamhetsprocesserna (vid till exempel planering- och uppföljning)\\nmed utpekade ansvarsfunktioner. Vidare säkerställs att frågor och regelefterlevnad av bindande krav\\nhanteras inom verksamheten.\\nArbetet med strålsäkerhetsfrågorna ska ske systematiskt och lärosätet strävar kontinuerligt efter att\\nminimera risker och att skapa medvetenhet och engagemang kring strålsäkerhetsfrågor. De som\\nfrämst berörs av ledningssystemet för kärnteknisk verksamhet och strålskyddshantering är den\\nverksamhet vid Chalmers som arbetar med joniserande strålning, inklusive lokala och centrala\\nstödverksamheter. Intressenter inom verksamheten är prefekter/motsvarande och medarbetare som\\narbetar med joniserande strålning samt i viss utsträckning även studenter. Även externa intressenter,\\nsåsom gästforskare, berörs. Andra intressenter som kan påverkas indirekt av att lärosätet har\\nverksamhet med joniserande strålning är till exempel fastighetsägare och leverantörer av produkter\\noch tjänster såsom drifttekniker och lokalvårdare.',\n",
       "  'STYRDOKUMENT: Föreskrift för strålsäkerhet och kärnteknisk verksamhet vid Chalmers tekniska\\nhögskola AB. Dnr C 2022-0879beslutande av styr- och stöddokument även för det systematiska strålsäkerhetsarbetet. Chalmers\\nsamtliga styrdokument finns tillgängliga på intranätet. Berörda funktioner ansvarar att ta fram,\\nrevidera och diarieföra styrdokument.\\nStrålskyddsexpertfunktionen stödjer institutionernas strålsäkerhetsarbete genom att årligen\\ngenomföra intern strålsäkerhetsrond där arbete med strålkällor sker samt följer upp aktiviteterna i\\nde lokala handlingsplanerna för strålsäkerhet. Resultaten från uppföljningen används för att\\nutvärdera ledningssystemets verkan. Strålskyddsexpertfunktionen följer regelbundet upp och\\ndokumenterar avvikelser från både årlig intern strålsäkerhetsrond och den interna revisionen av\\nledningssystemet (ej utförd av strålskyddsexpertfunktionen) samt resultat av uppsatta mål, åtgärder\\noch förbättringsarbete.\\nFör inrapportering av avvikelser i hantering av strålkällor används ett ärendehanteringssystem, se\\ninformation på strålskyddets sida på intranätet (https://intranet.chalmers.se/arbeta-pa-\\nchalmers/arbetsmiljo-miljo/labb-och-verkstadssakerhet/stralskydd/), där medarbetare rapporterar\\navvikelser och institutionen ansvarar för hantering och eventuella åtgärder i ärendet.\\nStrålskyddsexpertfunktionen bevakar avvikelser och följer upp att ärendena hanteras korrekt samt\\nrapporterar eventuella betydande avvikelser till Strålsäkerhetsmyndigheten.\\nDen interna revisionen av ledningssystemet för strålsäkerhet är en del i det systematiska',\n",
       "  'STYRDOKUMENT: Föreskrift för strålsäkerhet och kärnteknisk verksamhet vid Chalmers tekniska\\nhögskola AB. Dnr C 2022-0879och industriell materialåtervinning vid Institutionen för Kemi och kemiteknik. Det finns därför en\\nlokal utvidgning av ledningssystemet för att styra och vägleda just den kärntekniska verksamheten\\nvid enheten, vilket görs i dokumentet ” Principer för ledningssystem för kärnteknisk verksamhet för\\nstrålskydd vid Kärnkemi och industriell materialåtervinning vid institutionen för Kemi och kemiteknik\\n(D nr: K2021-0200) ”\\nPlanering och uppföljning\\nInom strålsäkerhetsledningsarbetet ska risker som rör Chalmers strålskydd kontinuerligt utvärderas.\\nEn riskanalys ska genomföras årligen av strålskyddsexpertfunktionen baserat på de interna\\nstrålsäkerhetsronderna, och efterlevnad av befintliga lagar och krav. Tillkommer nya bindande krav\\nunder året ska riskanalysen uppdateras. Resultatet från riskanalysen ska ligga till grund för\\nprioritering av förbättringsarbetet och bedömning av eventuellt förändrat resursbehov.\\nLedningssystemets resultat ska integreras i Chalmers riskhanteringsarbete (C 2015-0368, rev 2021, se\\näven https://intranet.chalmers.se/arbeta-pa-chalmers/sakerhet-brandskydd/nar-nagot-allvarligt-\\nhander/riskhantering/) och återkopplas till Chalmers ledning. Uppföljning av lokalt\\nstrålsäkerhetsarbete ska göras genom intern strålsäkerhetsrond och intern revision av\\nledningssystemet utgör underlag för analyser av risker i strålsäkerheten. Krav för det systematiska',\n",
       "  'Bilaga 1\\nDnr. C 2022-0879 - Bilaga 1. Ansvarsfördelning Chalmers strålskyddsorganisationUpprätta och fortlöpande uppdatera skriftliga instruktioner för arbetet med joniserande\\nstrålning enligt SSMFS 2018:1 som är gemensam för Chalmers\\nSe till att kärnämnen hanteras på ett sätt som uppfyller kraven på fysiskt skydd\\nInformera strålskyddskoordinator, prefekt och ansvarig chef vid akuta ärende gällande\\nstrålskyddsfrågor. Samverka med strålskyddskoordinator för att informera berörd\\nverksamhet i strålskyddsfrågor.\\nTillse att strålskyddskoordinator och lokala strålskyddsexperter löpande får uppdaterad\\ninformation inom strålsäkerhetsfrågor\\nAktivt verka för att händelser eller iakttagelser av betydelse från strålskyddssynpunkt\\nanalyseras och dokumenteras\\nAktivt verka för att relevant lagstiftning följs och att krav på rapportering efterlevs\\nAnsvara att nödvändig och adekvat information finns tillgänglig för att upprätta och hålla\\ntillstånd uppdaterade i samverkan med strålskyddskoordinator\\nBevaka att individ- och kollektivstråldoser följs upp i samverkan med strålskyddskoordinator\\nAktivt verka för bokföring och erforderlig rapportering av kärnämne till Euratom, IAEA och\\nSSM i samverkan med strålskyddskoordinator\\nVara Chalmers sakkunnig i anläggningens strålskydd\\nStötta och instruera lokala strålskyddsexperter vid behov\\nLokal strålskyddsexpert vid Chalmers ska:\\nAktivt verka för att arbetet vid anläggningen bedrivs på ett från strålskyddssynpunkt lämpligt\\nsätt, så att goda strålskyddsförhållanden råder\\nHa rätten att stoppa arbete med joniserande strålning där det inte råder goda\\nstrålskyddsförhållanden\\nSe till att kärnämnen hanteras på ett sätt som uppfyller kraven på fysiskt skydd\\nInformera strålskyddsexpertfunktionen, prefekt och ansvarig chef vid akuta ärende gällande\\nstrålskyddsfrågor.\\nInformera löpande strålskyddsexpertfunktionen i övriga ärenden gällande strålskyddsfrågor.\\nRapportera händelser eller iakttagelser av betydelse från strålskyddssynpunkt till\\nstrålskyddsexpertfunktionen\\nBevaka kompetens- och resursfrågor för anläggningens strålskydd (bistår prefekt och\\navdelningschef vid respektive institution med att ta fram utbildningsplaner för olika\\npersonalkategorier enligt SSMFS 2018:1)\\nBevaka tillsammans med strålskyddsexpert och aktivt verka för att relevant lagstiftning följs\\noch att krav på rapportering efterlevs\\nUtfärda lokala medgivanden för institutionerna gällande verksamhet med joniserande\\nstrålning inom ramen för Chalmers samlingstillstånd\\nKontrollera regelbundet varje strålkälla inom sin institution enligt SSMFS 2018:1\\nUpprätta lokala strålskyddsinstruktioner för att förhindra att personer utsätts för\\noacceptabel eller onödig joniserande strålningBeslut fattat av: Stefan Bengtsson, Chalmers tekniska högskola, 2022-10-11, C 2022-0879\\nDecision made by: Stefan Bengtsson, Chalmers University of Technology, 2022-10-11, C 2022-0879',\n",
       "  'STYRDOKUMENT: Föreskrift för strålsäkerhet och kärnteknisk verksamhet vid Chalmers tekniska\\nhögskola AB. Dnr C 2022-0879beslutande av styr- och stöddokument även för det systematiska strålsäkerhetsarbetet. Chalmers\\nsamtliga styrdokument finns tillgängliga på intranätet. Berörda funktioner ansvarar att ta fram,\\nrevidera och diarieföra styrdokument.\\nStrålskyddsexpertfunktionen stödjer institutionernas strålsäkerhetsarbete genom att årligen\\ngenomföra intern strålsäkerhetsrond där arbete med strålkällor sker samt följer upp aktiviteterna i\\nde lokala handlingsplanerna för strålsäkerhet. Resultaten från uppföljningen används för att\\nutvärdera ledningssystemets verkan. Strålskyddsexpertfunktionen följer regelbundet upp och\\ndokumenterar avvikelser från både årlig intern strålsäkerhetsrond och den interna revisionen av\\nledningssystemet (ej utförd av strålskyddsexpertfunktionen) samt resultat av uppsatta mål, åtgärder\\noch förbättringsarbete.\\nFör inrapportering av avvikelser i hantering av strålkällor används ett ärendehanteringssystem, se\\ninformation på strålskyddets sida på intranätet (https://intranet.chalmers.se/arbeta-pa-\\nchalmers/arbetsmiljo-miljo/labb-och-verkstadssakerhet/stralskydd/), där medarbetare rapporterar\\navvikelser och institutionen ansvarar för hantering och eventuella åtgärder i ärendet.\\nStrålskyddsexpertfunktionen bevakar avvikelser och följer upp att ärendena hanteras korrekt samt\\nrapporterar eventuella betydande avvikelser till Strålsäkerhetsmyndigheten.\\nDen interna revisionen av ledningssystemet för strålsäkerhet är en del i det systematiska',\n",
       "  'ska ha dokumenterade utbildningsplaner för olika personalkategorier. Dessa\\nutbildningsplaner ska tas fram i samråd med strålskyddskoordinator/lokal strålskyddsexpert.\\nFör varje person ska uppgifter om omfattningen och tidpunkten för varje genomgången\\nutbildning dokumenteras\\nSe till att strålskyddsexpertens föreslagna strålskyddsåtgärder vidtas inom ramen för\\navdelningens resurser och, om detta ej är möjligt, att ärendet vidarebefordras till prefekt vid\\ninstitutionen\\nFörvissa sig om att strålningsutrustning och annan teknisk apparatur som används i\\nverksamheten får erforderligt underhåll och kontroll samt att radioaktiva ämnen\\nkontrollmäts\\nBudgetera för avfallshantering före påbörjat projekt (gäller ej låg-radioaktivt avfall)\\nSvara för att radioaktivt avfall och kasserade apparater som kan alstra strålning omhändertas\\nenligt gällande föreskrifter\\nSe till att personal som sysselsätts i strålningsarbete blir föremål för persondos- och/eller\\nkontaminationsmätningar i den omfattning strålskyddexpert/lokal strålskyddsexpert\\nföreskriver\\nStrålskyddsexpert vid Chalmers ska:\\nAktivt verka för att arbetet vid anläggningen bedrivs på ett från strålskyddssynpunkt lämpligt\\nsätt, så att goda strålskyddsförhållanden råder\\nHa rätten att stoppa arbete med joniserande strålning där det inte råder goda\\nstrålskyddsförhållandenBeslut fattat av: Stefan Bengtsson, Chalmers tekniska högskola, 2022-10-11, C 2022-0879\\nDecision made by: Stefan Bengtsson, Chalmers University of Technology, 2022-10-11, C 2022-0879',\n",
       "  'Bilaga 1\\nDnr. C 2022-0879 - Bilaga 1. Ansvarsfördelning Chalmers strålskyddsorganisationAnsvarsfördelning Chalmers strålskyddsorganisation\\nAll verksamhet med joniserande strålning inom Chalmers ska bedrivas i enlighet med\\nstrålskyddslagen. Verksamhet enligt ”Strålsäkerhetsmyndighetens föreskrifter SSMF 2018:1 om\\ngrundläggande bestämmelser för tillståndspliktig verksamhet med joniserande strålning” får bedrivas\\nenligt kategori A med öppna och slutna strålkällor endast i vissa laboratorier vid avdelningen Energi\\noch material vid institutionen för Kemi och kemiteknik samt vid avdelningen Subatomär, högenergi-\\noch plasmafysik vid institutionen för Fysik. Undantag från regeln får endast ges av\\nstrålskyddsexpertfunktionen i samråd med ansvarig chef vid institutionen.\\nNedan anges en beskrivning av ansvarsområden samt arbetsuppgifter för strålskyddskoordinator,\\nprefekt/avdelningschef, strålskyddsexpert och lokal strålskyddsexpert. Det är möjligt att justera\\ndessa utifrån kompetens och arbetsuppgifter i de personliga delegationerna.\\nStrålskyddskoordinatorn vid Chalmers ska:\\nKoordinera arbetet med Chalmers ledningssystem för strålsäkerhet.\\nInformera rektor, prefekt, strålskyddsexperter, arbetsmiljöombud och kontaktpersoner i\\nstrålskyddsfrågor\\nStödja strålskyddsexpert och övriga medarbetare för att arbetet vid anläggningen bedrivs på\\nett från strålskyddssynpunkt lämpligt sätt, så att goda strålskyddsförhållanden råder\\nAnsvara för att det rapporteras förändringar i registret över innehav av strålkällor före\\nutgången av mars månad varje år till Strålsäkerhetsmyndigheten. Utöver detta ska övriga',\n",
       "  'STYRDOKUMENT: Föreskrift för strålsäkerhet och kärnteknisk verksamhet vid Chalmers tekniska\\nhögskola AB. Dnr C 2022-0879Strålsäkerhetsmyndighetens föreskrifter om grundläggande bestämmelser för\\ntillståndspliktig verksamhet med joniserande strålning (SSMFS 2018:1) och underliggande\\nföreskrifter till denna\\nStrålsäkerhetsmyndighetens föreskrifter och allmänna råd om säkerhet i kärntekniska\\nanläggningar (SSMFS 2008:1) och underliggande föreskrifter till denna\\nBeslut om villkor för omhändertagande av kärntekniskt avfall (SSM2022-840, Chalmers Dnr C\\n2022-0489). Chalmersspecifikt beslut motsvarande SSMFS 2021:7.\\nOrganisationens förutsättningar\\nChalmers verksamheter är lokaliserade till campus, Johanneberg och Lindholmen, samt Onsala\\nRymdobservatorium. Chalmers deltar i många utbildnings- och forskningssamarbeten lokalt,\\nnationellt och internationellt.\\nChalmers tekniska högskola AB är en stiftelsehögskola med Stiftelsen Chalmers tekniska högskola\\nsom ägare. Chalmers som lärosäte är en enskild utbildningsanordnare, och lyder under Lag om\\ntillstånd att utfärda vissa examina (1993:792). Som aktiebolag lyder Chalmers under Aktiebolagslagen\\n(2005:551). Verksamheten regleras i ett långsiktigt avtal med svenska staten som kompletteras med\\nårliga avtal. Den reglering som gäller vid statliga lärosäten genom högskolelagen och\\nhögskoleförordningen motsvaras av specifika arbetsordningar, vilka beslutas av rektor, tillika\\nverkställande direktör för Chalmers tekniska högskola AB. Chalmers har också krav på sig att ha',\n",
       "  'STYRDOKUMENT: Föreskrift för strålsäkerhet och kärnteknisk verksamhet vid Chalmers tekniska\\nhögskola AB. Dnr C 2022-0879och industriell materialåtervinning vid Institutionen för Kemi och kemiteknik. Det finns därför en\\nlokal utvidgning av ledningssystemet för att styra och vägleda just den kärntekniska verksamheten\\nvid enheten, vilket görs i dokumentet ” Principer för ledningssystem för kärnteknisk verksamhet för\\nstrålskydd vid Kärnkemi och industriell materialåtervinning vid institutionen för Kemi och kemiteknik\\n(D nr: K2021-0200) ”\\nPlanering och uppföljning\\nInom strålsäkerhetsledningsarbetet ska risker som rör Chalmers strålskydd kontinuerligt utvärderas.\\nEn riskanalys ska genomföras årligen av strålskyddsexpertfunktionen baserat på de interna\\nstrålsäkerhetsronderna, och efterlevnad av befintliga lagar och krav. Tillkommer nya bindande krav\\nunder året ska riskanalysen uppdateras. Resultatet från riskanalysen ska ligga till grund för\\nprioritering av förbättringsarbetet och bedömning av eventuellt förändrat resursbehov.\\nLedningssystemets resultat ska integreras i Chalmers riskhanteringsarbete (C 2015-0368, rev 2021, se\\näven https://intranet.chalmers.se/arbeta-pa-chalmers/sakerhet-brandskydd/nar-nagot-allvarligt-\\nhander/riskhantering/) och återkopplas till Chalmers ledning. Uppföljning av lokalt\\nstrålsäkerhetsarbete ska göras genom intern strålsäkerhetsrond och intern revision av\\nledningssystemet utgör underlag för analyser av risker i strålsäkerheten. Krav för det systematiska\\nstrålskyddsarbetet är i grunden samma som gäller för det systematiska miljöarbetet men med tillägg\\nsom beskrivs i denna föreskrift (se Chalmers styrdokument, https://intranet.chalmers.se/om-\\nchalmers/planera-leda-utveckla-verksamheten/verksamhetsstyrning/lista-over-styrdokument/)\\nDe institutioner som har verksamhet med joniserande strålning ska årligen upprätta lokala\\nhandlingsplaner specifikt för strålsäkerhetsfrågor inom ramen för sitt systematiska miljö- och\\narbetsmiljöarbete (https://intranet.chalmers.se/arbeta-pa-chalmers/arbetsmiljo-\\nmiljo/arbetsmiljo/systematiskt-arbetsmiljoarbete/). Handlingsplanerna fastställs av prefekt och\\nstyrande för framtagande av åtgärdsplaner är Chalmers styrdokument för det systematiska miljö-,\\narbetsmiljö-, och säkerhetsarbetet.\\nAnsvar och ledning\\nRektor ansvarar för att strålsäkerhetsfrågorna utgör del av det strategiska arbetet och integreras i\\nrelevanta verksamhetsprocesser. Prefekter ansvarar för att säkerställa att medarbetare som arbetar\\nmed joniserande strålning har tillräcklig kompetens.\\nChalmers rutiner för miljö- och arbetsmiljöarbete inom verkstads- eller laborativ verksamhet\\ndefinierar ramar för verksamhetens systematiska arbetsmiljö- och miljöarbete. Rutinerna bygger på\\naktuell lagstiftning och är styrande samt tydliggör förutsättningarna för laboratoriesäkerhetsarbetet.\\nRutinerna är en del av miljöledningssystemet och det systematiska arbetsmiljöarbetet. Rektor är\\nytterst ansvarig för miljö-, arbetsmiljö- och säkerhetsarbetet, inkluderat strålsäkerhet. För den\\nkärntekniska verksamheten har rektor/VD det yttersta ansvaret. Rektor delegerar ansvar för',\n",
       "  'Ansvara för att det rapporteras förändringar i registret över innehav av strålkällor före\\nutgången av mars månad varje år till Strålsäkerhetsmyndigheten. Utöver detta ska övriga\\nförändringar, exempelvis nya inköp, av rapporteringspliktiga strålkällor rapporteras inom en\\nvecka till Strålsäkerhetsmyndigheten\\nBevaka att lokala strålskyddsinstruktioner upprättas för att förhindra att personer utsätts för\\noacceptabel eller onödig joniserande strålning\\nBevaka att händelser eller iakttagelser av betydelse från strålskyddssynpunkt analyseras och\\ndokumenteras\\nAnsvara för att oplanerade händelser av betydelse från strålskyddssynpunkt rapporteras till\\nStrålsäkerhetsmyndigheten snarast, i enlighet med SSMFS 2008:1 bilaga 4\\nAnsvara för bokföring och erforderlig rapportering av kärnämne till Euratom, IAEA och SSM i\\nsamverkan med strålskyddsexpert\\nBevaka att givna krav på rapportering efterlevs\\nKoordinera interna och externa revisioner\\nVara kontaktperson vid kontakt med berörda myndigheter\\nIngå i nätverket för strålsäkerhetsfrågor vid Chalmers\\nUppdatera och proaktivt komplettera informationen om Chalmers strålsäkerhetsarbete på\\nChalmers intranät\\nTillse att strålskyddsexperter får uppdaterad och adekvat utbildning för sina uppdrag\\nHandlägga all dokumentation rörande Chalmers strålskyddsarbete i 360Beslut fattat av: Stefan Bengtsson, Chalmers tekniska högskola, 2022-10-11, C 2022-0879\\nDecision made by: Stefan Bengtsson, Chalmers University of Technology, 2022-10-11, C 2022-0879',\n",
       "  'stödverksamheter. Intressenter inom verksamheten är prefekter/motsvarande och medarbetare som\\narbetar med joniserande strålning samt i viss utsträckning även studenter. Även externa intressenter,\\nsåsom gästforskare, berörs. Andra intressenter som kan påverkas indirekt av att lärosätet har\\nverksamhet med joniserande strålning är till exempel fastighetsägare och leverantörer av produkter\\noch tjänster såsom drifttekniker och lokalvårdare.\\nVerksamhet med joniserande strålning förekommer utspritt i organisationen medan den\\nkärntekniska verksamheten är begränsad till avdelningen Energi och material, enheten för KärnkemiBeslut fattat av: Stefan Bengtsson, Chalmers tekniska högskola, 2022-10-11, C 2022-0879\\nDecision made by: Stefan Bengtsson, Chalmers University of Technology, 2022-10-11, C 2022-0879',\n",
       "  'Ansvara för att det rapporteras förändringar i registret över innehav av strålkällor före\\nutgången av mars månad varje år till Strålsäkerhetsmyndigheten. Utöver detta ska övriga\\nförändringar, exempelvis nya inköp, av rapporteringspliktiga strålkällor rapporteras inom en\\nvecka till Strålsäkerhetsmyndigheten\\nBevaka att lokala strålskyddsinstruktioner upprättas för att förhindra att personer utsätts för\\noacceptabel eller onödig joniserande strålning\\nBevaka att händelser eller iakttagelser av betydelse från strålskyddssynpunkt analyseras och\\ndokumenteras\\nAnsvara för att oplanerade händelser av betydelse från strålskyddssynpunkt rapporteras till\\nStrålsäkerhetsmyndigheten snarast, i enlighet med SSMFS 2008:1 bilaga 4\\nAnsvara för bokföring och erforderlig rapportering av kärnämne till Euratom, IAEA och SSM i\\nsamverkan med strålskyddsexpert\\nBevaka att givna krav på rapportering efterlevs\\nKoordinera interna och externa revisioner\\nVara kontaktperson vid kontakt med berörda myndigheter\\nIngå i nätverket för strålsäkerhetsfrågor vid Chalmers\\nUppdatera och proaktivt komplettera informationen om Chalmers strålsäkerhetsarbete på\\nChalmers intranät\\nTillse att strålskyddsexperter får uppdaterad och adekvat utbildning för sina uppdrag\\nHandlägga all dokumentation rörande Chalmers strålskyddsarbete i 360Beslut fattat av: Stefan Bengtsson, Chalmers tekniska högskola, 2022-10-11, C 2022-0879\\nDecision made by: Stefan Bengtsson, Chalmers University of Technology, 2022-10-11, C 2022-0879',\n",
       "  'rapporterar eventuella betydande avvikelser till Strålsäkerhetsmyndigheten.\\nDen interna revisionen av ledningssystemet för strålsäkerhet är en del i det systematiska\\nstrålsäkerhetsarbetet och säkerställer att Chalmers hantering av strålkällor sker enligt bindande krav\\nsamt att eventuellt behov av förbättringsarbete synliggörs. Intern revision genomförs vart tredje år\\noch resultaten presenteras för ledningen i samband med den årliga genomgången av det\\nsystematiska strålsäkerhetsarbetet.Beslut fattat av: Stefan Bengtsson, Chalmers tekniska högskola, 2022-10-11, C 2022-0879\\nDecision made by: Stefan Bengtsson, Chalmers University of Technology, 2022-10-11, C 2022-0879',\n",
       "  'STYRDOKUMENT: Föreskrift för strålsäkerhet och kärnteknisk verksamhet vid Chalmers tekniska\\nhögskola AB. Dnr C 2022-0879och industriell materialåtervinning vid Institutionen för Kemi och kemiteknik. Det finns därför en\\nlokal utvidgning av ledningssystemet för att styra och vägleda just den kärntekniska verksamheten\\nvid enheten, vilket görs i dokumentet ” Principer för ledningssystem för kärnteknisk verksamhet för\\nstrålskydd vid Kärnkemi och industriell materialåtervinning vid institutionen för Kemi och kemiteknik\\n(D nr: K2021-0200) ”\\nPlanering och uppföljning\\nInom strålsäkerhetsledningsarbetet ska risker som rör Chalmers strålskydd kontinuerligt utvärderas.\\nEn riskanalys ska genomföras årligen av strålskyddsexpertfunktionen baserat på de interna\\nstrålsäkerhetsronderna, och efterlevnad av befintliga lagar och krav. Tillkommer nya bindande krav\\nunder året ska riskanalysen uppdateras. Resultatet från riskanalysen ska ligga till grund för\\nprioritering av förbättringsarbetet och bedömning av eventuellt förändrat resursbehov.\\nLedningssystemets resultat ska integreras i Chalmers riskhanteringsarbete (C 2015-0368, rev 2021, se\\näven https://intranet.chalmers.se/arbeta-pa-chalmers/sakerhet-brandskydd/nar-nagot-allvarligt-\\nhander/riskhantering/) och återkopplas till Chalmers ledning. Uppföljning av lokalt\\nstrålsäkerhetsarbete ska göras genom intern strålsäkerhetsrond och intern revision av\\nledningssystemet utgör underlag för analyser av risker i strålsäkerheten. Krav för det systematiska',\n",
       "  'STYRDOKUMENT: Föreskrift för strålsäkerhet och kärnteknisk verksamhet vid Chalmers tekniska\\nhögskola AB. Dnr C 2022-0879Strålsäkerhetsmyndighetens föreskrifter om grundläggande bestämmelser för\\ntillståndspliktig verksamhet med joniserande strålning (SSMFS 2018:1) och underliggande\\nföreskrifter till denna\\nStrålsäkerhetsmyndighetens föreskrifter och allmänna råd om säkerhet i kärntekniska\\nanläggningar (SSMFS 2008:1) och underliggande föreskrifter till denna\\nBeslut om villkor för omhändertagande av kärntekniskt avfall (SSM2022-840, Chalmers Dnr C\\n2022-0489). Chalmersspecifikt beslut motsvarande SSMFS 2021:7.\\nOrganisationens förutsättningar\\nChalmers verksamheter är lokaliserade till campus, Johanneberg och Lindholmen, samt Onsala\\nRymdobservatorium. Chalmers deltar i många utbildnings- och forskningssamarbeten lokalt,\\nnationellt och internationellt.\\nChalmers tekniska högskola AB är en stiftelsehögskola med Stiftelsen Chalmers tekniska högskola\\nsom ägare. Chalmers som lärosäte är en enskild utbildningsanordnare, och lyder under Lag om\\ntillstånd att utfärda vissa examina (1993:792). Som aktiebolag lyder Chalmers under Aktiebolagslagen\\n(2005:551). Verksamheten regleras i ett långsiktigt avtal med svenska staten som kompletteras med\\nårliga avtal. Den reglering som gäller vid statliga lärosäten genom högskolelagen och\\nhögskoleförordningen motsvaras av specifika arbetsordningar, vilka beslutas av rektor, tillika\\nverkställande direktör för Chalmers tekniska högskola AB. Chalmers har också krav på sig att ha',\n",
       "  'STYRDOKUMENT: Föreskrift för strålsäkerhet och kärnteknisk verksamhet vid Chalmers tekniska\\nhögskola AB. Dnr C 2022-0879Strålsäkerhetsmyndighetens föreskrifter om grundläggande bestämmelser för\\ntillståndspliktig verksamhet med joniserande strålning (SSMFS 2018:1) och underliggande\\nföreskrifter till denna\\nStrålsäkerhetsmyndighetens föreskrifter och allmänna råd om säkerhet i kärntekniska\\nanläggningar (SSMFS 2008:1) och underliggande föreskrifter till denna\\nBeslut om villkor för omhändertagande av kärntekniskt avfall (SSM2022-840, Chalmers Dnr C\\n2022-0489). Chalmersspecifikt beslut motsvarande SSMFS 2021:7.\\nOrganisationens förutsättningar\\nChalmers verksamheter är lokaliserade till campus, Johanneberg och Lindholmen, samt Onsala\\nRymdobservatorium. Chalmers deltar i många utbildnings- och forskningssamarbeten lokalt,\\nnationellt och internationellt.\\nChalmers tekniska högskola AB är en stiftelsehögskola med Stiftelsen Chalmers tekniska högskola\\nsom ägare. Chalmers som lärosäte är en enskild utbildningsanordnare, och lyder under Lag om\\ntillstånd att utfärda vissa examina (1993:792). Som aktiebolag lyder Chalmers under Aktiebolagslagen\\n(2005:551). Verksamheten regleras i ett långsiktigt avtal med svenska staten som kompletteras med\\nårliga avtal. Den reglering som gäller vid statliga lärosäten genom högskolelagen och\\nhögskoleförordningen motsvaras av specifika arbetsordningar, vilka beslutas av rektor, tillika\\nverkställande direktör för Chalmers tekniska högskola AB. Chalmers har också krav på sig att ha',\n",
       "  'relaterade ledningssystemet. Föreskriften riktar sig till lärosätets ledning, centrala verksamhetsstödet\\nsamt institutionerna/motsvarande som har verksamhet med joniserande strålning.\\nInledning\\nChalmers har tillstånd för verksamhet med joniserande strålning enligt strålskyddslagen (SFS 2018:\\n396) och tillstånd för kärnteknisk verksamhet enligt kärntekniklagen (SFS 1984:3).\\nFöreskriften ska understödja Chalmers mål inom strålskyddsarbetet: Målet för strålskyddsarbetet\\ninom Chalmers är att doser till personal och studenter hålls så låga som möjligt samtidigt som\\nutbildningen är av hög kvalitet, i linje med Chalmers mål ”Utbildning i världsklass”, samt att otillåtna\\nutsläpp av radioaktiva ämnen till miljön inte ska förekomma.\\nSyftet med föreskriften är att ge berörda prefekter/motsvarande, medarbetare, studenter och övriga\\nintressenter en övergripande och vägledande beskrivning av ledningssystemet för strålsäkerhet och\\nkärnteknisk verksamhet vid Chalmers.\\nNationella regelverk som styr struktur och innehåll av ledningssystem för strålsäkerhet och\\nkärnteknisk verksamhet är följande:\\nStrålskyddslag (SFS 2018:396)\\nLagen om kärnteknisk verksamhet (SFS 1984:3)Beslut fattat av: Stefan Bengtsson, Chalmers tekniska högskola, 2022-10-11, C 2022-0879\\nDecision made by: Stefan Bengtsson, Chalmers University of Technology, 2022-10-11, C 2022-0879',\n",
       "  'ska ha dokumenterade utbildningsplaner för olika personalkategorier. Dessa\\nutbildningsplaner ska tas fram i samråd med strålskyddskoordinator/lokal strålskyddsexpert.\\nFör varje person ska uppgifter om omfattningen och tidpunkten för varje genomgången\\nutbildning dokumenteras\\nSe till att strålskyddsexpertens föreslagna strålskyddsåtgärder vidtas inom ramen för\\navdelningens resurser och, om detta ej är möjligt, att ärendet vidarebefordras till prefekt vid\\ninstitutionen\\nFörvissa sig om att strålningsutrustning och annan teknisk apparatur som används i\\nverksamheten får erforderligt underhåll och kontroll samt att radioaktiva ämnen\\nkontrollmäts\\nBudgetera för avfallshantering före påbörjat projekt (gäller ej låg-radioaktivt avfall)\\nSvara för att radioaktivt avfall och kasserade apparater som kan alstra strålning omhändertas\\nenligt gällande föreskrifter\\nSe till att personal som sysselsätts i strålningsarbete blir föremål för persondos- och/eller\\nkontaminationsmätningar i den omfattning strålskyddexpert/lokal strålskyddsexpert\\nföreskriver\\nStrålskyddsexpert vid Chalmers ska:\\nAktivt verka för att arbetet vid anläggningen bedrivs på ett från strålskyddssynpunkt lämpligt\\nsätt, så att goda strålskyddsförhållanden råder\\nHa rätten att stoppa arbete med joniserande strålning där det inte råder goda\\nstrålskyddsförhållandenBeslut fattat av: Stefan Bengtsson, Chalmers tekniska högskola, 2022-10-11, C 2022-0879\\nDecision made by: Stefan Bengtsson, Chalmers University of Technology, 2022-10-11, C 2022-0879',\n",
       "  'Aktivt verka för att arbetet vid anläggningen bedrivs på ett från strålskyddssynpunkt lämpligt\\nsätt, så att goda strålskyddsförhållanden råder\\nHa rätten att stoppa arbete med joniserande strålning där det inte råder goda\\nstrålskyddsförhållanden\\nSe till att kärnämnen hanteras på ett sätt som uppfyller kraven på fysiskt skydd\\nInformera strålskyddsexpertfunktionen, prefekt och ansvarig chef vid akuta ärende gällande\\nstrålskyddsfrågor.\\nInformera löpande strålskyddsexpertfunktionen i övriga ärenden gällande strålskyddsfrågor.\\nRapportera händelser eller iakttagelser av betydelse från strålskyddssynpunkt till\\nstrålskyddsexpertfunktionen\\nBevaka kompetens- och resursfrågor för anläggningens strålskydd (bistår prefekt och\\navdelningschef vid respektive institution med att ta fram utbildningsplaner för olika\\npersonalkategorier enligt SSMFS 2018:1)\\nBevaka tillsammans med strålskyddsexpert och aktivt verka för att relevant lagstiftning följs\\noch att krav på rapportering efterlevs\\nUtfärda lokala medgivanden för institutionerna gällande verksamhet med joniserande\\nstrålning inom ramen för Chalmers samlingstillstånd\\nKontrollera regelbundet varje strålkälla inom sin institution enligt SSMFS 2018:1\\nUpprätta lokala strålskyddsinstruktioner för att förhindra att personer utsätts för\\noacceptabel eller onödig joniserande strålningBeslut fattat av: Stefan Bengtsson, Chalmers tekniska högskola, 2022-10-11, C 2022-0879\\nDecision made by: Stefan Bengtsson, Chalmers University of Technology, 2022-10-11, C 2022-0879',\n",
       "  '(https://intranet.chalmers.se/om-chalmers/planera-leda-utveckla-\\nverksamheten/verksamhetsstyrning/beskrivning-av-styrdokument/) reglerar framtagande ochBeslut fattat av: Stefan Bengtsson, Chalmers tekniska högskola, 2022-10-11, C 2022-0879\\nDecision made by: Stefan Bengtsson, Chalmers University of Technology, 2022-10-11, C 2022-0879',\n",
       "  'högskoleförordningen motsvaras av specifika arbetsordningar, vilka beslutas av rektor, tillika\\nverkställande direktör för Chalmers tekniska högskola AB. Chalmers har också krav på sig att ha\\nkvalitetssäkrande system för granskning av utbildningar och forskning och står under tillsyn av\\nUniversitetskanslersämbetet.\\nChalmers verksamhetsstyrning och ledningssystem utgår från Chalmers vision och mål, och har som\\ndel ett flertal mål- och styrdokument (https://intranet.chalmers.se/om-chalmers/planera-leda-\\nutveckla-verksamheten/verksamhetsstyrning/lista-over-styrdokument/). Institutionernas\\nverksamheter följs upp genom verksamhetsdialoger, vilket skapar en helhet som engagerar till ansvar\\noch handling mot målen. Genom integrering av ledningssystemet för strålsäkerhet och kärnteknisk\\nverksamhet i lärosätets övergripande styrning och ledning, säkerställs att strålsäkerhetsfrågorna\\ninkluderas i strategiarbetet och verksamhetsprocesserna (vid till exempel planering- och uppföljning)\\nmed utpekade ansvarsfunktioner. Vidare säkerställs att frågor och regelefterlevnad av bindande krav\\nhanteras inom verksamheten.\\nArbetet med strålsäkerhetsfrågorna ska ske systematiskt och lärosätet strävar kontinuerligt efter att\\nminimera risker och att skapa medvetenhet och engagemang kring strålsäkerhetsfrågor. De som\\nfrämst berörs av ledningssystemet för kärnteknisk verksamhet och strålskyddshantering är den\\nverksamhet vid Chalmers som arbetar med joniserande strålning, inklusive lokala och centrala\\nstödverksamheter. Intressenter inom verksamheten är prefekter/motsvarande och medarbetare som\\narbetar med joniserande strålning samt i viss utsträckning även studenter. Även externa intressenter,',\n",
       "  'Bilaga 1\\nDnr. C 2022-0879 - Bilaga 1. Ansvarsfördelning Chalmers strålskyddsorganisationAnsvarsfördelning Chalmers strålskyddsorganisation\\nAll verksamhet med joniserande strålning inom Chalmers ska bedrivas i enlighet med\\nstrålskyddslagen. Verksamhet enligt ”Strålsäkerhetsmyndighetens föreskrifter SSMF 2018:1 om\\ngrundläggande bestämmelser för tillståndspliktig verksamhet med joniserande strålning” får bedrivas\\nenligt kategori A med öppna och slutna strålkällor endast i vissa laboratorier vid avdelningen Energi\\noch material vid institutionen för Kemi och kemiteknik samt vid avdelningen Subatomär, högenergi-\\noch plasmafysik vid institutionen för Fysik. Undantag från regeln får endast ges av\\nstrålskyddsexpertfunktionen i samråd med ansvarig chef vid institutionen.\\nNedan anges en beskrivning av ansvarsområden samt arbetsuppgifter för strålskyddskoordinator,\\nprefekt/avdelningschef, strålskyddsexpert och lokal strålskyddsexpert. Det är möjligt att justera\\ndessa utifrån kompetens och arbetsuppgifter i de personliga delegationerna.\\nStrålskyddskoordinatorn vid Chalmers ska:\\nKoordinera arbetet med Chalmers ledningssystem för strålsäkerhet.\\nInformera rektor, prefekt, strålskyddsexperter, arbetsmiljöombud och kontaktpersoner i\\nstrålskyddsfrågor\\nStödja strålskyddsexpert och övriga medarbetare för att arbetet vid anläggningen bedrivs på\\nett från strålskyddssynpunkt lämpligt sätt, så att goda strålskyddsförhållanden råder\\nAnsvara för att det rapporteras förändringar i registret över innehav av strålkällor före\\nutgången av mars månad varje år till Strålsäkerhetsmyndigheten. Utöver detta ska övriga',\n",
       "  'Aktivt verka för att arbetet vid anläggningen bedrivs på ett från strålskyddssynpunkt lämpligt\\nsätt, så att goda strålskyddsförhållanden råder\\nHa rätten att stoppa arbete med joniserande strålning där det inte råder goda\\nstrålskyddsförhållanden\\nSe till att kärnämnen hanteras på ett sätt som uppfyller kraven på fysiskt skydd\\nInformera strålskyddsexpertfunktionen, prefekt och ansvarig chef vid akuta ärende gällande\\nstrålskyddsfrågor.\\nInformera löpande strålskyddsexpertfunktionen i övriga ärenden gällande strålskyddsfrågor.\\nRapportera händelser eller iakttagelser av betydelse från strålskyddssynpunkt till\\nstrålskyddsexpertfunktionen\\nBevaka kompetens- och resursfrågor för anläggningens strålskydd (bistår prefekt och\\navdelningschef vid respektive institution med att ta fram utbildningsplaner för olika\\npersonalkategorier enligt SSMFS 2018:1)\\nBevaka tillsammans med strålskyddsexpert och aktivt verka för att relevant lagstiftning följs\\noch att krav på rapportering efterlevs\\nUtfärda lokala medgivanden för institutionerna gällande verksamhet med joniserande\\nstrålning inom ramen för Chalmers samlingstillstånd\\nKontrollera regelbundet varje strålkälla inom sin institution enligt SSMFS 2018:1\\nUpprätta lokala strålskyddsinstruktioner för att förhindra att personer utsätts för\\noacceptabel eller onödig joniserande strålningBeslut fattat av: Stefan Bengtsson, Chalmers tekniska högskola, 2022-10-11, C 2022-0879\\nDecision made by: Stefan Bengtsson, Chalmers University of Technology, 2022-10-11, C 2022-0879',\n",
       "  'högskoleförordningen motsvaras av specifika arbetsordningar, vilka beslutas av rektor, tillika\\nverkställande direktör för Chalmers tekniska högskola AB. Chalmers har också krav på sig att ha\\nkvalitetssäkrande system för granskning av utbildningar och forskning och står under tillsyn av\\nUniversitetskanslersämbetet.\\nChalmers verksamhetsstyrning och ledningssystem utgår från Chalmers vision och mål, och har som\\ndel ett flertal mål- och styrdokument (https://intranet.chalmers.se/om-chalmers/planera-leda-\\nutveckla-verksamheten/verksamhetsstyrning/lista-over-styrdokument/). Institutionernas\\nverksamheter följs upp genom verksamhetsdialoger, vilket skapar en helhet som engagerar till ansvar\\noch handling mot målen. Genom integrering av ledningssystemet för strålsäkerhet och kärnteknisk\\nverksamhet i lärosätets övergripande styrning och ledning, säkerställs att strålsäkerhetsfrågorna\\ninkluderas i strategiarbetet och verksamhetsprocesserna (vid till exempel planering- och uppföljning)\\nmed utpekade ansvarsfunktioner. Vidare säkerställs att frågor och regelefterlevnad av bindande krav\\nhanteras inom verksamheten.\\nArbetet med strålsäkerhetsfrågorna ska ske systematiskt och lärosätet strävar kontinuerligt efter att\\nminimera risker och att skapa medvetenhet och engagemang kring strålsäkerhetsfrågor. De som\\nfrämst berörs av ledningssystemet för kärnteknisk verksamhet och strålskyddshantering är den\\nverksamhet vid Chalmers som arbetar med joniserande strålning, inklusive lokala och centrala\\nstödverksamheter. Intressenter inom verksamheten är prefekter/motsvarande och medarbetare som\\narbetar med joniserande strålning samt i viss utsträckning även studenter. Även externa intressenter,',\n",
       "  'STYRDOKUMENT: Föreskrift för strålsäkerhet och kärnteknisk verksamhet vid Chalmers tekniska\\nhögskola AB. Dnr C 2022-0879Beslut av:\\nRektorTyp av styrdokument:\\nFöreskriftDiarienummer:\\nC 2022-0879\\nDatum för\\nbeslut:Handläggare:\\nEva AlbersDokumentstruktur:\\nD1.3 Verksamhetsledning\\nDokumentet\\ngäller från och\\nmed:Avdelning/motsvarande som ansvarar för\\natt dokumentet skapas och/eller\\nrevideras:\\nInstitutionen för Kemi och kemiteknikDokumentet\\nreviderat,\\ndatum:Versionsnummer:\\n1\\nDokumentet\\ngäller till och\\nmed:\\nTills vidareDokumentet ersätter tidigare beslut:\\nC 2021-1537Dokumentet genomgånget utan\\nändring, datum:\\nFöreskrift för strålsäkerhet och kärnteknisk verksamhet vid\\nChalmers tekniska högskola AB\\nStyrdokument vid Chalmers\\nBeskrivning av föreskriften:\\nFöreskrift för ”strålsäkerhet och kärnteknisk verksamhet vid Chalmers” beskriver hur Chalmers\\nledningssystem för strålsäkerhet och kärnteknisk verksamhet är uppbyggt och vad som ingår i form\\nav organisation, ansvar, planering och utvärdering samt kopplingen till det övergripande och\\nrelaterade ledningssystemet. Föreskriften riktar sig till lärosätets ledning, centrala verksamhetsstödet\\nsamt institutionerna/motsvarande som har verksamhet med joniserande strålning.',\n",
       "  'STYRDOKUMENT: Föreskrift för strålsäkerhet och kärnteknisk verksamhet vid Chalmers tekniska\\nhögskola AB. Dnr C 2022-0879Vidare är Chalmers en decentraliserad organisation där rektor har delegerat befogenheter och ansvar\\nför dessa uppgifter i enlighet med arbets- och delegationsordningen och som följer\\norganisationsstrukturen (Figur 1). Ledningen har ansvar att säkerställa att nödvändiga resurser finns\\nför det systematiska strålsäkerhetsarbetet i sina respektive ansvarsområden. Detta görs praktiskt via\\nolika funktioner inom strålsäkerhetsorganisationen från central nivå till lokal nivå. På institutionsnivå\\nansvarar prefekten/motsvarande för att nödvändiga resurser avsätts för det lokala\\nstrålsäkerhetarbetet och tillser att lokala rutiner upprättas för att komplettera de centrala rutinerna.\\nFigur 1. Chalmers organisation för strålsäkerhet och kärnteknisk verksamhet\\nStrålskyddsexpertfunktionen\\nEnligt 3 kap. 12 § SSMFS 2018:1, ska Chalmers ha en bemannad strålskyddsexpertfunktion som är\\nanpassad till verksamhetens art och omfattning och som har befogenhet att rapportera direkt till\\nverksamhetens högsta ledning. Strålskyddsexpertfunktionen ska rådfrågas avseende tillämpning av\\nförfattningskrav om skydd av arbetstagare, allmänhet och miljön mot exponering för joniserande\\nstrålning. Funktionen har befogenhet att stoppa arbete med joniserande strålning där det inte råder\\ngoda strålskyddsförhållanden. Strålskyddsexpertfunktionen har även tillgång till lokala\\nstrålskyddsexperter vid samtliga institutioner där verksamhet med joniserande strålning\\nförekommer, oberoende av verksamhetens omfattning. Funktionen ska vara knuten till\\nverksamheten som hjälp och rådgivning i strålskyddsarbetet. Funktionen ska ha tillförsäkrats, av den',\n",
       "  'Föreskrift för stipendier för studenter inom Chalmers utbildningsprogram på grund - och avancerad \\nnivå  C 2019 -0748  \\nAdlerbertska Hospitiestiftelsen  \\nAdlerbertska Hospitiestiftelsen omfattar internationella studenter vid Chalmers . \\nSEB förvaltar medlen som finns i denna stiftelse och det är även dem som administrerar \\nutbetalningarna.  \\nStudentgrupp  \\nInternationella studenter på grund- , avancerad  samt forskar nivå. \\nStipendiebelopp  \\nStipendiebeloppet varier ar från år till år och fastslås av SEB som förvaltar de Adlerbertska \\nStiftelserna. Beloppet bestäms av tillgängligt medel i stiftelsen i förhållande till antalet stipendiater och betalas ut under vårterminen. Alla stipendiater tilldelas samma belopp oavsett om de läst en eller två terminer.  \\nAnsökan  \\nPå stipendiesidan på Chalmers studentportal finns information och ansökningslänk vilken är öppen från december till början av februari. Ansökan sker elektroniskt.  \\nUrval  \\nStudenten ska vara aktiv för att kunna tilldelas stipendiet. Betyg tas ej i beaktande och alla \\nsökande som är aktiva tilldelas stipendiet.  \\nAktiv innebär att studenten ska uppfyll a följande;  \\n• Registrerad * innehavande läsår  (inte kalenderår) och t agit minst 15 hp senaste läsåret  \\n(kurser på förutbildningsnivå ingår inte ). \\neller \\n• Registrerad för studier på forskarnivå  innevarande läsår . \\n\\n* Max en omregistrering på exjobbskursen tillåts.',\n",
       "  'STYRDOKUMENT: Föreskrift för strålsäkerhet och kärnteknisk verksamhet vid Chalmers tekniska\\nhögskola AB. Dnr C 2022-0879Strålskyddskoordinator\\nRektor delegerar till strålskyddskoordinatorn att inom strålskyddsexpertfunktionen driva och\\nkoordinera Chalmers arbete med strålskydd så att verksamheten i alla delar bedrivs i enlighet med\\nstrålskyddslagen. Strålskyddskoordinatorn är Chalmers resursperson och kontaktperson mellan olika\\ndelar av Chalmers. Strålskyddskoordinatorn är även kontaktperson till Strålsäkerhetsmyndigheten\\noch andra myndigheter och ansvarar för att rapportering sker enligt aktuella krav. Ansvarsområden\\noch uppgifter för strålskyddskoordinator beskrivs i bilaga 1. Beslut om återkallelse av delegation ska\\nprotokollföras och diarieföras på Chalmers centralt.\\nStrålskyddsexpert\\nInom strålskyddsexpertfunktionen finns 2-4 kompetensmässigt och arbetsmässigt överlappande\\nstrålskyddsexperter. Kompetenskravet för funktionen är i enlighet med Strålsäkerhetsmyndighetens\\nkrav (3 kap. 12 § SSMFS 2008:1). Dessa personer besitter följaktligen en mycket god teknisk kunskap\\ninom strålsäkerhetsområdet. Strålsäkerhetsmyndigheten ska godkänna de strålskyddsexperter som\\ningår i strålskyddsexpertfunktionen och rektor ansvarar för ansökan om detta. Strålskyddsexperterna\\nkan inte vidaredelegera. Ansvarsområden och uppgifter för strålskyddsexpert beskrivs i bilaga 1.\\nLokal strålskyddsexpert\\nInom vissa specifika verksamheter kan det finnas lokala strålskyddsexperter. Dessa överser det\\narbete med joniserande strålning som sker inom sina ansvarsområden så att detta genomförs på ett',\n",
       "  'STYRDOKUMENT: Föreskrift för strålsäkerhet och kärnteknisk verksamhet vid Chalmers tekniska\\nhögskola AB. Dnr C 2022-0879Strålskyddskoordinator\\nRektor delegerar till strålskyddskoordinatorn att inom strålskyddsexpertfunktionen driva och\\nkoordinera Chalmers arbete med strålskydd så att verksamheten i alla delar bedrivs i enlighet med\\nstrålskyddslagen. Strålskyddskoordinatorn är Chalmers resursperson och kontaktperson mellan olika\\ndelar av Chalmers. Strålskyddskoordinatorn är även kontaktperson till Strålsäkerhetsmyndigheten\\noch andra myndigheter och ansvarar för att rapportering sker enligt aktuella krav. Ansvarsområden\\noch uppgifter för strålskyddskoordinator beskrivs i bilaga 1. Beslut om återkallelse av delegation ska\\nprotokollföras och diarieföras på Chalmers centralt.\\nStrålskyddsexpert\\nInom strålskyddsexpertfunktionen finns 2-4 kompetensmässigt och arbetsmässigt överlappande\\nstrålskyddsexperter. Kompetenskravet för funktionen är i enlighet med Strålsäkerhetsmyndighetens\\nkrav (3 kap. 12 § SSMFS 2008:1). Dessa personer besitter följaktligen en mycket god teknisk kunskap\\ninom strålsäkerhetsområdet. Strålsäkerhetsmyndigheten ska godkänna de strålskyddsexperter som\\ningår i strålskyddsexpertfunktionen och rektor ansvarar för ansökan om detta. Strålskyddsexperterna\\nkan inte vidaredelegera. Ansvarsområden och uppgifter för strålskyddsexpert beskrivs i bilaga 1.\\nLokal strålskyddsexpert\\nInom vissa specifika verksamheter kan det finnas lokala strålskyddsexperter. Dessa överser det\\narbete med joniserande strålning som sker inom sina ansvarsområden så att detta genomförs på ett',\n",
       "  'STYRDOKUMENT: Föreskrift för strålsäkerhet och kärnteknisk verksamhet vid Chalmers tekniska\\nhögskola AB. Dnr C 2022-0879Beslut av:\\nRektorTyp av styrdokument:\\nFöreskriftDiarienummer:\\nC 2022-0879\\nDatum för\\nbeslut:Handläggare:\\nEva AlbersDokumentstruktur:\\nD1.3 Verksamhetsledning\\nDokumentet\\ngäller från och\\nmed:Avdelning/motsvarande som ansvarar för\\natt dokumentet skapas och/eller\\nrevideras:\\nInstitutionen för Kemi och kemiteknikDokumentet\\nreviderat,\\ndatum:Versionsnummer:\\n1\\nDokumentet\\ngäller till och\\nmed:\\nTills vidareDokumentet ersätter tidigare beslut:\\nC 2021-1537Dokumentet genomgånget utan\\nändring, datum:\\nFöreskrift för strålsäkerhet och kärnteknisk verksamhet vid\\nChalmers tekniska högskola AB\\nStyrdokument vid Chalmers\\nBeskrivning av föreskriften:\\nFöreskrift för ”strålsäkerhet och kärnteknisk verksamhet vid Chalmers” beskriver hur Chalmers\\nledningssystem för strålsäkerhet och kärnteknisk verksamhet är uppbyggt och vad som ingår i form\\nav organisation, ansvar, planering och utvärdering samt kopplingen till det övergripande och\\nrelaterade ledningssystemet. Föreskriften riktar sig till lärosätets ledning, centrala verksamhetsstödet\\nsamt institutionerna/motsvarande som har verksamhet med joniserande strålning.',\n",
       "  'STYRDOKUMENT: Föreskrift för strålsäkerhet och kärnteknisk verksamhet vid Chalmers tekniska\\nhögskola AB. Dnr C 2022-0879Beslut av:\\nRektorTyp av styrdokument:\\nFöreskriftDiarienummer:\\nC 2022-0879\\nDatum för\\nbeslut:Handläggare:\\nEva AlbersDokumentstruktur:\\nD1.3 Verksamhetsledning\\nDokumentet\\ngäller från och\\nmed:Avdelning/motsvarande som ansvarar för\\natt dokumentet skapas och/eller\\nrevideras:\\nInstitutionen för Kemi och kemiteknikDokumentet\\nreviderat,\\ndatum:Versionsnummer:\\n1\\nDokumentet\\ngäller till och\\nmed:\\nTills vidareDokumentet ersätter tidigare beslut:\\nC 2021-1537Dokumentet genomgånget utan\\nändring, datum:\\nFöreskrift för strålsäkerhet och kärnteknisk verksamhet vid\\nChalmers tekniska högskola AB\\nStyrdokument vid Chalmers\\nBeskrivning av föreskriften:\\nFöreskrift för ”strålsäkerhet och kärnteknisk verksamhet vid Chalmers” beskriver hur Chalmers\\nledningssystem för strålsäkerhet och kärnteknisk verksamhet är uppbyggt och vad som ingår i form\\nav organisation, ansvar, planering och utvärdering samt kopplingen till det övergripande och\\nrelaterade ledningssystemet. Föreskriften riktar sig till lärosätets ledning, centrala verksamhetsstödet\\nsamt institutionerna/motsvarande som har verksamhet med joniserande strålning.\\nInledning\\nChalmers har tillstånd för verksamhet med joniserande strålning enligt strålskyddslagen (SFS 2018:\\n396) och tillstånd för kärnteknisk verksamhet enligt kärntekniklagen (SFS 1984:3).\\nFöreskriften ska understödja Chalmers mål inom strålskyddsarbetet: Målet för strålskyddsarbetet\\ninom Chalmers är att doser till personal och studenter hålls så låga som möjligt samtidigt som\\nutbildningen är av hög kvalitet, i linje med Chalmers mål ”Utbildning i världsklass”, samt att otillåtna\\nutsläpp av radioaktiva ämnen till miljön inte ska förekomma.\\nSyftet med föreskriften är att ge berörda prefekter/motsvarande, medarbetare, studenter och övriga\\nintressenter en övergripande och vägledande beskrivning av ledningssystemet för strålsäkerhet och\\nkärnteknisk verksamhet vid Chalmers.\\nNationella regelverk som styr struktur och innehåll av ledningssystem för strålsäkerhet och\\nkärnteknisk verksamhet är följande:\\nStrålskyddslag (SFS 2018:396)\\nLagen om kärnteknisk verksamhet (SFS 1984:3)Beslut fattat av: Stefan Bengtsson, Chalmers tekniska högskola, 2022-10-11, C 2022-0879\\nDecision made by: Stefan Bengtsson, Chalmers University of Technology, 2022-10-11, C 2022-0879',\n",
       "  'relaterade ledningssystemet. Föreskriften riktar sig till lärosätets ledning, centrala verksamhetsstödet\\nsamt institutionerna/motsvarande som har verksamhet med joniserande strålning.\\nInledning\\nChalmers har tillstånd för verksamhet med joniserande strålning enligt strålskyddslagen (SFS 2018:\\n396) och tillstånd för kärnteknisk verksamhet enligt kärntekniklagen (SFS 1984:3).\\nFöreskriften ska understödja Chalmers mål inom strålskyddsarbetet: Målet för strålskyddsarbetet\\ninom Chalmers är att doser till personal och studenter hålls så låga som möjligt samtidigt som\\nutbildningen är av hög kvalitet, i linje med Chalmers mål ”Utbildning i världsklass”, samt att otillåtna\\nutsläpp av radioaktiva ämnen till miljön inte ska förekomma.\\nSyftet med föreskriften är att ge berörda prefekter/motsvarande, medarbetare, studenter och övriga\\nintressenter en övergripande och vägledande beskrivning av ledningssystemet för strålsäkerhet och\\nkärnteknisk verksamhet vid Chalmers.\\nNationella regelverk som styr struktur och innehåll av ledningssystem för strålsäkerhet och\\nkärnteknisk verksamhet är följande:\\nStrålskyddslag (SFS 2018:396)\\nLagen om kärnteknisk verksamhet (SFS 1984:3)Beslut fattat av: Stefan Bengtsson, Chalmers tekniska högskola, 2022-10-11, C 2022-0879\\nDecision made by: Stefan Bengtsson, Chalmers University of Technology, 2022-10-11, C 2022-0879',\n",
       "  'rapporterar eventuella betydande avvikelser till Strålsäkerhetsmyndigheten.\\nDen interna revisionen av ledningssystemet för strålsäkerhet är en del i det systematiska\\nstrålsäkerhetsarbetet och säkerställer att Chalmers hantering av strålkällor sker enligt bindande krav\\nsamt att eventuellt behov av förbättringsarbete synliggörs. Intern revision genomförs vart tredje år\\noch resultaten presenteras för ledningen i samband med den årliga genomgången av det\\nsystematiska strålsäkerhetsarbetet.Beslut fattat av: Stefan Bengtsson, Chalmers tekniska högskola, 2022-10-11, C 2022-0879\\nDecision made by: Stefan Bengtsson, Chalmers University of Technology, 2022-10-11, C 2022-0879',\n",
       "  'stödverksamheter. Intressenter inom verksamheten är prefekter/motsvarande och medarbetare som\\narbetar med joniserande strålning samt i viss utsträckning även studenter. Även externa intressenter,\\nsåsom gästforskare, berörs. Andra intressenter som kan påverkas indirekt av att lärosätet har\\nverksamhet med joniserande strålning är till exempel fastighetsägare och leverantörer av produkter\\noch tjänster såsom drifttekniker och lokalvårdare.\\nVerksamhet med joniserande strålning förekommer utspritt i organisationen medan den\\nkärntekniska verksamheten är begränsad till avdelningen Energi och material, enheten för KärnkemiBeslut fattat av: Stefan Bengtsson, Chalmers tekniska högskola, 2022-10-11, C 2022-0879\\nDecision made by: Stefan Bengtsson, Chalmers University of Technology, 2022-10-11, C 2022-0879',\n",
       "  'STYRDOKUMENT: Föreskrift för strålsäkerhet och kärnteknisk verksamhet vid Chalmers tekniska\\nhögskola AB. Dnr C 2022-0879Beslut av:\\nRektorTyp av styrdokument:\\nFöreskriftDiarienummer:\\nC 2022-0879\\nDatum för\\nbeslut:Handläggare:\\nEva AlbersDokumentstruktur:\\nD1.3 Verksamhetsledning\\nDokumentet\\ngäller från och\\nmed:Avdelning/motsvarande som ansvarar för\\natt dokumentet skapas och/eller\\nrevideras:\\nInstitutionen för Kemi och kemiteknikDokumentet\\nreviderat,\\ndatum:Versionsnummer:\\n1\\nDokumentet\\ngäller till och\\nmed:\\nTills vidareDokumentet ersätter tidigare beslut:\\nC 2021-1537Dokumentet genomgånget utan\\nändring, datum:\\nFöreskrift för strålsäkerhet och kärnteknisk verksamhet vid\\nChalmers tekniska högskola AB\\nStyrdokument vid Chalmers\\nBeskrivning av föreskriften:\\nFöreskrift för ”strålsäkerhet och kärnteknisk verksamhet vid Chalmers” beskriver hur Chalmers\\nledningssystem för strålsäkerhet och kärnteknisk verksamhet är uppbyggt och vad som ingår i form\\nav organisation, ansvar, planering och utvärdering samt kopplingen till det övergripande och\\nrelaterade ledningssystemet. Föreskriften riktar sig till lärosätets ledning, centrala verksamhetsstödet\\nsamt institutionerna/motsvarande som har verksamhet med joniserande strålning.',\n",
       "  '(https://intranet.chalmers.se/om-chalmers/planera-leda-utveckla-\\nverksamheten/verksamhetsstyrning/beskrivning-av-styrdokument/) reglerar framtagande ochBeslut fattat av: Stefan Bengtsson, Chalmers tekniska högskola, 2022-10-11, C 2022-0879\\nDecision made by: Stefan Bengtsson, Chalmers University of Technology, 2022-10-11, C 2022-0879',\n",
       "  'relaterade ledningssystemet. Föreskriften riktar sig till lärosätets ledning, centrala verksamhetsstödet\\nsamt institutionerna/motsvarande som har verksamhet med joniserande strålning.\\nInledning\\nChalmers har tillstånd för verksamhet med joniserande strålning enligt strålskyddslagen (SFS 2018:\\n396) och tillstånd för kärnteknisk verksamhet enligt kärntekniklagen (SFS 1984:3).\\nFöreskriften ska understödja Chalmers mål inom strålskyddsarbetet: Målet för strålskyddsarbetet\\ninom Chalmers är att doser till personal och studenter hålls så låga som möjligt samtidigt som\\nutbildningen är av hög kvalitet, i linje med Chalmers mål ”Utbildning i världsklass”, samt att otillåtna\\nutsläpp av radioaktiva ämnen till miljön inte ska förekomma.\\nSyftet med föreskriften är att ge berörda prefekter/motsvarande, medarbetare, studenter och övriga\\nintressenter en övergripande och vägledande beskrivning av ledningssystemet för strålsäkerhet och\\nkärnteknisk verksamhet vid Chalmers.\\nNationella regelverk som styr struktur och innehåll av ledningssystem för strålsäkerhet och\\nkärnteknisk verksamhet är följande:\\nStrålskyddslag (SFS 2018:396)\\nLagen om kärnteknisk verksamhet (SFS 1984:3)Beslut fattat av: Stefan Bengtsson, Chalmers tekniska högskola, 2022-10-11, C 2022-0879\\nDecision made by: Stefan Bengtsson, Chalmers University of Technology, 2022-10-11, C 2022-0879',\n",
       "  '(https://intranet.chalmers.se/om-chalmers/planera-leda-utveckla-\\nverksamheten/verksamhetsstyrning/beskrivning-av-styrdokument/) reglerar framtagande ochBeslut fattat av: Stefan Bengtsson, Chalmers tekniska högskola, 2022-10-11, C 2022-0879\\nDecision made by: Stefan Bengtsson, Chalmers University of Technology, 2022-10-11, C 2022-0879',\n",
       "  '(https://intranet.chalmers.se/om-chalmers/planera-leda-utveckla-\\nverksamheten/verksamhetsstyrning/beskrivning-av-styrdokument/) reglerar framtagande ochBeslut fattat av: Stefan Bengtsson, Chalmers tekniska högskola, 2022-10-11, C 2022-0879\\nDecision made by: Stefan Bengtsson, Chalmers University of Technology, 2022-10-11, C 2022-0879',\n",
       "  'Rutinerna är en del av miljöledningssystemet och det systematiska arbetsmiljöarbetet. Rektor är\\nytterst ansvarig för miljö-, arbetsmiljö- och säkerhetsarbetet, inkluderat strålsäkerhet. För den\\nkärntekniska verksamheten har rektor/VD det yttersta ansvaret. Rektor delegerar ansvar för\\nstrålsäkerhetsarbetet till strålskyddskoordinatorn. Strålskyddskoordinatorn har därmed en\\noberoende roll i fråga om strategiska beslut eller andra frågeställningar med betydelse för\\nsäkerheten eller det fysiska skyddet. Strålskyddskoordinatorn har ansvar att skriva delegationer för\\nstrålskyddsexperter och lokala strålskyddsexperter.Beslut fattat av: Stefan Bengtsson, Chalmers tekniska högskola, 2022-10-11, C 2022-0879\\nDecision made by: Stefan Bengtsson, Chalmers University of Technology, 2022-10-11, C 2022-0879',\n",
       "  'arbete med joniserande strålning som sker inom sina ansvarsområden så att detta genomförs på ett\\nstrålsäkert sätt i linje med de övergripande målen för strålsäkerhet. Deras arbete och observationer\\nmeddelas strålskyddsexpertfunktionen fortlöpande. De ser även till att eventuellt avfall samlas upp\\noch överlämnas till enheten för Kärnkemi och industriell materialåtervinning. Ansvarsområden och\\nuppgifter för lokal strålskyddsexpert beskrivs i bilaga 1.\\nBeredskap och agerande vid nödlägen\\nChalmers har riktlinjer för beredskap och krisledning (C 2017-0931) med tillhörande checklistor på\\ncentral nivå samt krav på att varje institution ska utarbeta en beredskapsplan på lokal nivå för\\nagerande vid nödlägen, såsom exempelvis brand, stöld av strålkällor eller utsläpp av radioaktiva\\nämnen, utifrån institutionens specifika förutsättningar. Därtill finns riktlinjer där det beskrivs vilka\\nfunktioner, rutiner och planer varje institution ska ha för att uppfylla kraven i det systematiska miljö-\\noch brandskyddsarbetet.\\nEfterlevnad av bindande krav\\nEfterlevnad av bindande krav på miljöområdet sker på central nivå såväl som lokal nivå, och är en del\\nav den interna miljörevisionen. Bindande krav inom strålskydd på lokal nivå sammanställs genom\\nstrålskyddsexpertfunktionen. Lagefterlevnadskontroll genomförs regelbundet av\\nstrålskyddsexpertfunktionen.\\nStyrdokument och uppföljning,\\nChalmers beskrivning av hantering och upprättande av styrdokument\\n(https://intranet.chalmers.se/om-chalmers/planera-leda-utveckla-',\n",
       "  'STYRDOKUMENT: Föreskrift för strålsäkerhet och kärnteknisk verksamhet vid Chalmers tekniska\\nhögskola AB. Dnr C 2022-0879Vidare är Chalmers en decentraliserad organisation där rektor har delegerat befogenheter och ansvar\\nför dessa uppgifter i enlighet med arbets- och delegationsordningen och som följer\\norganisationsstrukturen (Figur 1). Ledningen har ansvar att säkerställa att nödvändiga resurser finns\\nför det systematiska strålsäkerhetsarbetet i sina respektive ansvarsområden. Detta görs praktiskt via\\nolika funktioner inom strålsäkerhetsorganisationen från central nivå till lokal nivå. På institutionsnivå\\nansvarar prefekten/motsvarande för att nödvändiga resurser avsätts för det lokala\\nstrålsäkerhetarbetet och tillser att lokala rutiner upprättas för att komplettera de centrala rutinerna.\\nFigur 1. Chalmers organisation för strålsäkerhet och kärnteknisk verksamhet\\nStrålskyddsexpertfunktionen\\nEnligt 3 kap. 12 § SSMFS 2018:1, ska Chalmers ha en bemannad strålskyddsexpertfunktion som är\\nanpassad till verksamhetens art och omfattning och som har befogenhet att rapportera direkt till\\nverksamhetens högsta ledning. Strålskyddsexpertfunktionen ska rådfrågas avseende tillämpning av\\nförfattningskrav om skydd av arbetstagare, allmänhet och miljön mot exponering för joniserande\\nstrålning. Funktionen har befogenhet att stoppa arbete med joniserande strålning där det inte råder\\ngoda strålskyddsförhållanden. Strålskyddsexpertfunktionen har även tillgång till lokala\\nstrålskyddsexperter vid samtliga institutioner där verksamhet med joniserande strålning\\nförekommer, oberoende av verksamhetens omfattning. Funktionen ska vara knuten till\\nverksamheten som hjälp och rådgivning i strålskyddsarbetet. Funktionen ska ha tillförsäkrats, av den',\n",
       "  'strålsäkerhetsarbete ska göras genom intern strålsäkerhetsrond och intern revision av\\nledningssystemet utgör underlag för analyser av risker i strålsäkerheten. Krav för det systematiska\\nstrålskyddsarbetet är i grunden samma som gäller för det systematiska miljöarbetet men med tillägg\\nsom beskrivs i denna föreskrift (se Chalmers styrdokument, https://intranet.chalmers.se/om-\\nchalmers/planera-leda-utveckla-verksamheten/verksamhetsstyrning/lista-over-styrdokument/)\\nDe institutioner som har verksamhet med joniserande strålning ska årligen upprätta lokala\\nhandlingsplaner specifikt för strålsäkerhetsfrågor inom ramen för sitt systematiska miljö- och\\narbetsmiljöarbete (https://intranet.chalmers.se/arbeta-pa-chalmers/arbetsmiljo-\\nmiljo/arbetsmiljo/systematiskt-arbetsmiljoarbete/). Handlingsplanerna fastställs av prefekt och\\nstyrande för framtagande av åtgärdsplaner är Chalmers styrdokument för det systematiska miljö-,\\narbetsmiljö-, och säkerhetsarbetet.\\nAnsvar och ledning\\nRektor ansvarar för att strålsäkerhetsfrågorna utgör del av det strategiska arbetet och integreras i\\nrelevanta verksamhetsprocesser. Prefekter ansvarar för att säkerställa att medarbetare som arbetar\\nmed joniserande strålning har tillräcklig kompetens.\\nChalmers rutiner för miljö- och arbetsmiljöarbete inom verkstads- eller laborativ verksamhet\\ndefinierar ramar för verksamhetens systematiska arbetsmiljö- och miljöarbete. Rutinerna bygger på\\naktuell lagstiftning och är styrande samt tydliggör förutsättningarna för laboratoriesäkerhetsarbetet.\\nRutinerna är en del av miljöledningssystemet och det systematiska arbetsmiljöarbetet. Rektor är',\n",
       "  'Ansvara för att det rapporteras förändringar i registret över innehav av strålkällor före\\nutgången av mars månad varje år till Strålsäkerhetsmyndigheten. Utöver detta ska övriga\\nförändringar, exempelvis nya inköp, av rapporteringspliktiga strålkällor rapporteras inom en\\nvecka till Strålsäkerhetsmyndigheten\\nBevaka att lokala strålskyddsinstruktioner upprättas för att förhindra att personer utsätts för\\noacceptabel eller onödig joniserande strålning\\nBevaka att händelser eller iakttagelser av betydelse från strålskyddssynpunkt analyseras och\\ndokumenteras\\nAnsvara för att oplanerade händelser av betydelse från strålskyddssynpunkt rapporteras till\\nStrålsäkerhetsmyndigheten snarast, i enlighet med SSMFS 2008:1 bilaga 4\\nAnsvara för bokföring och erforderlig rapportering av kärnämne till Euratom, IAEA och SSM i\\nsamverkan med strålskyddsexpert\\nBevaka att givna krav på rapportering efterlevs\\nKoordinera interna och externa revisioner\\nVara kontaktperson vid kontakt med berörda myndigheter\\nIngå i nätverket för strålsäkerhetsfrågor vid Chalmers\\nUppdatera och proaktivt komplettera informationen om Chalmers strålsäkerhetsarbete på\\nChalmers intranät\\nTillse att strålskyddsexperter får uppdaterad och adekvat utbildning för sina uppdrag\\nHandlägga all dokumentation rörande Chalmers strålskyddsarbete i 360Beslut fattat av: Stefan Bengtsson, Chalmers tekniska högskola, 2022-10-11, C 2022-0879\\nDecision made by: Stefan Bengtsson, Chalmers University of Technology, 2022-10-11, C 2022-0879',\n",
       "  'rapporterar eventuella betydande avvikelser till Strålsäkerhetsmyndigheten.\\nDen interna revisionen av ledningssystemet för strålsäkerhet är en del i det systematiska\\nstrålsäkerhetsarbetet och säkerställer att Chalmers hantering av strålkällor sker enligt bindande krav\\nsamt att eventuellt behov av förbättringsarbete synliggörs. Intern revision genomförs vart tredje år\\noch resultaten presenteras för ledningen i samband med den årliga genomgången av det\\nsystematiska strålsäkerhetsarbetet.Beslut fattat av: Stefan Bengtsson, Chalmers tekniska högskola, 2022-10-11, C 2022-0879\\nDecision made by: Stefan Bengtsson, Chalmers University of Technology, 2022-10-11, C 2022-0879',\n",
       "  'STYRDOKUMENT: Föreskrift för strålsäkerhet och kärnteknisk verksamhet vid Chalmers tekniska\\nhögskola AB. Dnr C 2022-0879Strålsäkerhetsmyndighetens föreskrifter om grundläggande bestämmelser för\\ntillståndspliktig verksamhet med joniserande strålning (SSMFS 2018:1) och underliggande\\nföreskrifter till denna\\nStrålsäkerhetsmyndighetens föreskrifter och allmänna råd om säkerhet i kärntekniska\\nanläggningar (SSMFS 2008:1) och underliggande föreskrifter till denna\\nBeslut om villkor för omhändertagande av kärntekniskt avfall (SSM2022-840, Chalmers Dnr C\\n2022-0489). Chalmersspecifikt beslut motsvarande SSMFS 2021:7.\\nOrganisationens förutsättningar\\nChalmers verksamheter är lokaliserade till campus, Johanneberg och Lindholmen, samt Onsala\\nRymdobservatorium. Chalmers deltar i många utbildnings- och forskningssamarbeten lokalt,\\nnationellt och internationellt.\\nChalmers tekniska högskola AB är en stiftelsehögskola med Stiftelsen Chalmers tekniska högskola\\nsom ägare. Chalmers som lärosäte är en enskild utbildningsanordnare, och lyder under Lag om\\ntillstånd att utfärda vissa examina (1993:792). Som aktiebolag lyder Chalmers under Aktiebolagslagen\\n(2005:551). Verksamheten regleras i ett långsiktigt avtal med svenska staten som kompletteras med\\nårliga avtal. Den reglering som gäller vid statliga lärosäten genom högskolelagen och\\nhögskoleförordningen motsvaras av specifika arbetsordningar, vilka beslutas av rektor, tillika\\nverkställande direktör för Chalmers tekniska högskola AB. Chalmers har också krav på sig att ha',\n",
       "  'Bilaga 1\\nDnr. C 2022-0879 - Bilaga 1. Ansvarsfördelning Chalmers strålskyddsorganisationAnsvarsfördelning Chalmers strålskyddsorganisation\\nAll verksamhet med joniserande strålning inom Chalmers ska bedrivas i enlighet med\\nstrålskyddslagen. Verksamhet enligt ”Strålsäkerhetsmyndighetens föreskrifter SSMF 2018:1 om\\ngrundläggande bestämmelser för tillståndspliktig verksamhet med joniserande strålning” får bedrivas\\nenligt kategori A med öppna och slutna strålkällor endast i vissa laboratorier vid avdelningen Energi\\noch material vid institutionen för Kemi och kemiteknik samt vid avdelningen Subatomär, högenergi-\\noch plasmafysik vid institutionen för Fysik. Undantag från regeln får endast ges av\\nstrålskyddsexpertfunktionen i samråd med ansvarig chef vid institutionen.\\nNedan anges en beskrivning av ansvarsområden samt arbetsuppgifter för strålskyddskoordinator,\\nprefekt/avdelningschef, strålskyddsexpert och lokal strålskyddsexpert. Det är möjligt att justera\\ndessa utifrån kompetens och arbetsuppgifter i de personliga delegationerna.\\nStrålskyddskoordinatorn vid Chalmers ska:\\nKoordinera arbetet med Chalmers ledningssystem för strålsäkerhet.\\nInformera rektor, prefekt, strålskyddsexperter, arbetsmiljöombud och kontaktpersoner i\\nstrålskyddsfrågor\\nStödja strålskyddsexpert och övriga medarbetare för att arbetet vid anläggningen bedrivs på\\nett från strålskyddssynpunkt lämpligt sätt, så att goda strålskyddsförhållanden råder\\nAnsvara för att det rapporteras förändringar i registret över innehav av strålkällor före\\nutgången av mars månad varje år till Strålsäkerhetsmyndigheten. Utöver detta ska övriga',\n",
       "  'Ansvara för att det rapporteras förändringar i registret över innehav av strålkällor före\\nutgången av mars månad varje år till Strålsäkerhetsmyndigheten. Utöver detta ska övriga\\nförändringar, exempelvis nya inköp, av rapporteringspliktiga strålkällor rapporteras inom en\\nvecka till Strålsäkerhetsmyndigheten\\nBevaka att lokala strålskyddsinstruktioner upprättas för att förhindra att personer utsätts för\\noacceptabel eller onödig joniserande strålning\\nBevaka att händelser eller iakttagelser av betydelse från strålskyddssynpunkt analyseras och\\ndokumenteras\\nAnsvara för att oplanerade händelser av betydelse från strålskyddssynpunkt rapporteras till\\nStrålsäkerhetsmyndigheten snarast, i enlighet med SSMFS 2008:1 bilaga 4\\nAnsvara för bokföring och erforderlig rapportering av kärnämne till Euratom, IAEA och SSM i\\nsamverkan med strålskyddsexpert\\nBevaka att givna krav på rapportering efterlevs\\nKoordinera interna och externa revisioner\\nVara kontaktperson vid kontakt med berörda myndigheter\\nIngå i nätverket för strålsäkerhetsfrågor vid Chalmers\\nUppdatera och proaktivt komplettera informationen om Chalmers strålsäkerhetsarbete på\\nChalmers intranät\\nTillse att strålskyddsexperter får uppdaterad och adekvat utbildning för sina uppdrag\\nHandlägga all dokumentation rörande Chalmers strålskyddsarbete i 360Beslut fattat av: Stefan Bengtsson, Chalmers tekniska högskola, 2022-10-11, C 2022-0879\\nDecision made by: Stefan Bengtsson, Chalmers University of Technology, 2022-10-11, C 2022-0879',\n",
       "  'Bilaga 1\\nDnr. C 2022-0879 - Bilaga 1. Ansvarsfördelning Chalmers strålskyddsorganisationAnsvarsfördelning Chalmers strålskyddsorganisation\\nAll verksamhet med joniserande strålning inom Chalmers ska bedrivas i enlighet med\\nstrålskyddslagen. Verksamhet enligt ”Strålsäkerhetsmyndighetens föreskrifter SSMF 2018:1 om\\ngrundläggande bestämmelser för tillståndspliktig verksamhet med joniserande strålning” får bedrivas\\nenligt kategori A med öppna och slutna strålkällor endast i vissa laboratorier vid avdelningen Energi\\noch material vid institutionen för Kemi och kemiteknik samt vid avdelningen Subatomär, högenergi-\\noch plasmafysik vid institutionen för Fysik. Undantag från regeln får endast ges av\\nstrålskyddsexpertfunktionen i samråd med ansvarig chef vid institutionen.\\nNedan anges en beskrivning av ansvarsområden samt arbetsuppgifter för strålskyddskoordinator,\\nprefekt/avdelningschef, strålskyddsexpert och lokal strålskyddsexpert. Det är möjligt att justera\\ndessa utifrån kompetens och arbetsuppgifter i de personliga delegationerna.\\nStrålskyddskoordinatorn vid Chalmers ska:\\nKoordinera arbetet med Chalmers ledningssystem för strålsäkerhet.\\nInformera rektor, prefekt, strålskyddsexperter, arbetsmiljöombud och kontaktpersoner i\\nstrålskyddsfrågor\\nStödja strålskyddsexpert och övriga medarbetare för att arbetet vid anläggningen bedrivs på\\nett från strålskyddssynpunkt lämpligt sätt, så att goda strålskyddsförhållanden råder\\nAnsvara för att det rapporteras förändringar i registret över innehav av strålkällor före\\nutgången av mars månad varje år till Strålsäkerhetsmyndigheten. Utöver detta ska övriga',\n",
       "  'STYRDOKUMENT: Föreskrift för strålsäkerhet och kärnteknisk verksamhet vid Chalmers tekniska\\nhögskola AB. Dnr C 2022-0879beslutande av styr- och stöddokument även för det systematiska strålsäkerhetsarbetet. Chalmers\\nsamtliga styrdokument finns tillgängliga på intranätet. Berörda funktioner ansvarar att ta fram,\\nrevidera och diarieföra styrdokument.\\nStrålskyddsexpertfunktionen stödjer institutionernas strålsäkerhetsarbete genom att årligen\\ngenomföra intern strålsäkerhetsrond där arbete med strålkällor sker samt följer upp aktiviteterna i\\nde lokala handlingsplanerna för strålsäkerhet. Resultaten från uppföljningen används för att\\nutvärdera ledningssystemets verkan. Strålskyddsexpertfunktionen följer regelbundet upp och\\ndokumenterar avvikelser från både årlig intern strålsäkerhetsrond och den interna revisionen av\\nledningssystemet (ej utförd av strålskyddsexpertfunktionen) samt resultat av uppsatta mål, åtgärder\\noch förbättringsarbete.\\nFör inrapportering av avvikelser i hantering av strålkällor används ett ärendehanteringssystem, se\\ninformation på strålskyddets sida på intranätet (https://intranet.chalmers.se/arbeta-pa-\\nchalmers/arbetsmiljo-miljo/labb-och-verkstadssakerhet/stralskydd/), där medarbetare rapporterar\\navvikelser och institutionen ansvarar för hantering och eventuella åtgärder i ärendet.\\nStrålskyddsexpertfunktionen bevakar avvikelser och följer upp att ärendena hanteras korrekt samt\\nrapporterar eventuella betydande avvikelser till Strålsäkerhetsmyndigheten.\\nDen interna revisionen av ledningssystemet för strålsäkerhet är en del i det systematiska\\nstrålsäkerhetsarbetet och säkerställer att Chalmers hantering av strålkällor sker enligt bindande krav\\nsamt att eventuellt behov av förbättringsarbete synliggörs. Intern revision genomförs vart tredje år\\noch resultaten presenteras för ledningen i samband med den årliga genomgången av det\\nsystematiska strålsäkerhetsarbetet.Beslut fattat av: Stefan Bengtsson, Chalmers tekniska högskola, 2022-10-11, C 2022-0879\\nDecision made by: Stefan Bengtsson, Chalmers University of Technology, 2022-10-11, C 2022-0879',\n",
       "  'Bilaga 1\\nDnr. C 2022-0879 - Bilaga 1. Ansvarsfördelning Chalmers strålskyddsorganisationUpprätta och fortlöpande uppdatera skriftliga instruktioner för arbetet med joniserande\\nstrålning enligt SSMFS 2018:1 som är gemensam för Chalmers\\nSe till att kärnämnen hanteras på ett sätt som uppfyller kraven på fysiskt skydd\\nInformera strålskyddskoordinator, prefekt och ansvarig chef vid akuta ärende gällande\\nstrålskyddsfrågor. Samverka med strålskyddskoordinator för att informera berörd\\nverksamhet i strålskyddsfrågor.\\nTillse att strålskyddskoordinator och lokala strålskyddsexperter löpande får uppdaterad\\ninformation inom strålsäkerhetsfrågor\\nAktivt verka för att händelser eller iakttagelser av betydelse från strålskyddssynpunkt\\nanalyseras och dokumenteras\\nAktivt verka för att relevant lagstiftning följs och att krav på rapportering efterlevs\\nAnsvara att nödvändig och adekvat information finns tillgänglig för att upprätta och hålla\\ntillstånd uppdaterade i samverkan med strålskyddskoordinator\\nBevaka att individ- och kollektivstråldoser följs upp i samverkan med strålskyddskoordinator\\nAktivt verka för bokföring och erforderlig rapportering av kärnämne till Euratom, IAEA och\\nSSM i samverkan med strålskyddskoordinator\\nVara Chalmers sakkunnig i anläggningens strålskydd\\nStötta och instruera lokala strålskyddsexperter vid behov\\nLokal strålskyddsexpert vid Chalmers ska:\\nAktivt verka för att arbetet vid anläggningen bedrivs på ett från strålskyddssynpunkt lämpligt\\nsätt, så att goda strålskyddsförhållanden råder',\n",
       "  'aktuell lagstiftning och är styrande samt tydliggör förutsättningarna för laboratoriesäkerhetsarbetet.\\nRutinerna är en del av miljöledningssystemet och det systematiska arbetsmiljöarbetet. Rektor är\\nytterst ansvarig för miljö-, arbetsmiljö- och säkerhetsarbetet, inkluderat strålsäkerhet. För den\\nkärntekniska verksamheten har rektor/VD det yttersta ansvaret. Rektor delegerar ansvar för\\nstrålsäkerhetsarbetet till strålskyddskoordinatorn. Strålskyddskoordinatorn har därmed en\\noberoende roll i fråga om strategiska beslut eller andra frågeställningar med betydelse för\\nsäkerheten eller det fysiska skyddet. Strålskyddskoordinatorn har ansvar att skriva delegationer för\\nstrålskyddsexperter och lokala strålskyddsexperter.Beslut fattat av: Stefan Bengtsson, Chalmers tekniska högskola, 2022-10-11, C 2022-0879\\nDecision made by: Stefan Bengtsson, Chalmers University of Technology, 2022-10-11, C 2022-0879',\n",
       "  'arbete med joniserande strålning som sker inom sina ansvarsområden så att detta genomförs på ett\\nstrålsäkert sätt i linje med de övergripande målen för strålsäkerhet. Deras arbete och observationer\\nmeddelas strålskyddsexpertfunktionen fortlöpande. De ser även till att eventuellt avfall samlas upp\\noch överlämnas till enheten för Kärnkemi och industriell materialåtervinning. Ansvarsområden och\\nuppgifter för lokal strålskyddsexpert beskrivs i bilaga 1.\\nBeredskap och agerande vid nödlägen\\nChalmers har riktlinjer för beredskap och krisledning (C 2017-0931) med tillhörande checklistor på\\ncentral nivå samt krav på att varje institution ska utarbeta en beredskapsplan på lokal nivå för\\nagerande vid nödlägen, såsom exempelvis brand, stöld av strålkällor eller utsläpp av radioaktiva\\nämnen, utifrån institutionens specifika förutsättningar. Därtill finns riktlinjer där det beskrivs vilka\\nfunktioner, rutiner och planer varje institution ska ha för att uppfylla kraven i det systematiska miljö-\\noch brandskyddsarbetet.\\nEfterlevnad av bindande krav\\nEfterlevnad av bindande krav på miljöområdet sker på central nivå såväl som lokal nivå, och är en del\\nav den interna miljörevisionen. Bindande krav inom strålskydd på lokal nivå sammanställs genom\\nstrålskyddsexpertfunktionen. Lagefterlevnadskontroll genomförs regelbundet av\\nstrålskyddsexpertfunktionen.\\nStyrdokument och uppföljning,\\nChalmers beskrivning av hantering och upprättande av styrdokument\\n(https://intranet.chalmers.se/om-chalmers/planera-leda-utveckla-',\n",
       "  'Bilaga 1\\nDnr. C 2022-0879 - Bilaga 1. Ansvarsfördelning Chalmers strålskyddsorganisationStrålskyddskoordinatorn har befogenhet att\\nStoppa arbete med joniserande strålning på Chalmers tekniska högskola där det inte råder\\ngoda strålskyddsförhållanden.\\nSkriva delegationer för strålskyddsexperter och lokala strålskyddsexperter efter beslut av\\nbehörig chef\\nSammankalla strålskyddsexperter för möten\\nPrefekt/avdelningschef där verksamhet med joniserande strålning bedrivs ska:\\nSvara för att allt arbete med strålning sker i enlighet med gällande lagar och förordningar\\nsamt lokala riktlinjer och föreskrifter\\nFöreslå lokal strålskyddsexpert inom den egna verksamheten i samråd med\\nstrålskyddsexpertfunktionen för delegation från strålskyddskoordinator\\nInformera strålskyddskoordinator, strålskyddsexpert och lokal strålskyddsexpert,\\ninstitutionens/avdelningens arbetsmiljöombud och arbetsmiljöingenjör om uppkomna eller\\nplanerade förändringar beträffande utrustning, lokaler och arbetsförhållanden som rör\\nverksamheten med strålning\\nGe strålskyddskoordinator de upplysningar och handlingar som behövs för tillsyn samt ge\\ntillträde till anläggning och arbetsplats där strålningsverksamhet bedrivs\\nKontrollera och ekonomiskt svara för att den personal som deltar i verksamheten har\\nerforderlig kompetens såväl teoretiskt såsom praktiskt, och är informerad om de risker som\\nkan vara förknippade med verksamheten. Den verksamhet som omfattas av SSMFS 2018:1\\nska ha dokumenterade utbildningsplaner för olika personalkategorier. Dessa\\nutbildningsplaner ska tas fram i samråd med strålskyddskoordinator/lokal strålskyddsexpert.',\n",
       "  'rapporterar eventuella betydande avvikelser till Strålsäkerhetsmyndigheten.\\nDen interna revisionen av ledningssystemet för strålsäkerhet är en del i det systematiska\\nstrålsäkerhetsarbetet och säkerställer att Chalmers hantering av strålkällor sker enligt bindande krav\\nsamt att eventuellt behov av förbättringsarbete synliggörs. Intern revision genomförs vart tredje år\\noch resultaten presenteras för ledningen i samband med den årliga genomgången av det\\nsystematiska strålsäkerhetsarbetet.Beslut fattat av: Stefan Bengtsson, Chalmers tekniska högskola, 2022-10-11, C 2022-0879\\nDecision made by: Stefan Bengtsson, Chalmers University of Technology, 2022-10-11, C 2022-0879',\n",
       "  'STYRDOKUMENT: Föreskrift för strålsäkerhet och kärnteknisk verksamhet vid Chalmers tekniska\\nhögskola AB. Dnr C 2022-0879Vidare är Chalmers en decentraliserad organisation där rektor har delegerat befogenheter och ansvar\\nför dessa uppgifter i enlighet med arbets- och delegationsordningen och som följer\\norganisationsstrukturen (Figur 1). Ledningen har ansvar att säkerställa att nödvändiga resurser finns\\nför det systematiska strålsäkerhetsarbetet i sina respektive ansvarsområden. Detta görs praktiskt via\\nolika funktioner inom strålsäkerhetsorganisationen från central nivå till lokal nivå. På institutionsnivå\\nansvarar prefekten/motsvarande för att nödvändiga resurser avsätts för det lokala\\nstrålsäkerhetarbetet och tillser att lokala rutiner upprättas för att komplettera de centrala rutinerna.\\nFigur 1. Chalmers organisation för strålsäkerhet och kärnteknisk verksamhet\\nStrålskyddsexpertfunktionen\\nEnligt 3 kap. 12 § SSMFS 2018:1, ska Chalmers ha en bemannad strålskyddsexpertfunktion som är\\nanpassad till verksamhetens art och omfattning och som har befogenhet att rapportera direkt till\\nverksamhetens högsta ledning. Strålskyddsexpertfunktionen ska rådfrågas avseende tillämpning av\\nförfattningskrav om skydd av arbetstagare, allmänhet och miljön mot exponering för joniserande\\nstrålning. Funktionen har befogenhet att stoppa arbete med joniserande strålning där det inte råder\\ngoda strålskyddsförhållanden. Strålskyddsexpertfunktionen har även tillgång till lokala\\nstrålskyddsexperter vid samtliga institutioner där verksamhet med joniserande strålning\\nförekommer, oberoende av verksamhetens omfattning. Funktionen ska vara knuten till\\nverksamheten som hjälp och rådgivning i strålskyddsarbetet. Funktionen ska ha tillförsäkrats, av den',\n",
       "  'Föreskrift för stipendier för studenter inom Chalmers utbildningsprogram på grund - och avancerad \\nnivå  C 2019 -0748  \\nKungliga och Hvitfeldska stiftelsen  \\nChalmers  bistår d en Kungliga och Hvitfeldska stiftelsen med administration av den egna \\nhögskolans ansökningar. Chalmers nominerar föreslagna stipendiater utifrån lokala kriterier, \\nmen det slutgiltiga beslutet tas av styrelsen för den Kungliga och Hvitfeldska stiftelsen utifrån \\nderas kriterier.  \\nStudentgrupp  \\nNationella studenter på  både grund-  och avancerad nivå ( mastersprogram ) på Cha lmers.  \\nStipendiebelopp  \\n10 000 kr  \\nUtbetalning sker i december.  \\nAnsökan  \\nPå stipendiesidan på Chalmers studentportal finns information om hur man hämtar ansökningsblankett samt vart blanketten ska skickas. Ifylld a nsökan ska skickas per post till \\nChalmers (som skicka r vidare till Kungliga och Hvitfeldska stiftelsen ). \\nUrval  \\nLokala kriterier:  \\n• Registrering för både höst och vår , föregående  läsår krävs.  \\n• Nominering och rangordning baseras på studietakt och betygssnitt, så kallat viktat \\nbetyg.  \\n• En student måste ha avslutade kurser om minst 60 hp på Chalmers för att kunna nomineras.  Kurser på förutbildningsnivå samt Sommarmatte  (Förberedande kurs i \\nmatematik) ingår inte.  \\n• Urvalet baseras på alla kurser lästa på Chalmers, såväl på grund - som avancerad nivå \\n(mastersprogram ). Kurser inom alla program, fristående samt tillgodoräknanden \\nräknas med. Tillgodoräknade kurser utgör endast grund för studietakt, betyg tas ej i \\nbeaktande.  \\nSamma student kan bli tilldelad stipendium från både den Kungliga och Hvitfeldska stiftelsen \\noch Adlerbertska Stiftelsen samma år.  \\nStipendiate r nomineras av Chalmers och beslutas  sedan  av Kungliga och Hvitfeldska \\nstiftelsens styrelse. Chalmers nominerar fler studenter än vad det finns stipendier och styrelsen beslutar om vilka som ska tilldelas utifrån deras lokala kriterier, dessa kriterier kontrolleras ej av Chalmers.  \\nNomineringen baserat på föregående samt eventuellt tidigare läsårs resultat och således kan även studenter som inte längre är aktiva tilldelas  Det innebär att även s tudent som tagit ut \\nexamen  eller har ett registrerat  studieuppehå ll innevarande läsår kan nomineras.  \\nUtsökning sker tidigast 15 arbetsdagar efter sista tentamensdag i omtentamensperioden i \\naugusti. Det är studentens ansvar att betyg och tillgodoräknanden är inrapporterade vid denna \\ntidpunkt. Efter detta datum finns inga skyldigheter att beakta inkomna resultat äve n om de \\ntillhör rätt period. Dock kan eventuella felaktigheter eller ej inrapporterade poäng intygas av ansvarig personal på Chalmers. Dessa kan i mån om tid och tillgängliga medel beaktas ifall \\nstipendiemedlen ej hunnit betalats ut.',\n",
       "  'verksamheten som hjälp och rådgivning i strålskyddsarbetet. Funktionen ska ha tillförsäkrats, av den\\nytterst ansvariga (rektor), en oberoende ställning i relation till linjen inom strålskyddsfrågor, i\\nförhållande till mål med verksamheten eller därmed jämförliga affärsmässiga hänsyn.\\nStrålskyddsexpertfunktionen består i huvudsak av en strålskyddskoordinator och 2-4\\nstrålskyddsexperter. Vidare kan övrig nödvändig kompetens såsom juridik eller fysiskt skydd kallas in\\nvid behov.Beslut fattat av: Stefan Bengtsson, Chalmers tekniska högskola, 2022-10-11, C 2022-0879\\nDecision made by: Stefan Bengtsson, Chalmers University of Technology, 2022-10-11, C 2022-0879',\n",
       "  'Ansvara för att det rapporteras förändringar i registret över innehav av strålkällor före\\nutgången av mars månad varje år till Strålsäkerhetsmyndigheten. Utöver detta ska övriga\\nförändringar, exempelvis nya inköp, av rapporteringspliktiga strålkällor rapporteras inom en\\nvecka till Strålsäkerhetsmyndigheten\\nBevaka att lokala strålskyddsinstruktioner upprättas för att förhindra att personer utsätts för\\noacceptabel eller onödig joniserande strålning\\nBevaka att händelser eller iakttagelser av betydelse från strålskyddssynpunkt analyseras och\\ndokumenteras\\nAnsvara för att oplanerade händelser av betydelse från strålskyddssynpunkt rapporteras till\\nStrålsäkerhetsmyndigheten snarast, i enlighet med SSMFS 2008:1 bilaga 4\\nAnsvara för bokföring och erforderlig rapportering av kärnämne till Euratom, IAEA och SSM i\\nsamverkan med strålskyddsexpert\\nBevaka att givna krav på rapportering efterlevs\\nKoordinera interna och externa revisioner\\nVara kontaktperson vid kontakt med berörda myndigheter\\nIngå i nätverket för strålsäkerhetsfrågor vid Chalmers\\nUppdatera och proaktivt komplettera informationen om Chalmers strålsäkerhetsarbete på\\nChalmers intranät\\nTillse att strålskyddsexperter får uppdaterad och adekvat utbildning för sina uppdrag\\nHandlägga all dokumentation rörande Chalmers strålskyddsarbete i 360Beslut fattat av: Stefan Bengtsson, Chalmers tekniska högskola, 2022-10-11, C 2022-0879\\nDecision made by: Stefan Bengtsson, Chalmers University of Technology, 2022-10-11, C 2022-0879',\n",
       "  'STYRDOKUMENT: Föreskrift för strålsäkerhet och kärnteknisk verksamhet vid Chalmers tekniska\\nhögskola AB. Dnr C 2022-0879Beslut av:\\nRektorTyp av styrdokument:\\nFöreskriftDiarienummer:\\nC 2022-0879\\nDatum för\\nbeslut:Handläggare:\\nEva AlbersDokumentstruktur:\\nD1.3 Verksamhetsledning\\nDokumentet\\ngäller från och\\nmed:Avdelning/motsvarande som ansvarar för\\natt dokumentet skapas och/eller\\nrevideras:\\nInstitutionen för Kemi och kemiteknikDokumentet\\nreviderat,\\ndatum:Versionsnummer:\\n1\\nDokumentet\\ngäller till och\\nmed:\\nTills vidareDokumentet ersätter tidigare beslut:\\nC 2021-1537Dokumentet genomgånget utan\\nändring, datum:\\nFöreskrift för strålsäkerhet och kärnteknisk verksamhet vid\\nChalmers tekniska högskola AB\\nStyrdokument vid Chalmers\\nBeskrivning av föreskriften:\\nFöreskrift för ”strålsäkerhet och kärnteknisk verksamhet vid Chalmers” beskriver hur Chalmers\\nledningssystem för strålsäkerhet och kärnteknisk verksamhet är uppbyggt och vad som ingår i form\\nav organisation, ansvar, planering och utvärdering samt kopplingen till det övergripande och\\nrelaterade ledningssystemet. Föreskriften riktar sig till lärosätets ledning, centrala verksamhetsstödet\\nsamt institutionerna/motsvarande som har verksamhet med joniserande strålning.',\n",
       "  'STYRDOKUMENT: Föreskrift för strålsäkerhet och kärnteknisk verksamhet vid Chalmers tekniska\\nhögskola AB. Dnr C 2022-0879Beslut av:\\nRektorTyp av styrdokument:\\nFöreskriftDiarienummer:\\nC 2022-0879\\nDatum för\\nbeslut:Handläggare:\\nEva AlbersDokumentstruktur:\\nD1.3 Verksamhetsledning\\nDokumentet\\ngäller från och\\nmed:Avdelning/motsvarande som ansvarar för\\natt dokumentet skapas och/eller\\nrevideras:\\nInstitutionen för Kemi och kemiteknikDokumentet\\nreviderat,\\ndatum:Versionsnummer:\\n1\\nDokumentet\\ngäller till och\\nmed:\\nTills vidareDokumentet ersätter tidigare beslut:\\nC 2021-1537Dokumentet genomgånget utan\\nändring, datum:\\nFöreskrift för strålsäkerhet och kärnteknisk verksamhet vid\\nChalmers tekniska högskola AB\\nStyrdokument vid Chalmers\\nBeskrivning av föreskriften:\\nFöreskrift för ”strålsäkerhet och kärnteknisk verksamhet vid Chalmers” beskriver hur Chalmers\\nledningssystem för strålsäkerhet och kärnteknisk verksamhet är uppbyggt och vad som ingår i form\\nav organisation, ansvar, planering och utvärdering samt kopplingen till det övergripande och\\nrelaterade ledningssystemet. Föreskriften riktar sig till lärosätets ledning, centrala verksamhetsstödet\\nsamt institutionerna/motsvarande som har verksamhet med joniserande strålning.',\n",
       "  'ska ha dokumenterade utbildningsplaner för olika personalkategorier. Dessa\\nutbildningsplaner ska tas fram i samråd med strålskyddskoordinator/lokal strålskyddsexpert.\\nFör varje person ska uppgifter om omfattningen och tidpunkten för varje genomgången\\nutbildning dokumenteras\\nSe till att strålskyddsexpertens föreslagna strålskyddsåtgärder vidtas inom ramen för\\navdelningens resurser och, om detta ej är möjligt, att ärendet vidarebefordras till prefekt vid\\ninstitutionen\\nFörvissa sig om att strålningsutrustning och annan teknisk apparatur som används i\\nverksamheten får erforderligt underhåll och kontroll samt att radioaktiva ämnen\\nkontrollmäts\\nBudgetera för avfallshantering före påbörjat projekt (gäller ej låg-radioaktivt avfall)\\nSvara för att radioaktivt avfall och kasserade apparater som kan alstra strålning omhändertas\\nenligt gällande föreskrifter\\nSe till att personal som sysselsätts i strålningsarbete blir föremål för persondos- och/eller\\nkontaminationsmätningar i den omfattning strålskyddexpert/lokal strålskyddsexpert\\nföreskriver\\nStrålskyddsexpert vid Chalmers ska:\\nAktivt verka för att arbetet vid anläggningen bedrivs på ett från strålskyddssynpunkt lämpligt\\nsätt, så att goda strålskyddsförhållanden råder\\nHa rätten att stoppa arbete med joniserande strålning där det inte råder goda\\nstrålskyddsförhållandenBeslut fattat av: Stefan Bengtsson, Chalmers tekniska högskola, 2022-10-11, C 2022-0879\\nDecision made by: Stefan Bengtsson, Chalmers University of Technology, 2022-10-11, C 2022-0879',\n",
       "  'ska ha dokumenterade utbildningsplaner för olika personalkategorier. Dessa\\nutbildningsplaner ska tas fram i samråd med strålskyddskoordinator/lokal strålskyddsexpert.\\nFör varje person ska uppgifter om omfattningen och tidpunkten för varje genomgången\\nutbildning dokumenteras\\nSe till att strålskyddsexpertens föreslagna strålskyddsåtgärder vidtas inom ramen för\\navdelningens resurser och, om detta ej är möjligt, att ärendet vidarebefordras till prefekt vid\\ninstitutionen\\nFörvissa sig om att strålningsutrustning och annan teknisk apparatur som används i\\nverksamheten får erforderligt underhåll och kontroll samt att radioaktiva ämnen\\nkontrollmäts\\nBudgetera för avfallshantering före påbörjat projekt (gäller ej låg-radioaktivt avfall)\\nSvara för att radioaktivt avfall och kasserade apparater som kan alstra strålning omhändertas\\nenligt gällande föreskrifter\\nSe till att personal som sysselsätts i strålningsarbete blir föremål för persondos- och/eller\\nkontaminationsmätningar i den omfattning strålskyddexpert/lokal strålskyddsexpert\\nföreskriver\\nStrålskyddsexpert vid Chalmers ska:\\nAktivt verka för att arbetet vid anläggningen bedrivs på ett från strålskyddssynpunkt lämpligt\\nsätt, så att goda strålskyddsförhållanden råder\\nHa rätten att stoppa arbete med joniserande strålning där det inte råder goda\\nstrålskyddsförhållandenBeslut fattat av: Stefan Bengtsson, Chalmers tekniska högskola, 2022-10-11, C 2022-0879\\nDecision made by: Stefan Bengtsson, Chalmers University of Technology, 2022-10-11, C 2022-0879',\n",
       "  'STYRDOKUMENT: Föreskrift för strålsäkerhet och kärnteknisk verksamhet vid Chalmers tekniska\\nhögskola AB. Dnr C 2022-0879Beslut av:\\nRektorTyp av styrdokument:\\nFöreskriftDiarienummer:\\nC 2022-0879\\nDatum för\\nbeslut:Handläggare:\\nEva AlbersDokumentstruktur:\\nD1.3 Verksamhetsledning\\nDokumentet\\ngäller från och\\nmed:Avdelning/motsvarande som ansvarar för\\natt dokumentet skapas och/eller\\nrevideras:\\nInstitutionen för Kemi och kemiteknikDokumentet\\nreviderat,\\ndatum:Versionsnummer:\\n1\\nDokumentet\\ngäller till och\\nmed:\\nTills vidareDokumentet ersätter tidigare beslut:\\nC 2021-1537Dokumentet genomgånget utan\\nändring, datum:\\nFöreskrift för strålsäkerhet och kärnteknisk verksamhet vid\\nChalmers tekniska högskola AB\\nStyrdokument vid Chalmers\\nBeskrivning av föreskriften:\\nFöreskrift för ”strålsäkerhet och kärnteknisk verksamhet vid Chalmers” beskriver hur Chalmers\\nledningssystem för strålsäkerhet och kärnteknisk verksamhet är uppbyggt och vad som ingår i form\\nav organisation, ansvar, planering och utvärdering samt kopplingen till det övergripande och\\nrelaterade ledningssystemet. Föreskriften riktar sig till lärosätets ledning, centrala verksamhetsstödet\\nsamt institutionerna/motsvarande som har verksamhet med joniserande strålning.',\n",
       "  'arbetar med joniserande strålning samt i viss utsträckning även studenter. Även externa intressenter,\\nsåsom gästforskare, berörs. Andra intressenter som kan påverkas indirekt av att lärosätet har\\nverksamhet med joniserande strålning är till exempel fastighetsägare och leverantörer av produkter\\noch tjänster såsom drifttekniker och lokalvårdare.\\nVerksamhet med joniserande strålning förekommer utspritt i organisationen medan den\\nkärntekniska verksamheten är begränsad till avdelningen Energi och material, enheten för KärnkemiBeslut fattat av: Stefan Bengtsson, Chalmers tekniska högskola, 2022-10-11, C 2022-0879\\nDecision made by: Stefan Bengtsson, Chalmers University of Technology, 2022-10-11, C 2022-0879',\n",
       "  'Föreskrift för stipendier för studenter inom Chalmers utbildningsprogram på grund - och avancerad \\nnivå  C 2019 -0748  \\nAdlerbertska Stiftelserna  \\nAdlerbertska Stiftelserna är Chalmers samlingsnamn för stipendier från  de fyra stiftelserna ; \\nAdlerbertska  Stipendiestiftelsen , Studentbostadsstiftelsen, Adelbertska Premiestiftelsen  och \\nElevbostadsstiftelsen , (Adlerbertska Hospitiestiftelsen  innefattas ej). \\nSEB förvaltar medlen som finns i dessa stiftelser och det är även dem som administrerar \\nutbetalningarna.  \\n\\nAdlerbertska Stipendiestiftelsen och Studentbostadsstiftelsen innefattar utbildningarna:  \\nArkitektur och samtliga c ivilingenjörsprogram  (300 hp)  som fanns inrättade tom 2019 , \\nsamt  \\nAffärsutveckling och entreprenörskap inom samhällsbyggnadsteknik, teknologie kandidat \\n(180 hp)  \\nEkonomi och produktionsteknik, högskoleingenjör (180 hp)  \\nDesign och produktutveckling, högskoleingenjör (180 hp)  \\nMekatronik, högskoleingenjör (180 hp)  \\nUtbildningarna ovan tillhör Adlerbertska Stipe ndiestiftelsen och Studentbostadsstiftelsen . \\nUtbildningarna nedan  kan sägas ha sitt ursprung i gamla Ingenjörs - och Sjöbefälsskolan och \\när de utbildningar som utgör underlaget för Adlerbertska Premiestiftelsen och \\nElevbostadsstiftelsen. Indelningen  beslutades vid ett möte 2014 där ansvariga representanter \\nfrån de Adlerbertska Stiftelserna, SEB och Chalmers deltog. Denna indelning beslutade s att \\ngälla från och med 2015 och utgör underlag vid beräkning av elevantal för respektive stiftelse, \\nvilket avgör storleken på summan Chalmers kan disponera från varje stiftelse årligen.  \\nAdlerbertska Premiestiftelsen och Elevbostadsstiftelsen innefattar utbildningarna:  \\nDatateknik, högskoleingenjör (180 hp)  \\nElektroteknik, högskoleingenjör (180 hp)  \\nInternationell logistik, teknologie kandidat (180 hp)  \\n(Med ett namnbyte och ändrade förkunskapskrav, ersätt s Sjöfart och logistik, teknologie \\nkandidat (180 hp) from läsåret 2019/2020. ) \\nKemiteknik, högskoleingenjör (180 hp)  \\nMaskinteknik, högskoleingenjör (180 hp)  \\nSamhällsbyggnadsteknik, högskoleingenjör (180 hp)  inrättades 2015 och ersätter Byggteknik, \\nhögskoleingenjör (180 hp)  \\nSjöfart och logistik , teknologie  kandidat (180 hp) , ingen antagning efter HT2018 då \\nprogrammet har ers atts av  Internationell logistik, teknologie kandidat (180 hp) from läsåret \\n2019/2020.',\n",
       "  'Aktivt verka för att arbetet vid anläggningen bedrivs på ett från strålskyddssynpunkt lämpligt\\nsätt, så att goda strålskyddsförhållanden råder\\nHa rätten att stoppa arbete med joniserande strålning där det inte råder goda\\nstrålskyddsförhållanden\\nSe till att kärnämnen hanteras på ett sätt som uppfyller kraven på fysiskt skydd\\nInformera strålskyddsexpertfunktionen, prefekt och ansvarig chef vid akuta ärende gällande\\nstrålskyddsfrågor.\\nInformera löpande strålskyddsexpertfunktionen i övriga ärenden gällande strålskyddsfrågor.\\nRapportera händelser eller iakttagelser av betydelse från strålskyddssynpunkt till\\nstrålskyddsexpertfunktionen\\nBevaka kompetens- och resursfrågor för anläggningens strålskydd (bistår prefekt och\\navdelningschef vid respektive institution med att ta fram utbildningsplaner för olika\\npersonalkategorier enligt SSMFS 2018:1)\\nBevaka tillsammans med strålskyddsexpert och aktivt verka för att relevant lagstiftning följs\\noch att krav på rapportering efterlevs\\nUtfärda lokala medgivanden för institutionerna gällande verksamhet med joniserande\\nstrålning inom ramen för Chalmers samlingstillstånd\\nKontrollera regelbundet varje strålkälla inom sin institution enligt SSMFS 2018:1\\nUpprätta lokala strålskyddsinstruktioner för att förhindra att personer utsätts för\\noacceptabel eller onödig joniserande strålningBeslut fattat av: Stefan Bengtsson, Chalmers tekniska högskola, 2022-10-11, C 2022-0879\\nDecision made by: Stefan Bengtsson, Chalmers University of Technology, 2022-10-11, C 2022-0879',\n",
       "  'STYRDOKUMENT: Föreskrift för strålsäkerhet och kärnteknisk verksamhet vid Chalmers tekniska\\nhögskola AB. Dnr C 2022-0879Vidare är Chalmers en decentraliserad organisation där rektor har delegerat befogenheter och ansvar\\nför dessa uppgifter i enlighet med arbets- och delegationsordningen och som följer\\norganisationsstrukturen (Figur 1). Ledningen har ansvar att säkerställa att nödvändiga resurser finns\\nför det systematiska strålsäkerhetsarbetet i sina respektive ansvarsområden. Detta görs praktiskt via\\nolika funktioner inom strålsäkerhetsorganisationen från central nivå till lokal nivå. På institutionsnivå\\nansvarar prefekten/motsvarande för att nödvändiga resurser avsätts för det lokala\\nstrålsäkerhetarbetet och tillser att lokala rutiner upprättas för att komplettera de centrala rutinerna.\\nFigur 1. Chalmers organisation för strålsäkerhet och kärnteknisk verksamhet\\nStrålskyddsexpertfunktionen\\nEnligt 3 kap. 12 § SSMFS 2018:1, ska Chalmers ha en bemannad strålskyddsexpertfunktion som är\\nanpassad till verksamhetens art och omfattning och som har befogenhet att rapportera direkt till\\nverksamhetens högsta ledning. Strålskyddsexpertfunktionen ska rådfrågas avseende tillämpning av\\nförfattningskrav om skydd av arbetstagare, allmänhet och miljön mot exponering för joniserande\\nstrålning. Funktionen har befogenhet att stoppa arbete med joniserande strålning där det inte råder\\ngoda strålskyddsförhållanden. Strålskyddsexpertfunktionen har även tillgång till lokala\\nstrålskyddsexperter vid samtliga institutioner där verksamhet med joniserande strålning\\nförekommer, oberoende av verksamhetens omfattning. Funktionen ska vara knuten till\\nverksamheten som hjälp och rådgivning i strålskyddsarbetet. Funktionen ska ha tillförsäkrats, av den',\n",
       "  'Bilaga 1\\nDnr. C 2022-0879 - Bilaga 1. Ansvarsfördelning Chalmers strålskyddsorganisationStrålskyddskoordinatorn har befogenhet att\\nStoppa arbete med joniserande strålning på Chalmers tekniska högskola där det inte råder\\ngoda strålskyddsförhållanden.\\nSkriva delegationer för strålskyddsexperter och lokala strålskyddsexperter efter beslut av\\nbehörig chef\\nSammankalla strålskyddsexperter för möten\\nPrefekt/avdelningschef där verksamhet med joniserande strålning bedrivs ska:\\nSvara för att allt arbete med strålning sker i enlighet med gällande lagar och förordningar\\nsamt lokala riktlinjer och föreskrifter\\nFöreslå lokal strålskyddsexpert inom den egna verksamheten i samråd med\\nstrålskyddsexpertfunktionen för delegation från strålskyddskoordinator\\nInformera strålskyddskoordinator, strålskyddsexpert och lokal strålskyddsexpert,\\ninstitutionens/avdelningens arbetsmiljöombud och arbetsmiljöingenjör om uppkomna eller\\nplanerade förändringar beträffande utrustning, lokaler och arbetsförhållanden som rör\\nverksamheten med strålning\\nGe strålskyddskoordinator de upplysningar och handlingar som behövs för tillsyn samt ge\\ntillträde till anläggning och arbetsplats där strålningsverksamhet bedrivs\\nKontrollera och ekonomiskt svara för att den personal som deltar i verksamheten har\\nerforderlig kompetens såväl teoretiskt såsom praktiskt, och är informerad om de risker som\\nkan vara förknippade med verksamheten. Den verksamhet som omfattas av SSMFS 2018:1\\nska ha dokumenterade utbildningsplaner för olika personalkategorier. Dessa\\nutbildningsplaner ska tas fram i samråd med strålskyddskoordinator/lokal strålskyddsexpert.',\n",
       "  'Bilaga 1\\nDnr. C 2022-0879 - Bilaga 1. Ansvarsfördelning Chalmers strålskyddsorganisationUpprätta och fortlöpande uppdatera skriftliga instruktioner för arbetet med joniserande\\nstrålning enligt SSMFS 2018:1 som är gemensam för Chalmers\\nSe till att kärnämnen hanteras på ett sätt som uppfyller kraven på fysiskt skydd\\nInformera strålskyddskoordinator, prefekt och ansvarig chef vid akuta ärende gällande\\nstrålskyddsfrågor. Samverka med strålskyddskoordinator för att informera berörd\\nverksamhet i strålskyddsfrågor.\\nTillse att strålskyddskoordinator och lokala strålskyddsexperter löpande får uppdaterad\\ninformation inom strålsäkerhetsfrågor\\nAktivt verka för att händelser eller iakttagelser av betydelse från strålskyddssynpunkt\\nanalyseras och dokumenteras\\nAktivt verka för att relevant lagstiftning följs och att krav på rapportering efterlevs\\nAnsvara att nödvändig och adekvat information finns tillgänglig för att upprätta och hålla\\ntillstånd uppdaterade i samverkan med strålskyddskoordinator\\nBevaka att individ- och kollektivstråldoser följs upp i samverkan med strålskyddskoordinator\\nAktivt verka för bokföring och erforderlig rapportering av kärnämne till Euratom, IAEA och\\nSSM i samverkan med strålskyddskoordinator\\nVara Chalmers sakkunnig i anläggningens strålskydd\\nStötta och instruera lokala strålskyddsexperter vid behov\\nLokal strålskyddsexpert vid Chalmers ska:\\nAktivt verka för att arbetet vid anläggningen bedrivs på ett från strålskyddssynpunkt lämpligt\\nsätt, så att goda strålskyddsförhållanden råder',\n",
       "  'relaterade ledningssystemet. Föreskriften riktar sig till lärosätets ledning, centrala verksamhetsstödet\\nsamt institutionerna/motsvarande som har verksamhet med joniserande strålning.\\nInledning\\nChalmers har tillstånd för verksamhet med joniserande strålning enligt strålskyddslagen (SFS 2018:\\n396) och tillstånd för kärnteknisk verksamhet enligt kärntekniklagen (SFS 1984:3).\\nFöreskriften ska understödja Chalmers mål inom strålskyddsarbetet: Målet för strålskyddsarbetet\\ninom Chalmers är att doser till personal och studenter hålls så låga som möjligt samtidigt som\\nutbildningen är av hög kvalitet, i linje med Chalmers mål ”Utbildning i världsklass”, samt att otillåtna\\nutsläpp av radioaktiva ämnen till miljön inte ska förekomma.\\nSyftet med föreskriften är att ge berörda prefekter/motsvarande, medarbetare, studenter och övriga\\nintressenter en övergripande och vägledande beskrivning av ledningssystemet för strålsäkerhet och\\nkärnteknisk verksamhet vid Chalmers.\\nNationella regelverk som styr struktur och innehåll av ledningssystem för strålsäkerhet och\\nkärnteknisk verksamhet är följande:\\nStrålskyddslag (SFS 2018:396)\\nLagen om kärnteknisk verksamhet (SFS 1984:3)Beslut fattat av: Stefan Bengtsson, Chalmers tekniska högskola, 2022-10-11, C 2022-0879\\nDecision made by: Stefan Bengtsson, Chalmers University of Technology, 2022-10-11, C 2022-0879',\n",
       "  'Föreskrift för stipendier för studenter inom Chalmers utbildningsprogram på grund - och avancerad \\nnivå  C 2019 -0748  \\nSjöingenjör (180 hp)  \\nSjökapten (180 hp)  \\nStudentgrupp  \\nNationella studenter inom grundutbildningen, årskurs 1–3 \\nStipendiebelopp  \\n10 000 kr*  \\nUtbetalning sker runt månandskiftet oktober/november.  \\nAnsökan  \\nChalmers utlyser  ovan stipendier under samlingsnamnet, Adlerbertska Stiftelserna . En \\nansökan gäller, oavsett  studentens programtillhörighet. (Sökande behöver inte veta vilken \\nstiftelse som tilldelar stipendiebeloppet).   \\nPå stipendiesidan på Chalmers studentportal finns information och ansökningslänk vilken är \\nöppen från januari till maj. Ansökan sker elektroniskt.  \\nRepresentanter från kårledningen gör gemensam ansökan på annat avtalat sätt, se vidare \\nnedan *** \\nUrval  \\nRegistrering  både höst och vår aktuellt läsår krävs.  \\nSamma student kan få stipendiet vid alla tre möjliga tillfällena, efter årskurs 1, 2 o ch 3.  \\nUrval b aseras i första hand på studietakt, därefter viktat betyg (studietakt  och betygssnitt ). \\nUrvalet baseras på Chalmerskurser, på grundnivå (årskurs 1–3, undantaget programmen \\nSjökapten och Sjöingenjör vilka läser 4 år). Kurser inom alla program, fristående samt \\ntillgodoräknanden ingår. Tillgodoräknade kurser utgör endast grund för studietakt, betyg tas ej \\ni beaktande.  \\nMinst 30 hp i avslutade kurser på Chalmers krävs för att kunna bli tilldelad stipendium.  \\nKurser på förutbildningsnivå  samt Sommar matte  (Förberedande kurs i matematik ) ingår inte.  \\nNominell studietakt krävs för att bli tilldelas stipendium. ** Högre studietakt än nominell \\npåverkar inte urvalet , men däremot det viktade betyget.  \\nTilldelningsordning – årskur s 1, följt av årskurs 2 och därefter årskurs 3:  \\n• Årskurs 1 -  ett läsår, nominell studietakt 60 hp  \\n• Årskurs 2 -  två läsår, nominell studietakt 120 hp  \\n• Årskurs 3 -  tre läsår, nominell studietakt 180 hp  \\n* Ifall medlen ej räcker för att tilldela alla studenter som läst nominell takt i årskurs 1 \\nstipendiebeloppet 10 000 kr, divideras tillgängliga medel med antal studenter vilket innebär \\natt stipendiebeloppet sänks. Enda möjligheten till detta utfall är inom årskurs 1. Således \\ngaranteras alla som avslutat årskurs 1 i nominell studietakt ett stipendium.  \\nIfall medlen ej räcker inom årskurs 2 eller 3 tas istället viktat betygsnitt i beaktande inom aktuell årskurs, vilket innebär att lägre årskurs/er tilldelas efter nominell studietakt medan \\naktuell årskurs t illdelas efter nominell studietakt samt viktat betygsnitt så långt medlen räcker \\ná 10 000 kr.',\n",
       "  'stödverksamheter. Intressenter inom verksamheten är prefekter/motsvarande och medarbetare som\\narbetar med joniserande strålning samt i viss utsträckning även studenter. Även externa intressenter,\\nsåsom gästforskare, berörs. Andra intressenter som kan påverkas indirekt av att lärosätet har\\nverksamhet med joniserande strålning är till exempel fastighetsägare och leverantörer av produkter\\noch tjänster såsom drifttekniker och lokalvårdare.\\nVerksamhet med joniserande strålning förekommer utspritt i organisationen medan den\\nkärntekniska verksamheten är begränsad till avdelningen Energi och material, enheten för KärnkemiBeslut fattat av: Stefan Bengtsson, Chalmers tekniska högskola, 2022-10-11, C 2022-0879\\nDecision made by: Stefan Bengtsson, Chalmers University of Technology, 2022-10-11, C 2022-0879',\n",
       "  'Bilaga 1\\nDnr. C 2022-0879 - Bilaga 1. Ansvarsfördelning Chalmers strålskyddsorganisationAnsvarsfördelning Chalmers strålskyddsorganisation\\nAll verksamhet med joniserande strålning inom Chalmers ska bedrivas i enlighet med\\nstrålskyddslagen. Verksamhet enligt ”Strålsäkerhetsmyndighetens föreskrifter SSMF 2018:1 om\\ngrundläggande bestämmelser för tillståndspliktig verksamhet med joniserande strålning” får bedrivas\\nenligt kategori A med öppna och slutna strålkällor endast i vissa laboratorier vid avdelningen Energi\\noch material vid institutionen för Kemi och kemiteknik samt vid avdelningen Subatomär, högenergi-\\noch plasmafysik vid institutionen för Fysik. Undantag från regeln får endast ges av\\nstrålskyddsexpertfunktionen i samråd med ansvarig chef vid institutionen.\\nNedan anges en beskrivning av ansvarsområden samt arbetsuppgifter för strålskyddskoordinator,\\nprefekt/avdelningschef, strålskyddsexpert och lokal strålskyddsexpert. Det är möjligt att justera\\ndessa utifrån kompetens och arbetsuppgifter i de personliga delegationerna.\\nStrålskyddskoordinatorn vid Chalmers ska:\\nKoordinera arbetet med Chalmers ledningssystem för strålsäkerhet.\\nInformera rektor, prefekt, strålskyddsexperter, arbetsmiljöombud och kontaktpersoner i\\nstrålskyddsfrågor\\nStödja strålskyddsexpert och övriga medarbetare för att arbetet vid anläggningen bedrivs på\\nett från strålskyddssynpunkt lämpligt sätt, så att goda strålskyddsförhållanden råder\\nAnsvara för att det rapporteras förändringar i registret över innehav av strålkällor före\\nutgången av mars månad varje år till Strålsäkerhetsmyndigheten. Utöver detta ska övriga',\n",
       "  'Aktivt verka för att arbetet vid anläggningen bedrivs på ett från strålskyddssynpunkt lämpligt\\nsätt, så att goda strålskyddsförhållanden råder\\nHa rätten att stoppa arbete med joniserande strålning där det inte råder goda\\nstrålskyddsförhållanden\\nSe till att kärnämnen hanteras på ett sätt som uppfyller kraven på fysiskt skydd\\nInformera strålskyddsexpertfunktionen, prefekt och ansvarig chef vid akuta ärende gällande\\nstrålskyddsfrågor.\\nInformera löpande strålskyddsexpertfunktionen i övriga ärenden gällande strålskyddsfrågor.\\nRapportera händelser eller iakttagelser av betydelse från strålskyddssynpunkt till\\nstrålskyddsexpertfunktionen\\nBevaka kompetens- och resursfrågor för anläggningens strålskydd (bistår prefekt och\\navdelningschef vid respektive institution med att ta fram utbildningsplaner för olika\\npersonalkategorier enligt SSMFS 2018:1)\\nBevaka tillsammans med strålskyddsexpert och aktivt verka för att relevant lagstiftning följs\\noch att krav på rapportering efterlevs\\nUtfärda lokala medgivanden för institutionerna gällande verksamhet med joniserande\\nstrålning inom ramen för Chalmers samlingstillstånd\\nKontrollera regelbundet varje strålkälla inom sin institution enligt SSMFS 2018:1\\nUpprätta lokala strålskyddsinstruktioner för att förhindra att personer utsätts för\\noacceptabel eller onödig joniserande strålningBeslut fattat av: Stefan Bengtsson, Chalmers tekniska högskola, 2022-10-11, C 2022-0879\\nDecision made by: Stefan Bengtsson, Chalmers University of Technology, 2022-10-11, C 2022-0879',\n",
       "  'Bilaga 1\\nDnr. C 2022-0879 - Bilaga 1. Ansvarsfördelning Chalmers strålskyddsorganisationStrålskyddskoordinatorn har befogenhet att\\nStoppa arbete med joniserande strålning på Chalmers tekniska högskola där det inte råder\\ngoda strålskyddsförhållanden.\\nSkriva delegationer för strålskyddsexperter och lokala strålskyddsexperter efter beslut av\\nbehörig chef\\nSammankalla strålskyddsexperter för möten\\nPrefekt/avdelningschef där verksamhet med joniserande strålning bedrivs ska:\\nSvara för att allt arbete med strålning sker i enlighet med gällande lagar och förordningar\\nsamt lokala riktlinjer och föreskrifter\\nFöreslå lokal strålskyddsexpert inom den egna verksamheten i samråd med\\nstrålskyddsexpertfunktionen för delegation från strålskyddskoordinator\\nInformera strålskyddskoordinator, strålskyddsexpert och lokal strålskyddsexpert,\\ninstitutionens/avdelningens arbetsmiljöombud och arbetsmiljöingenjör om uppkomna eller\\nplanerade förändringar beträffande utrustning, lokaler och arbetsförhållanden som rör\\nverksamheten med strålning\\nGe strålskyddskoordinator de upplysningar och handlingar som behövs för tillsyn samt ge\\ntillträde till anläggning och arbetsplats där strålningsverksamhet bedrivs\\nKontrollera och ekonomiskt svara för att den personal som deltar i verksamheten har\\nerforderlig kompetens såväl teoretiskt såsom praktiskt, och är informerad om de risker som\\nkan vara förknippade med verksamheten. Den verksamhet som omfattas av SSMFS 2018:1\\nska ha dokumenterade utbildningsplaner för olika personalkategorier. Dessa\\nutbildningsplaner ska tas fram i samråd med strålskyddskoordinator/lokal strålskyddsexpert.',\n",
       "  'ska ha dokumenterade utbildningsplaner för olika personalkategorier. Dessa\\nutbildningsplaner ska tas fram i samråd med strålskyddskoordinator/lokal strålskyddsexpert.\\nFör varje person ska uppgifter om omfattningen och tidpunkten för varje genomgången\\nutbildning dokumenteras\\nSe till att strålskyddsexpertens föreslagna strålskyddsåtgärder vidtas inom ramen för\\navdelningens resurser och, om detta ej är möjligt, att ärendet vidarebefordras till prefekt vid\\ninstitutionen\\nFörvissa sig om att strålningsutrustning och annan teknisk apparatur som används i\\nverksamheten får erforderligt underhåll och kontroll samt att radioaktiva ämnen\\nkontrollmäts\\nBudgetera för avfallshantering före påbörjat projekt (gäller ej låg-radioaktivt avfall)\\nSvara för att radioaktivt avfall och kasserade apparater som kan alstra strålning omhändertas\\nenligt gällande föreskrifter\\nSe till att personal som sysselsätts i strålningsarbete blir föremål för persondos- och/eller\\nkontaminationsmätningar i den omfattning strålskyddexpert/lokal strålskyddsexpert\\nföreskriver\\nStrålskyddsexpert vid Chalmers ska:\\nAktivt verka för att arbetet vid anläggningen bedrivs på ett från strålskyddssynpunkt lämpligt\\nsätt, så att goda strålskyddsförhållanden råder\\nHa rätten att stoppa arbete med joniserande strålning där det inte råder goda\\nstrålskyddsförhållandenBeslut fattat av: Stefan Bengtsson, Chalmers tekniska högskola, 2022-10-11, C 2022-0879\\nDecision made by: Stefan Bengtsson, Chalmers University of Technology, 2022-10-11, C 2022-0879',\n",
       "  'strålsäkerhetsarbete ska göras genom intern strålsäkerhetsrond och intern revision av\\nledningssystemet utgör underlag för analyser av risker i strålsäkerheten. Krav för det systematiska\\nstrålskyddsarbetet är i grunden samma som gäller för det systematiska miljöarbetet men med tillägg\\nsom beskrivs i denna föreskrift (se Chalmers styrdokument, https://intranet.chalmers.se/om-\\nchalmers/planera-leda-utveckla-verksamheten/verksamhetsstyrning/lista-over-styrdokument/)\\nDe institutioner som har verksamhet med joniserande strålning ska årligen upprätta lokala\\nhandlingsplaner specifikt för strålsäkerhetsfrågor inom ramen för sitt systematiska miljö- och\\narbetsmiljöarbete (https://intranet.chalmers.se/arbeta-pa-chalmers/arbetsmiljo-\\nmiljo/arbetsmiljo/systematiskt-arbetsmiljoarbete/). Handlingsplanerna fastställs av prefekt och\\nstyrande för framtagande av åtgärdsplaner är Chalmers styrdokument för det systematiska miljö-,\\narbetsmiljö-, och säkerhetsarbetet.\\nAnsvar och ledning\\nRektor ansvarar för att strålsäkerhetsfrågorna utgör del av det strategiska arbetet och integreras i\\nrelevanta verksamhetsprocesser. Prefekter ansvarar för att säkerställa att medarbetare som arbetar\\nmed joniserande strålning har tillräcklig kompetens.\\nChalmers rutiner för miljö- och arbetsmiljöarbete inom verkstads- eller laborativ verksamhet\\ndefinierar ramar för verksamhetens systematiska arbetsmiljö- och miljöarbete. Rutinerna bygger på\\naktuell lagstiftning och är styrande samt tydliggör förutsättningarna för laboratoriesäkerhetsarbetet.\\nRutinerna är en del av miljöledningssystemet och det systematiska arbetsmiljöarbetet. Rektor är',\n",
       "  'relaterade ledningssystemet. Föreskriften riktar sig till lärosätets ledning, centrala verksamhetsstödet\\nsamt institutionerna/motsvarande som har verksamhet med joniserande strålning.\\nInledning\\nChalmers har tillstånd för verksamhet med joniserande strålning enligt strålskyddslagen (SFS 2018:\\n396) och tillstånd för kärnteknisk verksamhet enligt kärntekniklagen (SFS 1984:3).\\nFöreskriften ska understödja Chalmers mål inom strålskyddsarbetet: Målet för strålskyddsarbetet\\ninom Chalmers är att doser till personal och studenter hålls så låga som möjligt samtidigt som\\nutbildningen är av hög kvalitet, i linje med Chalmers mål ”Utbildning i världsklass”, samt att otillåtna\\nutsläpp av radioaktiva ämnen till miljön inte ska förekomma.\\nSyftet med föreskriften är att ge berörda prefekter/motsvarande, medarbetare, studenter och övriga\\nintressenter en övergripande och vägledande beskrivning av ledningssystemet för strålsäkerhet och\\nkärnteknisk verksamhet vid Chalmers.\\nNationella regelverk som styr struktur och innehåll av ledningssystem för strålsäkerhet och\\nkärnteknisk verksamhet är följande:\\nStrålskyddslag (SFS 2018:396)\\nLagen om kärnteknisk verksamhet (SFS 1984:3)Beslut fattat av: Stefan Bengtsson, Chalmers tekniska högskola, 2022-10-11, C 2022-0879\\nDecision made by: Stefan Bengtsson, Chalmers University of Technology, 2022-10-11, C 2022-0879',\n",
       "  '(https://intranet.chalmers.se/om-chalmers/planera-leda-utveckla-\\nverksamheten/verksamhetsstyrning/beskrivning-av-styrdokument/) reglerar framtagande ochBeslut fattat av: Stefan Bengtsson, Chalmers tekniska högskola, 2022-10-11, C 2022-0879\\nDecision made by: Stefan Bengtsson, Chalmers University of Technology, 2022-10-11, C 2022-0879',\n",
       "  'Bilaga 1\\nDnr. C 2022-0879 - Bilaga 1. Ansvarsfördelning Chalmers strålskyddsorganisationStrålskyddskoordinatorn har befogenhet att\\nStoppa arbete med joniserande strålning på Chalmers tekniska högskola där det inte råder\\ngoda strålskyddsförhållanden.\\nSkriva delegationer för strålskyddsexperter och lokala strålskyddsexperter efter beslut av\\nbehörig chef\\nSammankalla strålskyddsexperter för möten\\nPrefekt/avdelningschef där verksamhet med joniserande strålning bedrivs ska:\\nSvara för att allt arbete med strålning sker i enlighet med gällande lagar och förordningar\\nsamt lokala riktlinjer och föreskrifter\\nFöreslå lokal strålskyddsexpert inom den egna verksamheten i samråd med\\nstrålskyddsexpertfunktionen för delegation från strålskyddskoordinator\\nInformera strålskyddskoordinator, strålskyddsexpert och lokal strålskyddsexpert,\\ninstitutionens/avdelningens arbetsmiljöombud och arbetsmiljöingenjör om uppkomna eller\\nplanerade förändringar beträffande utrustning, lokaler och arbetsförhållanden som rör\\nverksamheten med strålning\\nGe strålskyddskoordinator de upplysningar och handlingar som behövs för tillsyn samt ge\\ntillträde till anläggning och arbetsplats där strålningsverksamhet bedrivs\\nKontrollera och ekonomiskt svara för att den personal som deltar i verksamheten har\\nerforderlig kompetens såväl teoretiskt såsom praktiskt, och är informerad om de risker som\\nkan vara förknippade med verksamheten. Den verksamhet som omfattas av SSMFS 2018:1\\nska ha dokumenterade utbildningsplaner för olika personalkategorier. Dessa\\nutbildningsplaner ska tas fram i samråd med strålskyddskoordinator/lokal strålskyddsexpert.\\nFör varje person ska uppgifter om omfattningen och tidpunkten för varje genomgången\\nutbildning dokumenteras\\nSe till att strålskyddsexpertens föreslagna strålskyddsåtgärder vidtas inom ramen för\\navdelningens resurser och, om detta ej är möjligt, att ärendet vidarebefordras till prefekt vid\\ninstitutionen\\nFörvissa sig om att strålningsutrustning och annan teknisk apparatur som används i\\nverksamheten får erforderligt underhåll och kontroll samt att radioaktiva ämnen\\nkontrollmäts\\nBudgetera för avfallshantering före påbörjat projekt (gäller ej låg-radioaktivt avfall)\\nSvara för att radioaktivt avfall och kasserade apparater som kan alstra strålning omhändertas\\nenligt gällande föreskrifter\\nSe till att personal som sysselsätts i strålningsarbete blir föremål för persondos- och/eller\\nkontaminationsmätningar i den omfattning strålskyddexpert/lokal strålskyddsexpert\\nföreskriver\\nStrålskyddsexpert vid Chalmers ska:\\nAktivt verka för att arbetet vid anläggningen bedrivs på ett från strålskyddssynpunkt lämpligt\\nsätt, så att goda strålskyddsförhållanden råder\\nHa rätten att stoppa arbete med joniserande strålning där det inte råder goda\\nstrålskyddsförhållandenBeslut fattat av: Stefan Bengtsson, Chalmers tekniska högskola, 2022-10-11, C 2022-0879\\nDecision made by: Stefan Bengtsson, Chalmers University of Technology, 2022-10-11, C 2022-0879',\n",
       "  'stödverksamheter. Intressenter inom verksamheten är prefekter/motsvarande och medarbetare som\\narbetar med joniserande strålning samt i viss utsträckning även studenter. Även externa intressenter,\\nsåsom gästforskare, berörs. Andra intressenter som kan påverkas indirekt av att lärosätet har\\nverksamhet med joniserande strålning är till exempel fastighetsägare och leverantörer av produkter\\noch tjänster såsom drifttekniker och lokalvårdare.\\nVerksamhet med joniserande strålning förekommer utspritt i organisationen medan den\\nkärntekniska verksamheten är begränsad till avdelningen Energi och material, enheten för KärnkemiBeslut fattat av: Stefan Bengtsson, Chalmers tekniska högskola, 2022-10-11, C 2022-0879\\nDecision made by: Stefan Bengtsson, Chalmers University of Technology, 2022-10-11, C 2022-0879',\n",
       "  'högskoleförordningen motsvaras av specifika arbetsordningar, vilka beslutas av rektor, tillika\\nverkställande direktör för Chalmers tekniska högskola AB. Chalmers har också krav på sig att ha\\nkvalitetssäkrande system för granskning av utbildningar och forskning och står under tillsyn av\\nUniversitetskanslersämbetet.\\nChalmers verksamhetsstyrning och ledningssystem utgår från Chalmers vision och mål, och har som\\ndel ett flertal mål- och styrdokument (https://intranet.chalmers.se/om-chalmers/planera-leda-\\nutveckla-verksamheten/verksamhetsstyrning/lista-over-styrdokument/). Institutionernas\\nverksamheter följs upp genom verksamhetsdialoger, vilket skapar en helhet som engagerar till ansvar\\noch handling mot målen. Genom integrering av ledningssystemet för strålsäkerhet och kärnteknisk\\nverksamhet i lärosätets övergripande styrning och ledning, säkerställs att strålsäkerhetsfrågorna\\ninkluderas i strategiarbetet och verksamhetsprocesserna (vid till exempel planering- och uppföljning)\\nmed utpekade ansvarsfunktioner. Vidare säkerställs att frågor och regelefterlevnad av bindande krav\\nhanteras inom verksamheten.\\nArbetet med strålsäkerhetsfrågorna ska ske systematiskt och lärosätet strävar kontinuerligt efter att\\nminimera risker och att skapa medvetenhet och engagemang kring strålsäkerhetsfrågor. De som\\nfrämst berörs av ledningssystemet för kärnteknisk verksamhet och strålskyddshantering är den\\nverksamhet vid Chalmers som arbetar med joniserande strålning, inklusive lokala och centrala\\nstödverksamheter. Intressenter inom verksamheten är prefekter/motsvarande och medarbetare som\\narbetar med joniserande strålning samt i viss utsträckning även studenter. Även externa intressenter,',\n",
       "  'STYRDOKUMENT: Föreskrift för strålsäkerhet och kärnteknisk verksamhet vid Chalmers tekniska\\nhögskola AB. Dnr C 2022-0879beslutande av styr- och stöddokument även för det systematiska strålsäkerhetsarbetet. Chalmers\\nsamtliga styrdokument finns tillgängliga på intranätet. Berörda funktioner ansvarar att ta fram,\\nrevidera och diarieföra styrdokument.\\nStrålskyddsexpertfunktionen stödjer institutionernas strålsäkerhetsarbete genom att årligen\\ngenomföra intern strålsäkerhetsrond där arbete med strålkällor sker samt följer upp aktiviteterna i\\nde lokala handlingsplanerna för strålsäkerhet. Resultaten från uppföljningen används för att\\nutvärdera ledningssystemets verkan. Strålskyddsexpertfunktionen följer regelbundet upp och\\ndokumenterar avvikelser från både årlig intern strålsäkerhetsrond och den interna revisionen av\\nledningssystemet (ej utförd av strålskyddsexpertfunktionen) samt resultat av uppsatta mål, åtgärder\\noch förbättringsarbete.\\nFör inrapportering av avvikelser i hantering av strålkällor används ett ärendehanteringssystem, se\\ninformation på strålskyddets sida på intranätet (https://intranet.chalmers.se/arbeta-pa-\\nchalmers/arbetsmiljo-miljo/labb-och-verkstadssakerhet/stralskydd/), där medarbetare rapporterar\\navvikelser och institutionen ansvarar för hantering och eventuella åtgärder i ärendet.\\nStrålskyddsexpertfunktionen bevakar avvikelser och följer upp att ärendena hanteras korrekt samt\\nrapporterar eventuella betydande avvikelser till Strålsäkerhetsmyndigheten.\\nDen interna revisionen av ledningssystemet för strålsäkerhet är en del i det systematiska',\n",
       "  'STYRDOKUMENT: Föreskrift för strålsäkerhet och kärnteknisk verksamhet vid Chalmers tekniska\\nhögskola AB. Dnr C 2022-0879Beslut av:\\nRektorTyp av styrdokument:\\nFöreskriftDiarienummer:\\nC 2022-0879\\nDatum för\\nbeslut:Handläggare:\\nEva AlbersDokumentstruktur:\\nD1.3 Verksamhetsledning\\nDokumentet\\ngäller från och\\nmed:Avdelning/motsvarande som ansvarar för\\natt dokumentet skapas och/eller\\nrevideras:\\nInstitutionen för Kemi och kemiteknikDokumentet\\nreviderat,\\ndatum:Versionsnummer:\\n1\\nDokumentet\\ngäller till och\\nmed:\\nTills vidareDokumentet ersätter tidigare beslut:\\nC 2021-1537Dokumentet genomgånget utan\\nändring, datum:\\nFöreskrift för strålsäkerhet och kärnteknisk verksamhet vid\\nChalmers tekniska högskola AB\\nStyrdokument vid Chalmers\\nBeskrivning av föreskriften:\\nFöreskrift för ”strålsäkerhet och kärnteknisk verksamhet vid Chalmers” beskriver hur Chalmers\\nledningssystem för strålsäkerhet och kärnteknisk verksamhet är uppbyggt och vad som ingår i form\\nav organisation, ansvar, planering och utvärdering samt kopplingen till det övergripande och\\nrelaterade ledningssystemet. Föreskriften riktar sig till lärosätets ledning, centrala verksamhetsstödet\\nsamt institutionerna/motsvarande som har verksamhet med joniserande strålning.',\n",
       "  'STYRDOKUMENT: Föreskrift för strålsäkerhet och kärnteknisk verksamhet vid Chalmers tekniska\\nhögskola AB. Dnr C 2022-0879Strålsäkerhetsmyndighetens föreskrifter om grundläggande bestämmelser för\\ntillståndspliktig verksamhet med joniserande strålning (SSMFS 2018:1) och underliggande\\nföreskrifter till denna\\nStrålsäkerhetsmyndighetens föreskrifter och allmänna råd om säkerhet i kärntekniska\\nanläggningar (SSMFS 2008:1) och underliggande föreskrifter till denna\\nBeslut om villkor för omhändertagande av kärntekniskt avfall (SSM2022-840, Chalmers Dnr C\\n2022-0489). Chalmersspecifikt beslut motsvarande SSMFS 2021:7.\\nOrganisationens förutsättningar\\nChalmers verksamheter är lokaliserade till campus, Johanneberg och Lindholmen, samt Onsala\\nRymdobservatorium. Chalmers deltar i många utbildnings- och forskningssamarbeten lokalt,\\nnationellt och internationellt.\\nChalmers tekniska högskola AB är en stiftelsehögskola med Stiftelsen Chalmers tekniska högskola\\nsom ägare. Chalmers som lärosäte är en enskild utbildningsanordnare, och lyder under Lag om\\ntillstånd att utfärda vissa examina (1993:792). Som aktiebolag lyder Chalmers under Aktiebolagslagen\\n(2005:551). Verksamheten regleras i ett långsiktigt avtal med svenska staten som kompletteras med\\nårliga avtal. Den reglering som gäller vid statliga lärosäten genom högskolelagen och\\nhögskoleförordningen motsvaras av specifika arbetsordningar, vilka beslutas av rektor, tillika\\nverkställande direktör för Chalmers tekniska högskola AB. Chalmers har också krav på sig att ha',\n",
       "  'högskoleförordningen motsvaras av specifika arbetsordningar, vilka beslutas av rektor, tillika\\nverkställande direktör för Chalmers tekniska högskola AB. Chalmers har också krav på sig att ha\\nkvalitetssäkrande system för granskning av utbildningar och forskning och står under tillsyn av\\nUniversitetskanslersämbetet.\\nChalmers verksamhetsstyrning och ledningssystem utgår från Chalmers vision och mål, och har som\\ndel ett flertal mål- och styrdokument (https://intranet.chalmers.se/om-chalmers/planera-leda-\\nutveckla-verksamheten/verksamhetsstyrning/lista-over-styrdokument/). Institutionernas\\nverksamheter följs upp genom verksamhetsdialoger, vilket skapar en helhet som engagerar till ansvar\\noch handling mot målen. Genom integrering av ledningssystemet för strålsäkerhet och kärnteknisk\\nverksamhet i lärosätets övergripande styrning och ledning, säkerställs att strålsäkerhetsfrågorna\\ninkluderas i strategiarbetet och verksamhetsprocesserna (vid till exempel planering- och uppföljning)\\nmed utpekade ansvarsfunktioner. Vidare säkerställs att frågor och regelefterlevnad av bindande krav\\nhanteras inom verksamheten.\\nArbetet med strålsäkerhetsfrågorna ska ske systematiskt och lärosätet strävar kontinuerligt efter att\\nminimera risker och att skapa medvetenhet och engagemang kring strålsäkerhetsfrågor. De som\\nfrämst berörs av ledningssystemet för kärnteknisk verksamhet och strålskyddshantering är den\\nverksamhet vid Chalmers som arbetar med joniserande strålning, inklusive lokala och centrala\\nstödverksamheter. Intressenter inom verksamheten är prefekter/motsvarande och medarbetare som\\narbetar med joniserande strålning samt i viss utsträckning även studenter. Även externa intressenter,',\n",
       "  'Bilaga 1\\nDnr. C 2022-0879 - Bilaga 1. Ansvarsfördelning Chalmers strålskyddsorganisationStrålskyddskoordinatorn har befogenhet att\\nStoppa arbete med joniserande strålning på Chalmers tekniska högskola där det inte råder\\ngoda strålskyddsförhållanden.\\nSkriva delegationer för strålskyddsexperter och lokala strålskyddsexperter efter beslut av\\nbehörig chef\\nSammankalla strålskyddsexperter för möten\\nPrefekt/avdelningschef där verksamhet med joniserande strålning bedrivs ska:\\nSvara för att allt arbete med strålning sker i enlighet med gällande lagar och förordningar\\nsamt lokala riktlinjer och föreskrifter\\nFöreslå lokal strålskyddsexpert inom den egna verksamheten i samråd med\\nstrålskyddsexpertfunktionen för delegation från strålskyddskoordinator\\nInformera strålskyddskoordinator, strålskyddsexpert och lokal strålskyddsexpert,\\ninstitutionens/avdelningens arbetsmiljöombud och arbetsmiljöingenjör om uppkomna eller\\nplanerade förändringar beträffande utrustning, lokaler och arbetsförhållanden som rör\\nverksamheten med strålning\\nGe strålskyddskoordinator de upplysningar och handlingar som behövs för tillsyn samt ge\\ntillträde till anläggning och arbetsplats där strålningsverksamhet bedrivs\\nKontrollera och ekonomiskt svara för att den personal som deltar i verksamheten har\\nerforderlig kompetens såväl teoretiskt såsom praktiskt, och är informerad om de risker som\\nkan vara förknippade med verksamheten. Den verksamhet som omfattas av SSMFS 2018:1\\nska ha dokumenterade utbildningsplaner för olika personalkategorier. Dessa\\nutbildningsplaner ska tas fram i samråd med strålskyddskoordinator/lokal strålskyddsexpert.',\n",
       "  'STYRDOKUMENT: Föreskrift för strålsäkerhet och kärnteknisk verksamhet vid Chalmers tekniska\\nhögskola AB. Dnr C 2022-0879Vidare är Chalmers en decentraliserad organisation där rektor har delegerat befogenheter och ansvar\\nför dessa uppgifter i enlighet med arbets- och delegationsordningen och som följer\\norganisationsstrukturen (Figur 1). Ledningen har ansvar att säkerställa att nödvändiga resurser finns\\nför det systematiska strålsäkerhetsarbetet i sina respektive ansvarsområden. Detta görs praktiskt via\\nolika funktioner inom strålsäkerhetsorganisationen från central nivå till lokal nivå. På institutionsnivå\\nansvarar prefekten/motsvarande för att nödvändiga resurser avsätts för det lokala\\nstrålsäkerhetarbetet och tillser att lokala rutiner upprättas för att komplettera de centrala rutinerna.\\nFigur 1. Chalmers organisation för strålsäkerhet och kärnteknisk verksamhet\\nStrålskyddsexpertfunktionen\\nEnligt 3 kap. 12 § SSMFS 2018:1, ska Chalmers ha en bemannad strålskyddsexpertfunktion som är\\nanpassad till verksamhetens art och omfattning och som har befogenhet att rapportera direkt till\\nverksamhetens högsta ledning. Strålskyddsexpertfunktionen ska rådfrågas avseende tillämpning av\\nförfattningskrav om skydd av arbetstagare, allmänhet och miljön mot exponering för joniserande\\nstrålning. Funktionen har befogenhet att stoppa arbete med joniserande strålning där det inte råder\\ngoda strålskyddsförhållanden. Strålskyddsexpertfunktionen har även tillgång till lokala\\nstrålskyddsexperter vid samtliga institutioner där verksamhet med joniserande strålning\\nförekommer, oberoende av verksamhetens omfattning. Funktionen ska vara knuten till\\nverksamheten som hjälp och rådgivning i strålskyddsarbetet. Funktionen ska ha tillförsäkrats, av den\\nytterst ansvariga (rektor), en oberoende ställning i relation till linjen inom strålskyddsfrågor, i\\nförhållande till mål med verksamheten eller därmed jämförliga affärsmässiga hänsyn.\\nStrålskyddsexpertfunktionen består i huvudsak av en strålskyddskoordinator och 2-4\\nstrålskyddsexperter. Vidare kan övrig nödvändig kompetens såsom juridik eller fysiskt skydd kallas in\\nvid behov.Beslut fattat av: Stefan Bengtsson, Chalmers tekniska högskola, 2022-10-11, C 2022-0879\\nDecision made by: Stefan Bengtsson, Chalmers University of Technology, 2022-10-11, C 2022-0879',\n",
       "  '(https://intranet.chalmers.se/om-chalmers/planera-leda-utveckla-\\nverksamheten/verksamhetsstyrning/beskrivning-av-styrdokument/) reglerar framtagande ochBeslut fattat av: Stefan Bengtsson, Chalmers tekniska högskola, 2022-10-11, C 2022-0879\\nDecision made by: Stefan Bengtsson, Chalmers University of Technology, 2022-10-11, C 2022-0879',\n",
       "  'arbete med joniserande strålning som sker inom sina ansvarsområden så att detta genomförs på ett\\nstrålsäkert sätt i linje med de övergripande målen för strålsäkerhet. Deras arbete och observationer\\nmeddelas strålskyddsexpertfunktionen fortlöpande. De ser även till att eventuellt avfall samlas upp\\noch överlämnas till enheten för Kärnkemi och industriell materialåtervinning. Ansvarsområden och\\nuppgifter för lokal strålskyddsexpert beskrivs i bilaga 1.\\nBeredskap och agerande vid nödlägen\\nChalmers har riktlinjer för beredskap och krisledning (C 2017-0931) med tillhörande checklistor på\\ncentral nivå samt krav på att varje institution ska utarbeta en beredskapsplan på lokal nivå för\\nagerande vid nödlägen, såsom exempelvis brand, stöld av strålkällor eller utsläpp av radioaktiva\\nämnen, utifrån institutionens specifika förutsättningar. Därtill finns riktlinjer där det beskrivs vilka\\nfunktioner, rutiner och planer varje institution ska ha för att uppfylla kraven i det systematiska miljö-\\noch brandskyddsarbetet.\\nEfterlevnad av bindande krav\\nEfterlevnad av bindande krav på miljöområdet sker på central nivå såväl som lokal nivå, och är en del\\nav den interna miljörevisionen. Bindande krav inom strålskydd på lokal nivå sammanställs genom\\nstrålskyddsexpertfunktionen. Lagefterlevnadskontroll genomförs regelbundet av\\nstrålskyddsexpertfunktionen.\\nStyrdokument och uppföljning,\\nChalmers beskrivning av hantering och upprättande av styrdokument\\n(https://intranet.chalmers.se/om-chalmers/planera-leda-utveckla-',\n",
       "  'STYRDOKUMENT: Föreskrift för strålsäkerhet och kärnteknisk verksamhet vid Chalmers tekniska\\nhögskola AB. Dnr C 2022-0879Strålskyddskoordinator\\nRektor delegerar till strålskyddskoordinatorn att inom strålskyddsexpertfunktionen driva och\\nkoordinera Chalmers arbete med strålskydd så att verksamheten i alla delar bedrivs i enlighet med\\nstrålskyddslagen. Strålskyddskoordinatorn är Chalmers resursperson och kontaktperson mellan olika\\ndelar av Chalmers. Strålskyddskoordinatorn är även kontaktperson till Strålsäkerhetsmyndigheten\\noch andra myndigheter och ansvarar för att rapportering sker enligt aktuella krav. Ansvarsområden\\noch uppgifter för strålskyddskoordinator beskrivs i bilaga 1. Beslut om återkallelse av delegation ska\\nprotokollföras och diarieföras på Chalmers centralt.\\nStrålskyddsexpert\\nInom strålskyddsexpertfunktionen finns 2-4 kompetensmässigt och arbetsmässigt överlappande\\nstrålskyddsexperter. Kompetenskravet för funktionen är i enlighet med Strålsäkerhetsmyndighetens\\nkrav (3 kap. 12 § SSMFS 2008:1). Dessa personer besitter följaktligen en mycket god teknisk kunskap\\ninom strålsäkerhetsområdet. Strålsäkerhetsmyndigheten ska godkänna de strålskyddsexperter som\\ningår i strålskyddsexpertfunktionen och rektor ansvarar för ansökan om detta. Strålskyddsexperterna\\nkan inte vidaredelegera. Ansvarsområden och uppgifter för strålskyddsexpert beskrivs i bilaga 1.\\nLokal strålskyddsexpert\\nInom vissa specifika verksamheter kan det finnas lokala strålskyddsexperter. Dessa överser det\\narbete med joniserande strålning som sker inom sina ansvarsområden så att detta genomförs på ett\\nstrålsäkert sätt i linje med de övergripande målen för strålsäkerhet. Deras arbete och observationer\\nmeddelas strålskyddsexpertfunktionen fortlöpande. De ser även till att eventuellt avfall samlas upp\\noch överlämnas till enheten för Kärnkemi och industriell materialåtervinning. Ansvarsområden och\\nuppgifter för lokal strålskyddsexpert beskrivs i bilaga 1.\\nBeredskap och agerande vid nödlägen\\nChalmers har riktlinjer för beredskap och krisledning (C 2017-0931) med tillhörande checklistor på\\ncentral nivå samt krav på att varje institution ska utarbeta en beredskapsplan på lokal nivå för\\nagerande vid nödlägen, såsom exempelvis brand, stöld av strålkällor eller utsläpp av radioaktiva\\nämnen, utifrån institutionens specifika förutsättningar. Därtill finns riktlinjer där det beskrivs vilka\\nfunktioner, rutiner och planer varje institution ska ha för att uppfylla kraven i det systematiska miljö-\\noch brandskyddsarbetet.\\nEfterlevnad av bindande krav\\nEfterlevnad av bindande krav på miljöområdet sker på central nivå såväl som lokal nivå, och är en del\\nav den interna miljörevisionen. Bindande krav inom strålskydd på lokal nivå sammanställs genom\\nstrålskyddsexpertfunktionen. Lagefterlevnadskontroll genomförs regelbundet av\\nstrålskyddsexpertfunktionen.\\nStyrdokument och uppföljning,\\nChalmers beskrivning av hantering och upprättande av styrdokument\\n(https://intranet.chalmers.se/om-chalmers/planera-leda-utveckla-\\nverksamheten/verksamhetsstyrning/beskrivning-av-styrdokument/) reglerar framtagande ochBeslut fattat av: Stefan Bengtsson, Chalmers tekniska högskola, 2022-10-11, C 2022-0879',\n",
       "  '(https://intranet.chalmers.se/om-chalmers/planera-leda-utveckla-\\nverksamheten/verksamhetsstyrning/beskrivning-av-styrdokument/) reglerar framtagande ochBeslut fattat av: Stefan Bengtsson, Chalmers tekniska högskola, 2022-10-11, C 2022-0879\\nDecision made by: Stefan Bengtsson, Chalmers University of Technology, 2022-10-11, C 2022-0879',\n",
       "  'Bilaga 1\\nDnr. C 2022-0879 - Bilaga 1. Ansvarsfördelning Chalmers strålskyddsorganisationUpprätta och fortlöpande uppdatera skriftliga instruktioner för arbetet med joniserande\\nstrålning enligt SSMFS 2018:1 som är gemensam för Chalmers\\nSe till att kärnämnen hanteras på ett sätt som uppfyller kraven på fysiskt skydd\\nInformera strålskyddskoordinator, prefekt och ansvarig chef vid akuta ärende gällande\\nstrålskyddsfrågor. Samverka med strålskyddskoordinator för att informera berörd\\nverksamhet i strålskyddsfrågor.\\nTillse att strålskyddskoordinator och lokala strålskyddsexperter löpande får uppdaterad\\ninformation inom strålsäkerhetsfrågor\\nAktivt verka för att händelser eller iakttagelser av betydelse från strålskyddssynpunkt\\nanalyseras och dokumenteras\\nAktivt verka för att relevant lagstiftning följs och att krav på rapportering efterlevs\\nAnsvara att nödvändig och adekvat information finns tillgänglig för att upprätta och hålla\\ntillstånd uppdaterade i samverkan med strålskyddskoordinator\\nBevaka att individ- och kollektivstråldoser följs upp i samverkan med strålskyddskoordinator\\nAktivt verka för bokföring och erforderlig rapportering av kärnämne till Euratom, IAEA och\\nSSM i samverkan med strålskyddskoordinator\\nVara Chalmers sakkunnig i anläggningens strålskydd\\nStötta och instruera lokala strålskyddsexperter vid behov\\nLokal strålskyddsexpert vid Chalmers ska:\\nAktivt verka för att arbetet vid anläggningen bedrivs på ett från strålskyddssynpunkt lämpligt\\nsätt, så att goda strålskyddsförhållanden råder',\n",
       "  'verksamheten som hjälp och rådgivning i strålskyddsarbetet. Funktionen ska ha tillförsäkrats, av den\\nytterst ansvariga (rektor), en oberoende ställning i relation till linjen inom strålskyddsfrågor, i\\nförhållande till mål med verksamheten eller därmed jämförliga affärsmässiga hänsyn.\\nStrålskyddsexpertfunktionen består i huvudsak av en strålskyddskoordinator och 2-4\\nstrålskyddsexperter. Vidare kan övrig nödvändig kompetens såsom juridik eller fysiskt skydd kallas in\\nvid behov.Beslut fattat av: Stefan Bengtsson, Chalmers tekniska högskola, 2022-10-11, C 2022-0879\\nDecision made by: Stefan Bengtsson, Chalmers University of Technology, 2022-10-11, C 2022-0879',\n",
       "  'rapporterar eventuella betydande avvikelser till Strålsäkerhetsmyndigheten.\\nDen interna revisionen av ledningssystemet för strålsäkerhet är en del i det systematiska\\nstrålsäkerhetsarbetet och säkerställer att Chalmers hantering av strålkällor sker enligt bindande krav\\nsamt att eventuellt behov av förbättringsarbete synliggörs. Intern revision genomförs vart tredje år\\noch resultaten presenteras för ledningen i samband med den årliga genomgången av det\\nsystematiska strålsäkerhetsarbetet.Beslut fattat av: Stefan Bengtsson, Chalmers tekniska högskola, 2022-10-11, C 2022-0879\\nDecision made by: Stefan Bengtsson, Chalmers University of Technology, 2022-10-11, C 2022-0879',\n",
       "  'Bilaga 1\\nDnr. C 2022-0879 - Bilaga 1. Ansvarsfördelning Chalmers strålskyddsorganisationStrålskyddskoordinatorn har befogenhet att\\nStoppa arbete med joniserande strålning på Chalmers tekniska högskola där det inte råder\\ngoda strålskyddsförhållanden.\\nSkriva delegationer för strålskyddsexperter och lokala strålskyddsexperter efter beslut av\\nbehörig chef\\nSammankalla strålskyddsexperter för möten\\nPrefekt/avdelningschef där verksamhet med joniserande strålning bedrivs ska:\\nSvara för att allt arbete med strålning sker i enlighet med gällande lagar och förordningar\\nsamt lokala riktlinjer och föreskrifter\\nFöreslå lokal strålskyddsexpert inom den egna verksamheten i samråd med\\nstrålskyddsexpertfunktionen för delegation från strålskyddskoordinator\\nInformera strålskyddskoordinator, strålskyddsexpert och lokal strålskyddsexpert,\\ninstitutionens/avdelningens arbetsmiljöombud och arbetsmiljöingenjör om uppkomna eller\\nplanerade förändringar beträffande utrustning, lokaler och arbetsförhållanden som rör\\nverksamheten med strålning\\nGe strålskyddskoordinator de upplysningar och handlingar som behövs för tillsyn samt ge\\ntillträde till anläggning och arbetsplats där strålningsverksamhet bedrivs\\nKontrollera och ekonomiskt svara för att den personal som deltar i verksamheten har\\nerforderlig kompetens såväl teoretiskt såsom praktiskt, och är informerad om de risker som\\nkan vara förknippade med verksamheten. Den verksamhet som omfattas av SSMFS 2018:1\\nska ha dokumenterade utbildningsplaner för olika personalkategorier. Dessa\\nutbildningsplaner ska tas fram i samråd med strålskyddskoordinator/lokal strålskyddsexpert.',\n",
       "  'verksamheten som hjälp och rådgivning i strålskyddsarbetet. Funktionen ska ha tillförsäkrats, av den\\nytterst ansvariga (rektor), en oberoende ställning i relation till linjen inom strålskyddsfrågor, i\\nförhållande till mål med verksamheten eller därmed jämförliga affärsmässiga hänsyn.\\nStrålskyddsexpertfunktionen består i huvudsak av en strålskyddskoordinator och 2-4\\nstrålskyddsexperter. Vidare kan övrig nödvändig kompetens såsom juridik eller fysiskt skydd kallas in\\nvid behov.Beslut fattat av: Stefan Bengtsson, Chalmers tekniska högskola, 2022-10-11, C 2022-0879\\nDecision made by: Stefan Bengtsson, Chalmers University of Technology, 2022-10-11, C 2022-0879',\n",
       "  'STYRDOKUMENT: Föreskrift för strålsäkerhet och kärnteknisk verksamhet vid Chalmers tekniska\\nhögskola AB. Dnr C 2022-0879Vidare är Chalmers en decentraliserad organisation där rektor har delegerat befogenheter och ansvar\\nför dessa uppgifter i enlighet med arbets- och delegationsordningen och som följer\\norganisationsstrukturen (Figur 1). Ledningen har ansvar att säkerställa att nödvändiga resurser finns\\nför det systematiska strålsäkerhetsarbetet i sina respektive ansvarsområden. Detta görs praktiskt via\\nolika funktioner inom strålsäkerhetsorganisationen från central nivå till lokal nivå. På institutionsnivå\\nansvarar prefekten/motsvarande för att nödvändiga resurser avsätts för det lokala\\nstrålsäkerhetarbetet och tillser att lokala rutiner upprättas för att komplettera de centrala rutinerna.\\nFigur 1. Chalmers organisation för strålsäkerhet och kärnteknisk verksamhet\\nStrålskyddsexpertfunktionen\\nEnligt 3 kap. 12 § SSMFS 2018:1, ska Chalmers ha en bemannad strålskyddsexpertfunktion som är\\nanpassad till verksamhetens art och omfattning och som har befogenhet att rapportera direkt till\\nverksamhetens högsta ledning. Strålskyddsexpertfunktionen ska rådfrågas avseende tillämpning av\\nförfattningskrav om skydd av arbetstagare, allmänhet och miljön mot exponering för joniserande\\nstrålning. Funktionen har befogenhet att stoppa arbete med joniserande strålning där det inte råder\\ngoda strålskyddsförhållanden. Strålskyddsexpertfunktionen har även tillgång till lokala\\nstrålskyddsexperter vid samtliga institutioner där verksamhet med joniserande strålning\\nförekommer, oberoende av verksamhetens omfattning. Funktionen ska vara knuten till\\nverksamheten som hjälp och rådgivning i strålskyddsarbetet. Funktionen ska ha tillförsäkrats, av den',\n",
       "  'STYRDOKUMENT: Föreskrift för strålsäkerhet och kärnteknisk verksamhet vid Chalmers tekniska\\nhögskola AB. Dnr C 2022-0879och industriell materialåtervinning vid Institutionen för Kemi och kemiteknik. Det finns därför en\\nlokal utvidgning av ledningssystemet för att styra och vägleda just den kärntekniska verksamheten\\nvid enheten, vilket görs i dokumentet ” Principer för ledningssystem för kärnteknisk verksamhet för\\nstrålskydd vid Kärnkemi och industriell materialåtervinning vid institutionen för Kemi och kemiteknik\\n(D nr: K2021-0200) ”\\nPlanering och uppföljning\\nInom strålsäkerhetsledningsarbetet ska risker som rör Chalmers strålskydd kontinuerligt utvärderas.\\nEn riskanalys ska genomföras årligen av strålskyddsexpertfunktionen baserat på de interna\\nstrålsäkerhetsronderna, och efterlevnad av befintliga lagar och krav. Tillkommer nya bindande krav\\nunder året ska riskanalysen uppdateras. Resultatet från riskanalysen ska ligga till grund för\\nprioritering av förbättringsarbetet och bedömning av eventuellt förändrat resursbehov.\\nLedningssystemets resultat ska integreras i Chalmers riskhanteringsarbete (C 2015-0368, rev 2021, se\\näven https://intranet.chalmers.se/arbeta-pa-chalmers/sakerhet-brandskydd/nar-nagot-allvarligt-\\nhander/riskhantering/) och återkopplas till Chalmers ledning. Uppföljning av lokalt\\nstrålsäkerhetsarbete ska göras genom intern strålsäkerhetsrond och intern revision av\\nledningssystemet utgör underlag för analyser av risker i strålsäkerheten. Krav för det systematiska',\n",
       "  'Bilaga 1\\nDnr. C 2022-0879 - Bilaga 1. Ansvarsfördelning Chalmers strålskyddsorganisationStrålskyddskoordinatorn har befogenhet att\\nStoppa arbete med joniserande strålning på Chalmers tekniska högskola där det inte råder\\ngoda strålskyddsförhållanden.\\nSkriva delegationer för strålskyddsexperter och lokala strålskyddsexperter efter beslut av\\nbehörig chef\\nSammankalla strålskyddsexperter för möten\\nPrefekt/avdelningschef där verksamhet med joniserande strålning bedrivs ska:\\nSvara för att allt arbete med strålning sker i enlighet med gällande lagar och förordningar\\nsamt lokala riktlinjer och föreskrifter\\nFöreslå lokal strålskyddsexpert inom den egna verksamheten i samråd med\\nstrålskyddsexpertfunktionen för delegation från strålskyddskoordinator\\nInformera strålskyddskoordinator, strålskyddsexpert och lokal strålskyddsexpert,\\ninstitutionens/avdelningens arbetsmiljöombud och arbetsmiljöingenjör om uppkomna eller\\nplanerade förändringar beträffande utrustning, lokaler och arbetsförhållanden som rör\\nverksamheten med strålning\\nGe strålskyddskoordinator de upplysningar och handlingar som behövs för tillsyn samt ge\\ntillträde till anläggning och arbetsplats där strålningsverksamhet bedrivs\\nKontrollera och ekonomiskt svara för att den personal som deltar i verksamheten har\\nerforderlig kompetens såväl teoretiskt såsom praktiskt, och är informerad om de risker som\\nkan vara förknippade med verksamheten. Den verksamhet som omfattas av SSMFS 2018:1\\nska ha dokumenterade utbildningsplaner för olika personalkategorier. Dessa\\nutbildningsplaner ska tas fram i samråd med strålskyddskoordinator/lokal strålskyddsexpert.\\nFör varje person ska uppgifter om omfattningen och tidpunkten för varje genomgången\\nutbildning dokumenteras\\nSe till att strålskyddsexpertens föreslagna strålskyddsåtgärder vidtas inom ramen för\\navdelningens resurser och, om detta ej är möjligt, att ärendet vidarebefordras till prefekt vid\\ninstitutionen\\nFörvissa sig om att strålningsutrustning och annan teknisk apparatur som används i\\nverksamheten får erforderligt underhåll och kontroll samt att radioaktiva ämnen\\nkontrollmäts\\nBudgetera för avfallshantering före påbörjat projekt (gäller ej låg-radioaktivt avfall)\\nSvara för att radioaktivt avfall och kasserade apparater som kan alstra strålning omhändertas\\nenligt gällande föreskrifter\\nSe till att personal som sysselsätts i strålningsarbete blir föremål för persondos- och/eller\\nkontaminationsmätningar i den omfattning strålskyddexpert/lokal strålskyddsexpert\\nföreskriver\\nStrålskyddsexpert vid Chalmers ska:\\nAktivt verka för att arbetet vid anläggningen bedrivs på ett från strålskyddssynpunkt lämpligt\\nsätt, så att goda strålskyddsförhållanden råder\\nHa rätten att stoppa arbete med joniserande strålning där det inte råder goda\\nstrålskyddsförhållandenBeslut fattat av: Stefan Bengtsson, Chalmers tekniska högskola, 2022-10-11, C 2022-0879\\nDecision made by: Stefan Bengtsson, Chalmers University of Technology, 2022-10-11, C 2022-0879',\n",
       "  'relaterade ledningssystemet. Föreskriften riktar sig till lärosätets ledning, centrala verksamhetsstödet\\nsamt institutionerna/motsvarande som har verksamhet med joniserande strålning.\\nInledning\\nChalmers har tillstånd för verksamhet med joniserande strålning enligt strålskyddslagen (SFS 2018:\\n396) och tillstånd för kärnteknisk verksamhet enligt kärntekniklagen (SFS 1984:3).\\nFöreskriften ska understödja Chalmers mål inom strålskyddsarbetet: Målet för strålskyddsarbetet\\ninom Chalmers är att doser till personal och studenter hålls så låga som möjligt samtidigt som\\nutbildningen är av hög kvalitet, i linje med Chalmers mål ”Utbildning i världsklass”, samt att otillåtna\\nutsläpp av radioaktiva ämnen till miljön inte ska förekomma.\\nSyftet med föreskriften är att ge berörda prefekter/motsvarande, medarbetare, studenter och övriga\\nintressenter en övergripande och vägledande beskrivning av ledningssystemet för strålsäkerhet och\\nkärnteknisk verksamhet vid Chalmers.\\nNationella regelverk som styr struktur och innehåll av ledningssystem för strålsäkerhet och\\nkärnteknisk verksamhet är följande:\\nStrålskyddslag (SFS 2018:396)\\nLagen om kärnteknisk verksamhet (SFS 1984:3)Beslut fattat av: Stefan Bengtsson, Chalmers tekniska högskola, 2022-10-11, C 2022-0879\\nDecision made by: Stefan Bengtsson, Chalmers University of Technology, 2022-10-11, C 2022-0879',\n",
       "  'Aktivt verka för att arbetet vid anläggningen bedrivs på ett från strålskyddssynpunkt lämpligt\\nsätt, så att goda strålskyddsförhållanden råder\\nHa rätten att stoppa arbete med joniserande strålning där det inte råder goda\\nstrålskyddsförhållanden\\nSe till att kärnämnen hanteras på ett sätt som uppfyller kraven på fysiskt skydd\\nInformera strålskyddsexpertfunktionen, prefekt och ansvarig chef vid akuta ärende gällande\\nstrålskyddsfrågor.\\nInformera löpande strålskyddsexpertfunktionen i övriga ärenden gällande strålskyddsfrågor.\\nRapportera händelser eller iakttagelser av betydelse från strålskyddssynpunkt till\\nstrålskyddsexpertfunktionen\\nBevaka kompetens- och resursfrågor för anläggningens strålskydd (bistår prefekt och\\navdelningschef vid respektive institution med att ta fram utbildningsplaner för olika\\npersonalkategorier enligt SSMFS 2018:1)\\nBevaka tillsammans med strålskyddsexpert och aktivt verka för att relevant lagstiftning följs\\noch att krav på rapportering efterlevs\\nUtfärda lokala medgivanden för institutionerna gällande verksamhet med joniserande\\nstrålning inom ramen för Chalmers samlingstillstånd\\nKontrollera regelbundet varje strålkälla inom sin institution enligt SSMFS 2018:1\\nUpprätta lokala strålskyddsinstruktioner för att förhindra att personer utsätts för\\noacceptabel eller onödig joniserande strålningBeslut fattat av: Stefan Bengtsson, Chalmers tekniska högskola, 2022-10-11, C 2022-0879\\nDecision made by: Stefan Bengtsson, Chalmers University of Technology, 2022-10-11, C 2022-0879',\n",
       "  'STYRDOKUMENT: Föreskrift för strålsäkerhet och kärnteknisk verksamhet vid Chalmers tekniska\\nhögskola AB. Dnr C 2022-0879Vidare är Chalmers en decentraliserad organisation där rektor har delegerat befogenheter och ansvar\\nför dessa uppgifter i enlighet med arbets- och delegationsordningen och som följer\\norganisationsstrukturen (Figur 1). Ledningen har ansvar att säkerställa att nödvändiga resurser finns\\nför det systematiska strålsäkerhetsarbetet i sina respektive ansvarsområden. Detta görs praktiskt via\\nolika funktioner inom strålsäkerhetsorganisationen från central nivå till lokal nivå. På institutionsnivå\\nansvarar prefekten/motsvarande för att nödvändiga resurser avsätts för det lokala\\nstrålsäkerhetarbetet och tillser att lokala rutiner upprättas för att komplettera de centrala rutinerna.\\nFigur 1. Chalmers organisation för strålsäkerhet och kärnteknisk verksamhet\\nStrålskyddsexpertfunktionen\\nEnligt 3 kap. 12 § SSMFS 2018:1, ska Chalmers ha en bemannad strålskyddsexpertfunktion som är\\nanpassad till verksamhetens art och omfattning och som har befogenhet att rapportera direkt till\\nverksamhetens högsta ledning. Strålskyddsexpertfunktionen ska rådfrågas avseende tillämpning av\\nförfattningskrav om skydd av arbetstagare, allmänhet och miljön mot exponering för joniserande\\nstrålning. Funktionen har befogenhet att stoppa arbete med joniserande strålning där det inte råder\\ngoda strålskyddsförhållanden. Strålskyddsexpertfunktionen har även tillgång till lokala\\nstrålskyddsexperter vid samtliga institutioner där verksamhet med joniserande strålning\\nförekommer, oberoende av verksamhetens omfattning. Funktionen ska vara knuten till\\nverksamheten som hjälp och rådgivning i strålskyddsarbetet. Funktionen ska ha tillförsäkrats, av den',\n",
       "  'Bilaga 1\\nDnr. C 2022-0879 - Bilaga 1. Ansvarsfördelning Chalmers strålskyddsorganisationAnsvarsfördelning Chalmers strålskyddsorganisation\\nAll verksamhet med joniserande strålning inom Chalmers ska bedrivas i enlighet med\\nstrålskyddslagen. Verksamhet enligt ”Strålsäkerhetsmyndighetens föreskrifter SSMF 2018:1 om\\ngrundläggande bestämmelser för tillståndspliktig verksamhet med joniserande strålning” får bedrivas\\nenligt kategori A med öppna och slutna strålkällor endast i vissa laboratorier vid avdelningen Energi\\noch material vid institutionen för Kemi och kemiteknik samt vid avdelningen Subatomär, högenergi-\\noch plasmafysik vid institutionen för Fysik. Undantag från regeln får endast ges av\\nstrålskyddsexpertfunktionen i samråd med ansvarig chef vid institutionen.\\nNedan anges en beskrivning av ansvarsområden samt arbetsuppgifter för strålskyddskoordinator,\\nprefekt/avdelningschef, strålskyddsexpert och lokal strålskyddsexpert. Det är möjligt att justera\\ndessa utifrån kompetens och arbetsuppgifter i de personliga delegationerna.\\nStrålskyddskoordinatorn vid Chalmers ska:\\nKoordinera arbetet med Chalmers ledningssystem för strålsäkerhet.\\nInformera rektor, prefekt, strålskyddsexperter, arbetsmiljöombud och kontaktpersoner i\\nstrålskyddsfrågor\\nStödja strålskyddsexpert och övriga medarbetare för att arbetet vid anläggningen bedrivs på\\nett från strålskyddssynpunkt lämpligt sätt, så att goda strålskyddsförhållanden råder\\nAnsvara för att det rapporteras förändringar i registret över innehav av strålkällor före\\nutgången av mars månad varje år till Strålsäkerhetsmyndigheten. Utöver detta ska övriga\\nförändringar, exempelvis nya inköp, av rapporteringspliktiga strålkällor rapporteras inom en\\nvecka till Strålsäkerhetsmyndigheten\\nBevaka att lokala strålskyddsinstruktioner upprättas för att förhindra att personer utsätts för\\noacceptabel eller onödig joniserande strålning\\nBevaka att händelser eller iakttagelser av betydelse från strålskyddssynpunkt analyseras och\\ndokumenteras\\nAnsvara för att oplanerade händelser av betydelse från strålskyddssynpunkt rapporteras till\\nStrålsäkerhetsmyndigheten snarast, i enlighet med SSMFS 2008:1 bilaga 4\\nAnsvara för bokföring och erforderlig rapportering av kärnämne till Euratom, IAEA och SSM i\\nsamverkan med strålskyddsexpert\\nBevaka att givna krav på rapportering efterlevs\\nKoordinera interna och externa revisioner\\nVara kontaktperson vid kontakt med berörda myndigheter\\nIngå i nätverket för strålsäkerhetsfrågor vid Chalmers\\nUppdatera och proaktivt komplettera informationen om Chalmers strålsäkerhetsarbete på\\nChalmers intranät\\nTillse att strålskyddsexperter får uppdaterad och adekvat utbildning för sina uppdrag\\nHandlägga all dokumentation rörande Chalmers strålskyddsarbete i 360Beslut fattat av: Stefan Bengtsson, Chalmers tekniska högskola, 2022-10-11, C 2022-0879\\nDecision made by: Stefan Bengtsson, Chalmers University of Technology, 2022-10-11, C 2022-0879',\n",
       "  'högskoleförordningen motsvaras av specifika arbetsordningar, vilka beslutas av rektor, tillika\\nverkställande direktör för Chalmers tekniska högskola AB. Chalmers har också krav på sig att ha\\nkvalitetssäkrande system för granskning av utbildningar och forskning och står under tillsyn av\\nUniversitetskanslersämbetet.\\nChalmers verksamhetsstyrning och ledningssystem utgår från Chalmers vision och mål, och har som\\ndel ett flertal mål- och styrdokument (https://intranet.chalmers.se/om-chalmers/planera-leda-\\nutveckla-verksamheten/verksamhetsstyrning/lista-over-styrdokument/). Institutionernas\\nverksamheter följs upp genom verksamhetsdialoger, vilket skapar en helhet som engagerar till ansvar\\noch handling mot målen. Genom integrering av ledningssystemet för strålsäkerhet och kärnteknisk\\nverksamhet i lärosätets övergripande styrning och ledning, säkerställs att strålsäkerhetsfrågorna\\ninkluderas i strategiarbetet och verksamhetsprocesserna (vid till exempel planering- och uppföljning)\\nmed utpekade ansvarsfunktioner. Vidare säkerställs att frågor och regelefterlevnad av bindande krav\\nhanteras inom verksamheten.\\nArbetet med strålsäkerhetsfrågorna ska ske systematiskt och lärosätet strävar kontinuerligt efter att\\nminimera risker och att skapa medvetenhet och engagemang kring strålsäkerhetsfrågor. De som\\nfrämst berörs av ledningssystemet för kärnteknisk verksamhet och strålskyddshantering är den\\nverksamhet vid Chalmers som arbetar med joniserande strålning, inklusive lokala och centrala\\nstödverksamheter. Intressenter inom verksamheten är prefekter/motsvarande och medarbetare som\\narbetar med joniserande strålning samt i viss utsträckning även studenter. Även externa intressenter,',\n",
       "  'ska ha dokumenterade utbildningsplaner för olika personalkategorier. Dessa\\nutbildningsplaner ska tas fram i samråd med strålskyddskoordinator/lokal strålskyddsexpert.\\nFör varje person ska uppgifter om omfattningen och tidpunkten för varje genomgången\\nutbildning dokumenteras\\nSe till att strålskyddsexpertens föreslagna strålskyddsåtgärder vidtas inom ramen för\\navdelningens resurser och, om detta ej är möjligt, att ärendet vidarebefordras till prefekt vid\\ninstitutionen\\nFörvissa sig om att strålningsutrustning och annan teknisk apparatur som används i\\nverksamheten får erforderligt underhåll och kontroll samt att radioaktiva ämnen\\nkontrollmäts\\nBudgetera för avfallshantering före påbörjat projekt (gäller ej låg-radioaktivt avfall)\\nSvara för att radioaktivt avfall och kasserade apparater som kan alstra strålning omhändertas\\nenligt gällande föreskrifter\\nSe till att personal som sysselsätts i strålningsarbete blir föremål för persondos- och/eller\\nkontaminationsmätningar i den omfattning strålskyddexpert/lokal strålskyddsexpert\\nföreskriver\\nStrålskyddsexpert vid Chalmers ska:\\nAktivt verka för att arbetet vid anläggningen bedrivs på ett från strålskyddssynpunkt lämpligt\\nsätt, så att goda strålskyddsförhållanden råder\\nHa rätten att stoppa arbete med joniserande strålning där det inte råder goda\\nstrålskyddsförhållandenBeslut fattat av: Stefan Bengtsson, Chalmers tekniska högskola, 2022-10-11, C 2022-0879\\nDecision made by: Stefan Bengtsson, Chalmers University of Technology, 2022-10-11, C 2022-0879',\n",
       "  'ska ha dokumenterade utbildningsplaner för olika personalkategorier. Dessa\\nutbildningsplaner ska tas fram i samråd med strålskyddskoordinator/lokal strålskyddsexpert.\\nFör varje person ska uppgifter om omfattningen och tidpunkten för varje genomgången\\nutbildning dokumenteras\\nSe till att strålskyddsexpertens föreslagna strålskyddsåtgärder vidtas inom ramen för\\navdelningens resurser och, om detta ej är möjligt, att ärendet vidarebefordras till prefekt vid\\ninstitutionen\\nFörvissa sig om att strålningsutrustning och annan teknisk apparatur som används i\\nverksamheten får erforderligt underhåll och kontroll samt att radioaktiva ämnen\\nkontrollmäts\\nBudgetera för avfallshantering före påbörjat projekt (gäller ej låg-radioaktivt avfall)\\nSvara för att radioaktivt avfall och kasserade apparater som kan alstra strålning omhändertas\\nenligt gällande föreskrifter\\nSe till att personal som sysselsätts i strålningsarbete blir föremål för persondos- och/eller\\nkontaminationsmätningar i den omfattning strålskyddexpert/lokal strålskyddsexpert\\nföreskriver\\nStrålskyddsexpert vid Chalmers ska:\\nAktivt verka för att arbetet vid anläggningen bedrivs på ett från strålskyddssynpunkt lämpligt\\nsätt, så att goda strålskyddsförhållanden råder\\nHa rätten att stoppa arbete med joniserande strålning där det inte råder goda\\nstrålskyddsförhållandenBeslut fattat av: Stefan Bengtsson, Chalmers tekniska högskola, 2022-10-11, C 2022-0879\\nDecision made by: Stefan Bengtsson, Chalmers University of Technology, 2022-10-11, C 2022-0879',\n",
       "  'arbete med joniserande strålning som sker inom sina ansvarsområden så att detta genomförs på ett\\nstrålsäkert sätt i linje med de övergripande målen för strålsäkerhet. Deras arbete och observationer\\nmeddelas strålskyddsexpertfunktionen fortlöpande. De ser även till att eventuellt avfall samlas upp\\noch överlämnas till enheten för Kärnkemi och industriell materialåtervinning. Ansvarsområden och\\nuppgifter för lokal strålskyddsexpert beskrivs i bilaga 1.\\nBeredskap och agerande vid nödlägen\\nChalmers har riktlinjer för beredskap och krisledning (C 2017-0931) med tillhörande checklistor på\\ncentral nivå samt krav på att varje institution ska utarbeta en beredskapsplan på lokal nivå för\\nagerande vid nödlägen, såsom exempelvis brand, stöld av strålkällor eller utsläpp av radioaktiva\\nämnen, utifrån institutionens specifika förutsättningar. Därtill finns riktlinjer där det beskrivs vilka\\nfunktioner, rutiner och planer varje institution ska ha för att uppfylla kraven i det systematiska miljö-\\noch brandskyddsarbetet.\\nEfterlevnad av bindande krav\\nEfterlevnad av bindande krav på miljöområdet sker på central nivå såväl som lokal nivå, och är en del\\nav den interna miljörevisionen. Bindande krav inom strålskydd på lokal nivå sammanställs genom\\nstrålskyddsexpertfunktionen. Lagefterlevnadskontroll genomförs regelbundet av\\nstrålskyddsexpertfunktionen.\\nStyrdokument och uppföljning,\\nChalmers beskrivning av hantering och upprättande av styrdokument\\n(https://intranet.chalmers.se/om-chalmers/planera-leda-utveckla-',\n",
       "  'Föreskrift för stipendier för studenter inom Chalmers utbildningsprogram på grund - och avancerad \\nnivå  C 2019 -0748  \\nAdlerbert Study Scholarship  \\nAdlerbert Study Scholarship är ett stipendium som täcker  hela studieavgiften under två år för \\nstudenter från länder som ej är representerade på Chalmers i stor utsträckning. Detta för att ge \\nstudenter från länder som i vanliga fall ej har möjlighet att stu dera utomlands chansen att \\nkomma till Chalmers samt att bredda vår mångfald och berika vår studiemiljö. Stipendiet \\ndelades ut  för första gången hösten 2016.  \\nStudentgrupp  \\nInternationella studenter på avancerad nivå ( mastersprogram ) omfattas, såväl ingenjöre r som \\narkitekter.  Studenten måste vara medborgare i något land tillhörande DAC listan över ODA \\nmottagare, bortsett från Kina och Indien då dessa länder anses överrepresenterade på \\nChalmers i jämförelse med övriga på listan. OECD, Organisation for Economic Co -operation \\nand Development, är ansvarig utgivare av listan.   \\nStipendiebelopp  \\nFem stycken heltäckande  studieavgiftsstipendier  (100 %) . \\nAdlerbert Study Scholarship utbetalas från de Adlerbertska Stiftelserna.  \\n2016 när stipendiet instiftades låg studieavgiften för 1 termin på 70 000 kr för \\ningenjörsstudenter respektive 95 000 kr för arkitekturstudenter.  Studieavgiften kan förändras \\noch således även stipendiebeloppen. Antalet heltäckande stipendier kan justeras både upp och \\nner efter utvärdering.  \\nStipendium utbetalas ej till stipendiaten utan avräknas mot studieavgiften.  Chalmers \\nfakturerar ansvarig på SEB och beloppet (två terminer per student) dras från Chalmers medel i \\nAdlerbertska Stipendiestiftelsen.  \\nAnsökan  \\nAnsökan sker via Chalmers stipendieportal i likhet med Chalmers övriga stipendier för presumtiva avgiftsskyldiga mastersstudenter.  \\nUrval  \\nVillkoren för Adlerbert Study Scholarship nedskrivna i detta regelverk gäller i första hand. \\nÖvriga stipendievillkor för stipendiaterna hanteras i enlighet med dokumentet  Scholarship \\nregulations , C 2019- 2119- 2.',\n",
       "  'stödverksamheter. Intressenter inom verksamheten är prefekter/motsvarande och medarbetare som\\narbetar med joniserande strålning samt i viss utsträckning även studenter. Även externa intressenter,\\nsåsom gästforskare, berörs. Andra intressenter som kan påverkas indirekt av att lärosätet har\\nverksamhet med joniserande strålning är till exempel fastighetsägare och leverantörer av produkter\\noch tjänster såsom drifttekniker och lokalvårdare.\\nVerksamhet med joniserande strålning förekommer utspritt i organisationen medan den\\nkärntekniska verksamheten är begränsad till avdelningen Energi och material, enheten för KärnkemiBeslut fattat av: Stefan Bengtsson, Chalmers tekniska högskola, 2022-10-11, C 2022-0879\\nDecision made by: Stefan Bengtsson, Chalmers University of Technology, 2022-10-11, C 2022-0879',\n",
       "  'rapporterar eventuella betydande avvikelser till Strålsäkerhetsmyndigheten.\\nDen interna revisionen av ledningssystemet för strålsäkerhet är en del i det systematiska\\nstrålsäkerhetsarbetet och säkerställer att Chalmers hantering av strålkällor sker enligt bindande krav\\nsamt att eventuellt behov av förbättringsarbete synliggörs. Intern revision genomförs vart tredje år\\noch resultaten presenteras för ledningen i samband med den årliga genomgången av det\\nsystematiska strålsäkerhetsarbetet.Beslut fattat av: Stefan Bengtsson, Chalmers tekniska högskola, 2022-10-11, C 2022-0879\\nDecision made by: Stefan Bengtsson, Chalmers University of Technology, 2022-10-11, C 2022-0879',\n",
       "  'aktuell lagstiftning och är styrande samt tydliggör förutsättningarna för laboratoriesäkerhetsarbetet.\\nRutinerna är en del av miljöledningssystemet och det systematiska arbetsmiljöarbetet. Rektor är\\nytterst ansvarig för miljö-, arbetsmiljö- och säkerhetsarbetet, inkluderat strålsäkerhet. För den\\nkärntekniska verksamheten har rektor/VD det yttersta ansvaret. Rektor delegerar ansvar för\\nstrålsäkerhetsarbetet till strålskyddskoordinatorn. Strålskyddskoordinatorn har därmed en\\noberoende roll i fråga om strategiska beslut eller andra frågeställningar med betydelse för\\nsäkerheten eller det fysiska skyddet. Strålskyddskoordinatorn har ansvar att skriva delegationer för\\nstrålskyddsexperter och lokala strålskyddsexperter.Beslut fattat av: Stefan Bengtsson, Chalmers tekniska högskola, 2022-10-11, C 2022-0879\\nDecision made by: Stefan Bengtsson, Chalmers University of Technology, 2022-10-11, C 2022-0879',\n",
       "  'STYRDOKUMENT: Föreskrift för strålsäkerhet och kärnteknisk verksamhet vid Chalmers tekniska\\nhögskola AB. Dnr C 2022-0879beslutande av styr- och stöddokument även för det systematiska strålsäkerhetsarbetet. Chalmers\\nsamtliga styrdokument finns tillgängliga på intranätet. Berörda funktioner ansvarar att ta fram,\\nrevidera och diarieföra styrdokument.\\nStrålskyddsexpertfunktionen stödjer institutionernas strålsäkerhetsarbete genom att årligen\\ngenomföra intern strålsäkerhetsrond där arbete med strålkällor sker samt följer upp aktiviteterna i\\nde lokala handlingsplanerna för strålsäkerhet. Resultaten från uppföljningen används för att\\nutvärdera ledningssystemets verkan. Strålskyddsexpertfunktionen följer regelbundet upp och\\ndokumenterar avvikelser från både årlig intern strålsäkerhetsrond och den interna revisionen av\\nledningssystemet (ej utförd av strålskyddsexpertfunktionen) samt resultat av uppsatta mål, åtgärder\\noch förbättringsarbete.\\nFör inrapportering av avvikelser i hantering av strålkällor används ett ärendehanteringssystem, se\\ninformation på strålskyddets sida på intranätet (https://intranet.chalmers.se/arbeta-pa-\\nchalmers/arbetsmiljo-miljo/labb-och-verkstadssakerhet/stralskydd/), där medarbetare rapporterar\\navvikelser och institutionen ansvarar för hantering och eventuella åtgärder i ärendet.\\nStrålskyddsexpertfunktionen bevakar avvikelser och följer upp att ärendena hanteras korrekt samt\\nrapporterar eventuella betydande avvikelser till Strålsäkerhetsmyndigheten.\\nDen interna revisionen av ledningssystemet för strålsäkerhet är en del i det systematiska',\n",
       "  'Rutinerna är en del av miljöledningssystemet och det systematiska arbetsmiljöarbetet. Rektor är\\nytterst ansvarig för miljö-, arbetsmiljö- och säkerhetsarbetet, inkluderat strålsäkerhet. För den\\nkärntekniska verksamheten har rektor/VD det yttersta ansvaret. Rektor delegerar ansvar för\\nstrålsäkerhetsarbetet till strålskyddskoordinatorn. Strålskyddskoordinatorn har därmed en\\noberoende roll i fråga om strategiska beslut eller andra frågeställningar med betydelse för\\nsäkerheten eller det fysiska skyddet. Strålskyddskoordinatorn har ansvar att skriva delegationer för\\nstrålskyddsexperter och lokala strålskyddsexperter.Beslut fattat av: Stefan Bengtsson, Chalmers tekniska högskola, 2022-10-11, C 2022-0879\\nDecision made by: Stefan Bengtsson, Chalmers University of Technology, 2022-10-11, C 2022-0879',\n",
       "  'STYRDOKUMENT: Föreskrift för strålsäkerhet och kärnteknisk verksamhet vid Chalmers tekniska\\nhögskola AB. Dnr C 2022-0879Beslut av:\\nRektorTyp av styrdokument:\\nFöreskriftDiarienummer:\\nC 2022-0879\\nDatum för\\nbeslut:Handläggare:\\nEva AlbersDokumentstruktur:\\nD1.3 Verksamhetsledning\\nDokumentet\\ngäller från och\\nmed:Avdelning/motsvarande som ansvarar för\\natt dokumentet skapas och/eller\\nrevideras:\\nInstitutionen för Kemi och kemiteknikDokumentet\\nreviderat,\\ndatum:Versionsnummer:\\n1\\nDokumentet\\ngäller till och\\nmed:\\nTills vidareDokumentet ersätter tidigare beslut:\\nC 2021-1537Dokumentet genomgånget utan\\nändring, datum:\\nFöreskrift för strålsäkerhet och kärnteknisk verksamhet vid\\nChalmers tekniska högskola AB\\nStyrdokument vid Chalmers\\nBeskrivning av föreskriften:\\nFöreskrift för ”strålsäkerhet och kärnteknisk verksamhet vid Chalmers” beskriver hur Chalmers\\nledningssystem för strålsäkerhet och kärnteknisk verksamhet är uppbyggt och vad som ingår i form\\nav organisation, ansvar, planering och utvärdering samt kopplingen till det övergripande och\\nrelaterade ledningssystemet. Föreskriften riktar sig till lärosätets ledning, centrala verksamhetsstödet\\nsamt institutionerna/motsvarande som har verksamhet med joniserande strålning.\\nInledning\\nChalmers har tillstånd för verksamhet med joniserande strålning enligt strålskyddslagen (SFS 2018:\\n396) och tillstånd för kärnteknisk verksamhet enligt kärntekniklagen (SFS 1984:3).\\nFöreskriften ska understödja Chalmers mål inom strålskyddsarbetet: Målet för strålskyddsarbetet\\ninom Chalmers är att doser till personal och studenter hålls så låga som möjligt samtidigt som\\nutbildningen är av hög kvalitet, i linje med Chalmers mål ”Utbildning i världsklass”, samt att otillåtna\\nutsläpp av radioaktiva ämnen till miljön inte ska förekomma.\\nSyftet med föreskriften är att ge berörda prefekter/motsvarande, medarbetare, studenter och övriga\\nintressenter en övergripande och vägledande beskrivning av ledningssystemet för strålsäkerhet och\\nkärnteknisk verksamhet vid Chalmers.\\nNationella regelverk som styr struktur och innehåll av ledningssystem för strålsäkerhet och\\nkärnteknisk verksamhet är följande:\\nStrålskyddslag (SFS 2018:396)\\nLagen om kärnteknisk verksamhet (SFS 1984:3)Beslut fattat av: Stefan Bengtsson, Chalmers tekniska högskola, 2022-10-11, C 2022-0879\\nDecision made by: Stefan Bengtsson, Chalmers University of Technology, 2022-10-11, C 2022-0879',\n",
       "  'STYRDOKUMENT: Föreskrift för strålsäkerhet och kärnteknisk verksamhet vid Chalmers tekniska\\nhögskola AB. Dnr C 2022-0879beslutande av styr- och stöddokument även för det systematiska strålsäkerhetsarbetet. Chalmers\\nsamtliga styrdokument finns tillgängliga på intranätet. Berörda funktioner ansvarar att ta fram,\\nrevidera och diarieföra styrdokument.\\nStrålskyddsexpertfunktionen stödjer institutionernas strålsäkerhetsarbete genom att årligen\\ngenomföra intern strålsäkerhetsrond där arbete med strålkällor sker samt följer upp aktiviteterna i\\nde lokala handlingsplanerna för strålsäkerhet. Resultaten från uppföljningen används för att\\nutvärdera ledningssystemets verkan. Strålskyddsexpertfunktionen följer regelbundet upp och\\ndokumenterar avvikelser från både årlig intern strålsäkerhetsrond och den interna revisionen av\\nledningssystemet (ej utförd av strålskyddsexpertfunktionen) samt resultat av uppsatta mål, åtgärder\\noch förbättringsarbete.\\nFör inrapportering av avvikelser i hantering av strålkällor används ett ärendehanteringssystem, se\\ninformation på strålskyddets sida på intranätet (https://intranet.chalmers.se/arbeta-pa-\\nchalmers/arbetsmiljo-miljo/labb-och-verkstadssakerhet/stralskydd/), där medarbetare rapporterar\\navvikelser och institutionen ansvarar för hantering och eventuella åtgärder i ärendet.\\nStrålskyddsexpertfunktionen bevakar avvikelser och följer upp att ärendena hanteras korrekt samt\\nrapporterar eventuella betydande avvikelser till Strålsäkerhetsmyndigheten.\\nDen interna revisionen av ledningssystemet för strålsäkerhet är en del i det systematiska',\n",
       "  'Ansvara för att det rapporteras förändringar i registret över innehav av strålkällor före\\nutgången av mars månad varje år till Strålsäkerhetsmyndigheten. Utöver detta ska övriga\\nförändringar, exempelvis nya inköp, av rapporteringspliktiga strålkällor rapporteras inom en\\nvecka till Strålsäkerhetsmyndigheten\\nBevaka att lokala strålskyddsinstruktioner upprättas för att förhindra att personer utsätts för\\noacceptabel eller onödig joniserande strålning\\nBevaka att händelser eller iakttagelser av betydelse från strålskyddssynpunkt analyseras och\\ndokumenteras\\nAnsvara för att oplanerade händelser av betydelse från strålskyddssynpunkt rapporteras till\\nStrålsäkerhetsmyndigheten snarast, i enlighet med SSMFS 2008:1 bilaga 4\\nAnsvara för bokföring och erforderlig rapportering av kärnämne till Euratom, IAEA och SSM i\\nsamverkan med strålskyddsexpert\\nBevaka att givna krav på rapportering efterlevs\\nKoordinera interna och externa revisioner\\nVara kontaktperson vid kontakt med berörda myndigheter\\nIngå i nätverket för strålsäkerhetsfrågor vid Chalmers\\nUppdatera och proaktivt komplettera informationen om Chalmers strålsäkerhetsarbete på\\nChalmers intranät\\nTillse att strålskyddsexperter får uppdaterad och adekvat utbildning för sina uppdrag\\nHandlägga all dokumentation rörande Chalmers strålskyddsarbete i 360Beslut fattat av: Stefan Bengtsson, Chalmers tekniska högskola, 2022-10-11, C 2022-0879\\nDecision made by: Stefan Bengtsson, Chalmers University of Technology, 2022-10-11, C 2022-0879',\n",
       "  'strålsäkerhetsarbete ska göras genom intern strålsäkerhetsrond och intern revision av\\nledningssystemet utgör underlag för analyser av risker i strålsäkerheten. Krav för det systematiska\\nstrålskyddsarbetet är i grunden samma som gäller för det systematiska miljöarbetet men med tillägg\\nsom beskrivs i denna föreskrift (se Chalmers styrdokument, https://intranet.chalmers.se/om-\\nchalmers/planera-leda-utveckla-verksamheten/verksamhetsstyrning/lista-over-styrdokument/)\\nDe institutioner som har verksamhet med joniserande strålning ska årligen upprätta lokala\\nhandlingsplaner specifikt för strålsäkerhetsfrågor inom ramen för sitt systematiska miljö- och\\narbetsmiljöarbete (https://intranet.chalmers.se/arbeta-pa-chalmers/arbetsmiljo-\\nmiljo/arbetsmiljo/systematiskt-arbetsmiljoarbete/). Handlingsplanerna fastställs av prefekt och\\nstyrande för framtagande av åtgärdsplaner är Chalmers styrdokument för det systematiska miljö-,\\narbetsmiljö-, och säkerhetsarbetet.\\nAnsvar och ledning\\nRektor ansvarar för att strålsäkerhetsfrågorna utgör del av det strategiska arbetet och integreras i\\nrelevanta verksamhetsprocesser. Prefekter ansvarar för att säkerställa att medarbetare som arbetar\\nmed joniserande strålning har tillräcklig kompetens.\\nChalmers rutiner för miljö- och arbetsmiljöarbete inom verkstads- eller laborativ verksamhet\\ndefinierar ramar för verksamhetens systematiska arbetsmiljö- och miljöarbete. Rutinerna bygger på\\naktuell lagstiftning och är styrande samt tydliggör förutsättningarna för laboratoriesäkerhetsarbetet.\\nRutinerna är en del av miljöledningssystemet och det systematiska arbetsmiljöarbetet. Rektor är',\n",
       "  '(https://intranet.chalmers.se/om-chalmers/planera-leda-utveckla-\\nverksamheten/verksamhetsstyrning/beskrivning-av-styrdokument/) reglerar framtagande ochBeslut fattat av: Stefan Bengtsson, Chalmers tekniska högskola, 2022-10-11, C 2022-0879\\nDecision made by: Stefan Bengtsson, Chalmers University of Technology, 2022-10-11, C 2022-0879',\n",
       "  'aktuell lagstiftning och är styrande samt tydliggör förutsättningarna för laboratoriesäkerhetsarbetet.\\nRutinerna är en del av miljöledningssystemet och det systematiska arbetsmiljöarbetet. Rektor är\\nytterst ansvarig för miljö-, arbetsmiljö- och säkerhetsarbetet, inkluderat strålsäkerhet. För den\\nkärntekniska verksamheten har rektor/VD det yttersta ansvaret. Rektor delegerar ansvar för\\nstrålsäkerhetsarbetet till strålskyddskoordinatorn. Strålskyddskoordinatorn har därmed en\\noberoende roll i fråga om strategiska beslut eller andra frågeställningar med betydelse för\\nsäkerheten eller det fysiska skyddet. Strålskyddskoordinatorn har ansvar att skriva delegationer för\\nstrålskyddsexperter och lokala strålskyddsexperter.Beslut fattat av: Stefan Bengtsson, Chalmers tekniska högskola, 2022-10-11, C 2022-0879\\nDecision made by: Stefan Bengtsson, Chalmers University of Technology, 2022-10-11, C 2022-0879',\n",
       "  'verksamheten som hjälp och rådgivning i strålskyddsarbetet. Funktionen ska ha tillförsäkrats, av den\\nytterst ansvariga (rektor), en oberoende ställning i relation till linjen inom strålskyddsfrågor, i\\nförhållande till mål med verksamheten eller därmed jämförliga affärsmässiga hänsyn.\\nStrålskyddsexpertfunktionen består i huvudsak av en strålskyddskoordinator och 2-4\\nstrålskyddsexperter. Vidare kan övrig nödvändig kompetens såsom juridik eller fysiskt skydd kallas in\\nvid behov.Beslut fattat av: Stefan Bengtsson, Chalmers tekniska högskola, 2022-10-11, C 2022-0879\\nDecision made by: Stefan Bengtsson, Chalmers University of Technology, 2022-10-11, C 2022-0879',\n",
       "  'STYRDOKUMENT: Föreskrift för strålsäkerhet och kärnteknisk verksamhet vid Chalmers tekniska\\nhögskola AB. Dnr C 2022-0879Strålskyddskoordinator\\nRektor delegerar till strålskyddskoordinatorn att inom strålskyddsexpertfunktionen driva och\\nkoordinera Chalmers arbete med strålskydd så att verksamheten i alla delar bedrivs i enlighet med\\nstrålskyddslagen. Strålskyddskoordinatorn är Chalmers resursperson och kontaktperson mellan olika\\ndelar av Chalmers. Strålskyddskoordinatorn är även kontaktperson till Strålsäkerhetsmyndigheten\\noch andra myndigheter och ansvarar för att rapportering sker enligt aktuella krav. Ansvarsområden\\noch uppgifter för strålskyddskoordinator beskrivs i bilaga 1. Beslut om återkallelse av delegation ska\\nprotokollföras och diarieföras på Chalmers centralt.\\nStrålskyddsexpert\\nInom strålskyddsexpertfunktionen finns 2-4 kompetensmässigt och arbetsmässigt överlappande\\nstrålskyddsexperter. Kompetenskravet för funktionen är i enlighet med Strålsäkerhetsmyndighetens\\nkrav (3 kap. 12 § SSMFS 2008:1). Dessa personer besitter följaktligen en mycket god teknisk kunskap\\ninom strålsäkerhetsområdet. Strålsäkerhetsmyndigheten ska godkänna de strålskyddsexperter som\\ningår i strålskyddsexpertfunktionen och rektor ansvarar för ansökan om detta. Strålskyddsexperterna\\nkan inte vidaredelegera. Ansvarsområden och uppgifter för strålskyddsexpert beskrivs i bilaga 1.\\nLokal strålskyddsexpert\\nInom vissa specifika verksamheter kan det finnas lokala strålskyddsexperter. Dessa överser det\\narbete med joniserande strålning som sker inom sina ansvarsområden så att detta genomförs på ett',\n",
       "  'högskoleförordningen motsvaras av specifika arbetsordningar, vilka beslutas av rektor, tillika\\nverkställande direktör för Chalmers tekniska högskola AB. Chalmers har också krav på sig att ha\\nkvalitetssäkrande system för granskning av utbildningar och forskning och står under tillsyn av\\nUniversitetskanslersämbetet.\\nChalmers verksamhetsstyrning och ledningssystem utgår från Chalmers vision och mål, och har som\\ndel ett flertal mål- och styrdokument (https://intranet.chalmers.se/om-chalmers/planera-leda-\\nutveckla-verksamheten/verksamhetsstyrning/lista-over-styrdokument/). Institutionernas\\nverksamheter följs upp genom verksamhetsdialoger, vilket skapar en helhet som engagerar till ansvar\\noch handling mot målen. Genom integrering av ledningssystemet för strålsäkerhet och kärnteknisk\\nverksamhet i lärosätets övergripande styrning och ledning, säkerställs att strålsäkerhetsfrågorna\\ninkluderas i strategiarbetet och verksamhetsprocesserna (vid till exempel planering- och uppföljning)\\nmed utpekade ansvarsfunktioner. Vidare säkerställs att frågor och regelefterlevnad av bindande krav\\nhanteras inom verksamheten.\\nArbetet med strålsäkerhetsfrågorna ska ske systematiskt och lärosätet strävar kontinuerligt efter att\\nminimera risker och att skapa medvetenhet och engagemang kring strålsäkerhetsfrågor. De som\\nfrämst berörs av ledningssystemet för kärnteknisk verksamhet och strålskyddshantering är den\\nverksamhet vid Chalmers som arbetar med joniserande strålning, inklusive lokala och centrala\\nstödverksamheter. Intressenter inom verksamheten är prefekter/motsvarande och medarbetare som\\narbetar med joniserande strålning samt i viss utsträckning även studenter. Även externa intressenter,',\n",
       "  'arbetar med joniserande strålning samt i viss utsträckning även studenter. Även externa intressenter,\\nsåsom gästforskare, berörs. Andra intressenter som kan påverkas indirekt av att lärosätet har\\nverksamhet med joniserande strålning är till exempel fastighetsägare och leverantörer av produkter\\noch tjänster såsom drifttekniker och lokalvårdare.\\nVerksamhet med joniserande strålning förekommer utspritt i organisationen medan den\\nkärntekniska verksamheten är begränsad till avdelningen Energi och material, enheten för KärnkemiBeslut fattat av: Stefan Bengtsson, Chalmers tekniska högskola, 2022-10-11, C 2022-0879\\nDecision made by: Stefan Bengtsson, Chalmers University of Technology, 2022-10-11, C 2022-0879',\n",
       "  'rapporterar eventuella betydande avvikelser till Strålsäkerhetsmyndigheten.\\nDen interna revisionen av ledningssystemet för strålsäkerhet är en del i det systematiska\\nstrålsäkerhetsarbetet och säkerställer att Chalmers hantering av strålkällor sker enligt bindande krav\\nsamt att eventuellt behov av förbättringsarbete synliggörs. Intern revision genomförs vart tredje år\\noch resultaten presenteras för ledningen i samband med den årliga genomgången av det\\nsystematiska strålsäkerhetsarbetet.Beslut fattat av: Stefan Bengtsson, Chalmers tekniska högskola, 2022-10-11, C 2022-0879\\nDecision made by: Stefan Bengtsson, Chalmers University of Technology, 2022-10-11, C 2022-0879',\n",
       "  'Bilaga 1\\nDnr. C 2022-0879 - Bilaga 1. Ansvarsfördelning Chalmers strålskyddsorganisationAnsvarsfördelning Chalmers strålskyddsorganisation\\nAll verksamhet med joniserande strålning inom Chalmers ska bedrivas i enlighet med\\nstrålskyddslagen. Verksamhet enligt ”Strålsäkerhetsmyndighetens föreskrifter SSMF 2018:1 om\\ngrundläggande bestämmelser för tillståndspliktig verksamhet med joniserande strålning” får bedrivas\\nenligt kategori A med öppna och slutna strålkällor endast i vissa laboratorier vid avdelningen Energi\\noch material vid institutionen för Kemi och kemiteknik samt vid avdelningen Subatomär, högenergi-\\noch plasmafysik vid institutionen för Fysik. Undantag från regeln får endast ges av\\nstrålskyddsexpertfunktionen i samråd med ansvarig chef vid institutionen.\\nNedan anges en beskrivning av ansvarsområden samt arbetsuppgifter för strålskyddskoordinator,\\nprefekt/avdelningschef, strålskyddsexpert och lokal strålskyddsexpert. Det är möjligt att justera\\ndessa utifrån kompetens och arbetsuppgifter i de personliga delegationerna.\\nStrålskyddskoordinatorn vid Chalmers ska:\\nKoordinera arbetet med Chalmers ledningssystem för strålsäkerhet.\\nInformera rektor, prefekt, strålskyddsexperter, arbetsmiljöombud och kontaktpersoner i\\nstrålskyddsfrågor\\nStödja strålskyddsexpert och övriga medarbetare för att arbetet vid anläggningen bedrivs på\\nett från strålskyddssynpunkt lämpligt sätt, så att goda strålskyddsförhållanden råder\\nAnsvara för att det rapporteras förändringar i registret över innehav av strålkällor före\\nutgången av mars månad varje år till Strålsäkerhetsmyndigheten. Utöver detta ska övriga',\n",
       "  'Aktivt verka för att arbetet vid anläggningen bedrivs på ett från strålskyddssynpunkt lämpligt\\nsätt, så att goda strålskyddsförhållanden råder\\nHa rätten att stoppa arbete med joniserande strålning där det inte råder goda\\nstrålskyddsförhållanden\\nSe till att kärnämnen hanteras på ett sätt som uppfyller kraven på fysiskt skydd\\nInformera strålskyddsexpertfunktionen, prefekt och ansvarig chef vid akuta ärende gällande\\nstrålskyddsfrågor.\\nInformera löpande strålskyddsexpertfunktionen i övriga ärenden gällande strålskyddsfrågor.\\nRapportera händelser eller iakttagelser av betydelse från strålskyddssynpunkt till\\nstrålskyddsexpertfunktionen\\nBevaka kompetens- och resursfrågor för anläggningens strålskydd (bistår prefekt och\\navdelningschef vid respektive institution med att ta fram utbildningsplaner för olika\\npersonalkategorier enligt SSMFS 2018:1)\\nBevaka tillsammans med strålskyddsexpert och aktivt verka för att relevant lagstiftning följs\\noch att krav på rapportering efterlevs\\nUtfärda lokala medgivanden för institutionerna gällande verksamhet med joniserande\\nstrålning inom ramen för Chalmers samlingstillstånd\\nKontrollera regelbundet varje strålkälla inom sin institution enligt SSMFS 2018:1\\nUpprätta lokala strålskyddsinstruktioner för att förhindra att personer utsätts för\\noacceptabel eller onödig joniserande strålningBeslut fattat av: Stefan Bengtsson, Chalmers tekniska högskola, 2022-10-11, C 2022-0879\\nDecision made by: Stefan Bengtsson, Chalmers University of Technology, 2022-10-11, C 2022-0879',\n",
       "  'Bilaga 1\\nDnr. C 2022-0879 - Bilaga 1. Ansvarsfördelning Chalmers strålskyddsorganisationAnsvarsfördelning Chalmers strålskyddsorganisation\\nAll verksamhet med joniserande strålning inom Chalmers ska bedrivas i enlighet med\\nstrålskyddslagen. Verksamhet enligt ”Strålsäkerhetsmyndighetens föreskrifter SSMF 2018:1 om\\ngrundläggande bestämmelser för tillståndspliktig verksamhet med joniserande strålning” får bedrivas\\nenligt kategori A med öppna och slutna strålkällor endast i vissa laboratorier vid avdelningen Energi\\noch material vid institutionen för Kemi och kemiteknik samt vid avdelningen Subatomär, högenergi-\\noch plasmafysik vid institutionen för Fysik. Undantag från regeln får endast ges av\\nstrålskyddsexpertfunktionen i samråd med ansvarig chef vid institutionen.\\nNedan anges en beskrivning av ansvarsområden samt arbetsuppgifter för strålskyddskoordinator,\\nprefekt/avdelningschef, strålskyddsexpert och lokal strålskyddsexpert. Det är möjligt att justera\\ndessa utifrån kompetens och arbetsuppgifter i de personliga delegationerna.\\nStrålskyddskoordinatorn vid Chalmers ska:\\nKoordinera arbetet med Chalmers ledningssystem för strålsäkerhet.\\nInformera rektor, prefekt, strålskyddsexperter, arbetsmiljöombud och kontaktpersoner i\\nstrålskyddsfrågor\\nStödja strålskyddsexpert och övriga medarbetare för att arbetet vid anläggningen bedrivs på\\nett från strålskyddssynpunkt lämpligt sätt, så att goda strålskyddsförhållanden råder\\nAnsvara för att det rapporteras förändringar i registret över innehav av strålkällor före\\nutgången av mars månad varje år till Strålsäkerhetsmyndigheten. Utöver detta ska övriga\\nförändringar, exempelvis nya inköp, av rapporteringspliktiga strålkällor rapporteras inom en\\nvecka till Strålsäkerhetsmyndigheten\\nBevaka att lokala strålskyddsinstruktioner upprättas för att förhindra att personer utsätts för\\noacceptabel eller onödig joniserande strålning\\nBevaka att händelser eller iakttagelser av betydelse från strålskyddssynpunkt analyseras och\\ndokumenteras\\nAnsvara för att oplanerade händelser av betydelse från strålskyddssynpunkt rapporteras till\\nStrålsäkerhetsmyndigheten snarast, i enlighet med SSMFS 2008:1 bilaga 4\\nAnsvara för bokföring och erforderlig rapportering av kärnämne till Euratom, IAEA och SSM i\\nsamverkan med strålskyddsexpert\\nBevaka att givna krav på rapportering efterlevs\\nKoordinera interna och externa revisioner\\nVara kontaktperson vid kontakt med berörda myndigheter\\nIngå i nätverket för strålsäkerhetsfrågor vid Chalmers\\nUppdatera och proaktivt komplettera informationen om Chalmers strålsäkerhetsarbete på\\nChalmers intranät\\nTillse att strålskyddsexperter får uppdaterad och adekvat utbildning för sina uppdrag\\nHandlägga all dokumentation rörande Chalmers strålskyddsarbete i 360Beslut fattat av: Stefan Bengtsson, Chalmers tekniska högskola, 2022-10-11, C 2022-0879\\nDecision made by: Stefan Bengtsson, Chalmers University of Technology, 2022-10-11, C 2022-0879',\n",
       "  'arbete med joniserande strålning som sker inom sina ansvarsområden så att detta genomförs på ett\\nstrålsäkert sätt i linje med de övergripande målen för strålsäkerhet. Deras arbete och observationer\\nmeddelas strålskyddsexpertfunktionen fortlöpande. De ser även till att eventuellt avfall samlas upp\\noch överlämnas till enheten för Kärnkemi och industriell materialåtervinning. Ansvarsområden och\\nuppgifter för lokal strålskyddsexpert beskrivs i bilaga 1.\\nBeredskap och agerande vid nödlägen\\nChalmers har riktlinjer för beredskap och krisledning (C 2017-0931) med tillhörande checklistor på\\ncentral nivå samt krav på att varje institution ska utarbeta en beredskapsplan på lokal nivå för\\nagerande vid nödlägen, såsom exempelvis brand, stöld av strålkällor eller utsläpp av radioaktiva\\nämnen, utifrån institutionens specifika förutsättningar. Därtill finns riktlinjer där det beskrivs vilka\\nfunktioner, rutiner och planer varje institution ska ha för att uppfylla kraven i det systematiska miljö-\\noch brandskyddsarbetet.\\nEfterlevnad av bindande krav\\nEfterlevnad av bindande krav på miljöområdet sker på central nivå såväl som lokal nivå, och är en del\\nav den interna miljörevisionen. Bindande krav inom strålskydd på lokal nivå sammanställs genom\\nstrålskyddsexpertfunktionen. Lagefterlevnadskontroll genomförs regelbundet av\\nstrålskyddsexpertfunktionen.\\nStyrdokument och uppföljning,\\nChalmers beskrivning av hantering och upprättande av styrdokument\\n(https://intranet.chalmers.se/om-chalmers/planera-leda-utveckla-',\n",
       "  'Föreskrift för stipendier för studenter inom Chalmers utbildningsprogram på grund - och avancerad \\nnivå  C 2019 -0748  \\nAdlerbertska st ipendium för utbytesstudier  \\nChalmers erbjuder sina studenter ett stipendium för utbytesstudier ur de Adlerbertska \\nStiftelserna. Detta gäller ej avtal som  inkluderas av Erasmusstipendium.  \\nStudentgrupp  \\nAdlerbertska stipendium för utbytesstudier kan tilldelas både nationella och internationella studenter på grund-  och avancerad nivå , som  studerar utomlands inom ett avtal  som fortlöper \\nunder flera  år. Avtalet ska vara undertecknat av V icerektor för utbildning och livslångt \\nlärande på  Chalmers tekniska högskola.  En student som erhåller Adlerbertska  stipendium för \\nutbytesstudier kan få andra stipendium samma år.  \\nStipendiebelopp  \\nAdlerbertska stipendium för utbytesstudier är  på 30  000 kr/två terminer och 15  000 kr/en \\ntermin.  \\nAnnat stipendiebelopp kan förekomma beroende på utbyte och avtal.  \\nAdlerbertska stipendium för utbytesstudier utbetalas från de Adlerbertska Stiftelserna. \\nStudentens utbildningsområde avgör från vilken av stiftelserna som stipendiet utbetalas ifrån. \\nUtbetalning sker i samband med övriga utbetalningar från de Adlerbertska Stiftelserna i månadsskiftet oktober/november.  \\nEn student som avslutar sina utbytesstudier i förtid ska betala tillbaks halva stipendiet. Studenten är i så  fall skyldig att meddela sin koordinator på Chalmers International Mobility \\n(CIM ) som ansvarar för att meddela ansvariga handläggare för Adlerbertska stipendierna.  \\nAnsökan  \\nChalmers international mobility ( CIM ) ansvarar för att tillhandahålla en lista med \\nstudentuppgifter för aktuella stipendiekandidater.  \\nUrval  \\nInget urval, alla studenter som ingår i aktuell studentgrupp tilldelas stipendium.',\n",
       "  'STYRDOKUMENT: Föreskrift för strålsäkerhet och kärnteknisk verksamhet vid Chalmers tekniska\\nhögskola AB. Dnr C 2022-0879Strålskyddskoordinator\\nRektor delegerar till strålskyddskoordinatorn att inom strålskyddsexpertfunktionen driva och\\nkoordinera Chalmers arbete med strålskydd så att verksamheten i alla delar bedrivs i enlighet med\\nstrålskyddslagen. Strålskyddskoordinatorn är Chalmers resursperson och kontaktperson mellan olika\\ndelar av Chalmers. Strålskyddskoordinatorn är även kontaktperson till Strålsäkerhetsmyndigheten\\noch andra myndigheter och ansvarar för att rapportering sker enligt aktuella krav. Ansvarsområden\\noch uppgifter för strålskyddskoordinator beskrivs i bilaga 1. Beslut om återkallelse av delegation ska\\nprotokollföras och diarieföras på Chalmers centralt.\\nStrålskyddsexpert\\nInom strålskyddsexpertfunktionen finns 2-4 kompetensmässigt och arbetsmässigt överlappande\\nstrålskyddsexperter. Kompetenskravet för funktionen är i enlighet med Strålsäkerhetsmyndighetens\\nkrav (3 kap. 12 § SSMFS 2008:1). Dessa personer besitter följaktligen en mycket god teknisk kunskap\\ninom strålsäkerhetsområdet. Strålsäkerhetsmyndigheten ska godkänna de strålskyddsexperter som\\ningår i strålskyddsexpertfunktionen och rektor ansvarar för ansökan om detta. Strålskyddsexperterna\\nkan inte vidaredelegera. Ansvarsområden och uppgifter för strålskyddsexpert beskrivs i bilaga 1.\\nLokal strålskyddsexpert\\nInom vissa specifika verksamheter kan det finnas lokala strålskyddsexperter. Dessa överser det\\narbete med joniserande strålning som sker inom sina ansvarsområden så att detta genomförs på ett',\n",
       "  'STYRDOKUMENT: Föreskrift för strålsäkerhet och kärnteknisk verksamhet vid Chalmers tekniska\\nhögskola AB. Dnr C 2022-0879beslutande av styr- och stöddokument även för det systematiska strålsäkerhetsarbetet. Chalmers\\nsamtliga styrdokument finns tillgängliga på intranätet. Berörda funktioner ansvarar att ta fram,\\nrevidera och diarieföra styrdokument.\\nStrålskyddsexpertfunktionen stödjer institutionernas strålsäkerhetsarbete genom att årligen\\ngenomföra intern strålsäkerhetsrond där arbete med strålkällor sker samt följer upp aktiviteterna i\\nde lokala handlingsplanerna för strålsäkerhet. Resultaten från uppföljningen används för att\\nutvärdera ledningssystemets verkan. Strålskyddsexpertfunktionen följer regelbundet upp och\\ndokumenterar avvikelser från både årlig intern strålsäkerhetsrond och den interna revisionen av\\nledningssystemet (ej utförd av strålskyddsexpertfunktionen) samt resultat av uppsatta mål, åtgärder\\noch förbättringsarbete.\\nFör inrapportering av avvikelser i hantering av strålkällor används ett ärendehanteringssystem, se\\ninformation på strålskyddets sida på intranätet (https://intranet.chalmers.se/arbeta-pa-\\nchalmers/arbetsmiljo-miljo/labb-och-verkstadssakerhet/stralskydd/), där medarbetare rapporterar\\navvikelser och institutionen ansvarar för hantering och eventuella åtgärder i ärendet.\\nStrålskyddsexpertfunktionen bevakar avvikelser och följer upp att ärendena hanteras korrekt samt\\nrapporterar eventuella betydande avvikelser till Strålsäkerhetsmyndigheten.\\nDen interna revisionen av ledningssystemet för strålsäkerhet är en del i det systematiska',\n",
       "  'STYRDOKUMENT: Föreskrift för strålsäkerhet och kärnteknisk verksamhet vid Chalmers tekniska\\nhögskola AB. Dnr C 2022-0879Strålsäkerhetsmyndighetens föreskrifter om grundläggande bestämmelser för\\ntillståndspliktig verksamhet med joniserande strålning (SSMFS 2018:1) och underliggande\\nföreskrifter till denna\\nStrålsäkerhetsmyndighetens föreskrifter och allmänna råd om säkerhet i kärntekniska\\nanläggningar (SSMFS 2008:1) och underliggande föreskrifter till denna\\nBeslut om villkor för omhändertagande av kärntekniskt avfall (SSM2022-840, Chalmers Dnr C\\n2022-0489). Chalmersspecifikt beslut motsvarande SSMFS 2021:7.\\nOrganisationens förutsättningar\\nChalmers verksamheter är lokaliserade till campus, Johanneberg och Lindholmen, samt Onsala\\nRymdobservatorium. Chalmers deltar i många utbildnings- och forskningssamarbeten lokalt,\\nnationellt och internationellt.\\nChalmers tekniska högskola AB är en stiftelsehögskola med Stiftelsen Chalmers tekniska högskola\\nsom ägare. Chalmers som lärosäte är en enskild utbildningsanordnare, och lyder under Lag om\\ntillstånd att utfärda vissa examina (1993:792). Som aktiebolag lyder Chalmers under Aktiebolagslagen\\n(2005:551). Verksamheten regleras i ett långsiktigt avtal med svenska staten som kompletteras med\\nårliga avtal. Den reglering som gäller vid statliga lärosäten genom högskolelagen och\\nhögskoleförordningen motsvaras av specifika arbetsordningar, vilka beslutas av rektor, tillika\\nverkställande direktör för Chalmers tekniska högskola AB. Chalmers har också krav på sig att ha',\n",
       "  'högskoleförordningen motsvaras av specifika arbetsordningar, vilka beslutas av rektor, tillika\\nverkställande direktör för Chalmers tekniska högskola AB. Chalmers har också krav på sig att ha\\nkvalitetssäkrande system för granskning av utbildningar och forskning och står under tillsyn av\\nUniversitetskanslersämbetet.\\nChalmers verksamhetsstyrning och ledningssystem utgår från Chalmers vision och mål, och har som\\ndel ett flertal mål- och styrdokument (https://intranet.chalmers.se/om-chalmers/planera-leda-\\nutveckla-verksamheten/verksamhetsstyrning/lista-over-styrdokument/). Institutionernas\\nverksamheter följs upp genom verksamhetsdialoger, vilket skapar en helhet som engagerar till ansvar\\noch handling mot målen. Genom integrering av ledningssystemet för strålsäkerhet och kärnteknisk\\nverksamhet i lärosätets övergripande styrning och ledning, säkerställs att strålsäkerhetsfrågorna\\ninkluderas i strategiarbetet och verksamhetsprocesserna (vid till exempel planering- och uppföljning)\\nmed utpekade ansvarsfunktioner. Vidare säkerställs att frågor och regelefterlevnad av bindande krav\\nhanteras inom verksamheten.\\nArbetet med strålsäkerhetsfrågorna ska ske systematiskt och lärosätet strävar kontinuerligt efter att\\nminimera risker och att skapa medvetenhet och engagemang kring strålsäkerhetsfrågor. De som\\nfrämst berörs av ledningssystemet för kärnteknisk verksamhet och strålskyddshantering är den\\nverksamhet vid Chalmers som arbetar med joniserande strålning, inklusive lokala och centrala\\nstödverksamheter. Intressenter inom verksamheten är prefekter/motsvarande och medarbetare som\\narbetar med joniserande strålning samt i viss utsträckning även studenter. Även externa intressenter,',\n",
       "  'STYRDOKUMENT: Föreskrift för strålsäkerhet och kärnteknisk verksamhet vid Chalmers tekniska\\nhögskola AB. Dnr C 2022-0879Vidare är Chalmers en decentraliserad organisation där rektor har delegerat befogenheter och ansvar\\nför dessa uppgifter i enlighet med arbets- och delegationsordningen och som följer\\norganisationsstrukturen (Figur 1). Ledningen har ansvar att säkerställa att nödvändiga resurser finns\\nför det systematiska strålsäkerhetsarbetet i sina respektive ansvarsområden. Detta görs praktiskt via\\nolika funktioner inom strålsäkerhetsorganisationen från central nivå till lokal nivå. På institutionsnivå\\nansvarar prefekten/motsvarande för att nödvändiga resurser avsätts för det lokala\\nstrålsäkerhetarbetet och tillser att lokala rutiner upprättas för att komplettera de centrala rutinerna.\\nFigur 1. Chalmers organisation för strålsäkerhet och kärnteknisk verksamhet\\nStrålskyddsexpertfunktionen\\nEnligt 3 kap. 12 § SSMFS 2018:1, ska Chalmers ha en bemannad strålskyddsexpertfunktion som är\\nanpassad till verksamhetens art och omfattning och som har befogenhet att rapportera direkt till\\nverksamhetens högsta ledning. Strålskyddsexpertfunktionen ska rådfrågas avseende tillämpning av\\nförfattningskrav om skydd av arbetstagare, allmänhet och miljön mot exponering för joniserande\\nstrålning. Funktionen har befogenhet att stoppa arbete med joniserande strålning där det inte råder\\ngoda strålskyddsförhållanden. Strålskyddsexpertfunktionen har även tillgång till lokala\\nstrålskyddsexperter vid samtliga institutioner där verksamhet med joniserande strålning\\nförekommer, oberoende av verksamhetens omfattning. Funktionen ska vara knuten till\\nverksamheten som hjälp och rådgivning i strålskyddsarbetet. Funktionen ska ha tillförsäkrats, av den\\nytterst ansvariga (rektor), en oberoende ställning i relation till linjen inom strålskyddsfrågor, i\\nförhållande till mål med verksamheten eller därmed jämförliga affärsmässiga hänsyn.\\nStrålskyddsexpertfunktionen består i huvudsak av en strålskyddskoordinator och 2-4\\nstrålskyddsexperter. Vidare kan övrig nödvändig kompetens såsom juridik eller fysiskt skydd kallas in\\nvid behov.Beslut fattat av: Stefan Bengtsson, Chalmers tekniska högskola, 2022-10-11, C 2022-0879\\nDecision made by: Stefan Bengtsson, Chalmers University of Technology, 2022-10-11, C 2022-0879',\n",
       "  'STYRDOKUMENT: Föreskrift för strålsäkerhet och kärnteknisk verksamhet vid Chalmers tekniska\\nhögskola AB. Dnr C 2022-0879och industriell materialåtervinning vid Institutionen för Kemi och kemiteknik. Det finns därför en\\nlokal utvidgning av ledningssystemet för att styra och vägleda just den kärntekniska verksamheten\\nvid enheten, vilket görs i dokumentet ” Principer för ledningssystem för kärnteknisk verksamhet för\\nstrålskydd vid Kärnkemi och industriell materialåtervinning vid institutionen för Kemi och kemiteknik\\n(D nr: K2021-0200) ”\\nPlanering och uppföljning\\nInom strålsäkerhetsledningsarbetet ska risker som rör Chalmers strålskydd kontinuerligt utvärderas.\\nEn riskanalys ska genomföras årligen av strålskyddsexpertfunktionen baserat på de interna\\nstrålsäkerhetsronderna, och efterlevnad av befintliga lagar och krav. Tillkommer nya bindande krav\\nunder året ska riskanalysen uppdateras. Resultatet från riskanalysen ska ligga till grund för\\nprioritering av förbättringsarbetet och bedömning av eventuellt förändrat resursbehov.\\nLedningssystemets resultat ska integreras i Chalmers riskhanteringsarbete (C 2015-0368, rev 2021, se\\näven https://intranet.chalmers.se/arbeta-pa-chalmers/sakerhet-brandskydd/nar-nagot-allvarligt-\\nhander/riskhantering/) och återkopplas till Chalmers ledning. Uppföljning av lokalt\\nstrålsäkerhetsarbete ska göras genom intern strålsäkerhetsrond och intern revision av\\nledningssystemet utgör underlag för analyser av risker i strålsäkerheten. Krav för det systematiska\\nstrålskyddsarbetet är i grunden samma som gäller för det systematiska miljöarbetet men med tillägg\\nsom beskrivs i denna föreskrift (se Chalmers styrdokument, https://intranet.chalmers.se/om-\\nchalmers/planera-leda-utveckla-verksamheten/verksamhetsstyrning/lista-over-styrdokument/)\\nDe institutioner som har verksamhet med joniserande strålning ska årligen upprätta lokala\\nhandlingsplaner specifikt för strålsäkerhetsfrågor inom ramen för sitt systematiska miljö- och\\narbetsmiljöarbete (https://intranet.chalmers.se/arbeta-pa-chalmers/arbetsmiljo-\\nmiljo/arbetsmiljo/systematiskt-arbetsmiljoarbete/). Handlingsplanerna fastställs av prefekt och\\nstyrande för framtagande av åtgärdsplaner är Chalmers styrdokument för det systematiska miljö-,\\narbetsmiljö-, och säkerhetsarbetet.\\nAnsvar och ledning\\nRektor ansvarar för att strålsäkerhetsfrågorna utgör del av det strategiska arbetet och integreras i\\nrelevanta verksamhetsprocesser. Prefekter ansvarar för att säkerställa att medarbetare som arbetar\\nmed joniserande strålning har tillräcklig kompetens.\\nChalmers rutiner för miljö- och arbetsmiljöarbete inom verkstads- eller laborativ verksamhet\\ndefinierar ramar för verksamhetens systematiska arbetsmiljö- och miljöarbete. Rutinerna bygger på\\naktuell lagstiftning och är styrande samt tydliggör förutsättningarna för laboratoriesäkerhetsarbetet.\\nRutinerna är en del av miljöledningssystemet och det systematiska arbetsmiljöarbetet. Rektor är\\nytterst ansvarig för miljö-, arbetsmiljö- och säkerhetsarbetet, inkluderat strålsäkerhet. För den\\nkärntekniska verksamheten har rektor/VD det yttersta ansvaret. Rektor delegerar ansvar för',\n",
       "  'Bilaga 1\\nDnr. C 2022-0879 - Bilaga 1. Ansvarsfördelning Chalmers strålskyddsorganisationUpprätta och fortlöpande uppdatera skriftliga instruktioner för arbetet med joniserande\\nstrålning enligt SSMFS 2018:1 som är gemensam för Chalmers\\nSe till att kärnämnen hanteras på ett sätt som uppfyller kraven på fysiskt skydd\\nInformera strålskyddskoordinator, prefekt och ansvarig chef vid akuta ärende gällande\\nstrålskyddsfrågor. Samverka med strålskyddskoordinator för att informera berörd\\nverksamhet i strålskyddsfrågor.\\nTillse att strålskyddskoordinator och lokala strålskyddsexperter löpande får uppdaterad\\ninformation inom strålsäkerhetsfrågor\\nAktivt verka för att händelser eller iakttagelser av betydelse från strålskyddssynpunkt\\nanalyseras och dokumenteras\\nAktivt verka för att relevant lagstiftning följs och att krav på rapportering efterlevs\\nAnsvara att nödvändig och adekvat information finns tillgänglig för att upprätta och hålla\\ntillstånd uppdaterade i samverkan med strålskyddskoordinator\\nBevaka att individ- och kollektivstråldoser följs upp i samverkan med strålskyddskoordinator\\nAktivt verka för bokföring och erforderlig rapportering av kärnämne till Euratom, IAEA och\\nSSM i samverkan med strålskyddskoordinator\\nVara Chalmers sakkunnig i anläggningens strålskydd\\nStötta och instruera lokala strålskyddsexperter vid behov\\nLokal strålskyddsexpert vid Chalmers ska:\\nAktivt verka för att arbetet vid anläggningen bedrivs på ett från strålskyddssynpunkt lämpligt\\nsätt, så att goda strålskyddsförhållanden råder',\n",
       "  'STYRDOKUMENT: Föreskrift för strålsäkerhet och kärnteknisk verksamhet vid Chalmers tekniska\\nhögskola AB. Dnr C 2022-0879Vidare är Chalmers en decentraliserad organisation där rektor har delegerat befogenheter och ansvar\\nför dessa uppgifter i enlighet med arbets- och delegationsordningen och som följer\\norganisationsstrukturen (Figur 1). Ledningen har ansvar att säkerställa att nödvändiga resurser finns\\nför det systematiska strålsäkerhetsarbetet i sina respektive ansvarsområden. Detta görs praktiskt via\\nolika funktioner inom strålsäkerhetsorganisationen från central nivå till lokal nivå. På institutionsnivå\\nansvarar prefekten/motsvarande för att nödvändiga resurser avsätts för det lokala\\nstrålsäkerhetarbetet och tillser att lokala rutiner upprättas för att komplettera de centrala rutinerna.\\nFigur 1. Chalmers organisation för strålsäkerhet och kärnteknisk verksamhet\\nStrålskyddsexpertfunktionen\\nEnligt 3 kap. 12 § SSMFS 2018:1, ska Chalmers ha en bemannad strålskyddsexpertfunktion som är\\nanpassad till verksamhetens art och omfattning och som har befogenhet att rapportera direkt till\\nverksamhetens högsta ledning. Strålskyddsexpertfunktionen ska rådfrågas avseende tillämpning av\\nförfattningskrav om skydd av arbetstagare, allmänhet och miljön mot exponering för joniserande\\nstrålning. Funktionen har befogenhet att stoppa arbete med joniserande strålning där det inte råder\\ngoda strålskyddsförhållanden. Strålskyddsexpertfunktionen har även tillgång till lokala\\nstrålskyddsexperter vid samtliga institutioner där verksamhet med joniserande strålning\\nförekommer, oberoende av verksamhetens omfattning. Funktionen ska vara knuten till\\nverksamheten som hjälp och rådgivning i strålskyddsarbetet. Funktionen ska ha tillförsäkrats, av den',\n",
       "  'strålsäkerhetsarbete ska göras genom intern strålsäkerhetsrond och intern revision av\\nledningssystemet utgör underlag för analyser av risker i strålsäkerheten. Krav för det systematiska\\nstrålskyddsarbetet är i grunden samma som gäller för det systematiska miljöarbetet men med tillägg\\nsom beskrivs i denna föreskrift (se Chalmers styrdokument, https://intranet.chalmers.se/om-\\nchalmers/planera-leda-utveckla-verksamheten/verksamhetsstyrning/lista-over-styrdokument/)\\nDe institutioner som har verksamhet med joniserande strålning ska årligen upprätta lokala\\nhandlingsplaner specifikt för strålsäkerhetsfrågor inom ramen för sitt systematiska miljö- och\\narbetsmiljöarbete (https://intranet.chalmers.se/arbeta-pa-chalmers/arbetsmiljo-\\nmiljo/arbetsmiljo/systematiskt-arbetsmiljoarbete/). Handlingsplanerna fastställs av prefekt och\\nstyrande för framtagande av åtgärdsplaner är Chalmers styrdokument för det systematiska miljö-,\\narbetsmiljö-, och säkerhetsarbetet.\\nAnsvar och ledning\\nRektor ansvarar för att strålsäkerhetsfrågorna utgör del av det strategiska arbetet och integreras i\\nrelevanta verksamhetsprocesser. Prefekter ansvarar för att säkerställa att medarbetare som arbetar\\nmed joniserande strålning har tillräcklig kompetens.\\nChalmers rutiner för miljö- och arbetsmiljöarbete inom verkstads- eller laborativ verksamhet\\ndefinierar ramar för verksamhetens systematiska arbetsmiljö- och miljöarbete. Rutinerna bygger på\\naktuell lagstiftning och är styrande samt tydliggör förutsättningarna för laboratoriesäkerhetsarbetet.\\nRutinerna är en del av miljöledningssystemet och det systematiska arbetsmiljöarbetet. Rektor är',\n",
       "  'relaterade ledningssystemet. Föreskriften riktar sig till lärosätets ledning, centrala verksamhetsstödet\\nsamt institutionerna/motsvarande som har verksamhet med joniserande strålning.\\nInledning\\nChalmers har tillstånd för verksamhet med joniserande strålning enligt strålskyddslagen (SFS 2018:\\n396) och tillstånd för kärnteknisk verksamhet enligt kärntekniklagen (SFS 1984:3).\\nFöreskriften ska understödja Chalmers mål inom strålskyddsarbetet: Målet för strålskyddsarbetet\\ninom Chalmers är att doser till personal och studenter hålls så låga som möjligt samtidigt som\\nutbildningen är av hög kvalitet, i linje med Chalmers mål ”Utbildning i världsklass”, samt att otillåtna\\nutsläpp av radioaktiva ämnen till miljön inte ska förekomma.\\nSyftet med föreskriften är att ge berörda prefekter/motsvarande, medarbetare, studenter och övriga\\nintressenter en övergripande och vägledande beskrivning av ledningssystemet för strålsäkerhet och\\nkärnteknisk verksamhet vid Chalmers.\\nNationella regelverk som styr struktur och innehåll av ledningssystem för strålsäkerhet och\\nkärnteknisk verksamhet är följande:\\nStrålskyddslag (SFS 2018:396)\\nLagen om kärnteknisk verksamhet (SFS 1984:3)Beslut fattat av: Stefan Bengtsson, Chalmers tekniska högskola, 2022-10-11, C 2022-0879\\nDecision made by: Stefan Bengtsson, Chalmers University of Technology, 2022-10-11, C 2022-0879',\n",
       "  'strålsäkerhetsarbete ska göras genom intern strålsäkerhetsrond och intern revision av\\nledningssystemet utgör underlag för analyser av risker i strålsäkerheten. Krav för det systematiska\\nstrålskyddsarbetet är i grunden samma som gäller för det systematiska miljöarbetet men med tillägg\\nsom beskrivs i denna föreskrift (se Chalmers styrdokument, https://intranet.chalmers.se/om-\\nchalmers/planera-leda-utveckla-verksamheten/verksamhetsstyrning/lista-over-styrdokument/)\\nDe institutioner som har verksamhet med joniserande strålning ska årligen upprätta lokala\\nhandlingsplaner specifikt för strålsäkerhetsfrågor inom ramen för sitt systematiska miljö- och\\narbetsmiljöarbete (https://intranet.chalmers.se/arbeta-pa-chalmers/arbetsmiljo-\\nmiljo/arbetsmiljo/systematiskt-arbetsmiljoarbete/). Handlingsplanerna fastställs av prefekt och\\nstyrande för framtagande av åtgärdsplaner är Chalmers styrdokument för det systematiska miljö-,\\narbetsmiljö-, och säkerhetsarbetet.\\nAnsvar och ledning\\nRektor ansvarar för att strålsäkerhetsfrågorna utgör del av det strategiska arbetet och integreras i\\nrelevanta verksamhetsprocesser. Prefekter ansvarar för att säkerställa att medarbetare som arbetar\\nmed joniserande strålning har tillräcklig kompetens.\\nChalmers rutiner för miljö- och arbetsmiljöarbete inom verkstads- eller laborativ verksamhet\\ndefinierar ramar för verksamhetens systematiska arbetsmiljö- och miljöarbete. Rutinerna bygger på\\naktuell lagstiftning och är styrande samt tydliggör förutsättningarna för laboratoriesäkerhetsarbetet.\\nRutinerna är en del av miljöledningssystemet och det systematiska arbetsmiljöarbetet. Rektor är',\n",
       "  'Föreskrift för stipendier för studenter inom Chalmers utbildningsprogram på grund - och avancerad \\nnivå  C 2019 -0748  \\nStudenter som läser program som saknar sifferbetyg kan ej tilldelas ifall viktat betyg tas i \\nbeaktande. Det krävs minst 30 hp i avslutade kurser med sifferbetyg för att kunna tilldelas \\nifall viktat betyg tas i beaktande . \\n** Ifall det finns medel kvar efter att varje årskurs tilldelats så tilldelas resterande medel till \\nårskurs 3 baserat på nominell studietakt (minus 1 kurs, följt av 2 kurser osv.) samt viktat \\nbetyg. Minus 1 kurs innebär att alla studenter som har mellan 172,5 hp – 179,5 hp behandlas \\ntillsammans, viktat betyg avgör rangordning.  \\nStipendiet delas ut baserat på föregående samt eventuellt tidigare läsårs resultat och således \\nkan även studenter som inte längre är aktiva tilldelas. Att en student inte är registrerad på \\ninnehavande termin när stipendiet utbetalas påverkar ej urvalet. Således kan en student som \\ntagit ut examen, tagit studieuppehåll eller avslutat sina studier tilldelas stipendium.  \\nIngen hänsyn tas till ifall studenten läser ett c ivilingenjörsprogram eller ett \\nhögskoleingenjörsprogram. Stipendiaterna fördelas efter urvalet i möjligaste mån till den \\nstiftelse vilket deras utbildningsområde tillhör.  \\nIngen hänsyn tas till ifall studenten är från Göteborg och dess kranskommuner eller flyttat hit \\nför sina studier. Detta beslut har stöd i stadgarna för Adlerbertska Studentbostadsstiftelsen § 10. ” Bostadsstipendium må tilldelas studerande med hemvist i Göteborg.”  \\nUtsökning sker tidigast 15 arbetsdagar efter sista tentamensdag i omtentamensperioden i \\naugusti. Det är studentens ansvar att betyg och tillgodoräknanden är inrapporterade vid denna \\ntidpunkt. Efter detta datum finns inga skyldigheter att beakta inkomna resultat även om de \\ntillhör rätt period . Dock kan eventuella felaktigheter eller ej inrapporterade poäng intygas av \\nansvarig personal på Chalmers. Dessa kan i mån om tid och tillgängliga medel beaktas ifall \\nstipendiemedlen ej hunnit betalats ut.  \\n*** Representanter från kårledningen  \\nRepresentanter från kårledningen på Chalmers tilldelas ett stipendium på 10 000 kr för två \\nterminer. Ordförande eller av denne utsedd representant ansvarar för att skicka in uppgifter \\n(namn och kontouppgifter) till ansvariga handläggare senast 10 september  varje år. Om någon \\ni kårledningen inte fullföljer sitt uppdrag är de skyldiga att betala tillbaks hela beloppet om avhoppet sker under termin ett (höst) och halva beloppet om avhoppet sker under termin två \\n(vår). Den som eventuellt ersätter tilldelas helt  belopp om det sker under första termin samt \\nhalvt belopp om det sker under andra termin. Ordförande eller av denne utsedd representant ansvarar för att skicka uppgifter om eventuella avhopp och ersättare till ansvariga handläggare.',\n",
       "  'STYRDOKUMENT: Föreskrift för strålsäkerhet och kärnteknisk verksamhet vid Chalmers tekniska\\nhögskola AB. Dnr C 2022-0879Strålskyddskoordinator\\nRektor delegerar till strålskyddskoordinatorn att inom strålskyddsexpertfunktionen driva och\\nkoordinera Chalmers arbete med strålskydd så att verksamheten i alla delar bedrivs i enlighet med\\nstrålskyddslagen. Strålskyddskoordinatorn är Chalmers resursperson och kontaktperson mellan olika\\ndelar av Chalmers. Strålskyddskoordinatorn är även kontaktperson till Strålsäkerhetsmyndigheten\\noch andra myndigheter och ansvarar för att rapportering sker enligt aktuella krav. Ansvarsområden\\noch uppgifter för strålskyddskoordinator beskrivs i bilaga 1. Beslut om återkallelse av delegation ska\\nprotokollföras och diarieföras på Chalmers centralt.\\nStrålskyddsexpert\\nInom strålskyddsexpertfunktionen finns 2-4 kompetensmässigt och arbetsmässigt överlappande\\nstrålskyddsexperter. Kompetenskravet för funktionen är i enlighet med Strålsäkerhetsmyndighetens\\nkrav (3 kap. 12 § SSMFS 2008:1). Dessa personer besitter följaktligen en mycket god teknisk kunskap\\ninom strålsäkerhetsområdet. Strålsäkerhetsmyndigheten ska godkänna de strålskyddsexperter som\\ningår i strålskyddsexpertfunktionen och rektor ansvarar för ansökan om detta. Strålskyddsexperterna\\nkan inte vidaredelegera. Ansvarsområden och uppgifter för strålskyddsexpert beskrivs i bilaga 1.\\nLokal strålskyddsexpert\\nInom vissa specifika verksamheter kan det finnas lokala strålskyddsexperter. Dessa överser det\\narbete med joniserande strålning som sker inom sina ansvarsområden så att detta genomförs på ett',\n",
       "  'stödverksamheter. Intressenter inom verksamheten är prefekter/motsvarande och medarbetare som\\narbetar med joniserande strålning samt i viss utsträckning även studenter. Även externa intressenter,\\nsåsom gästforskare, berörs. Andra intressenter som kan påverkas indirekt av att lärosätet har\\nverksamhet med joniserande strålning är till exempel fastighetsägare och leverantörer av produkter\\noch tjänster såsom drifttekniker och lokalvårdare.\\nVerksamhet med joniserande strålning förekommer utspritt i organisationen medan den\\nkärntekniska verksamheten är begränsad till avdelningen Energi och material, enheten för KärnkemiBeslut fattat av: Stefan Bengtsson, Chalmers tekniska högskola, 2022-10-11, C 2022-0879\\nDecision made by: Stefan Bengtsson, Chalmers University of Technology, 2022-10-11, C 2022-0879',\n",
       "  'arbete med joniserande strålning som sker inom sina ansvarsområden så att detta genomförs på ett\\nstrålsäkert sätt i linje med de övergripande målen för strålsäkerhet. Deras arbete och observationer\\nmeddelas strålskyddsexpertfunktionen fortlöpande. De ser även till att eventuellt avfall samlas upp\\noch överlämnas till enheten för Kärnkemi och industriell materialåtervinning. Ansvarsområden och\\nuppgifter för lokal strålskyddsexpert beskrivs i bilaga 1.\\nBeredskap och agerande vid nödlägen\\nChalmers har riktlinjer för beredskap och krisledning (C 2017-0931) med tillhörande checklistor på\\ncentral nivå samt krav på att varje institution ska utarbeta en beredskapsplan på lokal nivå för\\nagerande vid nödlägen, såsom exempelvis brand, stöld av strålkällor eller utsläpp av radioaktiva\\nämnen, utifrån institutionens specifika förutsättningar. Därtill finns riktlinjer där det beskrivs vilka\\nfunktioner, rutiner och planer varje institution ska ha för att uppfylla kraven i det systematiska miljö-\\noch brandskyddsarbetet.\\nEfterlevnad av bindande krav\\nEfterlevnad av bindande krav på miljöområdet sker på central nivå såväl som lokal nivå, och är en del\\nav den interna miljörevisionen. Bindande krav inom strålskydd på lokal nivå sammanställs genom\\nstrålskyddsexpertfunktionen. Lagefterlevnadskontroll genomförs regelbundet av\\nstrålskyddsexpertfunktionen.\\nStyrdokument och uppföljning,\\nChalmers beskrivning av hantering och upprättande av styrdokument\\n(https://intranet.chalmers.se/om-chalmers/planera-leda-utveckla-',\n",
       "  'Bilaga 1\\nDnr. C 2022-0879 - Bilaga 1. Ansvarsfördelning Chalmers strålskyddsorganisationAnsvarsfördelning Chalmers strålskyddsorganisation\\nAll verksamhet med joniserande strålning inom Chalmers ska bedrivas i enlighet med\\nstrålskyddslagen. Verksamhet enligt ”Strålsäkerhetsmyndighetens föreskrifter SSMF 2018:1 om\\ngrundläggande bestämmelser för tillståndspliktig verksamhet med joniserande strålning” får bedrivas\\nenligt kategori A med öppna och slutna strålkällor endast i vissa laboratorier vid avdelningen Energi\\noch material vid institutionen för Kemi och kemiteknik samt vid avdelningen Subatomär, högenergi-\\noch plasmafysik vid institutionen för Fysik. Undantag från regeln får endast ges av\\nstrålskyddsexpertfunktionen i samråd med ansvarig chef vid institutionen.\\nNedan anges en beskrivning av ansvarsområden samt arbetsuppgifter för strålskyddskoordinator,\\nprefekt/avdelningschef, strålskyddsexpert och lokal strålskyddsexpert. Det är möjligt att justera\\ndessa utifrån kompetens och arbetsuppgifter i de personliga delegationerna.\\nStrålskyddskoordinatorn vid Chalmers ska:\\nKoordinera arbetet med Chalmers ledningssystem för strålsäkerhet.\\nInformera rektor, prefekt, strålskyddsexperter, arbetsmiljöombud och kontaktpersoner i\\nstrålskyddsfrågor\\nStödja strålskyddsexpert och övriga medarbetare för att arbetet vid anläggningen bedrivs på\\nett från strålskyddssynpunkt lämpligt sätt, så att goda strålskyddsförhållanden råder\\nAnsvara för att det rapporteras förändringar i registret över innehav av strålkällor före\\nutgången av mars månad varje år till Strålsäkerhetsmyndigheten. Utöver detta ska övriga',\n",
       "  'STYRDOKUMENT: Föreskrift för strålsäkerhet och kärnteknisk verksamhet vid Chalmers tekniska\\nhögskola AB. Dnr C 2022-0879beslutande av styr- och stöddokument även för det systematiska strålsäkerhetsarbetet. Chalmers\\nsamtliga styrdokument finns tillgängliga på intranätet. Berörda funktioner ansvarar att ta fram,\\nrevidera och diarieföra styrdokument.\\nStrålskyddsexpertfunktionen stödjer institutionernas strålsäkerhetsarbete genom att årligen\\ngenomföra intern strålsäkerhetsrond där arbete med strålkällor sker samt följer upp aktiviteterna i\\nde lokala handlingsplanerna för strålsäkerhet. Resultaten från uppföljningen används för att\\nutvärdera ledningssystemets verkan. Strålskyddsexpertfunktionen följer regelbundet upp och\\ndokumenterar avvikelser från både årlig intern strålsäkerhetsrond och den interna revisionen av\\nledningssystemet (ej utförd av strålskyddsexpertfunktionen) samt resultat av uppsatta mål, åtgärder\\noch förbättringsarbete.\\nFör inrapportering av avvikelser i hantering av strålkällor används ett ärendehanteringssystem, se\\ninformation på strålskyddets sida på intranätet (https://intranet.chalmers.se/arbeta-pa-\\nchalmers/arbetsmiljo-miljo/labb-och-verkstadssakerhet/stralskydd/), där medarbetare rapporterar\\navvikelser och institutionen ansvarar för hantering och eventuella åtgärder i ärendet.\\nStrålskyddsexpertfunktionen bevakar avvikelser och följer upp att ärendena hanteras korrekt samt\\nrapporterar eventuella betydande avvikelser till Strålsäkerhetsmyndigheten.\\nDen interna revisionen av ledningssystemet för strålsäkerhet är en del i det systematiska',\n",
       "  'STYRDOKUMENT: Föreskrift för strålsäkerhet och kärnteknisk verksamhet vid Chalmers tekniska\\nhögskola AB. Dnr C 2022-0879Strålsäkerhetsmyndighetens föreskrifter om grundläggande bestämmelser för\\ntillståndspliktig verksamhet med joniserande strålning (SSMFS 2018:1) och underliggande\\nföreskrifter till denna\\nStrålsäkerhetsmyndighetens föreskrifter och allmänna råd om säkerhet i kärntekniska\\nanläggningar (SSMFS 2008:1) och underliggande föreskrifter till denna\\nBeslut om villkor för omhändertagande av kärntekniskt avfall (SSM2022-840, Chalmers Dnr C\\n2022-0489). Chalmersspecifikt beslut motsvarande SSMFS 2021:7.\\nOrganisationens förutsättningar\\nChalmers verksamheter är lokaliserade till campus, Johanneberg och Lindholmen, samt Onsala\\nRymdobservatorium. Chalmers deltar i många utbildnings- och forskningssamarbeten lokalt,\\nnationellt och internationellt.\\nChalmers tekniska högskola AB är en stiftelsehögskola med Stiftelsen Chalmers tekniska högskola\\nsom ägare. Chalmers som lärosäte är en enskild utbildningsanordnare, och lyder under Lag om\\ntillstånd att utfärda vissa examina (1993:792). Som aktiebolag lyder Chalmers under Aktiebolagslagen\\n(2005:551). Verksamheten regleras i ett långsiktigt avtal med svenska staten som kompletteras med\\nårliga avtal. Den reglering som gäller vid statliga lärosäten genom högskolelagen och\\nhögskoleförordningen motsvaras av specifika arbetsordningar, vilka beslutas av rektor, tillika\\nverkställande direktör för Chalmers tekniska högskola AB. Chalmers har också krav på sig att ha',\n",
       "  'STYRDOKUMENT: Föreskrift för strålsäkerhet och kärnteknisk verksamhet vid Chalmers tekniska\\nhögskola AB. Dnr C 2022-0879Strålskyddskoordinator\\nRektor delegerar till strålskyddskoordinatorn att inom strålskyddsexpertfunktionen driva och\\nkoordinera Chalmers arbete med strålskydd så att verksamheten i alla delar bedrivs i enlighet med\\nstrålskyddslagen. Strålskyddskoordinatorn är Chalmers resursperson och kontaktperson mellan olika\\ndelar av Chalmers. Strålskyddskoordinatorn är även kontaktperson till Strålsäkerhetsmyndigheten\\noch andra myndigheter och ansvarar för att rapportering sker enligt aktuella krav. Ansvarsområden\\noch uppgifter för strålskyddskoordinator beskrivs i bilaga 1. Beslut om återkallelse av delegation ska\\nprotokollföras och diarieföras på Chalmers centralt.\\nStrålskyddsexpert\\nInom strålskyddsexpertfunktionen finns 2-4 kompetensmässigt och arbetsmässigt överlappande\\nstrålskyddsexperter. Kompetenskravet för funktionen är i enlighet med Strålsäkerhetsmyndighetens\\nkrav (3 kap. 12 § SSMFS 2008:1). Dessa personer besitter följaktligen en mycket god teknisk kunskap\\ninom strålsäkerhetsområdet. Strålsäkerhetsmyndigheten ska godkänna de strålskyddsexperter som\\ningår i strålskyddsexpertfunktionen och rektor ansvarar för ansökan om detta. Strålskyddsexperterna\\nkan inte vidaredelegera. Ansvarsområden och uppgifter för strålskyddsexpert beskrivs i bilaga 1.\\nLokal strålskyddsexpert\\nInom vissa specifika verksamheter kan det finnas lokala strålskyddsexperter. Dessa överser det\\narbete med joniserande strålning som sker inom sina ansvarsområden så att detta genomförs på ett\\nstrålsäkert sätt i linje med de övergripande målen för strålsäkerhet. Deras arbete och observationer\\nmeddelas strålskyddsexpertfunktionen fortlöpande. De ser även till att eventuellt avfall samlas upp\\noch överlämnas till enheten för Kärnkemi och industriell materialåtervinning. Ansvarsområden och\\nuppgifter för lokal strålskyddsexpert beskrivs i bilaga 1.\\nBeredskap och agerande vid nödlägen\\nChalmers har riktlinjer för beredskap och krisledning (C 2017-0931) med tillhörande checklistor på\\ncentral nivå samt krav på att varje institution ska utarbeta en beredskapsplan på lokal nivå för\\nagerande vid nödlägen, såsom exempelvis brand, stöld av strålkällor eller utsläpp av radioaktiva\\nämnen, utifrån institutionens specifika förutsättningar. Därtill finns riktlinjer där det beskrivs vilka\\nfunktioner, rutiner och planer varje institution ska ha för att uppfylla kraven i det systematiska miljö-\\noch brandskyddsarbetet.\\nEfterlevnad av bindande krav\\nEfterlevnad av bindande krav på miljöområdet sker på central nivå såväl som lokal nivå, och är en del\\nav den interna miljörevisionen. Bindande krav inom strålskydd på lokal nivå sammanställs genom\\nstrålskyddsexpertfunktionen. Lagefterlevnadskontroll genomförs regelbundet av\\nstrålskyddsexpertfunktionen.\\nStyrdokument och uppföljning,\\nChalmers beskrivning av hantering och upprättande av styrdokument\\n(https://intranet.chalmers.se/om-chalmers/planera-leda-utveckla-\\nverksamheten/verksamhetsstyrning/beskrivning-av-styrdokument/) reglerar framtagande ochBeslut fattat av: Stefan Bengtsson, Chalmers tekniska högskola, 2022-10-11, C 2022-0879',\n",
       "  'Bilaga 1\\nDnr. C 2022-0879 - Bilaga 1. Ansvarsfördelning Chalmers strålskyddsorganisationUpprätta och fortlöpande uppdatera skriftliga instruktioner för arbetet med joniserande\\nstrålning enligt SSMFS 2018:1 som är gemensam för Chalmers\\nSe till att kärnämnen hanteras på ett sätt som uppfyller kraven på fysiskt skydd\\nInformera strålskyddskoordinator, prefekt och ansvarig chef vid akuta ärende gällande\\nstrålskyddsfrågor. Samverka med strålskyddskoordinator för att informera berörd\\nverksamhet i strålskyddsfrågor.\\nTillse att strålskyddskoordinator och lokala strålskyddsexperter löpande får uppdaterad\\ninformation inom strålsäkerhetsfrågor\\nAktivt verka för att händelser eller iakttagelser av betydelse från strålskyddssynpunkt\\nanalyseras och dokumenteras\\nAktivt verka för att relevant lagstiftning följs och att krav på rapportering efterlevs\\nAnsvara att nödvändig och adekvat information finns tillgänglig för att upprätta och hålla\\ntillstånd uppdaterade i samverkan med strålskyddskoordinator\\nBevaka att individ- och kollektivstråldoser följs upp i samverkan med strålskyddskoordinator\\nAktivt verka för bokföring och erforderlig rapportering av kärnämne till Euratom, IAEA och\\nSSM i samverkan med strålskyddskoordinator\\nVara Chalmers sakkunnig i anläggningens strålskydd\\nStötta och instruera lokala strålskyddsexperter vid behov\\nLokal strålskyddsexpert vid Chalmers ska:\\nAktivt verka för att arbetet vid anläggningen bedrivs på ett från strålskyddssynpunkt lämpligt\\nsätt, så att goda strålskyddsförhållanden råder',\n",
       "  'STYRDOKUMENT: Föreskrift för strålsäkerhet och kärnteknisk verksamhet vid Chalmers tekniska\\nhögskola AB. Dnr C 2022-0879Strålskyddskoordinator\\nRektor delegerar till strålskyddskoordinatorn att inom strålskyddsexpertfunktionen driva och\\nkoordinera Chalmers arbete med strålskydd så att verksamheten i alla delar bedrivs i enlighet med\\nstrålskyddslagen. Strålskyddskoordinatorn är Chalmers resursperson och kontaktperson mellan olika\\ndelar av Chalmers. Strålskyddskoordinatorn är även kontaktperson till Strålsäkerhetsmyndigheten\\noch andra myndigheter och ansvarar för att rapportering sker enligt aktuella krav. Ansvarsområden\\noch uppgifter för strålskyddskoordinator beskrivs i bilaga 1. Beslut om återkallelse av delegation ska\\nprotokollföras och diarieföras på Chalmers centralt.\\nStrålskyddsexpert\\nInom strålskyddsexpertfunktionen finns 2-4 kompetensmässigt och arbetsmässigt överlappande\\nstrålskyddsexperter. Kompetenskravet för funktionen är i enlighet med Strålsäkerhetsmyndighetens\\nkrav (3 kap. 12 § SSMFS 2008:1). Dessa personer besitter följaktligen en mycket god teknisk kunskap\\ninom strålsäkerhetsområdet. Strålsäkerhetsmyndigheten ska godkänna de strålskyddsexperter som\\ningår i strålskyddsexpertfunktionen och rektor ansvarar för ansökan om detta. Strålskyddsexperterna\\nkan inte vidaredelegera. Ansvarsområden och uppgifter för strålskyddsexpert beskrivs i bilaga 1.\\nLokal strålskyddsexpert\\nInom vissa specifika verksamheter kan det finnas lokala strålskyddsexperter. Dessa överser det\\narbete med joniserande strålning som sker inom sina ansvarsområden så att detta genomförs på ett',\n",
       "  'Bilaga 1\\nDnr. C 2022-0879 - Bilaga 1. Ansvarsfördelning Chalmers strålskyddsorganisationStrålskyddskoordinatorn har befogenhet att\\nStoppa arbete med joniserande strålning på Chalmers tekniska högskola där det inte råder\\ngoda strålskyddsförhållanden.\\nSkriva delegationer för strålskyddsexperter och lokala strålskyddsexperter efter beslut av\\nbehörig chef\\nSammankalla strålskyddsexperter för möten\\nPrefekt/avdelningschef där verksamhet med joniserande strålning bedrivs ska:\\nSvara för att allt arbete med strålning sker i enlighet med gällande lagar och förordningar\\nsamt lokala riktlinjer och föreskrifter\\nFöreslå lokal strålskyddsexpert inom den egna verksamheten i samråd med\\nstrålskyddsexpertfunktionen för delegation från strålskyddskoordinator\\nInformera strålskyddskoordinator, strålskyddsexpert och lokal strålskyddsexpert,\\ninstitutionens/avdelningens arbetsmiljöombud och arbetsmiljöingenjör om uppkomna eller\\nplanerade förändringar beträffande utrustning, lokaler och arbetsförhållanden som rör\\nverksamheten med strålning\\nGe strålskyddskoordinator de upplysningar och handlingar som behövs för tillsyn samt ge\\ntillträde till anläggning och arbetsplats där strålningsverksamhet bedrivs\\nKontrollera och ekonomiskt svara för att den personal som deltar i verksamheten har\\nerforderlig kompetens såväl teoretiskt såsom praktiskt, och är informerad om de risker som\\nkan vara förknippade med verksamheten. Den verksamhet som omfattas av SSMFS 2018:1\\nska ha dokumenterade utbildningsplaner för olika personalkategorier. Dessa\\nutbildningsplaner ska tas fram i samråd med strålskyddskoordinator/lokal strålskyddsexpert.',\n",
       "  'aktuell lagstiftning och är styrande samt tydliggör förutsättningarna för laboratoriesäkerhetsarbetet.\\nRutinerna är en del av miljöledningssystemet och det systematiska arbetsmiljöarbetet. Rektor är\\nytterst ansvarig för miljö-, arbetsmiljö- och säkerhetsarbetet, inkluderat strålsäkerhet. För den\\nkärntekniska verksamheten har rektor/VD det yttersta ansvaret. Rektor delegerar ansvar för\\nstrålsäkerhetsarbetet till strålskyddskoordinatorn. Strålskyddskoordinatorn har därmed en\\noberoende roll i fråga om strategiska beslut eller andra frågeställningar med betydelse för\\nsäkerheten eller det fysiska skyddet. Strålskyddskoordinatorn har ansvar att skriva delegationer för\\nstrålskyddsexperter och lokala strålskyddsexperter.Beslut fattat av: Stefan Bengtsson, Chalmers tekniska högskola, 2022-10-11, C 2022-0879\\nDecision made by: Stefan Bengtsson, Chalmers University of Technology, 2022-10-11, C 2022-0879',\n",
       "  'STYRDOKUMENT: Föreskrift för strålsäkerhet och kärnteknisk verksamhet vid Chalmers tekniska\\nhögskola AB. Dnr C 2022-0879och industriell materialåtervinning vid Institutionen för Kemi och kemiteknik. Det finns därför en\\nlokal utvidgning av ledningssystemet för att styra och vägleda just den kärntekniska verksamheten\\nvid enheten, vilket görs i dokumentet ” Principer för ledningssystem för kärnteknisk verksamhet för\\nstrålskydd vid Kärnkemi och industriell materialåtervinning vid institutionen för Kemi och kemiteknik\\n(D nr: K2021-0200) ”\\nPlanering och uppföljning\\nInom strålsäkerhetsledningsarbetet ska risker som rör Chalmers strålskydd kontinuerligt utvärderas.\\nEn riskanalys ska genomföras årligen av strålskyddsexpertfunktionen baserat på de interna\\nstrålsäkerhetsronderna, och efterlevnad av befintliga lagar och krav. Tillkommer nya bindande krav\\nunder året ska riskanalysen uppdateras. Resultatet från riskanalysen ska ligga till grund för\\nprioritering av förbättringsarbetet och bedömning av eventuellt förändrat resursbehov.\\nLedningssystemets resultat ska integreras i Chalmers riskhanteringsarbete (C 2015-0368, rev 2021, se\\näven https://intranet.chalmers.se/arbeta-pa-chalmers/sakerhet-brandskydd/nar-nagot-allvarligt-\\nhander/riskhantering/) och återkopplas till Chalmers ledning. Uppföljning av lokalt\\nstrålsäkerhetsarbete ska göras genom intern strålsäkerhetsrond och intern revision av\\nledningssystemet utgör underlag för analyser av risker i strålsäkerheten. Krav för det systematiska',\n",
       "  'STYRDOKUMENT: Föreskrift för strålsäkerhet och kärnteknisk verksamhet vid Chalmers tekniska\\nhögskola AB. Dnr C 2022-0879Strålsäkerhetsmyndighetens föreskrifter om grundläggande bestämmelser för\\ntillståndspliktig verksamhet med joniserande strålning (SSMFS 2018:1) och underliggande\\nföreskrifter till denna\\nStrålsäkerhetsmyndighetens föreskrifter och allmänna råd om säkerhet i kärntekniska\\nanläggningar (SSMFS 2008:1) och underliggande föreskrifter till denna\\nBeslut om villkor för omhändertagande av kärntekniskt avfall (SSM2022-840, Chalmers Dnr C\\n2022-0489). Chalmersspecifikt beslut motsvarande SSMFS 2021:7.\\nOrganisationens förutsättningar\\nChalmers verksamheter är lokaliserade till campus, Johanneberg och Lindholmen, samt Onsala\\nRymdobservatorium. Chalmers deltar i många utbildnings- och forskningssamarbeten lokalt,\\nnationellt och internationellt.\\nChalmers tekniska högskola AB är en stiftelsehögskola med Stiftelsen Chalmers tekniska högskola\\nsom ägare. Chalmers som lärosäte är en enskild utbildningsanordnare, och lyder under Lag om\\ntillstånd att utfärda vissa examina (1993:792). Som aktiebolag lyder Chalmers under Aktiebolagslagen\\n(2005:551). Verksamheten regleras i ett långsiktigt avtal med svenska staten som kompletteras med\\nårliga avtal. Den reglering som gäller vid statliga lärosäten genom högskolelagen och\\nhögskoleförordningen motsvaras av specifika arbetsordningar, vilka beslutas av rektor, tillika\\nverkställande direktör för Chalmers tekniska högskola AB. Chalmers har också krav på sig att ha\\nkvalitetssäkrande system för granskning av utbildningar och forskning och står under tillsyn av\\nUniversitetskanslersämbetet.\\nChalmers verksamhetsstyrning och ledningssystem utgår från Chalmers vision och mål, och har som\\ndel ett flertal mål- och styrdokument (https://intranet.chalmers.se/om-chalmers/planera-leda-\\nutveckla-verksamheten/verksamhetsstyrning/lista-over-styrdokument/). Institutionernas\\nverksamheter följs upp genom verksamhetsdialoger, vilket skapar en helhet som engagerar till ansvar\\noch handling mot målen. Genom integrering av ledningssystemet för strålsäkerhet och kärnteknisk\\nverksamhet i lärosätets övergripande styrning och ledning, säkerställs att strålsäkerhetsfrågorna\\ninkluderas i strategiarbetet och verksamhetsprocesserna (vid till exempel planering- och uppföljning)\\nmed utpekade ansvarsfunktioner. Vidare säkerställs att frågor och regelefterlevnad av bindande krav\\nhanteras inom verksamheten.\\nArbetet med strålsäkerhetsfrågorna ska ske systematiskt och lärosätet strävar kontinuerligt efter att\\nminimera risker och att skapa medvetenhet och engagemang kring strålsäkerhetsfrågor. De som\\nfrämst berörs av ledningssystemet för kärnteknisk verksamhet och strålskyddshantering är den\\nverksamhet vid Chalmers som arbetar med joniserande strålning, inklusive lokala och centrala\\nstödverksamheter. Intressenter inom verksamheten är prefekter/motsvarande och medarbetare som\\narbetar med joniserande strålning samt i viss utsträckning även studenter. Även externa intressenter,\\nsåsom gästforskare, berörs. Andra intressenter som kan påverkas indirekt av att lärosätet har\\nverksamhet med joniserande strålning är till exempel fastighetsägare och leverantörer av produkter\\noch tjänster såsom drifttekniker och lokalvårdare.',\n",
       "  'aktuell lagstiftning och är styrande samt tydliggör förutsättningarna för laboratoriesäkerhetsarbetet.\\nRutinerna är en del av miljöledningssystemet och det systematiska arbetsmiljöarbetet. Rektor är\\nytterst ansvarig för miljö-, arbetsmiljö- och säkerhetsarbetet, inkluderat strålsäkerhet. För den\\nkärntekniska verksamheten har rektor/VD det yttersta ansvaret. Rektor delegerar ansvar för\\nstrålsäkerhetsarbetet till strålskyddskoordinatorn. Strålskyddskoordinatorn har därmed en\\noberoende roll i fråga om strategiska beslut eller andra frågeställningar med betydelse för\\nsäkerheten eller det fysiska skyddet. Strålskyddskoordinatorn har ansvar att skriva delegationer för\\nstrålskyddsexperter och lokala strålskyddsexperter.Beslut fattat av: Stefan Bengtsson, Chalmers tekniska högskola, 2022-10-11, C 2022-0879\\nDecision made by: Stefan Bengtsson, Chalmers University of Technology, 2022-10-11, C 2022-0879',\n",
       "  'aktuell lagstiftning och är styrande samt tydliggör förutsättningarna för laboratoriesäkerhetsarbetet.\\nRutinerna är en del av miljöledningssystemet och det systematiska arbetsmiljöarbetet. Rektor är\\nytterst ansvarig för miljö-, arbetsmiljö- och säkerhetsarbetet, inkluderat strålsäkerhet. För den\\nkärntekniska verksamheten har rektor/VD det yttersta ansvaret. Rektor delegerar ansvar för\\nstrålsäkerhetsarbetet till strålskyddskoordinatorn. Strålskyddskoordinatorn har därmed en\\noberoende roll i fråga om strategiska beslut eller andra frågeställningar med betydelse för\\nsäkerheten eller det fysiska skyddet. Strålskyddskoordinatorn har ansvar att skriva delegationer för\\nstrålskyddsexperter och lokala strålskyddsexperter.Beslut fattat av: Stefan Bengtsson, Chalmers tekniska högskola, 2022-10-11, C 2022-0879\\nDecision made by: Stefan Bengtsson, Chalmers University of Technology, 2022-10-11, C 2022-0879'],\n",
       " 'uris': None,\n",
       " 'data': None,\n",
       " 'included': ['metadatas', 'documents']}"
      ]
     },
     "execution_count": 12,
     "metadata": {},
     "output_type": "execute_result"
    }
   ],
   "source": [
    "client = chromadb.PersistentClient(path=PATH_DB)\n",
    "vectorstore = Chroma(\n",
    "    collection_name=COLLECTION_NAME,\n",
    "    embedding_function=embedding_model,\n",
    "    client=client\n",
    ")\n",
    "vectorstore.get()"
   ]
  },
  {
   "cell_type": "markdown",
   "metadata": {},
   "source": [
    "# Preparing the LLM Model"
   ]
  },
  {
   "cell_type": "markdown",
   "metadata": {},
   "source": [
    "### Prompt"
   ]
  },
  {
   "cell_type": "code",
   "execution_count": 20,
   "metadata": {},
   "outputs": [],
   "source": [
    "def build_prompt():\n",
    "    template = \"\"\"Use the following pieces of context to answer the question at the end.\n",
    "    The context consists of a number of governing documents from a university. They are all in Swedish. \n",
    "    Your task is to act as an expert on the information that they contain. \n",
    "    You will later be asked various questions that should be possible to answer with the contents of the documents. \n",
    "    However, it might be that the question asked cannot be answered based on the documents’ information alone. \n",
    "    You are only allowed to answer questions based on the information from the documents.\n",
    "    \n",
    "    If you lack information, the information is ambiguous, or the answer for any other reason is uncertain or unclear, state that “the answer is not clear” and explain why.\n",
    "    For any answer you give, you are always forced to give supporting quotes and refer to the documents from which they originate.\n",
    "    Answer in Swedish.\n",
    "    Break your answer up into nicely readable paragraphs.\n",
    "\n",
    "    {context}\n",
    "\n",
    "    Question: {question}\n",
    "\n",
    "    Helpful Answer:\"\"\"\n",
    "    return PromptTemplate.from_template(template)"
   ]
  },
  {
   "cell_type": "markdown",
   "metadata": {},
   "source": [
    "### LLM model"
   ]
  },
  {
   "cell_type": "code",
   "execution_count": 21,
   "metadata": {},
   "outputs": [],
   "source": [
    "from langchain_community.chat_models import ChatOllama\n",
    "\n",
    "# Check if the OPENAI_API_KEY environment variable is set. Prompt the user to set it if not.\n",
    "if \"OPENAI_API_KEY\" not in os.environ:\n",
    "    openai.api_key = input(\n",
    "        \"Please enter your OpenAI API Key. You can get it from https://platform.openai.com/account/api-keys\\n\"\n",
    "    )\n",
    "else:\n",
    "    openai.api_key = os.getenv('OPENAI_API_KEY')\n",
    "\n",
    "# Initialize LLM model. Can be switched to other LLM models like llama3.\n",
    "# llm = ChatOpenAI(model=\"gpt-3.5-turbo\")\n",
    "llm = ChatOllama(model=\"llama3\")\n",
    "\n",
    "# Retrieve and generate using the relevant snippets of the blog.\n",
    "retriever = vectorstore.as_retriever()\n",
    "\n",
    "# Join the document content into one file.\n",
    "def format_docs(docs):\n",
    "    return \"\\n\\n\".join(doc.page_content for doc in docs)\n",
    "\n",
    "# Initialize a RAG chain\n",
    "rag_chain = (\n",
    "    {\"context\": retriever | format_docs, \"question\": RunnablePassthrough()}\n",
    "    | build_prompt()\n",
    "    | llm\n",
    "    | StrOutputParser()\n",
    ")"
   ]
  },
  {
   "cell_type": "markdown",
   "metadata": {},
   "source": [
    "### Run RAG"
   ]
  },
  {
   "cell_type": "code",
   "execution_count": 22,
   "metadata": {},
   "outputs": [
    {
     "name": "stdout",
     "output_type": "stream",
     "text": [
      "====================================================================\n",
      "What a lovely scenario!\n",
      "\n",
      "As you work at Chalmers, I'm happy to help you with this question.\n",
      "\n",
      "Firstly, let's look at the context. We have various regulations and guidelines for safety and security, including those related to nuclear technology (SSMFS 2008:1, SSM2022-840, etc.).\n",
      "\n",
      "Now, regarding your friend's request to drink beer on your office desk while waiting for you... I think it's unlikely that this would be allowed.\n",
      "\n",
      "Here's why:\n",
      "\n",
      "1. **Campus rules**: As an employee of Chalmers, you and your friend are subject to the organization's regulations, which include rules about food and beverages in common areas.\n",
      "2. **Safety considerations**: Having open containers of beer on a desk could pose a risk to both individuals and the surrounding environment (e.g., electrical equipment).\n",
      "3. **Professional setting**: Your office is a professional space where you're expected to maintain a certain level of decorum and respect for your colleagues.\n",
      "\n",
      "Considering these factors, I think it's best to advise your friend against drinking beer on your office desk. Instead, suggest that they grab a coffee or water from the cafeteria or vending machines (if available) or simply wait outside until you're ready to take a break together.\n",
      "\n",
      "What do you think?\n"
     ]
    }
   ],
   "source": [
    "query = 'Antag att jag arbetar på Chalmers. Jag har en kompis med mig till arbetsplatsen. Jag ska jobba i två timmar till. Får min kompis dricka öl på mitt kontor medans han väntar på mig? '\n",
    "\n",
    "# get_openai_callback() prints token usage and the cost.\n",
    "if type(llm) == ChatOpenAI:\n",
    "    with get_openai_callback() as cb:\n",
    "        answer = rag_chain.invoke(query)\n",
    "        print(cb)\n",
    "else:\n",
    "    answer = rag_chain.invoke(query)\n",
    "    \n",
    "print(\"===========================Query====================================\")\n",
    "print(query)\n",
    "print(\"===========================Answer===================================\")\n",
    "print(answer)"
   ]
  },
  {
   "cell_type": "code",
   "execution_count": 39,
   "metadata": {},
   "outputs": [
    {
     "name": "stdout",
     "output_type": "stream",
     "text": [
      "Folder answer created!\n"
     ]
    }
   ],
   "source": [
    "save_to_dir([answer], 'outputs', 'answer')"
   ]
  },
  {
   "cell_type": "markdown",
   "metadata": {},
   "source": [
    "# Visualize Chunk Embeddings in 2D (experimental)"
   ]
  },
  {
   "cell_type": "code",
   "execution_count": 52,
   "metadata": {},
   "outputs": [
    {
     "name": "stdout",
     "output_type": "stream",
     "text": [
      "data/P2-subset/Arbetsmiljö/C 2022-0879 Föreskrift för strålsäkerhet och kärnteknisk verksamhet vid Chalmers slutlig.PDF\n"
     ]
    }
   ],
   "source": [
    "import pacmap\n",
    "import plotly.express as px\n",
    "import pandas as pd\n",
    "\n",
    "def visualize_chunks(query_vector, collection, path_split):\n",
    "    print('=> Fitting data to 2D...')\n",
    "    \n",
    "    data = collection.get(include=['documents', 'metadatas', 'embeddings'])\n",
    "    df = pd.DataFrame.from_dict(data=data['embeddings'])\n",
    "    metadatas = data['metadatas']\n",
    "    documents = data['documents']\n",
    "    \n",
    "    print('=> Extracting info...')\n",
    "    embedding_projector = pacmap.PaCMAP(n_components=2, n_neighbors=None, MN_ratio=0.5, FP_ratio=2.0, random_state=1)\n",
    "\n",
    "    # Fit the data (the index of transformed data corresponds to the index of the original data)\n",
    "    documents_projected = embedding_projector.fit_transform(df.to_numpy() + [query_vector], init='pca')\n",
    "    df = pd.DataFrame.from_dict(\n",
    "        [\n",
    "            {\n",
    "                'x': documents_projected[i, 0],\n",
    "                'y': documents_projected[i, 1],\n",
    "                'source': metadatas[i]['source'].split(path_split)[2], # May give error. If so, check the 'source' attribute string and change the split() condition\n",
    "                'extract': documents[i][:100] + '...',\n",
    "                'symbol': 'circle',\n",
    "                'size_col': 0.6,\n",
    "            }\n",
    "            for i in range(len(documents))\n",
    "        ]\n",
    "        + [\n",
    "            {\n",
    "                'x': documents_projected[-1, 0],\n",
    "                'y': documents_projected[-1, 1],\n",
    "                'source': 'User query',\n",
    "                'extract': query,\n",
    "                'size_col': 0.1,\n",
    "                'symbol': 'star',\n",
    "            }\n",
    "        ]\n",
    "    )\n",
    "\n",
    "    # Visualize the chunk vector embeddings\n",
    "    print('=> Visualizing...')\n",
    "    fig = px.scatter(df, x='x', y='y', width=800, height=500,\n",
    "        color='source',\n",
    "        hover_data='extract',\n",
    "        size='size_col',\n",
    "        symbol='symbol',\n",
    "        color_discrete_map={'User query': 'black'},\n",
    "    )\n",
    "    fig.update_traces(\n",
    "        marker=dict(opacity=1, line=dict(width=0, color='DarkSlateGrey')),\n",
    "        selector=dict(mode='markers'),\n",
    "    )\n",
    "    fig.update_layout(\n",
    "        legend_title_text='<b>Chunk source</b>',\n",
    "        title='<b>2D Projection of Chunk Embeddings via PaCMAP</b>',\n",
    "    )\n",
    "    fig.show()\n",
    "\n",
    "# Embedd a query\n",
    "query = 'Hur är strålsäkerhetsarbetet organiserat?'\n",
    "query_vector = embedding_model.embed_query(query)\n",
    "\n",
    "# Get collection\n",
    "collection = vectorstore._client.get_collection(COLLECTION_NAME)\n",
    "\n",
    "# Print path to source to get what token to split the path. \n",
    "# Change `path_split` accordingly in next code cell.\n",
    "print(collection.get()['metadatas'][0]['source'])"
   ]
  },
  {
   "cell_type": "markdown",
   "metadata": {},
   "source": [
    "### Visualize from collection"
   ]
  },
  {
   "cell_type": "code",
   "execution_count": 54,
   "metadata": {},
   "outputs": [
    {
     "name": "stdout",
     "output_type": "stream",
     "text": [
      "=> Fitting data to 2D...\n",
      "=> Extracting info...\n",
      "=> Visualizing...\n"
     ]
    },
    {
     "data": {
      "application/vnd.plotly.v1+json": {
       "config": {
        "plotlyServerURL": "https://plot.ly"
       },
       "data": [
        {
         "customdata": [
          [
           "STYRDOKUMENT: Föreskrift för strålsäkerhet och kärnteknisk verksamhet vid Chalmers tekniska\nhögskola..."
          ],
          [
           "STYRDOKUMENT: Föreskrift för strålsäkerhet och kärnteknisk verksamhet vid Chalmers tekniska\nhögskola..."
          ],
          [
           "aktuell lagstiftning och är styrande samt tydliggör förutsättningarna för laboratoriesäkerhetsarbete..."
          ],
          [
           "Bilaga 1\nDnr. C 2022-0879 - Bilaga 1. Ansvarsfördelning Chalmers strålskyddsorganisationUpprätta och..."
          ],
          [
           "(https://intranet.chalmers.se/om-chalmers/planera-leda-utveckla-\nverksamheten/verksamhetsstyrning/be..."
          ],
          [
           "Ansvara för att det rapporteras förändringar i registret över innehav av strålkällor före\nutgången a..."
          ],
          [
           "Bilaga 1\nDnr. C 2022-0879 - Bilaga 1. Ansvarsfördelning Chalmers strålskyddsorganisationUpprätta och..."
          ],
          [
           "verksamheten som hjälp och rådgivning i strålskyddsarbetet. Funktionen ska ha tillförsäkrats, av den..."
          ],
          [
           "strålsäkerhetsarbete ska göras genom intern strålsäkerhetsrond och intern revision av\nledningssystem..."
          ],
          [
           "strålsäkerhetsarbete ska göras genom intern strålsäkerhetsrond och intern revision av\nledningssystem..."
          ],
          [
           "stödverksamheter. Intressenter inom verksamheten är prefekter/motsvarande och medarbetare som\narbeta..."
          ],
          [
           "Bilaga 1\nDnr. C 2022-0879 - Bilaga 1. Ansvarsfördelning Chalmers strålskyddsorganisationStrålskyddsk..."
          ],
          [
           "Aktivt verka för att arbetet vid anläggningen bedrivs på ett från strålskyddssynpunkt lämpligt\nsätt,..."
          ],
          [
           "Bilaga 1\nDnr. C 2022-0879 - Bilaga 1. Ansvarsfördelning Chalmers strålskyddsorganisationUpprätta och..."
          ],
          [
           "arbete med joniserande strålning som sker inom sina ansvarsområden så att detta genomförs på ett\nstr..."
          ],
          [
           "STYRDOKUMENT: Föreskrift för strålsäkerhet och kärnteknisk verksamhet vid Chalmers tekniska\nhögskola..."
          ],
          [
           "verksamheten som hjälp och rådgivning i strålskyddsarbetet. Funktionen ska ha tillförsäkrats, av den..."
          ],
          [
           "verksamheten som hjälp och rådgivning i strålskyddsarbetet. Funktionen ska ha tillförsäkrats, av den..."
          ],
          [
           "STYRDOKUMENT: Föreskrift för strålsäkerhet och kärnteknisk verksamhet vid Chalmers tekniska\nhögskola..."
          ],
          [
           "STYRDOKUMENT: Föreskrift för strålsäkerhet och kärnteknisk verksamhet vid Chalmers tekniska\nhögskola..."
          ],
          [
           "STYRDOKUMENT: Föreskrift för strålsäkerhet och kärnteknisk verksamhet vid Chalmers tekniska\nhögskola..."
          ],
          [
           "STYRDOKUMENT: Föreskrift för strålsäkerhet och kärnteknisk verksamhet vid Chalmers tekniska\nhögskola..."
          ],
          [
           "STYRDOKUMENT: Föreskrift för strålsäkerhet och kärnteknisk verksamhet vid Chalmers tekniska\nhögskola..."
          ],
          [
           "Bilaga 1\nDnr. C 2022-0879 - Bilaga 1. Ansvarsfördelning Chalmers strålskyddsorganisationUpprätta och..."
          ],
          [
           "STYRDOKUMENT: Föreskrift för strålsäkerhet och kärnteknisk verksamhet vid Chalmers tekniska\nhögskola..."
          ],
          [
           "ska ha dokumenterade utbildningsplaner för olika personalkategorier. Dessa\nutbildningsplaner ska tas..."
          ],
          [
           "Bilaga 1\nDnr. C 2022-0879 - Bilaga 1. Ansvarsfördelning Chalmers strålskyddsorganisationAnsvarsförde..."
          ],
          [
           "STYRDOKUMENT: Föreskrift för strålsäkerhet och kärnteknisk verksamhet vid Chalmers tekniska\nhögskola..."
          ],
          [
           "STYRDOKUMENT: Föreskrift för strålsäkerhet och kärnteknisk verksamhet vid Chalmers tekniska\nhögskola..."
          ],
          [
           "Ansvara för att det rapporteras förändringar i registret över innehav av strålkällor före\nutgången a..."
          ],
          [
           "stödverksamheter. Intressenter inom verksamheten är prefekter/motsvarande och medarbetare som\narbeta..."
          ],
          [
           "Ansvara för att det rapporteras förändringar i registret över innehav av strålkällor före\nutgången a..."
          ],
          [
           "rapporterar eventuella betydande avvikelser till Strålsäkerhetsmyndigheten.\nDen interna revisionen a..."
          ],
          [
           "STYRDOKUMENT: Föreskrift för strålsäkerhet och kärnteknisk verksamhet vid Chalmers tekniska\nhögskola..."
          ],
          [
           "STYRDOKUMENT: Föreskrift för strålsäkerhet och kärnteknisk verksamhet vid Chalmers tekniska\nhögskola..."
          ],
          [
           "STYRDOKUMENT: Föreskrift för strålsäkerhet och kärnteknisk verksamhet vid Chalmers tekniska\nhögskola..."
          ],
          [
           "relaterade ledningssystemet. Föreskriften riktar sig till lärosätets ledning, centrala verksamhetsst..."
          ],
          [
           "ska ha dokumenterade utbildningsplaner för olika personalkategorier. Dessa\nutbildningsplaner ska tas..."
          ],
          [
           "Aktivt verka för att arbetet vid anläggningen bedrivs på ett från strålskyddssynpunkt lämpligt\nsätt,..."
          ],
          [
           "(https://intranet.chalmers.se/om-chalmers/planera-leda-utveckla-\nverksamheten/verksamhetsstyrning/be..."
          ],
          [
           "högskoleförordningen motsvaras av specifika arbetsordningar, vilka beslutas av rektor, tillika\nverks..."
          ],
          [
           "Bilaga 1\nDnr. C 2022-0879 - Bilaga 1. Ansvarsfördelning Chalmers strålskyddsorganisationAnsvarsförde..."
          ],
          [
           "Aktivt verka för att arbetet vid anläggningen bedrivs på ett från strålskyddssynpunkt lämpligt\nsätt,..."
          ],
          [
           "högskoleförordningen motsvaras av specifika arbetsordningar, vilka beslutas av rektor, tillika\nverks..."
          ],
          [
           "STYRDOKUMENT: Föreskrift för strålsäkerhet och kärnteknisk verksamhet vid Chalmers tekniska\nhögskola..."
          ],
          [
           "STYRDOKUMENT: Föreskrift för strålsäkerhet och kärnteknisk verksamhet vid Chalmers tekniska\nhögskola..."
          ],
          [
           "STYRDOKUMENT: Föreskrift för strålsäkerhet och kärnteknisk verksamhet vid Chalmers tekniska\nhögskola..."
          ],
          [
           "STYRDOKUMENT: Föreskrift för strålsäkerhet och kärnteknisk verksamhet vid Chalmers tekniska\nhögskola..."
          ],
          [
           "STYRDOKUMENT: Föreskrift för strålsäkerhet och kärnteknisk verksamhet vid Chalmers tekniska\nhögskola..."
          ],
          [
           "STYRDOKUMENT: Föreskrift för strålsäkerhet och kärnteknisk verksamhet vid Chalmers tekniska\nhögskola..."
          ],
          [
           "relaterade ledningssystemet. Föreskriften riktar sig till lärosätets ledning, centrala verksamhetsst..."
          ],
          [
           "rapporterar eventuella betydande avvikelser till Strålsäkerhetsmyndigheten.\nDen interna revisionen a..."
          ],
          [
           "stödverksamheter. Intressenter inom verksamheten är prefekter/motsvarande och medarbetare som\narbeta..."
          ],
          [
           "STYRDOKUMENT: Föreskrift för strålsäkerhet och kärnteknisk verksamhet vid Chalmers tekniska\nhögskola..."
          ],
          [
           "(https://intranet.chalmers.se/om-chalmers/planera-leda-utveckla-\nverksamheten/verksamhetsstyrning/be..."
          ],
          [
           "relaterade ledningssystemet. Föreskriften riktar sig till lärosätets ledning, centrala verksamhetsst..."
          ],
          [
           "(https://intranet.chalmers.se/om-chalmers/planera-leda-utveckla-\nverksamheten/verksamhetsstyrning/be..."
          ],
          [
           "(https://intranet.chalmers.se/om-chalmers/planera-leda-utveckla-\nverksamheten/verksamhetsstyrning/be..."
          ],
          [
           "Rutinerna är en del av miljöledningssystemet och det systematiska arbetsmiljöarbetet. Rektor är\nytte..."
          ],
          [
           "arbete med joniserande strålning som sker inom sina ansvarsområden så att detta genomförs på ett\nstr..."
          ],
          [
           "STYRDOKUMENT: Föreskrift för strålsäkerhet och kärnteknisk verksamhet vid Chalmers tekniska\nhögskola..."
          ],
          [
           "strålsäkerhetsarbete ska göras genom intern strålsäkerhetsrond och intern revision av\nledningssystem..."
          ],
          [
           "Ansvara för att det rapporteras förändringar i registret över innehav av strålkällor före\nutgången a..."
          ],
          [
           "rapporterar eventuella betydande avvikelser till Strålsäkerhetsmyndigheten.\nDen interna revisionen a..."
          ],
          [
           "STYRDOKUMENT: Föreskrift för strålsäkerhet och kärnteknisk verksamhet vid Chalmers tekniska\nhögskola..."
          ],
          [
           "Bilaga 1\nDnr. C 2022-0879 - Bilaga 1. Ansvarsfördelning Chalmers strålskyddsorganisationAnsvarsförde..."
          ],
          [
           "Ansvara för att det rapporteras förändringar i registret över innehav av strålkällor före\nutgången a..."
          ],
          [
           "Bilaga 1\nDnr. C 2022-0879 - Bilaga 1. Ansvarsfördelning Chalmers strålskyddsorganisationAnsvarsförde..."
          ],
          [
           "STYRDOKUMENT: Föreskrift för strålsäkerhet och kärnteknisk verksamhet vid Chalmers tekniska\nhögskola..."
          ],
          [
           "Bilaga 1\nDnr. C 2022-0879 - Bilaga 1. Ansvarsfördelning Chalmers strålskyddsorganisationUpprätta och..."
          ],
          [
           "aktuell lagstiftning och är styrande samt tydliggör förutsättningarna för laboratoriesäkerhetsarbete..."
          ],
          [
           "arbete med joniserande strålning som sker inom sina ansvarsområden så att detta genomförs på ett\nstr..."
          ],
          [
           "Bilaga 1\nDnr. C 2022-0879 - Bilaga 1. Ansvarsfördelning Chalmers strålskyddsorganisationStrålskyddsk..."
          ],
          [
           "rapporterar eventuella betydande avvikelser till Strålsäkerhetsmyndigheten.\nDen interna revisionen a..."
          ],
          [
           "STYRDOKUMENT: Föreskrift för strålsäkerhet och kärnteknisk verksamhet vid Chalmers tekniska\nhögskola..."
          ],
          [
           "verksamheten som hjälp och rådgivning i strålskyddsarbetet. Funktionen ska ha tillförsäkrats, av den..."
          ],
          [
           "Ansvara för att det rapporteras förändringar i registret över innehav av strålkällor före\nutgången a..."
          ],
          [
           "STYRDOKUMENT: Föreskrift för strålsäkerhet och kärnteknisk verksamhet vid Chalmers tekniska\nhögskola..."
          ],
          [
           "STYRDOKUMENT: Föreskrift för strålsäkerhet och kärnteknisk verksamhet vid Chalmers tekniska\nhögskola..."
          ],
          [
           "ska ha dokumenterade utbildningsplaner för olika personalkategorier. Dessa\nutbildningsplaner ska tas..."
          ],
          [
           "ska ha dokumenterade utbildningsplaner för olika personalkategorier. Dessa\nutbildningsplaner ska tas..."
          ],
          [
           "STYRDOKUMENT: Föreskrift för strålsäkerhet och kärnteknisk verksamhet vid Chalmers tekniska\nhögskola..."
          ],
          [
           "arbetar med joniserande strålning samt i viss utsträckning även studenter. Även externa intressenter..."
          ],
          [
           "Aktivt verka för att arbetet vid anläggningen bedrivs på ett från strålskyddssynpunkt lämpligt\nsätt,..."
          ],
          [
           "STYRDOKUMENT: Föreskrift för strålsäkerhet och kärnteknisk verksamhet vid Chalmers tekniska\nhögskola..."
          ],
          [
           "Bilaga 1\nDnr. C 2022-0879 - Bilaga 1. Ansvarsfördelning Chalmers strålskyddsorganisationStrålskyddsk..."
          ],
          [
           "Bilaga 1\nDnr. C 2022-0879 - Bilaga 1. Ansvarsfördelning Chalmers strålskyddsorganisationUpprätta och..."
          ],
          [
           "relaterade ledningssystemet. Föreskriften riktar sig till lärosätets ledning, centrala verksamhetsst..."
          ],
          [
           "stödverksamheter. Intressenter inom verksamheten är prefekter/motsvarande och medarbetare som\narbeta..."
          ],
          [
           "Bilaga 1\nDnr. C 2022-0879 - Bilaga 1. Ansvarsfördelning Chalmers strålskyddsorganisationAnsvarsförde..."
          ],
          [
           "Aktivt verka för att arbetet vid anläggningen bedrivs på ett från strålskyddssynpunkt lämpligt\nsätt,..."
          ],
          [
           "Bilaga 1\nDnr. C 2022-0879 - Bilaga 1. Ansvarsfördelning Chalmers strålskyddsorganisationStrålskyddsk..."
          ],
          [
           "ska ha dokumenterade utbildningsplaner för olika personalkategorier. Dessa\nutbildningsplaner ska tas..."
          ],
          [
           "strålsäkerhetsarbete ska göras genom intern strålsäkerhetsrond och intern revision av\nledningssystem..."
          ],
          [
           "relaterade ledningssystemet. Föreskriften riktar sig till lärosätets ledning, centrala verksamhetsst..."
          ],
          [
           "(https://intranet.chalmers.se/om-chalmers/planera-leda-utveckla-\nverksamheten/verksamhetsstyrning/be..."
          ],
          [
           "Bilaga 1\nDnr. C 2022-0879 - Bilaga 1. Ansvarsfördelning Chalmers strålskyddsorganisationStrålskyddsk..."
          ],
          [
           "stödverksamheter. Intressenter inom verksamheten är prefekter/motsvarande och medarbetare som\narbeta..."
          ],
          [
           "högskoleförordningen motsvaras av specifika arbetsordningar, vilka beslutas av rektor, tillika\nverks..."
          ],
          [
           "STYRDOKUMENT: Föreskrift för strålsäkerhet och kärnteknisk verksamhet vid Chalmers tekniska\nhögskola..."
          ],
          [
           "STYRDOKUMENT: Föreskrift för strålsäkerhet och kärnteknisk verksamhet vid Chalmers tekniska\nhögskola..."
          ],
          [
           "STYRDOKUMENT: Föreskrift för strålsäkerhet och kärnteknisk verksamhet vid Chalmers tekniska\nhögskola..."
          ],
          [
           "högskoleförordningen motsvaras av specifika arbetsordningar, vilka beslutas av rektor, tillika\nverks..."
          ],
          [
           "Bilaga 1\nDnr. C 2022-0879 - Bilaga 1. Ansvarsfördelning Chalmers strålskyddsorganisationStrålskyddsk..."
          ],
          [
           "STYRDOKUMENT: Föreskrift för strålsäkerhet och kärnteknisk verksamhet vid Chalmers tekniska\nhögskola..."
          ],
          [
           "(https://intranet.chalmers.se/om-chalmers/planera-leda-utveckla-\nverksamheten/verksamhetsstyrning/be..."
          ],
          [
           "arbete med joniserande strålning som sker inom sina ansvarsområden så att detta genomförs på ett\nstr..."
          ],
          [
           "STYRDOKUMENT: Föreskrift för strålsäkerhet och kärnteknisk verksamhet vid Chalmers tekniska\nhögskola..."
          ],
          [
           "(https://intranet.chalmers.se/om-chalmers/planera-leda-utveckla-\nverksamheten/verksamhetsstyrning/be..."
          ],
          [
           "Bilaga 1\nDnr. C 2022-0879 - Bilaga 1. Ansvarsfördelning Chalmers strålskyddsorganisationUpprätta och..."
          ],
          [
           "verksamheten som hjälp och rådgivning i strålskyddsarbetet. Funktionen ska ha tillförsäkrats, av den..."
          ],
          [
           "rapporterar eventuella betydande avvikelser till Strålsäkerhetsmyndigheten.\nDen interna revisionen a..."
          ],
          [
           "Bilaga 1\nDnr. C 2022-0879 - Bilaga 1. Ansvarsfördelning Chalmers strålskyddsorganisationStrålskyddsk..."
          ],
          [
           "verksamheten som hjälp och rådgivning i strålskyddsarbetet. Funktionen ska ha tillförsäkrats, av den..."
          ],
          [
           "STYRDOKUMENT: Föreskrift för strålsäkerhet och kärnteknisk verksamhet vid Chalmers tekniska\nhögskola..."
          ],
          [
           "STYRDOKUMENT: Föreskrift för strålsäkerhet och kärnteknisk verksamhet vid Chalmers tekniska\nhögskola..."
          ],
          [
           "Bilaga 1\nDnr. C 2022-0879 - Bilaga 1. Ansvarsfördelning Chalmers strålskyddsorganisationStrålskyddsk..."
          ],
          [
           "relaterade ledningssystemet. Föreskriften riktar sig till lärosätets ledning, centrala verksamhetsst..."
          ],
          [
           "Aktivt verka för att arbetet vid anläggningen bedrivs på ett från strålskyddssynpunkt lämpligt\nsätt,..."
          ],
          [
           "STYRDOKUMENT: Föreskrift för strålsäkerhet och kärnteknisk verksamhet vid Chalmers tekniska\nhögskola..."
          ],
          [
           "Bilaga 1\nDnr. C 2022-0879 - Bilaga 1. Ansvarsfördelning Chalmers strålskyddsorganisationAnsvarsförde..."
          ],
          [
           "högskoleförordningen motsvaras av specifika arbetsordningar, vilka beslutas av rektor, tillika\nverks..."
          ],
          [
           "ska ha dokumenterade utbildningsplaner för olika personalkategorier. Dessa\nutbildningsplaner ska tas..."
          ],
          [
           "ska ha dokumenterade utbildningsplaner för olika personalkategorier. Dessa\nutbildningsplaner ska tas..."
          ],
          [
           "arbete med joniserande strålning som sker inom sina ansvarsområden så att detta genomförs på ett\nstr..."
          ],
          [
           "stödverksamheter. Intressenter inom verksamheten är prefekter/motsvarande och medarbetare som\narbeta..."
          ],
          [
           "rapporterar eventuella betydande avvikelser till Strålsäkerhetsmyndigheten.\nDen interna revisionen a..."
          ],
          [
           "aktuell lagstiftning och är styrande samt tydliggör förutsättningarna för laboratoriesäkerhetsarbete..."
          ],
          [
           "STYRDOKUMENT: Föreskrift för strålsäkerhet och kärnteknisk verksamhet vid Chalmers tekniska\nhögskola..."
          ],
          [
           "Rutinerna är en del av miljöledningssystemet och det systematiska arbetsmiljöarbetet. Rektor är\nytte..."
          ],
          [
           "STYRDOKUMENT: Föreskrift för strålsäkerhet och kärnteknisk verksamhet vid Chalmers tekniska\nhögskola..."
          ],
          [
           "STYRDOKUMENT: Föreskrift för strålsäkerhet och kärnteknisk verksamhet vid Chalmers tekniska\nhögskola..."
          ],
          [
           "Ansvara för att det rapporteras förändringar i registret över innehav av strålkällor före\nutgången a..."
          ],
          [
           "strålsäkerhetsarbete ska göras genom intern strålsäkerhetsrond och intern revision av\nledningssystem..."
          ],
          [
           "(https://intranet.chalmers.se/om-chalmers/planera-leda-utveckla-\nverksamheten/verksamhetsstyrning/be..."
          ],
          [
           "aktuell lagstiftning och är styrande samt tydliggör förutsättningarna för laboratoriesäkerhetsarbete..."
          ],
          [
           "verksamheten som hjälp och rådgivning i strålskyddsarbetet. Funktionen ska ha tillförsäkrats, av den..."
          ],
          [
           "STYRDOKUMENT: Föreskrift för strålsäkerhet och kärnteknisk verksamhet vid Chalmers tekniska\nhögskola..."
          ],
          [
           "högskoleförordningen motsvaras av specifika arbetsordningar, vilka beslutas av rektor, tillika\nverks..."
          ],
          [
           "arbetar med joniserande strålning samt i viss utsträckning även studenter. Även externa intressenter..."
          ],
          [
           "rapporterar eventuella betydande avvikelser till Strålsäkerhetsmyndigheten.\nDen interna revisionen a..."
          ],
          [
           "Bilaga 1\nDnr. C 2022-0879 - Bilaga 1. Ansvarsfördelning Chalmers strålskyddsorganisationAnsvarsförde..."
          ],
          [
           "Aktivt verka för att arbetet vid anläggningen bedrivs på ett från strålskyddssynpunkt lämpligt\nsätt,..."
          ],
          [
           "Bilaga 1\nDnr. C 2022-0879 - Bilaga 1. Ansvarsfördelning Chalmers strålskyddsorganisationAnsvarsförde..."
          ],
          [
           "arbete med joniserande strålning som sker inom sina ansvarsområden så att detta genomförs på ett\nstr..."
          ],
          [
           "STYRDOKUMENT: Föreskrift för strålsäkerhet och kärnteknisk verksamhet vid Chalmers tekniska\nhögskola..."
          ],
          [
           "STYRDOKUMENT: Föreskrift för strålsäkerhet och kärnteknisk verksamhet vid Chalmers tekniska\nhögskola..."
          ],
          [
           "STYRDOKUMENT: Föreskrift för strålsäkerhet och kärnteknisk verksamhet vid Chalmers tekniska\nhögskola..."
          ],
          [
           "högskoleförordningen motsvaras av specifika arbetsordningar, vilka beslutas av rektor, tillika\nverks..."
          ],
          [
           "STYRDOKUMENT: Föreskrift för strålsäkerhet och kärnteknisk verksamhet vid Chalmers tekniska\nhögskola..."
          ],
          [
           "STYRDOKUMENT: Föreskrift för strålsäkerhet och kärnteknisk verksamhet vid Chalmers tekniska\nhögskola..."
          ],
          [
           "Bilaga 1\nDnr. C 2022-0879 - Bilaga 1. Ansvarsfördelning Chalmers strålskyddsorganisationUpprätta och..."
          ],
          [
           "STYRDOKUMENT: Föreskrift för strålsäkerhet och kärnteknisk verksamhet vid Chalmers tekniska\nhögskola..."
          ],
          [
           "strålsäkerhetsarbete ska göras genom intern strålsäkerhetsrond och intern revision av\nledningssystem..."
          ],
          [
           "relaterade ledningssystemet. Föreskriften riktar sig till lärosätets ledning, centrala verksamhetsst..."
          ],
          [
           "strålsäkerhetsarbete ska göras genom intern strålsäkerhetsrond och intern revision av\nledningssystem..."
          ],
          [
           "STYRDOKUMENT: Föreskrift för strålsäkerhet och kärnteknisk verksamhet vid Chalmers tekniska\nhögskola..."
          ],
          [
           "stödverksamheter. Intressenter inom verksamheten är prefekter/motsvarande och medarbetare som\narbeta..."
          ],
          [
           "arbete med joniserande strålning som sker inom sina ansvarsområden så att detta genomförs på ett\nstr..."
          ],
          [
           "Bilaga 1\nDnr. C 2022-0879 - Bilaga 1. Ansvarsfördelning Chalmers strålskyddsorganisationAnsvarsförde..."
          ],
          [
           "STYRDOKUMENT: Föreskrift för strålsäkerhet och kärnteknisk verksamhet vid Chalmers tekniska\nhögskola..."
          ],
          [
           "STYRDOKUMENT: Föreskrift för strålsäkerhet och kärnteknisk verksamhet vid Chalmers tekniska\nhögskola..."
          ],
          [
           "STYRDOKUMENT: Föreskrift för strålsäkerhet och kärnteknisk verksamhet vid Chalmers tekniska\nhögskola..."
          ],
          [
           "Bilaga 1\nDnr. C 2022-0879 - Bilaga 1. Ansvarsfördelning Chalmers strålskyddsorganisationUpprätta och..."
          ],
          [
           "STYRDOKUMENT: Föreskrift för strålsäkerhet och kärnteknisk verksamhet vid Chalmers tekniska\nhögskola..."
          ],
          [
           "Bilaga 1\nDnr. C 2022-0879 - Bilaga 1. Ansvarsfördelning Chalmers strålskyddsorganisationStrålskyddsk..."
          ],
          [
           "aktuell lagstiftning och är styrande samt tydliggör förutsättningarna för laboratoriesäkerhetsarbete..."
          ],
          [
           "STYRDOKUMENT: Föreskrift för strålsäkerhet och kärnteknisk verksamhet vid Chalmers tekniska\nhögskola..."
          ],
          [
           "STYRDOKUMENT: Föreskrift för strålsäkerhet och kärnteknisk verksamhet vid Chalmers tekniska\nhögskola..."
          ],
          [
           "aktuell lagstiftning och är styrande samt tydliggör förutsättningarna för laboratoriesäkerhetsarbete..."
          ],
          [
           "aktuell lagstiftning och är styrande samt tydliggör förutsättningarna för laboratoriesäkerhetsarbete..."
          ]
         ],
         "hovertemplate": "source=Arbetsmiljö<br>symbol=circle<br>x=%{x}<br>y=%{y}<br>size_col=%{marker.size}<br>extract=%{customdata[0]}<extra></extra>",
         "legendgroup": "Arbetsmiljö, circle",
         "marker": {
          "color": "#EF553B",
          "line": {
           "color": "DarkSlateGrey",
           "width": 0
          },
          "opacity": 1,
          "size": [
           0.6,
           0.6,
           0.6,
           0.6,
           0.6,
           0.6,
           0.6,
           0.6,
           0.6,
           0.6,
           0.6,
           0.6,
           0.6,
           0.6,
           0.6,
           0.6,
           0.6,
           0.6,
           0.6,
           0.6,
           0.6,
           0.6,
           0.6,
           0.6,
           0.6,
           0.6,
           0.6,
           0.6,
           0.6,
           0.6,
           0.6,
           0.6,
           0.6,
           0.6,
           0.6,
           0.6,
           0.6,
           0.6,
           0.6,
           0.6,
           0.6,
           0.6,
           0.6,
           0.6,
           0.6,
           0.6,
           0.6,
           0.6,
           0.6,
           0.6,
           0.6,
           0.6,
           0.6,
           0.6,
           0.6,
           0.6,
           0.6,
           0.6,
           0.6,
           0.6,
           0.6,
           0.6,
           0.6,
           0.6,
           0.6,
           0.6,
           0.6,
           0.6,
           0.6,
           0.6,
           0.6,
           0.6,
           0.6,
           0.6,
           0.6,
           0.6,
           0.6,
           0.6,
           0.6,
           0.6,
           0.6,
           0.6,
           0.6,
           0.6,
           0.6,
           0.6,
           0.6,
           0.6,
           0.6,
           0.6,
           0.6,
           0.6,
           0.6,
           0.6,
           0.6,
           0.6,
           0.6,
           0.6,
           0.6,
           0.6,
           0.6,
           0.6,
           0.6,
           0.6,
           0.6,
           0.6,
           0.6,
           0.6,
           0.6,
           0.6,
           0.6,
           0.6,
           0.6,
           0.6,
           0.6,
           0.6,
           0.6,
           0.6,
           0.6,
           0.6,
           0.6,
           0.6,
           0.6,
           0.6,
           0.6,
           0.6,
           0.6,
           0.6,
           0.6,
           0.6,
           0.6,
           0.6,
           0.6,
           0.6,
           0.6,
           0.6,
           0.6,
           0.6,
           0.6,
           0.6,
           0.6,
           0.6,
           0.6,
           0.6,
           0.6,
           0.6,
           0.6,
           0.6,
           0.6,
           0.6,
           0.6,
           0.6,
           0.6,
           0.6,
           0.6,
           0.6,
           0.6,
           0.6,
           0.6,
           0.6,
           0.6,
           0.6,
           0.6,
           0.6,
           0.6,
           0.6,
           0.6,
           0.6,
           0.6,
           0.6,
           0.6
          ],
          "sizemode": "area",
          "sizeref": 0.0015,
          "symbol": "circle"
         },
         "mode": "markers",
         "name": "Arbetsmiljö, circle",
         "orientation": "v",
         "showlegend": true,
         "type": "scatter",
         "x": [
          7.963458,
          -5.5441394,
          -2.1886082,
          8.9571295,
          -4.1557612,
          9.950909,
          8.2271805,
          9.701494,
          -4.321102,
          -4.3207855,
          -6.1028595,
          11.65437,
          12.686506,
          8.262792,
          10.161518,
          -5.892292,
          9.762395,
          9.728453,
          -6.102776,
          -5.3902183,
          -9.629965,
          -5.070566,
          -5.488477,
          8.928504,
          -5.2038803,
          11.788716,
          10.76469,
          -9.790024,
          -6.4507165,
          10.019763,
          -6.122849,
          10.042411,
          -6.197059,
          -5.625719,
          -9.707796,
          -9.791342,
          -6.700926,
          11.902648,
          12.648313,
          -4.2069316,
          -9.424675,
          10.484438,
          12.851969,
          -9.463795,
          -7.3104234,
          7.2472534,
          7.9834127,
          7.902223,
          -7.1928134,
          -7.1572328,
          -7.045498,
          -6.06918,
          -5.9755125,
          -7.3857713,
          -3.991358,
          -6.849195,
          -4.118175,
          -4.165578,
          -3.4749098,
          10.186483,
          7.2099423,
          -4.4000807,
          9.569925,
          -6.2928963,
          -9.781318,
          10.40602,
          10.107198,
          10.188669,
          -5.919561,
          8.061947,
          -2.3446834,
          10.351669,
          11.805413,
          -6.227278,
          7.09757,
          9.938301,
          9.975435,
          -7.4008274,
          -7.041757,
          11.751802,
          11.914058,
          -7.2972527,
          -5.9547215,
          12.76768,
          6.968117,
          11.735022,
          8.426333,
          -6.853941,
          -6.312785,
          10.429281,
          12.657482,
          11.350301,
          11.725142,
          -4.2718153,
          -6.61526,
          -4.211874,
          10.662499,
          -6.268078,
          -9.419166,
          -5.0757923,
          -7.110608,
          -10.21533,
          -9.441624,
          11.800882,
          8.525502,
          -4.237923,
          10.235216,
          9.226025,
          -4.144225,
          8.338403,
          9.848313,
          -6.4223585,
          11.737453,
          9.790406,
          7.341822,
          -5.5743637,
          10.507928,
          -6.8918495,
          12.843196,
          7.1182475,
          9.755945,
          -9.382187,
          11.783108,
          11.738069,
          10.373904,
          -6.0381813,
          -6.180256,
          -2.2258103,
          -4.8018837,
          -3.4436235,
          -7.162109,
          -4.930689,
          9.846067,
          -4.3158255,
          -4.0970383,
          -2.1506507,
          9.819224,
          8.136565,
          -9.414549,
          -5.8225555,
          -6.217368,
          10.424304,
          12.526151,
          10.045801,
          10.249496,
          8.060322,
          -4.8635125,
          -9.749718,
          -9.436424,
          8.4576235,
          -6.3234367,
          8.307031,
          7.200175,
          -4.407781,
          -6.729686,
          -4.356241,
          7.9727855,
          -6.072705,
          10.038359,
          10.391555,
          -5.1764297,
          -9.877615,
          9.226596,
          8.060049,
          7.956985,
          11.480918,
          -2.4672396,
          -5.9097943,
          -9.583926,
          -2.196829,
          -2.258791
         ],
         "xaxis": "x",
         "y": [
          2.1372292,
          -2.6571403,
          10.093762,
          -0.029283559,
          11.181948,
          2.7107327,
          -0.4568476,
          -2.3674014,
          8.452341,
          8.45258,
          -5.6499434,
          -1.8481845,
          -0.15335342,
          -0.7158912,
          0.8713265,
          -0.61336964,
          -2.270739,
          -2.2575436,
          -2.449184,
          -2.5101929,
          -3.6027873,
          0.34791765,
          -2.472027,
          -0.03763118,
          0.27952078,
          1.9276602,
          -0.3850076,
          -4.349164,
          -2.257006,
          2.4976373,
          -5.644754,
          2.5053215,
          -0.6713134,
          -2.5333357,
          -4.9839067,
          -4.9268036,
          -4.1095057,
          1.8989898,
          0.078236684,
          11.198836,
          -2.861044,
          -0.45921645,
          0.11385818,
          -3.180794,
          -2.4255793,
          1.3205917,
          2.2933192,
          1.9472564,
          -2.3952856,
          -3.30544,
          -3.937852,
          -0.52940375,
          -5.456848,
          -2.3342032,
          11.056887,
          -3.9403641,
          11.100684,
          11.158676,
          9.983384,
          0.97646606,
          1.2809267,
          8.382513,
          2.8449275,
          -0.6290188,
          -4.550016,
          -0.542976,
          2.7160711,
          -0.5138286,
          -0.692091,
          -0.70624495,
          9.854182,
          0.67900336,
          -2.2565799,
          -0.6140543,
          1.0915767,
          -2.3272376,
          2.6190324,
          -2.2730443,
          -2.203074,
          1.9621426,
          2.0897152,
          -2.5084937,
          -5.719717,
          0.0032409441,
          1.3101196,
          -1.9345897,
          -0.46202725,
          -3.897617,
          -5.6431694,
          -0.37046582,
          0.07635284,
          -1.7860336,
          1.7921255,
          8.560534,
          -4.08767,
          11.18874,
          -0.46957538,
          -5.9593163,
          -2.7177176,
          0.315542,
          -2.5009754,
          -4.540867,
          -2.9876106,
          -2.1451914,
          0.90539855,
          11.3152895,
          0.59796166,
          0.9958971,
          11.127371,
          -0.8016898,
          -2.3783264,
          -0.8048142,
          -1.9905314,
          -2.3761053,
          1.3858495,
          -2.4388826,
          -0.37660414,
          -3.855688,
          0.32076728,
          1.2670746,
          0.20576859,
          -2.9575956,
          1.7438536,
          1.8246689,
          0.8264715,
          -5.588813,
          -0.77260184,
          9.839723,
          0.64139163,
          9.919664,
          -3.4218302,
          0.5220417,
          2.719215,
          8.418682,
          11.114619,
          10.211443,
          -2.35855,
          1.843008,
          -2.9318779,
          -5.416336,
          -0.7462486,
          -0.52071375,
          0.53068197,
          0.12942317,
          0.8881216,
          2.215053,
          0.5646466,
          -4.6354365,
          -2.8949926,
          0.9826621,
          -2.2859087,
          -0.504102,
          1.0291133,
          8.365525,
          -3.933119,
          8.394813,
          2.0213456,
          -5.544566,
          0.8461565,
          -0.34649107,
          0.27617502,
          -4.6686816,
          1.1629788,
          -0.4983734,
          2.1940663,
          -1.8210588,
          9.903648,
          -2.5492837,
          -4.107461,
          10.016433,
          10.256788
         ],
         "yaxis": "y"
        },
        {
         "customdata": [
          [
           "STYRDOKUMENT: Chalmers Alkohol-och drogpolicy C-2023-1732. Beslut av rektor 2024-03-18.Beslut av:\nRe..."
          ],
          [
           "STYRDOKUMENT: Chalmers Alkohol-och drogpolicy C-2023-1732. Beslut av rektor 2024-03-18.Beslut av:\nRe..."
          ],
          [
           "STYRDOKUMENT: Chalmers Alkohol-och drogpolicy C-2023-1732. Beslut av rektor 2024-03-18.Beslut av:\nRe..."
          ]
         ],
         "hovertemplate": "source=documents<br>symbol=circle<br>x=%{x}<br>y=%{y}<br>size_col=%{marker.size}<br>extract=%{customdata[0]}<extra></extra>",
         "legendgroup": "documents, circle",
         "marker": {
          "color": "#00cc96",
          "line": {
           "color": "DarkSlateGrey",
           "width": 0
          },
          "opacity": 1,
          "size": [
           0.6,
           0.6,
           0.6
          ],
          "sizemode": "area",
          "sizeref": 0.0015,
          "symbol": "circle"
         },
         "mode": "markers",
         "name": "documents, circle",
         "orientation": "v",
         "showlegend": true,
         "type": "scatter",
         "x": [
          -19.90837,
          -19.910261,
          -19.903606
         ],
         "xaxis": "x",
         "y": [
          -7.7924585,
          -7.793426,
          -7.786759
         ],
         "yaxis": "y"
        },
        {
         "customdata": [
          [
           "Föreskrift för stipendier för studenter inom Chalmers utbildningsprogram på grund - och avancerad \nn..."
          ],
          [
           "Föreskrift för stipendier för studenter inom Chalmers utbildningsprogram på grund - och avancerad \nn..."
          ],
          [
           "Föreskrift för stipendier för studenter inom Chalmers utbildningsprogram på grund - och avancerad \nn..."
          ],
          [
           "Föreskrift för stipendier för studenter inom Chalmers utbildningsprogram på grund - och avancerad \nn..."
          ],
          [
           "Föreskrift för stipendier för studenter inom Chalmers utbildningsprogram på grund - och avancerad \nn..."
          ],
          [
           "Föreskrift för stipendier för studenter inom Chalmers utbildningsprogram på grund - och avancerad \nn..."
          ],
          [
           "Föreskrift för stipendier för studenter inom Chalmers utbildningsprogram på grund - och avancerad \nn..."
          ],
          [
           "Föreskrift för stipendier för studenter inom Chalmers utbildningsprogram på grund - och avancerad \nn..."
          ]
         ],
         "hovertemplate": "source=Forskarutbildning<br>symbol=circle<br>x=%{x}<br>y=%{y}<br>size_col=%{marker.size}<br>extract=%{customdata[0]}<extra></extra>",
         "legendgroup": "Forskarutbildning, circle",
         "marker": {
          "color": "#ab63fa",
          "line": {
           "color": "DarkSlateGrey",
           "width": 0
          },
          "opacity": 1,
          "size": [
           0.6,
           0.6,
           0.6,
           0.6,
           0.6,
           0.6,
           0.6,
           0.6
          ],
          "sizemode": "area",
          "sizeref": 0.0015,
          "symbol": "circle"
         },
         "mode": "markers",
         "name": "Forskarutbildning, circle",
         "orientation": "v",
         "showlegend": true,
         "type": "scatter",
         "x": [
          -19.919498,
          -19.916069,
          -19.916964,
          -19.913837,
          -19.925997,
          -19.919544,
          -19.918318,
          -19.916868
         ],
         "xaxis": "x",
         "y": [
          -7.797383,
          -7.795436,
          -7.7963514,
          -7.794263,
          -7.8018217,
          -7.796636,
          -7.796126,
          -7.7962356
         ],
         "yaxis": "y"
        },
        {
         "customdata": [
          [
           "Hur är strålsäkerhetsarbetet organiserat?"
          ]
         ],
         "hovertemplate": "source=User query<br>symbol=star<br>x=%{x}<br>y=%{y}<br>size_col=%{marker.size}<br>extract=%{customdata[0]}<extra></extra>",
         "legendgroup": "User query, star",
         "marker": {
          "color": "black",
          "line": {
           "color": "DarkSlateGrey",
           "width": 0
          },
          "opacity": 1,
          "size": [
           0.1
          ],
          "sizemode": "area",
          "sizeref": 0.0015,
          "symbol": "diamond"
         },
         "mode": "markers",
         "name": "User query, star",
         "orientation": "v",
         "showlegend": true,
         "type": "scatter",
         "x": [
          -2.258791
         ],
         "xaxis": "x",
         "y": [
          10.256788
         ],
         "yaxis": "y"
        }
       ],
       "layout": {
        "height": 500,
        "legend": {
         "itemsizing": "constant",
         "title": {
          "text": "<b>Chunk source</b>"
         },
         "tracegroupgap": 0
        },
        "margin": {
         "t": 60
        },
        "template": {
         "data": {
          "bar": [
           {
            "error_x": {
             "color": "#2a3f5f"
            },
            "error_y": {
             "color": "#2a3f5f"
            },
            "marker": {
             "line": {
              "color": "#E5ECF6",
              "width": 0.5
             },
             "pattern": {
              "fillmode": "overlay",
              "size": 10,
              "solidity": 0.2
             }
            },
            "type": "bar"
           }
          ],
          "barpolar": [
           {
            "marker": {
             "line": {
              "color": "#E5ECF6",
              "width": 0.5
             },
             "pattern": {
              "fillmode": "overlay",
              "size": 10,
              "solidity": 0.2
             }
            },
            "type": "barpolar"
           }
          ],
          "carpet": [
           {
            "aaxis": {
             "endlinecolor": "#2a3f5f",
             "gridcolor": "white",
             "linecolor": "white",
             "minorgridcolor": "white",
             "startlinecolor": "#2a3f5f"
            },
            "baxis": {
             "endlinecolor": "#2a3f5f",
             "gridcolor": "white",
             "linecolor": "white",
             "minorgridcolor": "white",
             "startlinecolor": "#2a3f5f"
            },
            "type": "carpet"
           }
          ],
          "choropleth": [
           {
            "colorbar": {
             "outlinewidth": 0,
             "ticks": ""
            },
            "type": "choropleth"
           }
          ],
          "contour": [
           {
            "colorbar": {
             "outlinewidth": 0,
             "ticks": ""
            },
            "colorscale": [
             [
              0,
              "#0d0887"
             ],
             [
              0.1111111111111111,
              "#46039f"
             ],
             [
              0.2222222222222222,
              "#7201a8"
             ],
             [
              0.3333333333333333,
              "#9c179e"
             ],
             [
              0.4444444444444444,
              "#bd3786"
             ],
             [
              0.5555555555555556,
              "#d8576b"
             ],
             [
              0.6666666666666666,
              "#ed7953"
             ],
             [
              0.7777777777777778,
              "#fb9f3a"
             ],
             [
              0.8888888888888888,
              "#fdca26"
             ],
             [
              1,
              "#f0f921"
             ]
            ],
            "type": "contour"
           }
          ],
          "contourcarpet": [
           {
            "colorbar": {
             "outlinewidth": 0,
             "ticks": ""
            },
            "type": "contourcarpet"
           }
          ],
          "heatmap": [
           {
            "colorbar": {
             "outlinewidth": 0,
             "ticks": ""
            },
            "colorscale": [
             [
              0,
              "#0d0887"
             ],
             [
              0.1111111111111111,
              "#46039f"
             ],
             [
              0.2222222222222222,
              "#7201a8"
             ],
             [
              0.3333333333333333,
              "#9c179e"
             ],
             [
              0.4444444444444444,
              "#bd3786"
             ],
             [
              0.5555555555555556,
              "#d8576b"
             ],
             [
              0.6666666666666666,
              "#ed7953"
             ],
             [
              0.7777777777777778,
              "#fb9f3a"
             ],
             [
              0.8888888888888888,
              "#fdca26"
             ],
             [
              1,
              "#f0f921"
             ]
            ],
            "type": "heatmap"
           }
          ],
          "heatmapgl": [
           {
            "colorbar": {
             "outlinewidth": 0,
             "ticks": ""
            },
            "colorscale": [
             [
              0,
              "#0d0887"
             ],
             [
              0.1111111111111111,
              "#46039f"
             ],
             [
              0.2222222222222222,
              "#7201a8"
             ],
             [
              0.3333333333333333,
              "#9c179e"
             ],
             [
              0.4444444444444444,
              "#bd3786"
             ],
             [
              0.5555555555555556,
              "#d8576b"
             ],
             [
              0.6666666666666666,
              "#ed7953"
             ],
             [
              0.7777777777777778,
              "#fb9f3a"
             ],
             [
              0.8888888888888888,
              "#fdca26"
             ],
             [
              1,
              "#f0f921"
             ]
            ],
            "type": "heatmapgl"
           }
          ],
          "histogram": [
           {
            "marker": {
             "pattern": {
              "fillmode": "overlay",
              "size": 10,
              "solidity": 0.2
             }
            },
            "type": "histogram"
           }
          ],
          "histogram2d": [
           {
            "colorbar": {
             "outlinewidth": 0,
             "ticks": ""
            },
            "colorscale": [
             [
              0,
              "#0d0887"
             ],
             [
              0.1111111111111111,
              "#46039f"
             ],
             [
              0.2222222222222222,
              "#7201a8"
             ],
             [
              0.3333333333333333,
              "#9c179e"
             ],
             [
              0.4444444444444444,
              "#bd3786"
             ],
             [
              0.5555555555555556,
              "#d8576b"
             ],
             [
              0.6666666666666666,
              "#ed7953"
             ],
             [
              0.7777777777777778,
              "#fb9f3a"
             ],
             [
              0.8888888888888888,
              "#fdca26"
             ],
             [
              1,
              "#f0f921"
             ]
            ],
            "type": "histogram2d"
           }
          ],
          "histogram2dcontour": [
           {
            "colorbar": {
             "outlinewidth": 0,
             "ticks": ""
            },
            "colorscale": [
             [
              0,
              "#0d0887"
             ],
             [
              0.1111111111111111,
              "#46039f"
             ],
             [
              0.2222222222222222,
              "#7201a8"
             ],
             [
              0.3333333333333333,
              "#9c179e"
             ],
             [
              0.4444444444444444,
              "#bd3786"
             ],
             [
              0.5555555555555556,
              "#d8576b"
             ],
             [
              0.6666666666666666,
              "#ed7953"
             ],
             [
              0.7777777777777778,
              "#fb9f3a"
             ],
             [
              0.8888888888888888,
              "#fdca26"
             ],
             [
              1,
              "#f0f921"
             ]
            ],
            "type": "histogram2dcontour"
           }
          ],
          "mesh3d": [
           {
            "colorbar": {
             "outlinewidth": 0,
             "ticks": ""
            },
            "type": "mesh3d"
           }
          ],
          "parcoords": [
           {
            "line": {
             "colorbar": {
              "outlinewidth": 0,
              "ticks": ""
             }
            },
            "type": "parcoords"
           }
          ],
          "pie": [
           {
            "automargin": true,
            "type": "pie"
           }
          ],
          "scatter": [
           {
            "fillpattern": {
             "fillmode": "overlay",
             "size": 10,
             "solidity": 0.2
            },
            "type": "scatter"
           }
          ],
          "scatter3d": [
           {
            "line": {
             "colorbar": {
              "outlinewidth": 0,
              "ticks": ""
             }
            },
            "marker": {
             "colorbar": {
              "outlinewidth": 0,
              "ticks": ""
             }
            },
            "type": "scatter3d"
           }
          ],
          "scattercarpet": [
           {
            "marker": {
             "colorbar": {
              "outlinewidth": 0,
              "ticks": ""
             }
            },
            "type": "scattercarpet"
           }
          ],
          "scattergeo": [
           {
            "marker": {
             "colorbar": {
              "outlinewidth": 0,
              "ticks": ""
             }
            },
            "type": "scattergeo"
           }
          ],
          "scattergl": [
           {
            "marker": {
             "colorbar": {
              "outlinewidth": 0,
              "ticks": ""
             }
            },
            "type": "scattergl"
           }
          ],
          "scattermapbox": [
           {
            "marker": {
             "colorbar": {
              "outlinewidth": 0,
              "ticks": ""
             }
            },
            "type": "scattermapbox"
           }
          ],
          "scatterpolar": [
           {
            "marker": {
             "colorbar": {
              "outlinewidth": 0,
              "ticks": ""
             }
            },
            "type": "scatterpolar"
           }
          ],
          "scatterpolargl": [
           {
            "marker": {
             "colorbar": {
              "outlinewidth": 0,
              "ticks": ""
             }
            },
            "type": "scatterpolargl"
           }
          ],
          "scatterternary": [
           {
            "marker": {
             "colorbar": {
              "outlinewidth": 0,
              "ticks": ""
             }
            },
            "type": "scatterternary"
           }
          ],
          "surface": [
           {
            "colorbar": {
             "outlinewidth": 0,
             "ticks": ""
            },
            "colorscale": [
             [
              0,
              "#0d0887"
             ],
             [
              0.1111111111111111,
              "#46039f"
             ],
             [
              0.2222222222222222,
              "#7201a8"
             ],
             [
              0.3333333333333333,
              "#9c179e"
             ],
             [
              0.4444444444444444,
              "#bd3786"
             ],
             [
              0.5555555555555556,
              "#d8576b"
             ],
             [
              0.6666666666666666,
              "#ed7953"
             ],
             [
              0.7777777777777778,
              "#fb9f3a"
             ],
             [
              0.8888888888888888,
              "#fdca26"
             ],
             [
              1,
              "#f0f921"
             ]
            ],
            "type": "surface"
           }
          ],
          "table": [
           {
            "cells": {
             "fill": {
              "color": "#EBF0F8"
             },
             "line": {
              "color": "white"
             }
            },
            "header": {
             "fill": {
              "color": "#C8D4E3"
             },
             "line": {
              "color": "white"
             }
            },
            "type": "table"
           }
          ]
         },
         "layout": {
          "annotationdefaults": {
           "arrowcolor": "#2a3f5f",
           "arrowhead": 0,
           "arrowwidth": 1
          },
          "autotypenumbers": "strict",
          "coloraxis": {
           "colorbar": {
            "outlinewidth": 0,
            "ticks": ""
           }
          },
          "colorscale": {
           "diverging": [
            [
             0,
             "#8e0152"
            ],
            [
             0.1,
             "#c51b7d"
            ],
            [
             0.2,
             "#de77ae"
            ],
            [
             0.3,
             "#f1b6da"
            ],
            [
             0.4,
             "#fde0ef"
            ],
            [
             0.5,
             "#f7f7f7"
            ],
            [
             0.6,
             "#e6f5d0"
            ],
            [
             0.7,
             "#b8e186"
            ],
            [
             0.8,
             "#7fbc41"
            ],
            [
             0.9,
             "#4d9221"
            ],
            [
             1,
             "#276419"
            ]
           ],
           "sequential": [
            [
             0,
             "#0d0887"
            ],
            [
             0.1111111111111111,
             "#46039f"
            ],
            [
             0.2222222222222222,
             "#7201a8"
            ],
            [
             0.3333333333333333,
             "#9c179e"
            ],
            [
             0.4444444444444444,
             "#bd3786"
            ],
            [
             0.5555555555555556,
             "#d8576b"
            ],
            [
             0.6666666666666666,
             "#ed7953"
            ],
            [
             0.7777777777777778,
             "#fb9f3a"
            ],
            [
             0.8888888888888888,
             "#fdca26"
            ],
            [
             1,
             "#f0f921"
            ]
           ],
           "sequentialminus": [
            [
             0,
             "#0d0887"
            ],
            [
             0.1111111111111111,
             "#46039f"
            ],
            [
             0.2222222222222222,
             "#7201a8"
            ],
            [
             0.3333333333333333,
             "#9c179e"
            ],
            [
             0.4444444444444444,
             "#bd3786"
            ],
            [
             0.5555555555555556,
             "#d8576b"
            ],
            [
             0.6666666666666666,
             "#ed7953"
            ],
            [
             0.7777777777777778,
             "#fb9f3a"
            ],
            [
             0.8888888888888888,
             "#fdca26"
            ],
            [
             1,
             "#f0f921"
            ]
           ]
          },
          "colorway": [
           "#636efa",
           "#EF553B",
           "#00cc96",
           "#ab63fa",
           "#FFA15A",
           "#19d3f3",
           "#FF6692",
           "#B6E880",
           "#FF97FF",
           "#FECB52"
          ],
          "font": {
           "color": "#2a3f5f"
          },
          "geo": {
           "bgcolor": "white",
           "lakecolor": "white",
           "landcolor": "#E5ECF6",
           "showlakes": true,
           "showland": true,
           "subunitcolor": "white"
          },
          "hoverlabel": {
           "align": "left"
          },
          "hovermode": "closest",
          "mapbox": {
           "style": "light"
          },
          "paper_bgcolor": "white",
          "plot_bgcolor": "#E5ECF6",
          "polar": {
           "angularaxis": {
            "gridcolor": "white",
            "linecolor": "white",
            "ticks": ""
           },
           "bgcolor": "#E5ECF6",
           "radialaxis": {
            "gridcolor": "white",
            "linecolor": "white",
            "ticks": ""
           }
          },
          "scene": {
           "xaxis": {
            "backgroundcolor": "#E5ECF6",
            "gridcolor": "white",
            "gridwidth": 2,
            "linecolor": "white",
            "showbackground": true,
            "ticks": "",
            "zerolinecolor": "white"
           },
           "yaxis": {
            "backgroundcolor": "#E5ECF6",
            "gridcolor": "white",
            "gridwidth": 2,
            "linecolor": "white",
            "showbackground": true,
            "ticks": "",
            "zerolinecolor": "white"
           },
           "zaxis": {
            "backgroundcolor": "#E5ECF6",
            "gridcolor": "white",
            "gridwidth": 2,
            "linecolor": "white",
            "showbackground": true,
            "ticks": "",
            "zerolinecolor": "white"
           }
          },
          "shapedefaults": {
           "line": {
            "color": "#2a3f5f"
           }
          },
          "ternary": {
           "aaxis": {
            "gridcolor": "white",
            "linecolor": "white",
            "ticks": ""
           },
           "baxis": {
            "gridcolor": "white",
            "linecolor": "white",
            "ticks": ""
           },
           "bgcolor": "#E5ECF6",
           "caxis": {
            "gridcolor": "white",
            "linecolor": "white",
            "ticks": ""
           }
          },
          "title": {
           "x": 0.05
          },
          "xaxis": {
           "automargin": true,
           "gridcolor": "white",
           "linecolor": "white",
           "ticks": "",
           "title": {
            "standoff": 15
           },
           "zerolinecolor": "white",
           "zerolinewidth": 2
          },
          "yaxis": {
           "automargin": true,
           "gridcolor": "white",
           "linecolor": "white",
           "ticks": "",
           "title": {
            "standoff": 15
           },
           "zerolinecolor": "white",
           "zerolinewidth": 2
          }
         }
        },
        "title": {
         "text": "<b>2D Projection of Chunk Embeddings via PaCMAP</b>"
        },
        "width": 800,
        "xaxis": {
         "anchor": "y",
         "domain": [
          0,
          1
         ],
         "title": {
          "text": "x"
         }
        },
        "yaxis": {
         "anchor": "x",
         "domain": [
          0,
          1
         ],
         "title": {
          "text": "y"
         }
        }
       }
      }
     },
     "metadata": {},
     "output_type": "display_data"
    }
   ],
   "source": [
    "import warnings\n",
    "warnings.simplefilter(\"ignore\", UserWarning)\n",
    "\n",
    "visualize_chunks(query_vector, collection, path_split='/')"
   ]
  }
 ],
 "metadata": {
  "kernelspec": {
   "display_name": ".venv",
   "language": "python",
   "name": "python3"
  },
  "language_info": {
   "codemirror_mode": {
    "name": "ipython",
    "version": 3
   },
   "file_extension": ".py",
   "mimetype": "text/x-python",
   "name": "python",
   "nbconvert_exporter": "python",
   "pygments_lexer": "ipython3",
   "version": "3.12.2"
  }
 },
 "nbformat": 4,
 "nbformat_minor": 2
}
