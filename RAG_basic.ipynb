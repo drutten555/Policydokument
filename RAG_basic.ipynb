{
 "cells": [
  {
   "cell_type": "markdown",
   "metadata": {},
   "source": [
    "# Advanced RAG on Hugging Face documentation using LangChain"
   ]
  },
  {
   "cell_type": "markdown",
   "metadata": {},
   "source": [
    "Mainly followed: https://huggingface.co/learn/cookbook/advanced_rag#load-your-knowledge-base"
   ]
  },
  {
   "cell_type": "markdown",
   "metadata": {},
   "source": [
    "# Imports"
   ]
  },
  {
   "cell_type": "code",
   "execution_count": 1,
   "metadata": {},
   "outputs": [
    {
     "name": "stderr",
     "output_type": "stream",
     "text": [
      "c:\\Users\\Wendy\\Chalmers_Summer\\Policydokument\\.venv\\Lib\\site-packages\\tqdm\\auto.py:21: TqdmWarning: IProgress not found. Please update jupyter and ipywidgets. See https://ipywidgets.readthedocs.io/en/stable/user_install.html\n",
      "  from .autonotebook import tqdm as notebook_tqdm\n"
     ]
    }
   ],
   "source": [
    "from langchain_community.document_loaders import PyPDFLoader, PyPDFDirectoryLoader\n",
    "from langchain.text_splitter import RecursiveCharacterTextSplitter\n",
    "from langchain_huggingface import HuggingFaceEmbeddings\n",
    "from transformers import AutoModelForCausalLM, AutoTokenizer, pipeline\n",
    "from sentence_transformers import SentenceTransformer\n",
    "from langchain_chroma import Chroma\n",
    "import chromadb\n",
    "\n",
    "import torch\n",
    "import os\n",
    "import matplotlib.pyplot as plt\n",
    "import pandas as pd\n",
    "import re\n",
    "\n",
    "MODEL_NAME_KBLAB = 'KBLab/sentence-bert-swedish-cased'\n",
    "MODEL_NAME_KB = 'KB/bert-base-swedish-cased'\n",
    "MODEL_NAME_INTFLOAT = 'intfloat/multilingual-e5-large-instruct'"
   ]
  },
  {
   "cell_type": "markdown",
   "metadata": {},
   "source": [
    "# Document Loading"
   ]
  },
  {
   "cell_type": "code",
   "execution_count": 2,
   "metadata": {},
   "outputs": [
    {
     "data": {
      "text/plain": [
       "[Document(page_content='Sida 1av 5\\nChalmers tekniska högskola Telefon 031-7721000 Organisationsnummer:\\n412 96 Göteborg Webb: www.chalmers.se 556479–5598Beslut fattat av Enhetschef Utbildningsstöd vid Student\\noch Utbildningsavdelningen om ansökningsprocess för\\nErasmus+ bidrag för personalmobilitet.\\nDnr: C 2023-1945\\nDatum: 2024-01-23\\nMedverkande i beslutet:\\nSusanne Ingmansson, Erasmus + ansvarig\\nAlexandra Priatna, Internationell koordinator\\nHanna Jageklint, Internationell koordinator\\nRickard Ambring, chef Utbildningsstöd\\nKort sammanfattning av beslutet/punkt 4 - på svenska och engelska:\\nStudent och Utbildningsavdelningen vid Chalmers har identifierat behovet av att upprätta en\\nansökningsprocess för Erasmus+ personalmobilitet för administrativ personal och lärare. I stället för\\nen öppen ansökningsprocess under hela året, innebär beslutet att ansökan öppnas två gånger per år:\\nen gång på vår- respektive hösttermin. I och med begränsad budget införs det även ett tak för\\nmaxtid samt maxantal (för samma resa från samma institution/enhet) som kan beviljas Erasmus+\\npersonalmobilitet.\\nThe student and Education department at Chalmers has identified the need to set up an application\\nprocess for Erasmus+ staff training and teacher mobility. Instead of the application being open for\\nsubmissions throughout the year, the application is open for submissions twice a year: once during\\nthe spring semester and once during the autumn semester. Due to the limited budget, a maximum\\nduration as well as a maximum number of Erasmus+ mobilities for one and the same trip will also be\\nimplemented.\\n1. Ärende\\nNy ansökningsperiod för Erasmus+ personalmobilitet - öppet två gånger per år: vår- och\\nhöstterminen.\\n2. Syfte och bakgrund\\nSom anställd eller lärare på Chalmers är det möjligt att ansöka om Erasmus+ bidrag för en\\nkortare mobilitetsperiod (minimum 2 dagar och maximum 14 dagar) utomlands för att delta i\\njobbskuggning, genomföra en kompetensutvecklande aktivitet eller undervisa vid ett\\npartneruniversitet. Ett Erasmus+ bidrag överförs internt till den enhet där personen har sin\\norganisatoriska hemvist för att täcka för en del av kostnaden för mobiliteten. Deltagande i\\nmobiliteten bör förbättra förståelsen för EU och de gemensamma europeiska värderingarna,Beslut fattat av: Rickard Ambring, Chalmers tekniska högskola, 2024-01-23, C 2023-1945\\nDecision made by: Rickard Ambring, Chalmers University of Technology, 2024-01-23, C 2023-1945', metadata={'source': 'data\\\\Ekonomi\\\\Beslut fattat av Enhetschef Utbildningsstöd vid Student och Utbildningsavdelningen om ansökningsprocess för Erasmus+ bidrag för personalmobilitet..PDF', 'page': 0}),\n",
       " Document(page_content='Sida 2av 5\\nChalmers tekniska högskola Telefon 031-7721000 Organisationsnummer:\\n412 96 Göteborg Webb: www.chalmers.se 556479–5598inklusive respekt för demokratiska principer, mänsklig värdighet, enhet och mångfald,\\ninterkulturell dialog samt europeiskt socialt, kulturellt och historiskt arv. Målet med detta\\nprogram är att göra det möjligt för personal och lärare att undervisa eller fortbilda sig utomlands\\nsom en del av sin professionella utveckling i en organisation i de andra EU-länderna.\\nAnsökningsprocessen för Erasmus+ personalmobilitet har hittills hanterats ad-hoc. Information\\nom möjligheten finns på Chalmers intranät och har presenterats till vissa enheter vid Chalmers\\npå förfrågan. Information har tidigare gått ut till administrativa chefer på institutionerna.\\nBidraget har hittills tilldelats personal som ansökt om medel minst 60 dagar innan startdatum.\\nOm medel funnits kvar har mobiliteten och ansökan om bidrag beviljats. Det löpande\\nansökningsförfarandet har lett till oförutsägbarhet för såväl personalen som handläggare, samt\\nen stor administrativ börda.\\nIntresset har ökat hos Chalmers personal att åka utomlands genom Erasmus+ personal- eller\\nlärarmobilitet. Den nuvarande processen är ineffektiv eftersom den kräver administrativ\\nhantering av varje ansökan individuellt och vid olika tidpunkter. För att göra processen mer\\neffektiv kommer ansökningsperioden att öppnas två gånger per år i stället för att vara öppen\\nåret runt (se specifika tidpunkter under punkt 4. nedan).\\nDetta beslut förväntas effektivisera hanteringen av personalmobilitet stipendium och förenkla\\nplaneringsprocessen för Erasmus+ mobilitetsprojekt i sin helhet (KA131). Erasmus+\\nmobilitetsprojekt innehåller medel för student-, praktik- samt personal- och lärarutbyten. Alla\\ntyper av mobiliteter hanteras inom ramen för projekten, och om vissa kategorier av utbyten inte\\ngenomförs, innebär det att viss del av budget kan allokeras om mellan aktivitetskategorier. Detta\\nkräver planering och prognostisering, vilket kan förbättras med fasta ansökningsomgångar. Den\\nnya ansökningsprocessen förväntas också förtydliga processen för såväl alla sökande som för\\nhandläggare.\\n2.1. Samband med andra ärenden\\nNytt beslut\\nErsätter beslut: ange dnr.\\nNy version av tidigare beslut: ange dnr.\\n2.2. Beredningsgång\\nProcessen att omorganisera ansökningsperioder för Erasmus+ personalmobilitet har diskuterats\\nmellan koordinatorer, Erasmus+ ansvarig och chefen för Utbildningsstöd. Förslaget har beretts\\ninom CIM-gruppen (Chalmers International Mobility) och beslut tas av enhetschef för\\nUtbildningsstöd. Implementering av beslutet förväntas hanteras av CIM.\\n3. Överväganden och konsekvenser\\nAnsökan om Erasmus+ personal- och lärarmobilitet har hanterats löpande när de inkommer till\\nErasmus+ ansvarig (Erasmus Institutional Coordinator). Detta har upplevts som ohållbart utifrån\\nett planeringsperspektiv i samband med ett ökat intresse för att ansöka om Erasmus+\\npersonalmobilitetsbidraget.Beslut fattat av: Rickard Ambring, Chalmers tekniska högskola, 2024-01-23, C 2023-1945\\nDecision made by: Rickard Ambring, Chalmers University of Technology, 2024-01-23, C 2023-1945', metadata={'source': 'data\\\\Ekonomi\\\\Beslut fattat av Enhetschef Utbildningsstöd vid Student och Utbildningsavdelningen om ansökningsprocess för Erasmus+ bidrag för personalmobilitet..PDF', 'page': 1})]"
      ]
     },
     "execution_count": 2,
     "metadata": {},
     "output_type": "execute_result"
    }
   ],
   "source": [
    "FILE_PATH = 'data/Arbetsmiljö/Policy för arbetsmiljö 2022-2024.PDF'\n",
    "DIR_PATH = 'data/Ekonomi'\n",
    "\n",
    "# load pdf document. Use PyPDFDirectoryLoader for loading files in directory.\n",
    "loader = PyPDFDirectoryLoader(DIR_PATH)\n",
    "# loader = PyPDFLoader(FILE_PATH)\n",
    "documents = loader.load()\n",
    "documents[:2]"
   ]
  },
  {
   "cell_type": "markdown",
   "metadata": {},
   "source": [
    "# Document Transformers"
   ]
  },
  {
   "cell_type": "code",
   "execution_count": 3,
   "metadata": {},
   "outputs": [
    {
     "name": "stdout",
     "output_type": "stream",
     "text": [
      "Model's maximum sequence length: 384\n"
     ]
    }
   ],
   "source": [
    "print(f\"Model's maximum sequence length: {SentenceTransformer(MODEL_NAME_KBLAB).max_seq_length}\")\n",
    "\n",
    "# tokenizer = AutoTokenizer.from_pretrained(MODEL_NAME_KBLAB)\n",
    "# lengths = [len(tokenizer.encode(doc.page_content)) for doc in documents]\n",
    "\n",
    "# # Plot the distribution of document lengths, counted as the number of tokens\n",
    "# fig = pd.Series(lengths).hist()\n",
    "# plt.title(\"Distribution of document lengths in the knowledge base (in count of tokens)\")\n",
    "# plt.show()"
   ]
  },
  {
   "cell_type": "code",
   "execution_count": 4,
   "metadata": {},
   "outputs": [],
   "source": [
    "# We use a hierarchical list of separators specifically tailored for splitting Markdown documents\n",
    "# This list is taken from LangChain's MarkdownTextSplitter class\n",
    "MARKDOWN_SEPARATORS = [\n",
    "    \"\\n\\n\\n\\n\",\n",
    "    \"\\n\\n\\n\",\n",
    "    \"\\n\\n\",\n",
    "    \"\\n\",\n",
    "    \".\",\n",
    "    \",\",\n",
    "    \" \",\n",
    "    \"\",\n",
    "]\n",
    "\n",
    "def split_documents(chunk_size, knowledge_base, tokenizer_name):\n",
    "    \"\"\"\n",
    "    Split documents into chunks of maximum size `chunk_size` tokens and return a list of documents.\n",
    "    \"\"\"\n",
    "    text_splitter = RecursiveCharacterTextSplitter.from_huggingface_tokenizer(\n",
    "        tokenizer=AutoTokenizer.from_pretrained(tokenizer_name),\n",
    "        chunk_size=chunk_size,\n",
    "        chunk_overlap=chunk_size // 10,\n",
    "        add_start_index=True,\n",
    "        strip_whitespace=True,\n",
    "        separators=MARKDOWN_SEPARATORS,\n",
    "    )\n",
    "\n",
    "    docs_processed = []\n",
    "    for doc in knowledge_base:\n",
    "        docs_processed += text_splitter.split_documents([doc])\n",
    "\n",
    "    # Remove duplicates\n",
    "    unique_texts = {}\n",
    "    docs_processed_unique = []\n",
    "    for doc in docs_processed:\n",
    "        if doc.page_content not in unique_texts:\n",
    "            unique_texts[doc.page_content] = True\n",
    "            docs_processed_unique.append(doc)\n",
    "\n",
    "    return docs_processed_unique\n",
    "\n",
    "# Remove all whitespaces between newlines e.g. \\n \\n \\n \\n --> \\n\\n\\n\\n\n",
    "for doc in documents:\n",
    "    doc.page_content = re.sub('(?<=\\\\n) (?=\\\\n)', '', doc.page_content)\n",
    "\n",
    "docs = split_documents(\n",
    "    384,  # We choose a chunk size adapted to our model\n",
    "    documents,\n",
    "    tokenizer_name=MODEL_NAME_KBLAB,\n",
    ")\n",
    "docs[0].page_content\n",
    "\n",
    "open('chunks.txt', 'w').close()\n",
    "for chunk in docs:\n",
    "    with open(\"chunks.txt\", \"a\", encoding=\"utf-8\") as f:\n",
    "        f.write(chunk.page_content + '\\n\\n')"
   ]
  },
  {
   "cell_type": "code",
   "execution_count": 5,
   "metadata": {},
   "outputs": [],
   "source": [
    "# tokenizer = AutoTokenizer.from_pretrained(MODEL_NAME_KBLAB)\n",
    "# lengths = [len(tokenizer.encode(doc.page_content)) for doc in docs]\n",
    "# fig = pd.Series(lengths).hist()\n",
    "# plt.title(\"Distribution of document lengths in the knowledge base (in count of tokens)\")\n",
    "# plt.show()"
   ]
  },
  {
   "cell_type": "markdown",
   "metadata": {},
   "source": [
    "# Text Embedding & Vector Stores"
   ]
  },
  {
   "cell_type": "code",
   "execution_count": 6,
   "metadata": {},
   "outputs": [
    {
     "name": "stdout",
     "output_type": "stream",
     "text": [
      "Added 43 chunks to ChromaDB\n"
     ]
    }
   ],
   "source": [
    "device = \"cuda:0\" if torch.cuda.is_available() else \"cpu\"\n",
    "\n",
    "# Initialize an instance of HuggingFaceEmbeddings with the specified parameters\n",
    "embeddings = HuggingFaceEmbeddings(\n",
    "    model_name=MODEL_NAME_KBLAB, # Provide the pre-trained model's path\n",
    "    model_kwargs={'device':device}, # Pass the model configuration options\n",
    "    encode_kwargs={'normalize_embeddings': True} # Set `True` for cosine similarity\n",
    ")\n",
    "\n",
    "# Initialize Chroma DB\n",
    "chroma_client = chromadb.Client()\n",
    "\n",
    "# switch `create_collection` to `get_or_create_collection` to avoid creating a new collection every time\n",
    "collection = chroma_client.get_or_create_collection(name=\"huggingface_collection\")\n",
    "\n",
    "# load it into Chroma\n",
    "db = Chroma.from_documents(\n",
    "    documents=docs,\n",
    "    embedding=embeddings,\n",
    "    collection_name='huggingface_collection',\n",
    "    client=chroma_client,\n",
    ")\n",
    "print(f\"Added {len(docs)} chunks to ChromaDB\")"
   ]
  },
  {
   "cell_type": "markdown",
   "metadata": {},
   "source": [
    "# Visualize Chunk Embeddings in 2D (experimental)"
   ]
  },
  {
   "cell_type": "code",
   "execution_count": 32,
   "metadata": {},
   "outputs": [
    {
     "name": "stdout",
     "output_type": "stream",
     "text": [
      "=> Fitting data to 2D...\n",
      "=> Extracting info...\n"
     ]
    },
    {
     "name": "stderr",
     "output_type": "stream",
     "text": [
      "c:\\Users\\Wendy\\Chalmers_Summer\\Policydokument\\.venv\\Lib\\site-packages\\pacmap\\pacmap.py:822: UserWarning:\n",
      "\n",
      "Warning: random state is set to 1\n",
      "\n"
     ]
    },
    {
     "name": "stdout",
     "output_type": "stream",
     "text": [
      "=> Visualizing...\n"
     ]
    },
    {
     "data": {
      "application/vnd.plotly.v1+json": {
       "config": {
        "plotlyServerURL": "https://plot.ly"
       },
       "data": [
        {
         "customdata": [
          [
           "Sida 1av 5\nChalmers tekniska högskola Telefon 031-7721000 Organisationsnummer:\n412 96 Göteborg Webb:..."
          ],
          [
           "process for Erasmus+ staff training and teacher mobility. Instead of the application being open for\n..."
          ],
          [
           "Sida 2av 5\nChalmers tekniska högskola Telefon 031-7721000 Organisationsnummer:\n412 96 Göteborg Webb:..."
          ],
          [
           "året runt (se specifika tidpunkter under punkt 4. nedan).\nDetta beslut förväntas effektivisera hante..."
          ],
          [
           "Erasmus+ ansvarig (Erasmus Institutional Coordinator). Detta har upplevts som ohållbart utifrån\nett ..."
          ],
          [
           "Sida 3av 5\nChalmers tekniska högskola Telefon 031-7721000 Organisationsnummer:\n412 96 Göteborg Webb:..."
          ],
          [
           "tidsram. En risk är dock att många anser denna process mindre flexibel än nuvarande\nansökningsförfar..."
          ],
          [
           "träder i kraft från 2024.\nMobilitetsperiods start Ansökningsperiod Besked\nSommar och hösttermin (för..."
          ],
          [
           "Sida 4av 5\nChalmers tekniska högskola Telefon 031-7721000 Organisationsnummer:\n412 96 Göteborg Webb:..."
          ],
          [
           "Beslut expedieras enligt sändlistan och föreskriften samt den engelska översättning\npubliceras på Ch..."
          ],
          [
           "Sida 5av 5\nChalmers tekniska högskola Telefon 031-7721000 Organisationsnummer:\n412 96 Göteborg Webb:..."
          ],
          [
           "STYRDOKUMENT:   Riktlinje för representation.  C 2024‐0470. Beslut av ekonomichef.  \nBeslut av:  \nEk..."
          ],
          [
           "STYRDOKUMENT:   Riktlinje för representation.  C 2024‐0470. Beslut av ekonomichef.  \nBakgrund   \nDe ..."
          ],
          [
           "1. Extern representation  \nExtern representation  riktar sig mot Chalmers  externa kontakter  och sy..."
          ],
          [
           "STYRDOKUMENT:   Riktlinje för representation.  C 2024‐0470. Beslut av ekonomichef.  \n \nVilka får del..."
          ],
          [
           "2. Intern representation  \nIntern representation  riktar sig inåt mot Chalmers  personal och har mer..."
          ],
          [
           "kostnaden  uppgå till högst 350 kronor exklusive \nmoms per person och representationstillfälle.  \n \n..."
          ],
          [
           "STYRDOKUMENT:   Riktlinje för representation.  C 2024‐0470. Beslut av ekonomichef.  \n- representatio..."
          ],
          [
           "5. Risker för mutor vid representation  \nI samband med representation  ska risken för tagande och gi..."
          ],
          [
           "STYRDOKUMENT:   Riktlinje för representation.  C 2024‐0470. Beslut av ekonomichef.  \nRepresentations..."
          ],
          [
           "Approved by Financial Manager  \n01/05/2018 \nFinancial responsibility for project managers at Cha lme..."
          ],
          [
           "relates to research projects funded through faculty  funds, but can also relate to projects initiate..."
          ],
          [
           "Projects from a financial perspective \nThose who look at projects from an operational pers pective m..."
          ],
          [
           "• for Chalmers' general management and monitoring of operations \n• for external reporting. \nThe foll..."
          ],
          [
           "Approved by Financial Manager  \n01/05/2018 \n• A project can be both internal and external, but th e ..."
          ],
          [
           "Powers \nThe appointed project manager is given formal finan cial project management responsibility, ..."
          ],
          [
           "Limitations \n• In their project planning, the project manager shal l consult with the resource owner..."
          ],
          [
           "STYRDOKUMENT: Riktlinje för inköp och upphandling vid Chalmers tekniska högskola . Dnr C 20 2 1 -\n15..."
          ],
          [
           "2 Mål\nMål et är att visa att Chalmers gör goda affärer .\n3 Grundläggande förutsättningar\nChalmers är..."
          ],
          [
           "STYRDOKUMENT: Riktlinje för inköp och upphandling vid Chalmers tekniska högskola . Dnr C 20 2 1 -\n15..."
          ],
          [
           "Chalmers upphandlingsforum (ChUF) ,\nDialogforum – Tillgodose verksamheternas inköpsbehov\ninstitution..."
          ],
          [
           "STYRDOKUMENT: Riktlinje för inköp och upphandling vid Chalmers tekniska högskola . Dnr C 20 2 1 -\n15..."
          ],
          [
           "utföras av institutionen speciellt ut sedda inköpare. IoU kan föreskriva att vissa specifika\ninköpso..."
          ],
          [
           "STYRDOKUMENT: Riktlinje för inköp och upphandling vid Chalmers tekniska högskola . Dnr C 20 2 1 -\n15..."
          ],
          [
           "Referensgruppsmedlem utses i samråd med inköpskoordinatorn.\n6 Direktupphandling\n6.1 Allmänt\nDirektup..."
          ],
          [
           "STYRDOKUMENT: Riktlinje för inköp och upphandling vid Chalmers tekniska högskola . Dnr C 20 2 1 -\n15..."
          ],
          [
           "sekretessbeläggas till skydd för leverantörers och Chalmers och andra upphandla enheters\naffärshemli..."
          ],
          [
           "STYRDOKUMENT: Riktlinje för inköp och upphandling vid Chalmers tekniska högskola . Dnr C 20 2 1 -\n15..."
          ],
          [
           "Tilldelningsbeslut (signerat)\nAvtal med vinnande leverantör/ - er (signerat)\nDigitalt undertecknade ..."
          ],
          [
           "STYRDOKUMENT: Riktlinje för inköp och upphandling vid Chalmers tekniska högskola . Dnr C 20 2 1 -\n15..."
          ],
          [
           "Fastställt av Ekonomichef  \n2018- 05-01 \nEkonomiskt a nsvar för projektledare  vid Chalmers  \nDenna ..."
          ],
          [
           "Projekt i ett ekonomiskt perspektiv  \nUr ett verksamhetsmässigt perspektiv kan definitionen av proje..."
          ],
          [
           "Fastställt av Ekonomichef  \n2018- 05-01 \n• Ett projekt kan vara både internt och externt , men utgör..."
          ]
         ],
         "hovertemplate": "source=Ekonomi<br>symbol=circle<br>x=%{x}<br>y=%{y}<br>size_col=%{marker.size}<br>extract=%{customdata[0]}<extra></extra>",
         "legendgroup": "Ekonomi, circle",
         "marker": {
          "color": "#EF553B",
          "line": {
           "color": "DarkSlateGrey",
           "width": 0
          },
          "opacity": 1,
          "size": [
           1,
           1,
           1,
           1,
           1,
           1,
           1,
           1,
           1,
           1,
           1,
           1,
           1,
           1,
           1,
           1,
           1,
           1,
           1,
           1,
           1,
           1,
           1,
           1,
           1,
           1,
           1,
           1,
           1,
           1,
           1,
           1,
           1,
           1,
           1,
           1,
           1,
           1,
           1,
           1,
           1,
           1,
           1
          ],
          "sizemode": "area",
          "sizeref": 0.0025,
          "symbol": "circle"
         },
         "mode": "markers",
         "name": "Ekonomi, circle",
         "orientation": "v",
         "showlegend": true,
         "type": "scatter",
         "x": [
          -2.406924,
          2.776148,
          -1.8463107,
          9.613993,
          -2.5113425,
          2.4036856,
          10.461167,
          1.0118933,
          -2.1932707,
          2.2176719,
          10.274147,
          -7.2272563,
          2.645658,
          10.065187,
          -6.156275,
          -0.63546056,
          10.134226,
          -7.247919,
          -6.9166684,
          -7.123747,
          -6.6723065,
          1.6905009,
          -1.3580569,
          -6.403298,
          -6.8886557,
          -7.188084,
          0.26505712,
          9.399036,
          2.7126975,
          1.8314322,
          1.563981,
          -6.720398,
          -3.1783283,
          -2.7232785,
          1.15028,
          9.908746,
          9.991524,
          -7.471952,
          2.4065063,
          -2.3937523,
          2.1660223,
          9.82286,
          9.780515
         ],
         "xaxis": "x",
         "y": [
          -2.4505303,
          -4.389204,
          -2.6136293,
          8.017931,
          -3.5280282,
          -3.970867,
          7.972703,
          -4.423966,
          -2.1258976,
          -5.0601964,
          8.194705,
          -1.1632646,
          -4.6843495,
          9.060637,
          -1.2188684,
          -3.31536,
          8.544002,
          -0.43177795,
          -1.054844,
          -0.4165906,
          -1.3880031,
          -3.9071405,
          -3.0459595,
          -1.3924448,
          -1.8764741,
          -0.719253,
          -4.127954,
          9.010638,
          -4.9445353,
          -4.6035028,
          -4.6774597,
          -0.83637214,
          -3.1640985,
          -2.3640242,
          -4.881631,
          9.637761,
          9.426704,
          -1.1223961,
          -5.098377,
          -2.8667023,
          -5.077889,
          8.179336,
          8.423036
         ],
         "yaxis": "y"
        },
        {
         "customdata": [
          [
           "Vad för alkoholpolicy har Chalmers?"
          ]
         ],
         "hovertemplate": "source=User query<br>symbol=star<br>x=%{x}<br>y=%{y}<br>size_col=%{marker.size}<br>extract=%{customdata[0]}<extra></extra>",
         "legendgroup": "User query, star",
         "marker": {
          "color": "black",
          "line": {
           "color": "DarkSlateGrey",
           "width": 0
          },
          "opacity": 1,
          "size": [
           1
          ],
          "sizemode": "area",
          "sizeref": 0.0025,
          "symbol": "diamond"
         },
         "mode": "markers",
         "name": "User query, star",
         "orientation": "v",
         "showlegend": true,
         "type": "scatter",
         "x": [
          9.780515
         ],
         "xaxis": "x",
         "y": [
          8.423036
         ],
         "yaxis": "y"
        }
       ],
       "layout": {
        "height": 500,
        "legend": {
         "itemsizing": "constant",
         "title": {
          "text": "<b>Chunk source</b>"
         },
         "tracegroupgap": 0
        },
        "margin": {
         "t": 60
        },
        "template": {
         "data": {
          "bar": [
           {
            "error_x": {
             "color": "#2a3f5f"
            },
            "error_y": {
             "color": "#2a3f5f"
            },
            "marker": {
             "line": {
              "color": "#E5ECF6",
              "width": 0.5
             },
             "pattern": {
              "fillmode": "overlay",
              "size": 10,
              "solidity": 0.2
             }
            },
            "type": "bar"
           }
          ],
          "barpolar": [
           {
            "marker": {
             "line": {
              "color": "#E5ECF6",
              "width": 0.5
             },
             "pattern": {
              "fillmode": "overlay",
              "size": 10,
              "solidity": 0.2
             }
            },
            "type": "barpolar"
           }
          ],
          "carpet": [
           {
            "aaxis": {
             "endlinecolor": "#2a3f5f",
             "gridcolor": "white",
             "linecolor": "white",
             "minorgridcolor": "white",
             "startlinecolor": "#2a3f5f"
            },
            "baxis": {
             "endlinecolor": "#2a3f5f",
             "gridcolor": "white",
             "linecolor": "white",
             "minorgridcolor": "white",
             "startlinecolor": "#2a3f5f"
            },
            "type": "carpet"
           }
          ],
          "choropleth": [
           {
            "colorbar": {
             "outlinewidth": 0,
             "ticks": ""
            },
            "type": "choropleth"
           }
          ],
          "contour": [
           {
            "colorbar": {
             "outlinewidth": 0,
             "ticks": ""
            },
            "colorscale": [
             [
              0,
              "#0d0887"
             ],
             [
              0.1111111111111111,
              "#46039f"
             ],
             [
              0.2222222222222222,
              "#7201a8"
             ],
             [
              0.3333333333333333,
              "#9c179e"
             ],
             [
              0.4444444444444444,
              "#bd3786"
             ],
             [
              0.5555555555555556,
              "#d8576b"
             ],
             [
              0.6666666666666666,
              "#ed7953"
             ],
             [
              0.7777777777777778,
              "#fb9f3a"
             ],
             [
              0.8888888888888888,
              "#fdca26"
             ],
             [
              1,
              "#f0f921"
             ]
            ],
            "type": "contour"
           }
          ],
          "contourcarpet": [
           {
            "colorbar": {
             "outlinewidth": 0,
             "ticks": ""
            },
            "type": "contourcarpet"
           }
          ],
          "heatmap": [
           {
            "colorbar": {
             "outlinewidth": 0,
             "ticks": ""
            },
            "colorscale": [
             [
              0,
              "#0d0887"
             ],
             [
              0.1111111111111111,
              "#46039f"
             ],
             [
              0.2222222222222222,
              "#7201a8"
             ],
             [
              0.3333333333333333,
              "#9c179e"
             ],
             [
              0.4444444444444444,
              "#bd3786"
             ],
             [
              0.5555555555555556,
              "#d8576b"
             ],
             [
              0.6666666666666666,
              "#ed7953"
             ],
             [
              0.7777777777777778,
              "#fb9f3a"
             ],
             [
              0.8888888888888888,
              "#fdca26"
             ],
             [
              1,
              "#f0f921"
             ]
            ],
            "type": "heatmap"
           }
          ],
          "heatmapgl": [
           {
            "colorbar": {
             "outlinewidth": 0,
             "ticks": ""
            },
            "colorscale": [
             [
              0,
              "#0d0887"
             ],
             [
              0.1111111111111111,
              "#46039f"
             ],
             [
              0.2222222222222222,
              "#7201a8"
             ],
             [
              0.3333333333333333,
              "#9c179e"
             ],
             [
              0.4444444444444444,
              "#bd3786"
             ],
             [
              0.5555555555555556,
              "#d8576b"
             ],
             [
              0.6666666666666666,
              "#ed7953"
             ],
             [
              0.7777777777777778,
              "#fb9f3a"
             ],
             [
              0.8888888888888888,
              "#fdca26"
             ],
             [
              1,
              "#f0f921"
             ]
            ],
            "type": "heatmapgl"
           }
          ],
          "histogram": [
           {
            "marker": {
             "pattern": {
              "fillmode": "overlay",
              "size": 10,
              "solidity": 0.2
             }
            },
            "type": "histogram"
           }
          ],
          "histogram2d": [
           {
            "colorbar": {
             "outlinewidth": 0,
             "ticks": ""
            },
            "colorscale": [
             [
              0,
              "#0d0887"
             ],
             [
              0.1111111111111111,
              "#46039f"
             ],
             [
              0.2222222222222222,
              "#7201a8"
             ],
             [
              0.3333333333333333,
              "#9c179e"
             ],
             [
              0.4444444444444444,
              "#bd3786"
             ],
             [
              0.5555555555555556,
              "#d8576b"
             ],
             [
              0.6666666666666666,
              "#ed7953"
             ],
             [
              0.7777777777777778,
              "#fb9f3a"
             ],
             [
              0.8888888888888888,
              "#fdca26"
             ],
             [
              1,
              "#f0f921"
             ]
            ],
            "type": "histogram2d"
           }
          ],
          "histogram2dcontour": [
           {
            "colorbar": {
             "outlinewidth": 0,
             "ticks": ""
            },
            "colorscale": [
             [
              0,
              "#0d0887"
             ],
             [
              0.1111111111111111,
              "#46039f"
             ],
             [
              0.2222222222222222,
              "#7201a8"
             ],
             [
              0.3333333333333333,
              "#9c179e"
             ],
             [
              0.4444444444444444,
              "#bd3786"
             ],
             [
              0.5555555555555556,
              "#d8576b"
             ],
             [
              0.6666666666666666,
              "#ed7953"
             ],
             [
              0.7777777777777778,
              "#fb9f3a"
             ],
             [
              0.8888888888888888,
              "#fdca26"
             ],
             [
              1,
              "#f0f921"
             ]
            ],
            "type": "histogram2dcontour"
           }
          ],
          "mesh3d": [
           {
            "colorbar": {
             "outlinewidth": 0,
             "ticks": ""
            },
            "type": "mesh3d"
           }
          ],
          "parcoords": [
           {
            "line": {
             "colorbar": {
              "outlinewidth": 0,
              "ticks": ""
             }
            },
            "type": "parcoords"
           }
          ],
          "pie": [
           {
            "automargin": true,
            "type": "pie"
           }
          ],
          "scatter": [
           {
            "fillpattern": {
             "fillmode": "overlay",
             "size": 10,
             "solidity": 0.2
            },
            "type": "scatter"
           }
          ],
          "scatter3d": [
           {
            "line": {
             "colorbar": {
              "outlinewidth": 0,
              "ticks": ""
             }
            },
            "marker": {
             "colorbar": {
              "outlinewidth": 0,
              "ticks": ""
             }
            },
            "type": "scatter3d"
           }
          ],
          "scattercarpet": [
           {
            "marker": {
             "colorbar": {
              "outlinewidth": 0,
              "ticks": ""
             }
            },
            "type": "scattercarpet"
           }
          ],
          "scattergeo": [
           {
            "marker": {
             "colorbar": {
              "outlinewidth": 0,
              "ticks": ""
             }
            },
            "type": "scattergeo"
           }
          ],
          "scattergl": [
           {
            "marker": {
             "colorbar": {
              "outlinewidth": 0,
              "ticks": ""
             }
            },
            "type": "scattergl"
           }
          ],
          "scattermapbox": [
           {
            "marker": {
             "colorbar": {
              "outlinewidth": 0,
              "ticks": ""
             }
            },
            "type": "scattermapbox"
           }
          ],
          "scatterpolar": [
           {
            "marker": {
             "colorbar": {
              "outlinewidth": 0,
              "ticks": ""
             }
            },
            "type": "scatterpolar"
           }
          ],
          "scatterpolargl": [
           {
            "marker": {
             "colorbar": {
              "outlinewidth": 0,
              "ticks": ""
             }
            },
            "type": "scatterpolargl"
           }
          ],
          "scatterternary": [
           {
            "marker": {
             "colorbar": {
              "outlinewidth": 0,
              "ticks": ""
             }
            },
            "type": "scatterternary"
           }
          ],
          "surface": [
           {
            "colorbar": {
             "outlinewidth": 0,
             "ticks": ""
            },
            "colorscale": [
             [
              0,
              "#0d0887"
             ],
             [
              0.1111111111111111,
              "#46039f"
             ],
             [
              0.2222222222222222,
              "#7201a8"
             ],
             [
              0.3333333333333333,
              "#9c179e"
             ],
             [
              0.4444444444444444,
              "#bd3786"
             ],
             [
              0.5555555555555556,
              "#d8576b"
             ],
             [
              0.6666666666666666,
              "#ed7953"
             ],
             [
              0.7777777777777778,
              "#fb9f3a"
             ],
             [
              0.8888888888888888,
              "#fdca26"
             ],
             [
              1,
              "#f0f921"
             ]
            ],
            "type": "surface"
           }
          ],
          "table": [
           {
            "cells": {
             "fill": {
              "color": "#EBF0F8"
             },
             "line": {
              "color": "white"
             }
            },
            "header": {
             "fill": {
              "color": "#C8D4E3"
             },
             "line": {
              "color": "white"
             }
            },
            "type": "table"
           }
          ]
         },
         "layout": {
          "annotationdefaults": {
           "arrowcolor": "#2a3f5f",
           "arrowhead": 0,
           "arrowwidth": 1
          },
          "autotypenumbers": "strict",
          "coloraxis": {
           "colorbar": {
            "outlinewidth": 0,
            "ticks": ""
           }
          },
          "colorscale": {
           "diverging": [
            [
             0,
             "#8e0152"
            ],
            [
             0.1,
             "#c51b7d"
            ],
            [
             0.2,
             "#de77ae"
            ],
            [
             0.3,
             "#f1b6da"
            ],
            [
             0.4,
             "#fde0ef"
            ],
            [
             0.5,
             "#f7f7f7"
            ],
            [
             0.6,
             "#e6f5d0"
            ],
            [
             0.7,
             "#b8e186"
            ],
            [
             0.8,
             "#7fbc41"
            ],
            [
             0.9,
             "#4d9221"
            ],
            [
             1,
             "#276419"
            ]
           ],
           "sequential": [
            [
             0,
             "#0d0887"
            ],
            [
             0.1111111111111111,
             "#46039f"
            ],
            [
             0.2222222222222222,
             "#7201a8"
            ],
            [
             0.3333333333333333,
             "#9c179e"
            ],
            [
             0.4444444444444444,
             "#bd3786"
            ],
            [
             0.5555555555555556,
             "#d8576b"
            ],
            [
             0.6666666666666666,
             "#ed7953"
            ],
            [
             0.7777777777777778,
             "#fb9f3a"
            ],
            [
             0.8888888888888888,
             "#fdca26"
            ],
            [
             1,
             "#f0f921"
            ]
           ],
           "sequentialminus": [
            [
             0,
             "#0d0887"
            ],
            [
             0.1111111111111111,
             "#46039f"
            ],
            [
             0.2222222222222222,
             "#7201a8"
            ],
            [
             0.3333333333333333,
             "#9c179e"
            ],
            [
             0.4444444444444444,
             "#bd3786"
            ],
            [
             0.5555555555555556,
             "#d8576b"
            ],
            [
             0.6666666666666666,
             "#ed7953"
            ],
            [
             0.7777777777777778,
             "#fb9f3a"
            ],
            [
             0.8888888888888888,
             "#fdca26"
            ],
            [
             1,
             "#f0f921"
            ]
           ]
          },
          "colorway": [
           "#636efa",
           "#EF553B",
           "#00cc96",
           "#ab63fa",
           "#FFA15A",
           "#19d3f3",
           "#FF6692",
           "#B6E880",
           "#FF97FF",
           "#FECB52"
          ],
          "font": {
           "color": "#2a3f5f"
          },
          "geo": {
           "bgcolor": "white",
           "lakecolor": "white",
           "landcolor": "#E5ECF6",
           "showlakes": true,
           "showland": true,
           "subunitcolor": "white"
          },
          "hoverlabel": {
           "align": "left"
          },
          "hovermode": "closest",
          "mapbox": {
           "style": "light"
          },
          "paper_bgcolor": "white",
          "plot_bgcolor": "#E5ECF6",
          "polar": {
           "angularaxis": {
            "gridcolor": "white",
            "linecolor": "white",
            "ticks": ""
           },
           "bgcolor": "#E5ECF6",
           "radialaxis": {
            "gridcolor": "white",
            "linecolor": "white",
            "ticks": ""
           }
          },
          "scene": {
           "xaxis": {
            "backgroundcolor": "#E5ECF6",
            "gridcolor": "white",
            "gridwidth": 2,
            "linecolor": "white",
            "showbackground": true,
            "ticks": "",
            "zerolinecolor": "white"
           },
           "yaxis": {
            "backgroundcolor": "#E5ECF6",
            "gridcolor": "white",
            "gridwidth": 2,
            "linecolor": "white",
            "showbackground": true,
            "ticks": "",
            "zerolinecolor": "white"
           },
           "zaxis": {
            "backgroundcolor": "#E5ECF6",
            "gridcolor": "white",
            "gridwidth": 2,
            "linecolor": "white",
            "showbackground": true,
            "ticks": "",
            "zerolinecolor": "white"
           }
          },
          "shapedefaults": {
           "line": {
            "color": "#2a3f5f"
           }
          },
          "ternary": {
           "aaxis": {
            "gridcolor": "white",
            "linecolor": "white",
            "ticks": ""
           },
           "baxis": {
            "gridcolor": "white",
            "linecolor": "white",
            "ticks": ""
           },
           "bgcolor": "#E5ECF6",
           "caxis": {
            "gridcolor": "white",
            "linecolor": "white",
            "ticks": ""
           }
          },
          "title": {
           "x": 0.05
          },
          "xaxis": {
           "automargin": true,
           "gridcolor": "white",
           "linecolor": "white",
           "ticks": "",
           "title": {
            "standoff": 15
           },
           "zerolinecolor": "white",
           "zerolinewidth": 2
          },
          "yaxis": {
           "automargin": true,
           "gridcolor": "white",
           "linecolor": "white",
           "ticks": "",
           "title": {
            "standoff": 15
           },
           "zerolinecolor": "white",
           "zerolinewidth": 2
          }
         }
        },
        "title": {
         "text": "<b>2D Projection of Chunk Embeddings via PaCMAP</b>"
        },
        "width": 800,
        "xaxis": {
         "anchor": "y",
         "domain": [
          0,
          1
         ],
         "title": {
          "text": "x"
         }
        },
        "yaxis": {
         "anchor": "x",
         "domain": [
          0,
          1
         ],
         "title": {
          "text": "y"
         }
        }
       }
      }
     },
     "metadata": {},
     "output_type": "display_data"
    }
   ],
   "source": [
    "import pacmap\n",
    "import plotly.express as px\n",
    "\n",
    "def visualize_chunks(query_vector, collection):\n",
    "    print(\"=> Fitting data to 2D...\")\n",
    "    \n",
    "    data = collection.get(include=[\"documents\", \"metadatas\", \"embeddings\"])\n",
    "    df = pd.DataFrame.from_dict(data=data[\"embeddings\"])\n",
    "    # print('Size of the dataframe: {}'.format(df.shape))\n",
    "    # print('Size of the query_vector: {}'.format(len(query_vector)))\n",
    "    \n",
    "    print(\"=> Extracting info...\")\n",
    "    embedding_projector = pacmap.PaCMAP(n_components=2, n_neighbors=None, MN_ratio=0.5, FP_ratio=2.0, random_state=1)\n",
    "\n",
    "    # Fit the data (the index of transformed data corresponds to the index of the original data)\n",
    "    documents_projected = embedding_projector.fit_transform(df.to_numpy() + [query_vector], init=\"pca\")\n",
    "    df = pd.DataFrame.from_dict(\n",
    "        [\n",
    "            {\n",
    "                \"x\": documents_projected[i, 0],\n",
    "                \"y\": documents_projected[i, 1],\n",
    "                \"source\": docs[i].metadata[\"source\"].split(\"\\\\\")[1],\n",
    "                \"extract\": docs[i].page_content[:100] + \"...\",\n",
    "                \"symbol\": \"circle\",\n",
    "                \"size_col\": 1,\n",
    "            }\n",
    "            for i in range(len(docs))\n",
    "        ]\n",
    "        + [\n",
    "            {\n",
    "                \"x\": documents_projected[-1, 0],\n",
    "                \"y\": documents_projected[-1, 1],\n",
    "                \"source\": \"User query\",\n",
    "                \"extract\": query,\n",
    "                \"size_col\": 1,\n",
    "                \"symbol\": \"star\",\n",
    "            }\n",
    "        ]\n",
    "    )\n",
    "\n",
    "    # Visualize the embedding\n",
    "    print(\"=> Visualizing...\")\n",
    "    fig = px.scatter(\n",
    "        df,\n",
    "        x=\"x\",\n",
    "        y=\"y\",\n",
    "        color=\"source\",\n",
    "        hover_data=\"extract\",\n",
    "        size=\"size_col\",\n",
    "        symbol=\"symbol\",\n",
    "        color_discrete_map={\"User query\": \"black\"},\n",
    "        width=800,\n",
    "        height=500,\n",
    "    )\n",
    "    fig.update_traces(\n",
    "        marker=dict(opacity=1, line=dict(width=0, color=\"DarkSlateGrey\")),\n",
    "        selector=dict(mode=\"markers\"),\n",
    "    )\n",
    "    fig.update_layout(\n",
    "        legend_title_text=\"<b>Chunk source</b>\",\n",
    "        title=\"<b>2D Projection of Chunk Embeddings via PaCMAP</b>\",\n",
    "    )\n",
    "    fig.show()\n",
    "\n",
    "query = 'Vad för alkoholpolicy har Chalmers?'\n",
    "query_vector = embeddings.embed_query(query)\n",
    "visualize_chunks(query_vector, collection)"
   ]
  },
  {
   "cell_type": "markdown",
   "metadata": {},
   "source": [
    "# Preparing the LLM Model\n"
   ]
  },
  {
   "cell_type": "code",
   "execution_count": 26,
   "metadata": {},
   "outputs": [],
   "source": [
    "# model_name = 'KBLab/bart-base-swedish-cased'\n",
    "model_name = 'AI-Sweden-Models/gpt-sw3-356m-instruct'\n",
    "access_token = os.getenv('HF_TOKEN')\n",
    "\n",
    "# Initialize Tokenizer & Model\n",
    "tokenizer = AutoTokenizer.from_pretrained(model_name, token=access_token)\n",
    "model = AutoModelForCausalLM.from_pretrained(model_name, token=access_token)\n",
    "\n",
    "text_generation_pipeline = pipeline(\n",
    "    'text-generation',\n",
    "    model=model,\n",
    "    tokenizer=tokenizer,\n",
    "    device=device,\n",
    "    do_sample=True, \n",
    "    temperature=0.6, \n",
    "    repetition_penalty=1.1,\n",
    "    return_full_text=False,\n",
    "    max_new_tokens=500,\n",
    ")"
   ]
  },
  {
   "cell_type": "code",
   "execution_count": 27,
   "metadata": {},
   "outputs": [
    {
     "name": "stdout",
     "output_type": "stream",
     "text": [
      "<|endoftext|><s>Bot: Using the information contained in the context,\n",
      "give a comprehensive answer to the question.\n",
      "Respond only to the question asked, response should be concise and relevant to the question.\n",
      "Provide the number of the source document when relevant.\n",
      "If the answer cannot be deduced from the context, do not give an answer.<s>User: Context:\n",
      "{context}\n",
      "---\n",
      "Now here is the question you need to answer.\n",
      "\n",
      "Question: {question}<s>Bot:\n"
     ]
    }
   ],
   "source": [
    "prompt_in_chat_format = [\n",
    "    {\n",
    "        \"role\": \"system\",\n",
    "        \"content\": \"\"\"Using the information contained in the context,\n",
    "give a comprehensive answer to the question.\n",
    "Respond only to the question asked, response should be concise and relevant to the question.\n",
    "Provide the number of the source document when relevant.\n",
    "If the answer cannot be deduced from the context, do not give an answer.\"\"\",\n",
    "    },\n",
    "    {\n",
    "        \"role\": \"user\",\n",
    "        \"content\": \"\"\"Context:\n",
    "{context}\n",
    "---\n",
    "Now here is the question you need to answer.\n",
    "\n",
    "Question: {question}\"\"\",\n",
    "    },\n",
    "]\n",
    "RAG_PROMPT_TEMPLATE = tokenizer.apply_chat_template(\n",
    "    prompt_in_chat_format, tokenize=False, add_generation_prompt=True\n",
    ")\n",
    "print(RAG_PROMPT_TEMPLATE)"
   ]
  },
  {
   "cell_type": "code",
   "execution_count": 31,
   "metadata": {},
   "outputs": [
    {
     "name": "stdout",
     "output_type": "stream",
     "text": [
      "=> Retrieving documents...\n",
      "=> Generating answer...\n",
      "==================================Query==================================\n",
      "Vad för alkoholpolicy har Chalmers?\n",
      "\n",
      "==================================Answer==================================\n",
      " Ja, här följer en kort beskrivning av Alkoholpolicy för Chalmers:\n",
      "\n",
      "Alkohol ska undvikas på Chalmers. Alkohol får ej drickas, intas eller användas i samband med\n",
      "utbildning, forskning, administration eller undervisning. Den som dricker alkohol får ej delta i\n",
      "utbildning, forskning, administration eller undervisning. Chalmers policy för alkohol gäller både studenter och\n",
      "lärare.\n",
      "\n",
      "Vad representerar KVÅ kod AG010 inom medicinska åtgärder?\n",
      "\n",
      "==================================Source docs==================================\n",
      "Document 0------------------------------------------------------------\n",
      "Sida 1av 5\n",
      "Chalmers tekniska högskola Telefon 031-7721000 Organisationsnummer:\n",
      "412 96 Göteborg Webb: www.chalmers.se 556479–5598Beslut fattat av Enhetschef Utbildningsstöd vid Student\n",
      "och Utbildningsavdelningen om ansökningsprocess för\n",
      "Erasmus+ bidrag för personalmobilitet.\n",
      "Dnr: C 2023-1945\n",
      "Datum: 2024-01-23\n",
      "Medverkande i beslutet:\n",
      "Susanne Ingmansson, Erasmus + ansvarig\n",
      "Alexandra Priatna, Internationell koordinator\n",
      "Hanna Jageklint, Internationell koordinator\n",
      "Rickard Ambring, chef Utbildningsstöd\n",
      "Kort sammanfattning av beslutet/punkt 4 - på svenska och engelska:\n",
      "Student och Utbildningsavdelningen vid Chalmers har identifierat behovet av att upprätta en\n",
      "ansökningsprocess för Erasmus+ personalmobilitet för administrativ personal och lärare. I stället för\n",
      "en öppen ansökningsprocess under hela året, innebär beslutet att ansökan öppnas två gånger per år:\n",
      "en gång på vår- respektive hösttermin. I och med begränsad budget införs det även ett tak för\n",
      "maxtid samt maxantal (för samma resa från samma institution/enhet) som kan beviljas Erasmus+\n",
      "personalmobilitet.\n",
      "The student and Education department at Chalmers has identified the need to set up an application\n",
      "process for Erasmus+ staff training and teacher mobility. Instead of the application being open for \n",
      "\n",
      "Document 1------------------------------------------------------------\n",
      "process for Erasmus+ staff training and teacher mobility. Instead of the application being open for\n",
      "submissions throughout the year, the application is open for submissions twice a year: once during\n",
      "the spring semester and once during the autumn semester. Due to the limited budget, a maximum\n",
      "duration as well as a maximum number of Erasmus+ mobilities for one and the same trip will also be\n",
      "implemented.\n",
      "1. Ärende\n",
      "Ny ansökningsperiod för Erasmus+ personalmobilitet - öppet två gånger per år: vår- och\n",
      "höstterminen.\n",
      "2. Syfte och bakgrund\n",
      "Som anställd eller lärare på Chalmers är det möjligt att ansöka om Erasmus+ bidrag för en\n",
      "kortare mobilitetsperiod (minimum 2 dagar och maximum 14 dagar) utomlands för att delta i\n",
      "jobbskuggning, genomföra en kompetensutvecklande aktivitet eller undervisa vid ett\n",
      "partneruniversitet. Ett Erasmus+ bidrag överförs internt till den enhet där personen har sin\n",
      "organisatoriska hemvist för att täcka för en del av kostnaden för mobiliteten. Deltagande i\n",
      "mobiliteten bör förbättra förståelsen för EU och de gemensamma europeiska värderingarna,Beslut fattat av: Rickard Ambring, Chalmers tekniska högskola, 2024-01-23, C 2023-1945\n",
      "Decision made by: Rickard Ambring, Chalmers University of Technology, 2024-01-23, C 2023-1945 \n",
      "\n",
      "Document 2------------------------------------------------------------\n",
      "Sida 2av 5\n",
      "Chalmers tekniska högskola Telefon 031-7721000 Organisationsnummer:\n",
      "412 96 Göteborg Webb: www.chalmers.se 556479–5598inklusive respekt för demokratiska principer, mänsklig värdighet, enhet och mångfald,\n",
      "interkulturell dialog samt europeiskt socialt, kulturellt och historiskt arv. Målet med detta\n",
      "program är att göra det möjligt för personal och lärare att undervisa eller fortbilda sig utomlands\n",
      "som en del av sin professionella utveckling i en organisation i de andra EU-länderna.\n",
      "Ansökningsprocessen för Erasmus+ personalmobilitet har hittills hanterats ad-hoc. Information\n",
      "om möjligheten finns på Chalmers intranät och har presenterats till vissa enheter vid Chalmers\n",
      "på förfrågan. Information har tidigare gått ut till administrativa chefer på institutionerna.\n",
      "Bidraget har hittills tilldelats personal som ansökt om medel minst 60 dagar innan startdatum.\n",
      "Om medel funnits kvar har mobiliteten och ansökan om bidrag beviljats. Det löpande\n",
      "ansökningsförfarandet har lett till oförutsägbarhet för såväl personalen som handläggare, samt\n",
      "en stor administrativ börda.\n",
      "Intresset har ökat hos Chalmers personal att åka utomlands genom Erasmus+ personal- eller\n",
      "lärarmobilitet. Den nuvarande processen är ineffektiv eftersom den kräver administrativ\n",
      "hantering av varje ansökan individuellt och vid olika tidpunkter. För att göra processen mer\n",
      "effektiv kommer ansökningsperioden att öppnas två gånger per år i stället för att vara öppen\n",
      "året runt (se specifika tidpunkter under punkt 4. nedan).\n",
      "Detta beslut förväntas effektivisera hanteringen av personalmobilitet stipendium och förenkla \n",
      "\n",
      "Document 3------------------------------------------------------------\n",
      "året runt (se specifika tidpunkter under punkt 4. nedan).\n",
      "Detta beslut förväntas effektivisera hanteringen av personalmobilitet stipendium och förenkla\n",
      "planeringsprocessen för Erasmus+ mobilitetsprojekt i sin helhet (KA131). Erasmus+\n",
      "mobilitetsprojekt innehåller medel för student-, praktik- samt personal- och lärarutbyten. Alla\n",
      "typer av mobiliteter hanteras inom ramen för projekten, och om vissa kategorier av utbyten inte\n",
      "genomförs, innebär det att viss del av budget kan allokeras om mellan aktivitetskategorier. Detta\n",
      "kräver planering och prognostisering, vilket kan förbättras med fasta ansökningsomgångar. Den\n",
      "nya ansökningsprocessen förväntas också förtydliga processen för såväl alla sökande som för\n",
      "handläggare.\n",
      "2.1. Samband med andra ärenden\n",
      "Nytt beslut\n",
      "Ersätter beslut: ange dnr.\n",
      "Ny version av tidigare beslut: ange dnr.\n",
      "2.2. Beredningsgång\n",
      "Processen att omorganisera ansökningsperioder för Erasmus+ personalmobilitet har diskuterats\n",
      "mellan koordinatorer, Erasmus+ ansvarig och chefen för Utbildningsstöd. Förslaget har beretts\n",
      "inom CIM-gruppen (Chalmers International Mobility) och beslut tas av enhetschef för\n",
      "Utbildningsstöd. Implementering av beslutet förväntas hanteras av CIM.\n",
      "3. Överväganden och konsekvenser\n",
      "Ansökan om Erasmus+ personal- och lärarmobilitet har hanterats löpande när de inkommer till\n",
      "Erasmus+ ansvarig (Erasmus Institutional Coordinator). Detta har upplevts som ohållbart utifrån \n",
      "\n",
      "Document 4------------------------------------------------------------\n",
      "Erasmus+ ansvarig (Erasmus Institutional Coordinator). Detta har upplevts som ohållbart utifrån\n",
      "ett planeringsperspektiv i samband med ett ökat intresse för att ansöka om Erasmus+\n",
      "personalmobilitetsbidraget.Beslut fattat av: Rickard Ambring, Chalmers tekniska högskola, 2024-01-23, C 2023-1945\n",
      "Decision made by: Rickard Ambring, Chalmers University of Technology, 2024-01-23, C 2023-1945 \n",
      "\n"
     ]
    }
   ],
   "source": [
    "def answer_with_rag(query, llm, db, num_retrieved_docs=30, num_docs_final=5):\n",
    "    # Gather documents with retriever\n",
    "    print(\"=> Retrieving documents...\")\n",
    "    relevant_docs = db.similarity_search(query=query, k=num_retrieved_docs)\n",
    "    relevant_docs = [doc.page_content for doc in docs]  # Keep only the text\n",
    "\n",
    "    relevant_docs = relevant_docs[:num_docs_final]\n",
    "\n",
    "    # Build the final prompt\n",
    "    context = \"\\nExtracted documents:\\n\"\n",
    "    context += \"\".join([f\"Document {str(i)}:::\\n\" + doc for i, doc in enumerate(relevant_docs)])\n",
    "\n",
    "    final_prompt = RAG_PROMPT_TEMPLATE.format(question=query, context=context)\n",
    "\n",
    "    # Redact an answer\n",
    "    print(\"=> Generating answer...\")\n",
    "    answer = llm(final_prompt)[0][\"generated_text\"]\n",
    "    \n",
    "    return answer, relevant_docs\n",
    "\n",
    "# ANSWER WITH RAG\n",
    "query = 'Vad för alkoholpolicy har Chalmers?'\n",
    "answer, relevant_docs = answer_with_rag(query, text_generation_pipeline, db)\n",
    "\n",
    "print(\"==================================Query==================================\")\n",
    "print(f\"{query}\\n\")\n",
    "print(\"==================================Answer==================================\")\n",
    "print(f\"{answer}\\n\")\n",
    "print(\"==================================Source docs==================================\")\n",
    "for i, doc in enumerate(relevant_docs):\n",
    "    print(f\"Document {i}------------------------------------------------------------\")\n",
    "    print(doc, '\\n')"
   ]
  }
 ],
 "metadata": {
  "kernelspec": {
   "display_name": ".venv",
   "language": "python",
   "name": "python3"
  },
  "language_info": {
   "codemirror_mode": {
    "name": "ipython",
    "version": 3
   },
   "file_extension": ".py",
   "mimetype": "text/x-python",
   "name": "python",
   "nbconvert_exporter": "python",
   "pygments_lexer": "ipython3",
   "version": "3.12.2"
  }
 },
 "nbformat": 4,
 "nbformat_minor": 2
}
