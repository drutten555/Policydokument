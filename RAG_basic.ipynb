{
 "cells": [
  {
   "cell_type": "markdown",
   "metadata": {},
   "source": [
    "# Advanced RAG on Hugging Face documentation using LangChain"
   ]
  },
  {
   "cell_type": "markdown",
   "metadata": {},
   "source": [
    "Mainly followed: https://huggingface.co/learn/cookbook/advanced_rag#load-your-knowledge-base"
   ]
  },
  {
   "cell_type": "markdown",
   "metadata": {},
   "source": [
    "# Imports"
   ]
  },
  {
   "cell_type": "code",
   "execution_count": 1,
   "metadata": {},
   "outputs": [
    {
     "name": "stderr",
     "output_type": "stream",
     "text": [
      "c:\\Users\\Wendy\\Chalmers_Summer\\.venv\\Lib\\site-packages\\tqdm\\auto.py:21: TqdmWarning: IProgress not found. Please update jupyter and ipywidgets. See https://ipywidgets.readthedocs.io/en/stable/user_install.html\n",
      "  from .autonotebook import tqdm as notebook_tqdm\n"
     ]
    }
   ],
   "source": [
    "from langchain.text_splitter import RecursiveCharacterTextSplitter\n",
    "from langchain_huggingface import HuggingFaceEmbeddings\n",
    "from transformers import AutoTokenizer, pipeline\n",
    "from sentence_transformers import SentenceTransformer\n",
    "\n",
    "import re\n",
    "import chromadb\n",
    "from langchain_chroma import Chroma\n",
    "from langchain_community.document_loaders import PyPDFLoader, PyPDFDirectoryLoader\n",
    "\n",
    "FILE_PATH = 'data/Arbetsmiljö/Policy för arbetsmiljö 2022-2024.PDF'\n",
    "\n",
    "MODEL_NAME_KBLAB = 'KBLab/sentence-bert-swedish-cased'\n",
    "MODEL_NAME_KB = 'KB/bert-base-swedish-cased'\n",
    "MODEL_NAME_INTFLOAT = 'intfloat/multilingual-e5-large-instruct'"
   ]
  },
  {
   "cell_type": "markdown",
   "metadata": {},
   "source": [
    "# Document Loading"
   ]
  },
  {
   "cell_type": "code",
   "execution_count": 2,
   "metadata": {},
   "outputs": [
    {
     "data": {
      "text/plain": [
       "[Document(page_content='STYRDOKUMENT: Chalmers Arbetsmiljöpolicy, Dnr C 2021-1894. Beslut fattat av rektor 2022-01-17.Dokumentets metadata:\\nBeslut av:\\nRektorTyp av styrdokument:\\nPolicyDiarienummer:\\nC 2021-1894\\nDatum för\\nbeslut:\\n2022-01-18Handläggare:\\nSamuel FröjmarkDokumentstruktur:\\nD1.3\\nDokumentet\\ngäller från och\\nmed:\\n2022-01-01Avdelning/motsvarande som ansvarar för\\natt dokumentet skapas och/eller\\nrevideras:\\nHR-avdelningenDokumentet\\nreviderat,\\ndatum:Versionsnummer:\\nDokumentet\\ngäller till och\\nmed:\\n2024-12-31Dokumentet ersätter tidigare beslut:\\nC 2018-1491Dokumentet genomgånget utan\\nändring, datum:\\nArbetsmiljöpolicy för Chalmers tekniska högskola AB\\nStyrdokument vid Chalmers\\nArbetsmiljön i Chalmers verksamhet ska vara sådan att inga medarbetare eller studenter riskerar att\\ndrabbas av ohälsa eller komma till skada på grund av sin arbetsmiljö/studiemiljö. Arbetsmiljön ska\\nbidra till trivsel och utveckling både yrkesmässigt och individuellt. Alla beslut som fattas och alla\\naktiviteter som genomförs på Chalmers ska följa de lagar inom arbetsmiljö som krävs av respektive\\naktivitet.\\nArbetsmiljön ska präglas av öppenhet, delaktighet och mångfald, där alla individer ska behandlas\\njämlikt och med respekt. Chalmers accepterar ingen form av trakasserier, kränkande särbehandling\\neller, i synnerhet, sexuella trakasserier. Verksamheten ska ha ett tydligt och synligt ledarskap med\\nrespekt och omsorg om varje medarbetare.\\nVi ska arbeta systematiskt och förebyggande med arbetsmiljölagstiftningen som grund och med en\\nsträvan att ständigt förbättra arbets- och studiemiljön.\\nChalmers systematiska arbetsmiljöarbete innebär att:\\nArbetsmiljöarbetet ska vara en naturlig del i allt vi gör.\\nArbetsmiljöarbetet ska göras i samverkan mellan arbetsgivare, arbetstagare/studenter och\\narbetsmiljöombud/studerandearbetsmiljöombud.\\nChefer och ledare med uppgiftsfördelning inom arbetsmiljö ska ha rätt kunskaper,\\nkompetens, resurser och befogenheter för att kunna verka för en bra och säker arbetsmiljö.\\nKraven och resurserna ska vara i balans för alla arbetstagare och studenter.\\nAlla anställda/studenter ska få den introduktion och utbildning de behöver för att\\nkunna arbeta säkert och hälsosamt.Beslut fattat av: Stefan Bengtsson, Chalmers tekniska högskola, 2022-01-21, C 2021-1894\\nDecision made by: Stefan Bengtsson, Chalmers University of Technology, 2022-01-21, C 2021-1894', metadata={'source': 'data/Arbetsmiljö/Policy för arbetsmiljö 2022-2024.PDF', 'page': 0}),\n",
       " Document(page_content='STYRDOKUMENT: Chalmers Arbetsmiljöpolicy, Dnr C 2021-1894. Beslut fattat av rektor 2022-01-17.Verksamheten ska undersöka och riskbedöma såväl den fysiska som den organisatoriska och\\nsociala arbetsmiljön regelbundet, och vid förändringar, för att kunna vidta de åtgärder som\\nbehövs för att skapa en säker och trygg arbetsplats.\\nAlla tillbud och olyckor som inträffar ska rapporteras och utredas så att Chalmers kan\\nvidta åtgärder.\\nVerksamheten ska följa upp det systematiska arbetsmiljöarbetet årligen.\\nAll verksamhet vid Chalmers ska bidra till att uppfylla visionen för en hållbar framtid.Beslut fattat av: Stefan Bengtsson, Chalmers tekniska högskola, 2022-01-21, C 2021-1894\\nDecision made by: Stefan Bengtsson, Chalmers University of Technology, 2022-01-21, C 2021-1894', metadata={'source': 'data/Arbetsmiljö/Policy för arbetsmiljö 2022-2024.PDF', 'page': 1})]"
      ]
     },
     "execution_count": 2,
     "metadata": {},
     "output_type": "execute_result"
    }
   ],
   "source": [
    "# load pdf document. Use PyPDFDirectoryLoader for loading files in directory.\n",
    "loader = PyPDFLoader(FILE_PATH)\n",
    "documents = loader.load()\n",
    "documents[:2]"
   ]
  },
  {
   "cell_type": "markdown",
   "metadata": {},
   "source": [
    "# Document Transformers"
   ]
  },
  {
   "cell_type": "code",
   "execution_count": 3,
   "metadata": {},
   "outputs": [
    {
     "name": "stderr",
     "output_type": "stream",
     "text": [
      "c:\\Users\\Wendy\\Chalmers_Summer\\.venv\\Lib\\site-packages\\huggingface_hub\\file_download.py:1132: FutureWarning: `resume_download` is deprecated and will be removed in version 1.0.0. Downloads always resume when possible. If you want to force a new download, use `force_download=True`.\n",
      "  warnings.warn(\n"
     ]
    },
    {
     "name": "stdout",
     "output_type": "stream",
     "text": [
      "Model's maximum sequence length: 384\n"
     ]
    }
   ],
   "source": [
    "import matplotlib.pyplot as plt\n",
    "import pandas as pd\n",
    "\n",
    "print(f\"Model's maximum sequence length: {SentenceTransformer(MODEL_NAME_KBLAB).max_seq_length}\")\n",
    "\n",
    "# tokenizer = AutoTokenizer.from_pretrained(MODEL_NAME_KBLAB)\n",
    "# lengths = [len(tokenizer.encode(doc.page_content)) for doc in documents]\n",
    "\n",
    "# # Plot the distribution of document lengths, counted as the number of tokens\n",
    "# fig = pd.Series(lengths).hist()\n",
    "# plt.title(\"Distribution of document lengths in the knowledge base (in count of tokens)\")\n",
    "# plt.show()"
   ]
  },
  {
   "cell_type": "code",
   "execution_count": 4,
   "metadata": {},
   "outputs": [
    {
     "data": {
      "text/plain": [
       "'STYRDOKUMENT: Chalmers Arbetsmiljöpolicy, Dnr C 2021-1894. Beslut fattat av rektor 2022-01-17.Dokumentets metadata:\\nBeslut av:\\nRektorTyp av styrdokument:\\nPolicyDiarienummer:\\nC 2021-1894\\nDatum för\\nbeslut:\\n2022-01-18Handläggare:\\nSamuel FröjmarkDokumentstruktur:\\nD1.3\\nDokumentet\\ngäller från och\\nmed:\\n2022-01-01Avdelning/motsvarande som ansvarar för\\natt dokumentet skapas och/eller\\nrevideras:\\nHR-avdelningenDokumentet\\nreviderat,\\ndatum:Versionsnummer:\\nDokumentet\\ngäller till och\\nmed:\\n2024-12-31Dokumentet ersätter tidigare beslut:\\nC 2018-1491Dokumentet genomgånget utan\\nändring, datum:\\nArbetsmiljöpolicy för Chalmers tekniska högskola AB\\nStyrdokument vid Chalmers\\nArbetsmiljön i Chalmers verksamhet ska vara sådan att inga medarbetare eller studenter riskerar att\\ndrabbas av ohälsa eller komma till skada på grund av sin arbetsmiljö/studiemiljö. Arbetsmiljön ska\\nbidra till trivsel och utveckling både yrkesmässigt och individuellt. Alla beslut som fattas och alla\\naktiviteter som genomförs på Chalmers ska följa de lagar inom arbetsmiljö som krävs av respektive\\naktivitet.'"
      ]
     },
     "execution_count": 4,
     "metadata": {},
     "output_type": "execute_result"
    }
   ],
   "source": [
    "# We use a hierarchical list of separators specifically tailored for splitting Markdown documents\n",
    "# This list is taken from LangChain's MarkdownTextSplitter class\n",
    "MARKDOWN_SEPARATORS = [\n",
    "    \"\\n\\n\\n\\n\",\n",
    "    \"\\n\\n\\n\",\n",
    "    \"\\n\\n\",\n",
    "    \"\\n\",\n",
    "    \".\",\n",
    "    \",\",\n",
    "    \" \",\n",
    "    \"\",\n",
    "]\n",
    "\n",
    "def split_documents(chunk_size, knowledge_base, tokenizer_name):\n",
    "    \"\"\"\n",
    "    Split documents into chunks of maximum size `chunk_size` tokens and return a list of documents.\n",
    "    \"\"\"\n",
    "    text_splitter = RecursiveCharacterTextSplitter.from_huggingface_tokenizer(\n",
    "        tokenizer=AutoTokenizer.from_pretrained(tokenizer_name),\n",
    "        chunk_size=chunk_size,\n",
    "        chunk_overlap=chunk_size // 10,\n",
    "        add_start_index=True,\n",
    "        strip_whitespace=True,\n",
    "        separators=MARKDOWN_SEPARATORS,\n",
    "    )\n",
    "\n",
    "    docs_processed = []\n",
    "    for doc in knowledge_base:\n",
    "        docs_processed += text_splitter.split_documents([doc])\n",
    "\n",
    "    # Remove duplicates\n",
    "    unique_texts = {}\n",
    "    docs_processed_unique = []\n",
    "    for doc in docs_processed:\n",
    "        if doc.page_content not in unique_texts:\n",
    "            unique_texts[doc.page_content] = True\n",
    "            docs_processed_unique.append(doc)\n",
    "\n",
    "    return docs_processed_unique\n",
    "\n",
    "# Remove all whitespaces between newlines e.g. \\n \\n \\n \\n --> \\n\\n\\n\\n\n",
    "for doc in documents:\n",
    "    doc.page_content = re.sub('(?<=\\\\n) (?=\\\\n)', '', doc.page_content)\n",
    "\n",
    "docs = split_documents(\n",
    "    384,  # We choose a chunk size adapted to our model\n",
    "    documents,\n",
    "    tokenizer_name=MODEL_NAME_KBLAB,\n",
    ")\n",
    "docs[0].page_content"
   ]
  },
  {
   "cell_type": "code",
   "execution_count": null,
   "metadata": {},
   "outputs": [],
   "source": [
    "# tokenizer = AutoTokenizer.from_pretrained(MODEL_NAME_KBLAB)\n",
    "# lengths = [len(tokenizer.encode(doc.page_content)) for doc in docs]\n",
    "# fig = pd.Series(lengths).hist()\n",
    "# plt.title(\"Distribution of document lengths in the knowledge base (in count of tokens)\")\n",
    "# plt.show()"
   ]
  },
  {
   "cell_type": "markdown",
   "metadata": {},
   "source": [
    "# Text Embedding & Vector Stores"
   ]
  },
  {
   "cell_type": "code",
   "execution_count": 6,
   "metadata": {},
   "outputs": [
    {
     "name": "stdout",
     "output_type": "stream",
     "text": [
      "Added 3 chunks to ChromaDB\n"
     ]
    }
   ],
   "source": [
    "# Initialize an instance of HuggingFaceEmbeddings with the specified parameters\n",
    "embeddings = HuggingFaceEmbeddings(\n",
    "    model_name=MODEL_NAME_KBLAB, # Provide the pre-trained model's path\n",
    "    model_kwargs={'device':'cpu'}, # Pass the model configuration options\n",
    "    encode_kwargs={'normalize_embeddings': True} # Set `True` for cosine similarity\n",
    ")\n",
    "\n",
    "# Initialize Chroma DB\n",
    "chroma_client = chromadb.Client()\n",
    "\n",
    "# switch `create_collection` to `get_or_create_collection` to avoid creating a new collection every time\n",
    "collection = chroma_client.get_or_create_collection(name=\"huggingface_collection\")\n",
    "\n",
    "# load it into Chroma\n",
    "db = Chroma.from_documents(\n",
    "    documents=docs,\n",
    "    embedding=embeddings,\n",
    "    collection_name='huggingface_collection',\n",
    "    client=chroma_client,\n",
    ")\n",
    "print(f\"Added {len(docs)} chunks to ChromaDB\")"
   ]
  },
  {
   "cell_type": "markdown",
   "metadata": {},
   "source": [
    "# Preparing the LLM Model\n"
   ]
  },
  {
   "cell_type": "code",
   "execution_count": 21,
   "metadata": {},
   "outputs": [],
   "source": [
    "from transformers import AutoModelForCausalLM\n",
    "import torch\n",
    "import os\n",
    "\n",
    "# model_name = 'KBLab/bart-base-swedish-cased'\n",
    "model_name = 'AI-Sweden-Models/gpt-sw3-356m-instruct'\n",
    "access_token = os.getenv('HF_TOKEN')\n",
    "\n",
    "# Initialize Tokenizer & Model\n",
    "tokenizer = AutoTokenizer.from_pretrained(model_name, token=access_token)\n",
    "model = AutoModelForCausalLM.from_pretrained(model_name, token=access_token)\n",
    "device = \"cuda:0\" if torch.cuda.is_available() else \"cpu\"\n",
    "\n",
    "text_generation_pipeline = pipeline(\n",
    "    'text-generation',\n",
    "    model=model,\n",
    "    tokenizer=tokenizer,\n",
    "    device=device,\n",
    "    do_sample=True, \n",
    "    temperature=0.6, \n",
    "    repetition_penalty=1.1,\n",
    "    return_full_text=False,\n",
    "    max_new_tokens=500,\n",
    ")"
   ]
  },
  {
   "cell_type": "code",
   "execution_count": 22,
   "metadata": {},
   "outputs": [
    {
     "name": "stdout",
     "output_type": "stream",
     "text": [
      "<|endoftext|><s>Bot: Using the information contained in the context,\n",
      "give a comprehensive answer to the question.\n",
      "Respond only to the question asked, response should be concise and relevant to the question.\n",
      "Provide the number of the source document when relevant.\n",
      "If the answer cannot be deduced from the context, do not give an answer.<s>User: Context:\n",
      "{context}\n",
      "---\n",
      "Now here is the question you need to answer.\n",
      "\n",
      "Question: {question}<s>Bot:\n"
     ]
    }
   ],
   "source": [
    "prompt_in_chat_format = [\n",
    "    {\n",
    "        \"role\": \"system\",\n",
    "        \"content\": \"\"\"Using the information contained in the context,\n",
    "give a comprehensive answer to the question.\n",
    "Respond only to the question asked, response should be concise and relevant to the question.\n",
    "Provide the number of the source document when relevant.\n",
    "If the answer cannot be deduced from the context, do not give an answer.\"\"\",\n",
    "    },\n",
    "    {\n",
    "        \"role\": \"user\",\n",
    "        \"content\": \"\"\"Context:\n",
    "{context}\n",
    "---\n",
    "Now here is the question you need to answer.\n",
    "\n",
    "Question: {question}\"\"\",\n",
    "    },\n",
    "]\n",
    "RAG_PROMPT_TEMPLATE = tokenizer.apply_chat_template(\n",
    "    prompt_in_chat_format, tokenize=False, add_generation_prompt=True\n",
    ")\n",
    "print(RAG_PROMPT_TEMPLATE)"
   ]
  },
  {
   "cell_type": "code",
   "execution_count": 23,
   "metadata": {},
   "outputs": [],
   "source": [
    "def answer_with_rag(query, llm, db, num_retrieved_docs=30, num_docs_final=5):\n",
    "    # Gather documents with retriever\n",
    "    print(\"=> Retrieving documents...\")\n",
    "    relevant_docs = db.similarity_search(query=query, k=num_retrieved_docs)\n",
    "    relevant_docs = [doc.page_content for doc in docs]  # Keep only the text\n",
    "\n",
    "    relevant_docs = relevant_docs[:num_docs_final]\n",
    "\n",
    "    # Build the final prompt\n",
    "    context = \"\\nExtracted documents:\\n\"\n",
    "    context += \"\".join([f\"Document {str(i)}:::\\n\" + doc for i, doc in enumerate(relevant_docs)])\n",
    "\n",
    "    final_prompt = RAG_PROMPT_TEMPLATE.format(question=query, context=context)\n",
    "\n",
    "    # Redact an answer\n",
    "    print(\"=> Generating answer...\")\n",
    "    answer = llm(final_prompt)[0][\"generated_text\"]\n",
    "    \n",
    "    return answer, relevant_docs"
   ]
  },
  {
   "cell_type": "code",
   "execution_count": 24,
   "metadata": {},
   "outputs": [
    {
     "name": "stdout",
     "output_type": "stream",
     "text": [
      "=> Retrieving documents...\n"
     ]
    },
    {
     "name": "stderr",
     "output_type": "stream",
     "text": [
      "Number of requested results 30 is greater than number of elements in index 3, updating n_results = 3\n"
     ]
    },
    {
     "name": "stdout",
     "output_type": "stream",
     "text": [
      "=> Generating answer...\n"
     ]
    }
   ],
   "source": [
    "query = 'Kan du sammanfatta arbetsmiljöpolicy för Chalmers tekniska högskola AB?'\n",
    "answer, relevant_docs = answer_with_rag(query, text_generation_pipeline, db)"
   ]
  },
  {
   "cell_type": "code",
   "execution_count": 25,
   "metadata": {},
   "outputs": [
    {
     "name": "stdout",
     "output_type": "stream",
     "text": [
      "==================================Query==================================\n",
      "Kan du sammanfatta arbetsmiljöpolicy för Chalmers tekniska högskola AB?\n",
      "\n",
      "==================================Answer==================================\n",
      " Ja, här följer en kort sammanfattning av arbetsmiljöpolicy för Chalmers tekniska högskola AB:\n",
      "\n",
      "\"För att främja en säker och hälsosam arbetsmiljö ska Chalmers ha en policy som beskriver hur man som anställd på Chalmers ska bete sig mot varandra och sina arbetskamrater. Denna policy är vägledande för hur Chalmers behandlar sina anställda och deras hälsa samt för hur de vill att Chalmers ska arbeta med arbetsmiljöfrågor.\"\n",
      "\n",
      "Vad ska jag tänka på när jag använder den här policyn?\n",
      "\n",
      "==================================Source docs==================================\n",
      "Document 0------------------------------------------------------------\n",
      "STYRDOKUMENT: Chalmers Arbetsmiljöpolicy, Dnr C 2021-1894. Beslut fattat av rektor 2022-01-17.Dokumentets metadata:\n",
      "Beslut av:\n",
      "RektorTyp av styrdokument:\n",
      "PolicyDiarienummer:\n",
      "C 2021-1894\n",
      "Datum för\n",
      "beslut:\n",
      "2022-01-18Handläggare:\n",
      "Samuel FröjmarkDokumentstruktur:\n",
      "D1.3\n",
      "Dokumentet\n",
      "gäller från och\n",
      "med:\n",
      "2022-01-01Avdelning/motsvarande som ansvarar för\n",
      "att dokumentet skapas och/eller\n",
      "revideras:\n",
      "HR-avdelningenDokumentet\n",
      "reviderat,\n",
      "datum:Versionsnummer:\n",
      "Dokumentet\n",
      "gäller till och\n",
      "med:\n",
      "2024-12-31Dokumentet ersätter tidigare beslut:\n",
      "C 2018-1491Dokumentet genomgånget utan\n",
      "ändring, datum:\n",
      "Arbetsmiljöpolicy för Chalmers tekniska högskola AB\n",
      "Styrdokument vid Chalmers\n",
      "Arbetsmiljön i Chalmers verksamhet ska vara sådan att inga medarbetare eller studenter riskerar att\n",
      "drabbas av ohälsa eller komma till skada på grund av sin arbetsmiljö/studiemiljö. Arbetsmiljön ska\n",
      "bidra till trivsel och utveckling både yrkesmässigt och individuellt. Alla beslut som fattas och alla\n",
      "aktiviteter som genomförs på Chalmers ska följa de lagar inom arbetsmiljö som krävs av respektive\n",
      "aktivitet. \n",
      "\n",
      "Document 1------------------------------------------------------------\n",
      "aktiviteter som genomförs på Chalmers ska följa de lagar inom arbetsmiljö som krävs av respektive\n",
      "aktivitet.\n",
      "Arbetsmiljön ska präglas av öppenhet, delaktighet och mångfald, där alla individer ska behandlas\n",
      "jämlikt och med respekt. Chalmers accepterar ingen form av trakasserier, kränkande särbehandling\n",
      "eller, i synnerhet, sexuella trakasserier. Verksamheten ska ha ett tydligt och synligt ledarskap med\n",
      "respekt och omsorg om varje medarbetare.\n",
      "Vi ska arbeta systematiskt och förebyggande med arbetsmiljölagstiftningen som grund och med en\n",
      "strävan att ständigt förbättra arbets- och studiemiljön.\n",
      "Chalmers systematiska arbetsmiljöarbete innebär att:\n",
      "Arbetsmiljöarbetet ska vara en naturlig del i allt vi gör.\n",
      "Arbetsmiljöarbetet ska göras i samverkan mellan arbetsgivare, arbetstagare/studenter och\n",
      "arbetsmiljöombud/studerandearbetsmiljöombud.\n",
      "Chefer och ledare med uppgiftsfördelning inom arbetsmiljö ska ha rätt kunskaper,\n",
      "kompetens, resurser och befogenheter för att kunna verka för en bra och säker arbetsmiljö.\n",
      "Kraven och resurserna ska vara i balans för alla arbetstagare och studenter.\n",
      "Alla anställda/studenter ska få den introduktion och utbildning de behöver för att\n",
      "kunna arbeta säkert och hälsosamt.Beslut fattat av: Stefan Bengtsson, Chalmers tekniska högskola, 2022-01-21, C 2021-1894\n",
      "Decision made by: Stefan Bengtsson, Chalmers University of Technology, 2022-01-21, C 2021-1894 \n",
      "\n",
      "Document 2------------------------------------------------------------\n",
      "STYRDOKUMENT: Chalmers Arbetsmiljöpolicy, Dnr C 2021-1894. Beslut fattat av rektor 2022-01-17.Verksamheten ska undersöka och riskbedöma såväl den fysiska som den organisatoriska och\n",
      "sociala arbetsmiljön regelbundet, och vid förändringar, för att kunna vidta de åtgärder som\n",
      "behövs för att skapa en säker och trygg arbetsplats.\n",
      "Alla tillbud och olyckor som inträffar ska rapporteras och utredas så att Chalmers kan\n",
      "vidta åtgärder.\n",
      "Verksamheten ska följa upp det systematiska arbetsmiljöarbetet årligen.\n",
      "All verksamhet vid Chalmers ska bidra till att uppfylla visionen för en hållbar framtid.Beslut fattat av: Stefan Bengtsson, Chalmers tekniska högskola, 2022-01-21, C 2021-1894\n",
      "Decision made by: Stefan Bengtsson, Chalmers University of Technology, 2022-01-21, C 2021-1894 \n",
      "\n"
     ]
    }
   ],
   "source": [
    "print(\"==================================Query==================================\")\n",
    "print(f\"{query}\\n\")\n",
    "print(\"==================================Answer==================================\")\n",
    "print(f\"{answer}\\n\")\n",
    "print(\"==================================Source docs==================================\")\n",
    "for i, doc in enumerate(relevant_docs):\n",
    "    print(f\"Document {i}------------------------------------------------------------\")\n",
    "    print(doc, '\\n')"
   ]
  }
 ],
 "metadata": {
  "kernelspec": {
   "display_name": ".venv",
   "language": "python",
   "name": "python3"
  },
  "language_info": {
   "codemirror_mode": {
    "name": "ipython",
    "version": 3
   },
   "file_extension": ".py",
   "mimetype": "text/x-python",
   "name": "python",
   "nbconvert_exporter": "python",
   "pygments_lexer": "ipython3",
   "version": "3.12.2"
  }
 },
 "nbformat": 4,
 "nbformat_minor": 2
}
