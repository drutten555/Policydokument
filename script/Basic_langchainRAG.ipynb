{
 "cells": [
  {
   "cell_type": "code",
   "execution_count": 1,
   "metadata": {},
   "outputs": [],
   "source": [
    "from dotenv import load_dotenv\n",
    "import os \n",
    "from langchain_openai.chat_models import ChatOpenAI\n",
    "from langchain.prompts import PromptTemplate\n",
    "from langchain_core.output_parsers import StrOutputParser\n",
    "from langchain_community.document_loaders import PyPDFLoader\n",
    "from langchain.text_splitter import RecursiveCharacterTextSplitter\n",
    "from langchain_openai.embeddings import OpenAIEmbeddings\n",
    "from langchain_community.vectorstores import FAISS,DocArrayInMemorySearch\n",
    "from langchain_core.runnables import RunnablePassthrough, RunnableParallel"
   ]
  },
  {
   "cell_type": "markdown",
   "metadata": {},
   "source": [
    "# A simple script for RAG experiments "
   ]
  },
  {
   "cell_type": "markdown",
   "metadata": {},
   "source": [
    "Code from: https://github.com/Tech-Watt/RAG-Application-Using-OpenAI-Model/blob/main/main.ipynb "
   ]
  },
  {
   "cell_type": "code",
   "execution_count": 2,
   "metadata": {},
   "outputs": [
    {
     "data": {
      "text/plain": [
       "AIMessage(content='The question \"What is the meaning of life?\" has been a central philosophical inquiry for centuries and can be approached from various perspectives:\\n\\n1. **Philosophical Perspective**: Different philosophical traditions offer varied answers. Existentialists, like Jean-Paul Sartre, suggest that life has no inherent meaning and it is up to each individual to create their own purpose. In contrast, some religious philosophies, like those in many forms of Christianity, Islam, and Hinduism, propose that life\\'s meaning is derived from a higher power or divine plan.\\n\\n2. **Scientific Perspective**: From a biological standpoint, the meaning of life could be seen as survival and reproduction. Evolutionary theory suggests that life exists to perpetuate itself through natural selection.\\n\\n3. **Psychological Perspective**: Psychologists such as Viktor Frankl argue that finding meaning is crucial for mental health and well-being. According to Frankl\\'s logotherapy, meaning can be found through work, relationships, and even suffering.\\n\\n4. **Cultural Perspective**: Different cultures have their own interpretations of life\\'s purpose, often influenced by historical, social, and environmental factors. For instance, some Indigenous cultures view life as interconnected with nature and community.\\n\\n5. **Personal Perspective**: Ultimately, many people believe that the meaning of life is a personal journey. It is shaped by individual experiences, beliefs, values, and goals.\\n\\nIn summary, the meaning of life is a complex and multifaceted question with no single answer. It can vary depending on philosophical, scientific, psychological, cultural, and personal viewpoints.', response_metadata={'token_usage': {'completion_tokens': 312, 'prompt_tokens': 14, 'total_tokens': 326}, 'model_name': 'gpt-4o-2024-05-13', 'system_fingerprint': 'fp_dd932ca5d1', 'finish_reason': 'stop', 'logprobs': None}, id='run-4ec90562-d553-4b38-a4ad-34f58b2af562-0', usage_metadata={'input_tokens': 14, 'output_tokens': 312, 'total_tokens': 326})"
      ]
     },
     "execution_count": 2,
     "metadata": {},
     "output_type": "execute_result"
    }
   ],
   "source": [
    "load_dotenv()\n",
    "# Models: 'gpt-3.5-turbo' # model lib: https://platform.openai.com/docs/models/gpt-4o\n",
    "model = ChatOpenAI(api_key=os.getenv('OPENAI_API_KEY'),model='gpt-4o' )\n",
    "model.invoke('what is the meaning of life?') #Where we pass the question"
   ]
  },
  {
   "cell_type": "code",
   "execution_count": 72,
   "metadata": {},
   "outputs": [
    {
     "data": {
      "text/plain": [
       "\"Chalmers University of Technology, commonly known simply as Chalmers, is a prestigious technical university located in Gothenburg, Sweden. It was founded in 1829 and is named after its benefactor, William Chalmers, a director of the Swedish East India Company who bequeathed part of his fortune to establish the school. \\n\\nChalmers is renowned for its research and education in technology, natural sciences, architecture, maritime management, and other engineering disciplines. The university emphasizes innovation, sustainability, and collaboration with industry. It offers a range of undergraduate, master's, and doctoral programs and is known for its strong international presence and partnerships.\\n\\nThe university is also involved in various cutting-edge research projects and has a number of specialized research centers and labs. It operates two campuses in Gothenburg: Johanneberg and Lindholmen.\""
      ]
     },
     "execution_count": 72,
     "metadata": {},
     "output_type": "execute_result"
    }
   ],
   "source": [
    "# how to get the pure reponse with out clutter \n",
    "parser = StrOutputParser()\n",
    "chain = model|parser # So called chaining\n",
    "chain.invoke('what is Chalmers in Sweden?') #Less verbose"
   ]
  },
  {
   "cell_type": "markdown",
   "metadata": {},
   "source": [
    "# Loading pdfs"
   ]
  },
  {
   "cell_type": "code",
   "execution_count": 73,
   "metadata": {},
   "outputs": [
    {
     "data": {
      "text/plain": [
       "7"
      ]
     },
     "execution_count": 73,
     "metadata": {},
     "output_type": "execute_result"
    }
   ],
   "source": [
    "#todo Add a dicrectory and loop though it.\n",
    "\n",
    "file_loader = PyPDFLoader('Riktlinje för inköp och upphandling vid Chalmers tekniska högskola 211008.pdf')\n",
    "page = file_loader.load_and_split()\n",
    "len(page) # number of pages read"
   ]
  },
  {
   "cell_type": "code",
   "execution_count": null,
   "metadata": {},
   "outputs": [],
   "source": [
    "# Load entire directories\n",
    "directory_path = '/Users/kailashdejesushornig/Documents/GitHub/Stipendier/data/pdfs/testSubset'  # Replace with your directory path\n",
    "pdf_files = load_pdfs(directory_path)\n",
    "\n",
    "# taqadum bar\n",
    "with tqdm(total=len(pdf_files), desc=\"Processing PDFs\") as pbar:\n",
    "        for pdf_path in pdf_files:\n",
    "            images = extract_images_from_pdf(pdf_path)\n",
    "            ocr_texts = apply_ocr_to_images(images)\n",
    "            # print(f\"Here comes the OCR: {ocr_texts}\") # only for trouble shooting\n",
    "            transcriptions = transcribe_texts(ocr_texts)\n",
    "            \n",
    "            # Save the transcription to a text file named after the PDF file\n",
    "            output_filename = f\"{os.path.splitext(os.path.basename(pdf_path))[0]}.txt\"\n",
    "            with open(output_filename, 'w', encoding='utf-8') as f:\n",
    "                for idx, transcription in enumerate(transcriptions):\n",
    "                    f.write(f\"Transcription for image {idx + 1}:\\n{transcription}\\n\\n\")\n",
    "            \n",
    "            print(f\"Transcriptions saved to {output_filename}\")\n",
    "            pbar.update(1)\n"
   ]
  },
  {
   "cell_type": "code",
   "execution_count": 74,
   "metadata": {},
   "outputs": [
    {
     "data": {
      "text/plain": [
       "Document(page_content='STYRDOKUMENT: Riktlinje för inköp och upphandling vid Chalmers tekniska högskola . Dnr C 20 2 1 -\\n1529 . Beslut av CPO Tommy Bothin , 20 2 1 - 10 - 08 .Dokumentets metadata:\\nBeslut av:', metadata={'source': 'Riktlinje för inköp och upphandling vid Chalmers tekniska högskola 211008.pdf', 'page': 0})"
      ]
     },
     "execution_count": 74,
     "metadata": {},
     "output_type": "execute_result"
    }
   ],
   "source": [
    "#The doc is still to large, chunk it\n",
    "spliter = RecursiveCharacterTextSplitter(chunk_size = 200,chunk_overlap = 50) #experiment here? eg. 10 -> destroys the understanding, 50+ works\n",
    "\n",
    "# Todo: write a script that optimizes the chunk sizes (obs this has been solved before)\n",
    "\n",
    "pages = spliter.split_documents(page)\n",
    "pages[0] #look at first"
   ]
  },
  {
   "cell_type": "code",
   "execution_count": 75,
   "metadata": {},
   "outputs": [],
   "source": [
    "# FAISS from facebook \n",
    "vector_storage = FAISS.from_documents(pages,OpenAIEmbeddings())\n",
    "retriever = vector_storage.as_retriever()\n",
    "\n",
    "# todo: change to chroma"
   ]
  },
  {
   "cell_type": "code",
   "execution_count": 77,
   "metadata": {},
   "outputs": [
    {
     "name": "stdout",
     "output_type": "stream",
     "text": [
      "\n",
      "your a smart bot that answers questions based on the context given to you only.\n",
      "You don't make things up.\n",
      "context: Here is the context to use\n",
      "question: Answer this question based on the context\n",
      "\n",
      "\n"
     ]
    }
   ],
   "source": [
    "question_template = \"\"\"\n",
    "You're a smart bot that answers questions based on the context given to you only.\n",
    "You don't make things up, this is important.\n",
    "context:{context}\n",
    "question:{question}\n",
    "\n",
    "\"\"\"\n",
    "\n",
    "prompt = PromptTemplate.from_template(template=question_template)\n",
    "print(prompt.format(context = ' Here is the context to use',\n",
    "              question = ' Answer this question based on the context'\n",
    "              ))"
   ]
  },
  {
   "cell_type": "code",
   "execution_count": 80,
   "metadata": {},
   "outputs": [
    {
     "data": {
      "text/plain": [
       "'The provided context does not contain any information about what \"LLM\" or \"LLMs\" refers to. Therefore, based on the given context, I cannot provide an answer to your question.'"
      ]
     },
     "execution_count": 80,
     "metadata": {},
     "output_type": "execute_result"
    }
   ],
   "source": [
    "#Passing to vectorDB (fetch context) and to LLM in parallell (ask based on fetched context)\n",
    "result = RunnableParallel(context= retriever,question = RunnablePassthrough()) # explain this again\n",
    "chain = result |prompt | model | parser # new chain\n",
    "#question based on wrong context\n",
    "chain.invoke('What is a LLMs?')"
   ]
  },
  {
   "cell_type": "markdown",
   "metadata": {},
   "source": []
  },
  {
   "cell_type": "code",
   "execution_count": 81,
   "metadata": {},
   "outputs": [
    {
     "data": {
      "text/plain": [
       "'Enligt den givna kontexten får endast den som har delegation ingå avtal för Chalmers räkning.'"
      ]
     },
     "execution_count": 81,
     "metadata": {},
     "output_type": "execute_result"
    }
   ],
   "source": [
    "#question based on right context\n",
    "chain.invoke('Vem får ingå avtal för Chalmers räkning?')"
   ]
  },
  {
   "cell_type": "code",
   "execution_count": 83,
   "metadata": {},
   "outputs": [
    {
     "data": {
      "text/plain": [
       "[Document(page_content='Chalmers, 201 8 - 06 - 25 , C201 8 - 0 262 i dess senaste version) får företräda Chalmers. Endast den som\\nhar delegation kan ingå avtal för Chalmers räkning.', metadata={'source': 'Riktlinje för inköp och upphandling vid Chalmers tekniska högskola 211008.pdf', 'page': 1}),\n",
       " Document(page_content='3 Grundläggande förutsättningar\\nChalmers är en upphandlande enhet och omfattas av lagstiftningen avseende offentlig upphandling.\\nVid all upphandling ska särskilt följande principer beaktas:', metadata={'source': 'Riktlinje för inköp och upphandling vid Chalmers tekniska högskola 211008.pdf', 'page': 0}),\n",
       " Document(page_content='– Styrdokument vid Chalmers , den 31 oktober 201 6, C 2016 - 1759 .\\n2 Mål\\nMål et är att visa att Chalmers gör goda affärer .\\n3 Grundläggande förutsättningar', metadata={'source': 'Riktlinje för inköp och upphandling vid Chalmers tekniska högskola 211008.pdf', 'page': 0}),\n",
       " Document(page_content='Institutionerna ansvarar utifrån sina förutsättningar för sina delegationer. Köp ska begränsas till ett\\nfåtal personer per insti tution.\\nDärutöver gäller Chalmers godkännanderegler för investeringar.', metadata={'source': 'Riktlinje för inköp och upphandling vid Chalmers tekniska högskola 211008.pdf', 'page': 1})]"
      ]
     },
     "execution_count": 83,
     "metadata": {},
     "output_type": "execute_result"
    }
   ],
   "source": [
    "#to get the source page we use the retreiver\n",
    "retriever.invoke('Vem får ingå avtal för Chalmers räkning?')\n",
    "\n",
    "#First one correct: Document(page_content='Chalmers, 201 8 - 06 - 25 , C201 8 - 0 262 i dess senaste version) får företräda Chalmers. Endast den som\\nhar delegation kan ingå avtal för Chalmers räkning.', metadata={'source': 'Riktlinje för inköp och upphandling vid Chalmers tekniska högskola 211008.pdf', 'page': 1}),"
   ]
  }
 ],
 "metadata": {
  "kernelspec": {
   "display_name": "Python 3",
   "language": "python",
   "name": "python3"
  },
  "language_info": {
   "codemirror_mode": {
    "name": "ipython",
    "version": 3
   },
   "file_extension": ".py",
   "mimetype": "text/x-python",
   "name": "python",
   "nbconvert_exporter": "python",
   "pygments_lexer": "ipython3",
   "version": "3.12.0"
  }
 },
 "nbformat": 4,
 "nbformat_minor": 2
}
