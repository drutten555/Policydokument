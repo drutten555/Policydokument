{
 "cells": [
  {
   "cell_type": "code",
   "execution_count": 1,
   "metadata": {},
   "outputs": [],
   "source": [
    "from dotenv import load_dotenv\n",
    "import os \n",
    "from langchain_openai.chat_models import ChatOpenAI\n",
    "from langchain.prompts import PromptTemplate\n",
    "from langchain_core.output_parsers import StrOutputParser\n",
    "from langchain_community.document_loaders import PyPDFLoader\n",
    "from langchain.text_splitter import RecursiveCharacterTextSplitter\n",
    "from langchain_openai.embeddings import OpenAIEmbeddings\n",
    "from langchain_community.vectorstores import FAISS,DocArrayInMemorySearch\n",
    "from langchain_core.runnables import RunnablePassthrough, RunnableParallel"
   ]
  },
  {
   "cell_type": "code",
   "execution_count": 4,
   "metadata": {},
   "outputs": [
    {
     "name": "stdout",
     "output_type": "stream",
     "text": [
      "Requirement already satisfied: jupyter in /Users/kailashdejesushornig/Documents/GitHub/.venv/lib/python3.12/site-packages (from -r /Users/kailashdejesushornig/Documents/GitHub/CV_projects/requirements.txt (line 3)) (1.0.0)\n",
      "Requirement already satisfied: numpy in /Users/kailashdejesushornig/Documents/GitHub/.venv/lib/python3.12/site-packages (from -r /Users/kailashdejesushornig/Documents/GitHub/CV_projects/requirements.txt (line 4)) (2.0.1)\n",
      "Requirement already satisfied: scipy in /Users/kailashdejesushornig/Documents/GitHub/.venv/lib/python3.12/site-packages (from -r /Users/kailashdejesushornig/Documents/GitHub/CV_projects/requirements.txt (line 5)) (1.14.0)\n",
      "Requirement already satisfied: pandas in /Users/kailashdejesushornig/Documents/GitHub/.venv/lib/python3.12/site-packages (from -r /Users/kailashdejesushornig/Documents/GitHub/CV_projects/requirements.txt (line 6)) (2.2.2)\n",
      "Collecting shap (from -r /Users/kailashdejesushornig/Documents/GitHub/CV_projects/requirements.txt (line 7))\n",
      "  Using cached shap-0.46.0-cp312-cp312-macosx_11_0_arm64.whl.metadata (24 kB)\n",
      "Collecting kaggle (from -r /Users/kailashdejesushornig/Documents/GitHub/CV_projects/requirements.txt (line 8))\n",
      "  Using cached kaggle-1.6.14-py3-none-any.whl\n",
      "\u001b[31mERROR: Could not find a version that satisfies the requirement PyPDFLoader (from versions: none)\u001b[0m\u001b[31m\n",
      "\u001b[0m\u001b[31mERROR: No matching distribution found for PyPDFLoader\u001b[0m\u001b[31m\n",
      "\u001b[0m"
     ]
    }
   ],
   "source": [
    "!pip install -r /Users/kailashdejesushornig/Documents/GitHub/CV_projects/requirements.txt"
   ]
  },
  {
   "cell_type": "markdown",
   "metadata": {},
   "source": [
    "# A simple script for RAG experiments "
   ]
  },
  {
   "cell_type": "markdown",
   "metadata": {},
   "source": [
    "Most code taken from: https://github.com/Tech-Watt/RAG-Application-Using-OpenAI-Model/blob/main/main.ipynb "
   ]
  },
  {
   "cell_type": "code",
   "execution_count": 2,
   "metadata": {},
   "outputs": [
    {
     "data": {
      "text/plain": [
       "AIMessage(content='The question \"What is the meaning of life?\" has been a central philosophical inquiry for centuries and can be approached from various perspectives:\\n\\n1. **Philosophical Perspective**: Different philosophical traditions offer varied answers. Existentialists, like Jean-Paul Sartre, suggest that life has no inherent meaning and it is up to each individual to create their own purpose. In contrast, some religious philosophies, like those in many forms of Christianity, Islam, and Hinduism, propose that life\\'s meaning is derived from a higher power or divine plan.\\n\\n2. **Scientific Perspective**: From a biological standpoint, the meaning of life could be seen as survival and reproduction. Evolutionary theory suggests that life exists to perpetuate itself through natural selection.\\n\\n3. **Psychological Perspective**: Psychologists such as Viktor Frankl argue that finding meaning is crucial for mental health and well-being. According to Frankl\\'s logotherapy, meaning can be found through work, relationships, and even suffering.\\n\\n4. **Cultural Perspective**: Different cultures have their own interpretations of life\\'s purpose, often influenced by historical, social, and environmental factors. For instance, some Indigenous cultures view life as interconnected with nature and community.\\n\\n5. **Personal Perspective**: Ultimately, many people believe that the meaning of life is a personal journey. It is shaped by individual experiences, beliefs, values, and goals.\\n\\nIn summary, the meaning of life is a complex and multifaceted question with no single answer. It can vary depending on philosophical, scientific, psychological, cultural, and personal viewpoints.', response_metadata={'token_usage': {'completion_tokens': 312, 'prompt_tokens': 14, 'total_tokens': 326}, 'model_name': 'gpt-4o-2024-05-13', 'system_fingerprint': 'fp_dd932ca5d1', 'finish_reason': 'stop', 'logprobs': None}, id='run-4ec90562-d553-4b38-a4ad-34f58b2af562-0', usage_metadata={'input_tokens': 14, 'output_tokens': 312, 'total_tokens': 326})"
      ]
     },
     "execution_count": 2,
     "metadata": {},
     "output_type": "execute_result"
    }
   ],
   "source": [
    "load_dotenv()\n",
    "# More models: https://platform.openai.com/docs/models/gpt-4o\n",
    "model = ChatOpenAI(api_key=os.getenv('OPENAI_API_KEY'),model='gpt-4o-mini' )\n",
    "model.invoke('what is the meaning of life?') #Where we pass the question"
   ]
  },
  {
   "cell_type": "code",
   "execution_count": 72,
   "metadata": {},
   "outputs": [
    {
     "data": {
      "text/plain": [
       "\"Chalmers University of Technology, commonly known simply as Chalmers, is a prestigious technical university located in Gothenburg, Sweden. It was founded in 1829 and is named after its benefactor, William Chalmers, a director of the Swedish East India Company who bequeathed part of his fortune to establish the school. \\n\\nChalmers is renowned for its research and education in technology, natural sciences, architecture, maritime management, and other engineering disciplines. The university emphasizes innovation, sustainability, and collaboration with industry. It offers a range of undergraduate, master's, and doctoral programs and is known for its strong international presence and partnerships.\\n\\nThe university is also involved in various cutting-edge research projects and has a number of specialized research centers and labs. It operates two campuses in Gothenburg: Johanneberg and Lindholmen.\""
      ]
     },
     "execution_count": 72,
     "metadata": {},
     "output_type": "execute_result"
    }
   ],
   "source": [
    "# Creating a chain to get the pure reponse without clutter \n",
    "parser = StrOutputParser()\n",
    "chain = model|parser # So called chaining\n",
    "chain.invoke('what is Chalmers in Sweden?') #Less verbose"
   ]
  },
  {
   "cell_type": "markdown",
   "metadata": {},
   "source": [
    "# Loading pdfs"
   ]
  },
  {
   "cell_type": "code",
   "execution_count": 73,
   "metadata": {},
   "outputs": [
    {
     "data": {
      "text/plain": [
       "7"
      ]
     },
     "execution_count": 73,
     "metadata": {},
     "output_type": "execute_result"
    }
   ],
   "source": [
    "#example with only one file\n",
    "# file_loader = PyPDFLoader('/Users/kailashdejesushornig/Documents/GitHub/CV_projects/data/governing_docs_chalmers/Alkohol- och drogpolicy.PDF')\n",
    "# page = file_loader.load_and_split()\n",
    "# len(page) # number of pages read"
   ]
  },
  {
   "cell_type": "code",
   "execution_count": 5,
   "metadata": {},
   "outputs": [
    {
     "ename": "ModuleNotFoundError",
     "evalue": "No module named 'PyPDFLoader'",
     "output_type": "error",
     "traceback": [
      "\u001b[0;31m---------------------------------------------------------------------------\u001b[0m",
      "\u001b[0;31mModuleNotFoundError\u001b[0m                       Traceback (most recent call last)",
      "Cell \u001b[0;32mIn[5], line 4\u001b[0m\n\u001b[1;32m      2\u001b[0m \u001b[38;5;28;01mimport\u001b[39;00m \u001b[38;5;21;01mos\u001b[39;00m\n\u001b[1;32m      3\u001b[0m \u001b[38;5;28;01mfrom\u001b[39;00m \u001b[38;5;21;01mtqdm\u001b[39;00m \u001b[38;5;28;01mimport\u001b[39;00m tqdm\n\u001b[0;32m----> 4\u001b[0m \u001b[38;5;28;01mfrom\u001b[39;00m \u001b[38;5;21;01mPyPDFLoader\u001b[39;00m \u001b[38;5;28;01mimport\u001b[39;00m PyPDFLoader\n\u001b[1;32m      5\u001b[0m \u001b[38;5;28;01mfrom\u001b[39;00m \u001b[38;5;21;01mlangchain\u001b[39;00m\u001b[38;5;21;01m.\u001b[39;00m\u001b[38;5;21;01mtext_splitter\u001b[39;00m \u001b[38;5;28;01mimport\u001b[39;00m RecursiveCharacterTextSplitter\n\u001b[1;32m      7\u001b[0m \u001b[38;5;66;03m# Define the directory containing the PDFs\u001b[39;00m\n",
      "\u001b[0;31mModuleNotFoundError\u001b[0m: No module named 'PyPDFLoader'"
     ]
    }
   ],
   "source": [
    "#My extended version to load entire directories\n",
    "import os\n",
    "from tqdm import tqdm\n",
    "import fitz\n",
    "# from PyPDFLoader import PyPDFLoader\n",
    "from langchain.text_splitter import RecursiveCharacterTextSplitter\n",
    "\n",
    "# Define the directory containing the PDFs\n",
    "pdf_directory = '/Users/kailashdejesushornig/Documents/GitHub/CV_projects/data/governing_docs_chalmers'\n",
    "\n",
    "# Initialize the PDF loader\n",
    "file_loader = PyPDFLoader()\n",
    "\n",
    "# Initialize the text splitter\n",
    "spliter = RecursiveCharacterTextSplitter(chunk_size=200, chunk_overlap=50) # experiment with parameters\n",
    "\n",
    "# Get a list of PDF files\n",
    "pdf_files = [f for f in os.listdir(pdf_directory) if f.endswith('.pdf')]\n",
    "\n",
    "# Process each PDF file with a tqdm progress bar\n",
    "for filename in tqdm(pdf_files, desc=\"Processing PDFs\"):\n",
    "    pdf_path = os.path.join(pdf_directory, filename)\n",
    "    \n",
    "    # Load and split the PDF\n",
    "    doc = file_loader.load_and_split(pdf_path)\n",
    "    \n",
    "    # Chunk each split document\n",
    "    for page in doc:\n",
    "        pages = spliter.split_documents(page)\n",
    "        \n",
    "    # Look at the first chunk of the first page\n",
    "    print(pages[0])\n",
    "#print(len(pages))\n"
   ]
  },
  {
   "cell_type": "code",
   "execution_count": 7,
   "metadata": {},
   "outputs": [
    {
     "name": "stdout",
     "output_type": "stream",
     "text": [
      "Collecting fitz\n",
      "  Using cached fitz-0.0.1.dev2-py2.py3-none-any.whl.metadata (816 bytes)\n",
      "Collecting configobj (from fitz)\n",
      "  Using cached configobj-5.0.8-py2.py3-none-any.whl.metadata (3.4 kB)\n",
      "Collecting configparser (from fitz)\n",
      "  Using cached configparser-7.0.0-py3-none-any.whl.metadata (5.4 kB)\n",
      "Collecting httplib2 (from fitz)\n",
      "  Using cached httplib2-0.22.0-py3-none-any.whl.metadata (2.6 kB)\n",
      "Collecting nibabel (from fitz)\n",
      "  Using cached nibabel-5.2.1-py3-none-any.whl.metadata (8.8 kB)\n",
      "Collecting nipype (from fitz)\n",
      "  Using cached nipype-1.8.6-py3-none-any.whl.metadata (6.6 kB)\n",
      "Requirement already satisfied: numpy in /Users/kailashdejesushornig/Documents/GitHub/.venv/lib/python3.12/site-packages (from fitz) (2.0.1)\n",
      "Requirement already satisfied: pandas in /Users/kailashdejesushornig/Documents/GitHub/.venv/lib/python3.12/site-packages (from fitz) (2.2.2)\n",
      "Collecting pyxnat (from fitz)\n",
      "  Using cached pyxnat-1.6.2-py3-none-any.whl.metadata (5.3 kB)\n",
      "Requirement already satisfied: scipy in /Users/kailashdejesushornig/Documents/GitHub/.venv/lib/python3.12/site-packages (from fitz) (1.14.0)\n",
      "Requirement already satisfied: six in /Users/kailashdejesushornig/Documents/GitHub/.venv/lib/python3.12/site-packages (from configobj->fitz) (1.16.0)\n",
      "Requirement already satisfied: pyparsing!=3.0.0,!=3.0.1,!=3.0.2,!=3.0.3,<4,>=2.4.2 in /Users/kailashdejesushornig/Documents/GitHub/.venv/lib/python3.12/site-packages (from httplib2->fitz) (3.1.2)\n",
      "Requirement already satisfied: packaging>=17 in /Users/kailashdejesushornig/Documents/GitHub/.venv/lib/python3.12/site-packages (from nibabel->fitz) (24.1)\n",
      "Requirement already satisfied: click>=6.6.0 in /Users/kailashdejesushornig/Documents/GitHub/.venv/lib/python3.12/site-packages (from nipype->fitz) (8.1.7)\n",
      "Requirement already satisfied: networkx>=2.0 in /Users/kailashdejesushornig/Documents/GitHub/.venv/lib/python3.12/site-packages (from nipype->fitz) (3.3)\n",
      "Collecting prov>=1.5.2 (from nipype->fitz)\n",
      "  Using cached prov-2.0.1-py3-none-any.whl.metadata (3.6 kB)\n",
      "Collecting pydot>=1.2.3 (from nipype->fitz)\n",
      "  Downloading pydot-3.0.1-py3-none-any.whl.metadata (9.9 kB)\n",
      "Requirement already satisfied: python-dateutil>=2.2 in /Users/kailashdejesushornig/Documents/GitHub/.venv/lib/python3.12/site-packages (from nipype->fitz) (2.9.0.post0)\n",
      "Collecting rdflib>=5.0.0 (from nipype->fitz)\n",
      "  Using cached rdflib-7.0.0-py3-none-any.whl.metadata (11 kB)\n",
      "Collecting simplejson>=3.8.0 (from nipype->fitz)\n",
      "  Downloading simplejson-3.19.2-cp312-cp312-macosx_11_0_arm64.whl.metadata (3.1 kB)\n",
      "Collecting traits!=5.0,<6.4,>=4.6 (from nipype->fitz)\n",
      "  Downloading traits-6.3.2.tar.gz (9.5 MB)\n",
      "\u001b[2K     \u001b[90m━━━━━━━━━━━━━━━━━━━━━━━━━━━━━━━━━━━━━━━━\u001b[0m \u001b[32m9.5/9.5 MB\u001b[0m \u001b[31m12.9 MB/s\u001b[0m eta \u001b[36m0:00:00\u001b[0ma \u001b[36m0:00:01\u001b[0m\n",
      "\u001b[?25h  Installing build dependencies ... \u001b[?25ldone\n",
      "\u001b[?25h  Getting requirements to build wheel ... \u001b[?25ldone\n",
      "\u001b[?25h  Preparing metadata (pyproject.toml) ... \u001b[?25ldone\n",
      "\u001b[?25hRequirement already satisfied: filelock>=3.0.0 in /Users/kailashdejesushornig/Documents/GitHub/.venv/lib/python3.12/site-packages (from nipype->fitz) (3.15.4)\n",
      "Collecting etelemetry>=0.2.0 (from nipype->fitz)\n",
      "  Using cached etelemetry-0.3.1-py3-none-any.whl.metadata (3.2 kB)\n",
      "Collecting looseversion (from nipype->fitz)\n",
      "  Using cached looseversion-1.3.0-py2.py3-none-any.whl.metadata (4.6 kB)\n",
      "Requirement already satisfied: pytz>=2020.1 in /Users/kailashdejesushornig/Documents/GitHub/.venv/lib/python3.12/site-packages (from pandas->fitz) (2024.1)\n",
      "Requirement already satisfied: tzdata>=2022.7 in /Users/kailashdejesushornig/Documents/GitHub/.venv/lib/python3.12/site-packages (from pandas->fitz) (2024.1)\n",
      "Collecting lxml>=4.3 (from pyxnat->fitz)\n",
      "  Using cached lxml-5.2.2-cp312-cp312-macosx_10_9_universal2.whl.metadata (3.4 kB)\n",
      "Requirement already satisfied: requests>=2.20 in /Users/kailashdejesushornig/Documents/GitHub/.venv/lib/python3.12/site-packages (from pyxnat->fitz) (2.32.3)\n",
      "Collecting pathlib>=1.0 (from pyxnat->fitz)\n",
      "  Using cached pathlib-1.0.1-py3-none-any.whl.metadata (5.1 kB)\n",
      "Collecting ci-info>=0.2 (from etelemetry>=0.2.0->nipype->fitz)\n",
      "  Using cached ci_info-0.3.0-py3-none-any.whl.metadata (6.1 kB)\n",
      "Collecting rdflib>=5.0.0 (from nipype->fitz)\n",
      "  Using cached rdflib-6.3.2-py3-none-any.whl.metadata (11 kB)\n",
      "Collecting isodate<0.7.0,>=0.6.0 (from rdflib>=5.0.0->nipype->fitz)\n",
      "  Using cached isodate-0.6.1-py2.py3-none-any.whl.metadata (9.6 kB)\n",
      "Requirement already satisfied: charset-normalizer<4,>=2 in /Users/kailashdejesushornig/Documents/GitHub/.venv/lib/python3.12/site-packages (from requests>=2.20->pyxnat->fitz) (3.3.2)\n",
      "Requirement already satisfied: idna<4,>=2.5 in /Users/kailashdejesushornig/Documents/GitHub/.venv/lib/python3.12/site-packages (from requests>=2.20->pyxnat->fitz) (3.7)\n",
      "Requirement already satisfied: urllib3<3,>=1.21.1 in /Users/kailashdejesushornig/Documents/GitHub/.venv/lib/python3.12/site-packages (from requests>=2.20->pyxnat->fitz) (2.2.2)\n",
      "Requirement already satisfied: certifi>=2017.4.17 in /Users/kailashdejesushornig/Documents/GitHub/.venv/lib/python3.12/site-packages (from requests>=2.20->pyxnat->fitz) (2024.7.4)\n",
      "Using cached fitz-0.0.1.dev2-py2.py3-none-any.whl (20 kB)\n",
      "Using cached configobj-5.0.8-py2.py3-none-any.whl (36 kB)\n",
      "Using cached configparser-7.0.0-py3-none-any.whl (16 kB)\n",
      "Using cached httplib2-0.22.0-py3-none-any.whl (96 kB)\n",
      "Using cached nibabel-5.2.1-py3-none-any.whl (3.3 MB)\n",
      "Using cached nipype-1.8.6-py3-none-any.whl (3.2 MB)\n",
      "Using cached pyxnat-1.6.2-py3-none-any.whl (95 kB)\n",
      "Using cached etelemetry-0.3.1-py3-none-any.whl (6.4 kB)\n",
      "Using cached lxml-5.2.2-cp312-cp312-macosx_10_9_universal2.whl (8.2 MB)\n",
      "Using cached pathlib-1.0.1-py3-none-any.whl (14 kB)\n",
      "Using cached prov-2.0.1-py3-none-any.whl (421 kB)\n",
      "Downloading pydot-3.0.1-py3-none-any.whl (22 kB)\n",
      "Using cached rdflib-6.3.2-py3-none-any.whl (528 kB)\n",
      "Downloading simplejson-3.19.2-cp312-cp312-macosx_11_0_arm64.whl (74 kB)\n",
      "\u001b[2K   \u001b[90m━━━━━━━━━━━━━━━━━━━━━━━━━━━━━━━━━━━━━━━━\u001b[0m \u001b[32m74.8/74.8 kB\u001b[0m \u001b[31m7.7 MB/s\u001b[0m eta \u001b[36m0:00:00\u001b[0m\n",
      "\u001b[?25hUsing cached looseversion-1.3.0-py2.py3-none-any.whl (8.2 kB)\n",
      "Using cached ci_info-0.3.0-py3-none-any.whl (7.8 kB)\n",
      "Using cached isodate-0.6.1-py2.py3-none-any.whl (41 kB)\n",
      "Building wheels for collected packages: traits\n",
      "  Building wheel for traits (pyproject.toml) ... \u001b[?25ldone\n",
      "\u001b[?25h  Created wheel for traits: filename=traits-6.3.2-cp312-cp312-macosx_10_9_universal2.whl size=5028240 sha256=6776f76a3820ce503cd4059c3f2fc519819f17926749557553eabbab89598d42\n",
      "  Stored in directory: /Users/kailashdejesushornig/Library/Caches/pip/wheels/dd/c0/8b/83c319986d74857fcbc990ed499f6864786886a27273bee212\n",
      "Successfully built traits\n",
      "Installing collected packages: pathlib, looseversion, traits, simplejson, pydot, nibabel, lxml, isodate, httplib2, configparser, configobj, ci-info, rdflib, pyxnat, etelemetry, prov, nipype, fitz\n",
      "Successfully installed ci-info-0.3.0 configobj-5.0.8 configparser-7.0.0 etelemetry-0.3.1 fitz-0.0.1.dev2 httplib2-0.22.0 isodate-0.6.1 looseversion-1.3.0 lxml-5.2.2 nibabel-5.2.1 nipype-1.8.6 pathlib-1.0.1 prov-2.0.1 pydot-3.0.1 pyxnat-1.6.2 rdflib-6.3.2 simplejson-3.19.2 traits-6.3.2\n"
     ]
    }
   ],
   "source": [
    "!pip install fitz"
   ]
  },
  {
   "cell_type": "code",
   "execution_count": 74,
   "metadata": {},
   "outputs": [
    {
     "data": {
      "text/plain": [
       "Document(page_content='STYRDOKUMENT: Riktlinje för inköp och upphandling vid Chalmers tekniska högskola . Dnr C 20 2 1 -\\n1529 . Beslut av CPO Tommy Bothin , 20 2 1 - 10 - 08 .Dokumentets metadata:\\nBeslut av:', metadata={'source': 'Riktlinje för inköp och upphandling vid Chalmers tekniska högskola 211008.pdf', 'page': 0})"
      ]
     },
     "execution_count": 74,
     "metadata": {},
     "output_type": "execute_result"
    }
   ],
   "source": [
    "#The doc is still to large, chunk it\n",
    "spliter = RecursiveCharacterTextSplitter(chunk_size = 200,chunk_overlap = 50) #experiment here? eg. 10 -> destroys the understanding, 50+ works\n",
    "\n",
    "# Todo: write a script that optimizes the chunk sizes (obs this has been solved before)\n",
    "\n",
    "pages = spliter.split_documents(page)\n",
    "pages[0] #look at first"
   ]
  },
  {
   "cell_type": "code",
   "execution_count": 75,
   "metadata": {},
   "outputs": [],
   "source": [
    "# FAISS from facebook \n",
    "vector_storage = FAISS.from_documents(pages,OpenAIEmbeddings())\n",
    "retriever = vector_storage.as_retriever()\n",
    "\n",
    "# todo: change to chroma"
   ]
  },
  {
   "cell_type": "code",
   "execution_count": 77,
   "metadata": {},
   "outputs": [
    {
     "name": "stdout",
     "output_type": "stream",
     "text": [
      "\n",
      "your a smart bot that answers questions based on the context given to you only.\n",
      "You don't make things up.\n",
      "context: Here is the context to use\n",
      "question: Answer this question based on the context\n",
      "\n",
      "\n"
     ]
    }
   ],
   "source": [
    "question_template = \"\"\"\n",
    "You're a smart bot that answers questions based on the context given to you only.\n",
    "You don't make things up, this is important.\n",
    "context:{context}\n",
    "question:{question}\n",
    "\n",
    "\"\"\"\n",
    "\n",
    "prompt = PromptTemplate.from_template(template=question_template)\n",
    "print(prompt.format(context = ' Here is the context to use',\n",
    "              question = ' Answer this question based on the context'\n",
    "              ))"
   ]
  },
  {
   "cell_type": "code",
   "execution_count": 80,
   "metadata": {},
   "outputs": [
    {
     "data": {
      "text/plain": [
       "'The provided context does not contain any information about what \"LLM\" or \"LLMs\" refers to. Therefore, based on the given context, I cannot provide an answer to your question.'"
      ]
     },
     "execution_count": 80,
     "metadata": {},
     "output_type": "execute_result"
    }
   ],
   "source": [
    "#Passing to vectorDB (fetch context) and to LLM in parallell (ask based on fetched context)\n",
    "result = RunnableParallel(context= retriever,question = RunnablePassthrough()) # explain this again\n",
    "chain = result |prompt | model | parser # new chain\n",
    "#question based on wrong context\n",
    "chain.invoke('What is a LLM?')"
   ]
  },
  {
   "cell_type": "markdown",
   "metadata": {},
   "source": []
  },
  {
   "cell_type": "code",
   "execution_count": 81,
   "metadata": {},
   "outputs": [
    {
     "data": {
      "text/plain": [
       "'Enligt den givna kontexten får endast den som har delegation ingå avtal för Chalmers räkning.'"
      ]
     },
     "execution_count": 81,
     "metadata": {},
     "output_type": "execute_result"
    }
   ],
   "source": [
    "#question based on right context\n",
    "chain.invoke('Vem får ingå avtal för Chalmers räkning?')"
   ]
  },
  {
   "cell_type": "code",
   "execution_count": 83,
   "metadata": {},
   "outputs": [
    {
     "data": {
      "text/plain": [
       "[Document(page_content='Chalmers, 201 8 - 06 - 25 , C201 8 - 0 262 i dess senaste version) får företräda Chalmers. Endast den som\\nhar delegation kan ingå avtal för Chalmers räkning.', metadata={'source': 'Riktlinje för inköp och upphandling vid Chalmers tekniska högskola 211008.pdf', 'page': 1}),\n",
       " Document(page_content='3 Grundläggande förutsättningar\\nChalmers är en upphandlande enhet och omfattas av lagstiftningen avseende offentlig upphandling.\\nVid all upphandling ska särskilt följande principer beaktas:', metadata={'source': 'Riktlinje för inköp och upphandling vid Chalmers tekniska högskola 211008.pdf', 'page': 0}),\n",
       " Document(page_content='– Styrdokument vid Chalmers , den 31 oktober 201 6, C 2016 - 1759 .\\n2 Mål\\nMål et är att visa att Chalmers gör goda affärer .\\n3 Grundläggande förutsättningar', metadata={'source': 'Riktlinje för inköp och upphandling vid Chalmers tekniska högskola 211008.pdf', 'page': 0}),\n",
       " Document(page_content='Institutionerna ansvarar utifrån sina förutsättningar för sina delegationer. Köp ska begränsas till ett\\nfåtal personer per insti tution.\\nDärutöver gäller Chalmers godkännanderegler för investeringar.', metadata={'source': 'Riktlinje för inköp och upphandling vid Chalmers tekniska högskola 211008.pdf', 'page': 1})]"
      ]
     },
     "execution_count": 83,
     "metadata": {},
     "output_type": "execute_result"
    }
   ],
   "source": [
    "#to get the source page we use the retreiver\n",
    "retriever.invoke('Vem får ingå avtal för Chalmers räkning?')\n",
    "\n",
    "#First one correct: Document(page_content='Chalmers, 201 8 - 06 - 25 , C201 8 - 0 262 i dess senaste version) får företräda Chalmers. Endast den som\\nhar delegation kan ingå avtal för Chalmers räkning.', metadata={'source': 'Riktlinje för inköp och upphandling vid Chalmers tekniska högskola 211008.pdf', 'page': 1}),"
   ]
  }
 ],
 "metadata": {
  "kernelspec": {
   "display_name": "Python 3",
   "language": "python",
   "name": "python3"
  },
  "language_info": {
   "codemirror_mode": {
    "name": "ipython",
    "version": 3
   },
   "file_extension": ".py",
   "mimetype": "text/x-python",
   "name": "python",
   "nbconvert_exporter": "python",
   "pygments_lexer": "ipython3",
   "version": "3.10.9"
  }
 },
 "nbformat": 4,
 "nbformat_minor": 2
}
